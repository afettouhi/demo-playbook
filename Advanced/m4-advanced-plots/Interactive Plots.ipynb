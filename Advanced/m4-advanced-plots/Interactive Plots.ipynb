{
 "cells": [
  {
   "cell_type": "markdown",
   "metadata": {},
   "source": [
    "# Interactive Plots"
   ]
  },
  {
   "cell_type": "code",
   "execution_count": 1,
   "metadata": {},
   "outputs": [],
   "source": [
    "%matplotlib inline\n",
    "import pandas as pd\n",
    "import numpy as np\n",
    "import matplotlib.pyplot as plt"
   ]
  },
  {
   "cell_type": "code",
   "execution_count": 2,
   "metadata": {},
   "outputs": [],
   "source": [
    "from ipywidgets import interact\n",
    "import ipywidgets as widgets"
   ]
  },
  {
   "cell_type": "code",
   "execution_count": 3,
   "metadata": {},
   "outputs": [
    {
     "data": {
      "application/vnd.jupyter.widget-view+json": {
       "model_id": "505768439bb6426e903da3f569a678df",
       "version_major": 2,
       "version_minor": 0
      },
      "text/plain": [
       "interactive(children=(IntSlider(value=1, description='x', max=5, min=-5), IntSlider(value=2, description='y', …"
      ]
     },
     "metadata": {},
     "output_type": "display_data"
    }
   ],
   "source": [
    "def f(x=1, y=2):\n",
    "    return y*x\n",
    "interact(f, x=(-5,5), y=(0,10));"
   ]
  },
  {
   "cell_type": "code",
   "execution_count": 4,
   "metadata": {},
   "outputs": [
    {
     "data": {
      "application/vnd.jupyter.widget-view+json": {
       "model_id": "d185cde7ba744c5ba2e11cd48297e07e",
       "version_major": 2,
       "version_minor": 0
      },
      "text/plain": [
       "interactive(children=(Dropdown(description='x', options=('john', 'mary', 'james'), value='john'), IntSlider(va…"
      ]
     },
     "metadata": {},
     "output_type": "display_data"
    }
   ],
   "source": [
    "interact(f, x=['john', 'mary', 'james'], y=(0,10));"
   ]
  },
  {
   "cell_type": "code",
   "execution_count": 5,
   "metadata": {},
   "outputs": [
    {
     "data": {
      "application/vnd.jupyter.widget-view+json": {
       "model_id": "3e54865796b74b218122f1f60531ebb0",
       "version_major": 2,
       "version_minor": 0
      },
      "text/plain": [
       "interactive(children=(Dropdown(description='sport1', options=('aquatics', 'archery', 'athletics', 'badminton',…"
      ]
     },
     "metadata": {},
     "output_type": "display_data"
    }
   ],
   "source": [
    "df = pd.read_csv('athletes.csv')\n",
    "def make_plot(sport1, gender1, sport2, gender2):\n",
    "    fig, ax = plt.subplots()\n",
    "    a = df[(df['sex'] == gender1) & (df['sport'] == sport1)]\n",
    "    b = df[(df['sex'] == gender2) & (df['sport'] == sport2)]\n",
    "    a.plot.scatter(ax=ax, x='weight', y='height', \n",
    "                            alpha=.25, color='b', label=sport1 + \", \" + gender1)\n",
    "    b.plot.scatter(ax=ax, x='weight', y='height', \n",
    "                            alpha=.25, color='r', label=sport2 + \", \" + gender2)\n",
    "\n",
    "all_sports = df['sport'].drop_duplicates().sort_values()\n",
    "\n",
    "\n",
    "interact(make_plot, \n",
    "         sport1=all_sports,\n",
    "         gender1=['male', 'female'],\n",
    "         sport2=all_sports,\n",
    "         gender2=['male', 'female']\n",
    "        );"
   ]
  },
  {
   "cell_type": "code",
   "execution_count": 6,
   "metadata": {},
   "outputs": [],
   "source": [
    "medals = df.groupby(['sport', 'nationality'])[['gold', 'silver', 'bronze']].sum()\n",
    "medals.sort_values(['gold'], ascending=False, inplace=True)"
   ]
  },
  {
   "cell_type": "code",
   "execution_count": 7,
   "metadata": {},
   "outputs": [
    {
     "data": {
      "application/vnd.jupyter.widget-view+json": {
       "model_id": "4f4c3f180fd24310bf8c668b8aa77b6a",
       "version_major": 2,
       "version_minor": 0
      },
      "text/plain": [
       "interactive(children=(IntSlider(value=5, continuous_update=False, description='n', min=5), Dropdown(descriptio…"
      ]
     },
     "metadata": {},
     "output_type": "display_data"
    }
   ],
   "source": [
    "def make_plot(n=10, sport='aquatics'):   \n",
    "    fig, ax = plt.subplots(figsize=(n,6))  \n",
    "    top = medals\\\n",
    "        .loc[sport]\\\n",
    "        .head(n)\n",
    "    top.plot.bar(color=['gold', 'silver', 'brown'], ax=ax, stacked=True,\n",
    "                rot=45, title=\"Top {} countries in {}\".format(n, sport))\n",
    "    ax.set_ylabel('medals')\n",
    "    \n",
    "interact(make_plot, \n",
    "    n=widgets.IntSlider(min=5,max=100, continuous_update=False),\n",
    "    sport=all_sports);"
   ]
  }
 ],
 "metadata": {
  "kernelspec": {
   "display_name": "Python 3",
   "language": "python",
   "name": "python3"
  },
  "language_info": {
   "codemirror_mode": {
    "name": "ipython",
    "version": 3
   },
   "file_extension": ".py",
   "mimetype": "text/x-python",
   "name": "python",
   "nbconvert_exporter": "python",
   "pygments_lexer": "ipython3",
   "version": "3.7.3"
  }
 },
 "nbformat": 4,
 "nbformat_minor": 2
}
