{
 "cells": [
  {
   "cell_type": "code",
   "execution_count": 1,
   "metadata": {},
   "outputs": [],
   "source": [
    "import plotly.graph_objs as go"
   ]
  },
  {
   "cell_type": "code",
   "execution_count": 2,
   "metadata": {},
   "outputs": [
    {
     "data": {
      "text/html": [
       "        <script type=\"text/javascript\">\n",
       "        window.PlotlyConfig = {MathJaxConfig: 'local'};\n",
       "        if (window.MathJax) {MathJax.Hub.Config({SVG: {font: \"STIX-Web\"}});}\n",
       "        if (typeof require !== 'undefined') {\n",
       "        require.undef(\"plotly\");\n",
       "        requirejs.config({\n",
       "            paths: {\n",
       "                'plotly': ['https://cdn.plot.ly/plotly-latest.min']\n",
       "            }\n",
       "        });\n",
       "        require(['plotly'], function(Plotly) {\n",
       "            window._Plotly = Plotly;\n",
       "        });\n",
       "        }\n",
       "        </script>\n",
       "        "
      ]
     },
     "metadata": {},
     "output_type": "display_data"
    }
   ],
   "source": [
    "import plotly.offline as offline\n",
    "\n",
    "offline.init_notebook_mode(connected=True)"
   ]
  },
  {
   "cell_type": "markdown",
   "metadata": {},
   "source": [
    "#### Define the data for our plot\n",
    "Here, we use the Bar graph object to set the X and Y values. The data list is populated with the single trace which is the Bar Chart.\n",
    "\n",
    "Assume we are shop which supplies delicious desserts"
   ]
  },
  {
   "cell_type": "code",
   "execution_count": 3,
   "metadata": {},
   "outputs": [],
   "source": [
    "data = [go.Bar(x=['chocolates', 'cakes', 'muffins'],\n",
    "               y=[50, 14, 35])]"
   ]
  },
  {
   "cell_type": "code",
   "execution_count": 4,
   "metadata": {},
   "outputs": [
    {
     "data": {
      "application/vnd.plotly.v1+json": {
       "config": {
        "linkText": "Export to plot.ly",
        "plotlyServerURL": "https://plot.ly",
        "showLink": false
       },
       "data": [
        {
         "type": "bar",
         "uid": "1d2b1e49-caaf-45ce-be8c-66d94523c442",
         "x": [
          "chocolates",
          "cakes",
          "muffins"
         ],
         "y": [
          50,
          14,
          35
         ]
        }
       ],
       "layout": {}
      },
      "text/html": [
       "<div>\n",
       "        \n",
       "        \n",
       "            <div id=\"7bbd195e-296c-4d10-aa80-5809df038dd5\" class=\"plotly-graph-div\" style=\"height:525px; width:100%;\"></div>\n",
       "            <script type=\"text/javascript\">\n",
       "                require([\"plotly\"], function(Plotly) {\n",
       "                    window.PLOTLYENV=window.PLOTLYENV || {};\n",
       "                    window.PLOTLYENV.BASE_URL='https://plot.ly';\n",
       "                    \n",
       "                if (document.getElementById(\"7bbd195e-296c-4d10-aa80-5809df038dd5\")) {\n",
       "                    Plotly.newPlot(\n",
       "                        '7bbd195e-296c-4d10-aa80-5809df038dd5',\n",
       "                        [{\"type\": \"bar\", \"uid\": \"1d2b1e49-caaf-45ce-be8c-66d94523c442\", \"x\": [\"chocolates\", \"cakes\", \"muffins\"], \"y\": [50, 14, 35]}],\n",
       "                        {},\n",
       "                        {\"showLink\": false, \"linkText\": \"Export to plot.ly\", \"plotlyServerURL\": \"https://plot.ly\", \"responsive\": true}\n",
       "                    ).then(function(){\n",
       "                            \n",
       "var gd = document.getElementById('7bbd195e-296c-4d10-aa80-5809df038dd5');\n",
       "var x = new MutationObserver(function (mutations, observer) {{\n",
       "        var display = window.getComputedStyle(gd).display;\n",
       "        if (!display || display === 'none') {{\n",
       "            console.log([gd, 'removed!']);\n",
       "            Plotly.purge(gd);\n",
       "            observer.disconnect();\n",
       "        }}\n",
       "}});\n",
       "\n",
       "// Listen for the removal of the full notebook cells\n",
       "var notebookContainer = gd.closest('#notebook-container');\n",
       "if (notebookContainer) {{\n",
       "    x.observe(notebookContainer, {childList: true});\n",
       "}}\n",
       "\n",
       "// Listen for the clearing of the current output cell\n",
       "var outputEl = gd.closest('.output');\n",
       "if (outputEl) {{\n",
       "    x.observe(outputEl, {childList: true});\n",
       "}}\n",
       "\n",
       "                        })\n",
       "                };\n",
       "                });\n",
       "            </script>\n",
       "        </div>"
      ]
     },
     "metadata": {},
     "output_type": "display_data"
    }
   ],
   "source": [
    "offline.iplot(data)"
   ]
  },
  {
   "cell_type": "markdown",
   "metadata": {},
   "source": [
    "### Grouped bars"
   ]
  },
  {
   "cell_type": "markdown",
   "metadata": {},
   "source": [
    "Assume we have made 2 orders for the desserts. \n",
    "\n",
    "We would like to view the order quantities for the items in each order side by side. For this, we created a grouped bar graph."
   ]
  },
  {
   "cell_type": "code",
   "execution_count": 5,
   "metadata": {},
   "outputs": [],
   "source": [
    "trace1 = go.Bar(x=['chocolates', 'cakes', 'muffins'],\n",
    "                y=[50, 14, 35],\n",
    "                name='Order #1')"
   ]
  },
  {
   "cell_type": "code",
   "execution_count": 6,
   "metadata": {},
   "outputs": [],
   "source": [
    "trace2 = go.Bar(x=['chocolates', 'cakes', 'muffins'],\n",
    "                y=[30, 18, 29],\n",
    "                name='Order #2'\n",
    ")"
   ]
  },
  {
   "cell_type": "code",
   "execution_count": 7,
   "metadata": {},
   "outputs": [],
   "source": [
    "data = [trace1, trace2]"
   ]
  },
  {
   "cell_type": "markdown",
   "metadata": {},
   "source": [
    "#### Define the layout\n",
    "Here we need to set barmode to 'group' in order to view a grouped bar graph"
   ]
  },
  {
   "cell_type": "code",
   "execution_count": 8,
   "metadata": {},
   "outputs": [],
   "source": [
    "layout = go.Layout(barmode = 'group')"
   ]
  },
  {
   "cell_type": "markdown",
   "metadata": {},
   "source": [
    "#### Plot the graph\n",
    "Hover over each of the bars to view the corresponding data. A legend is also automatically generated."
   ]
  },
  {
   "cell_type": "code",
   "execution_count": 9,
   "metadata": {},
   "outputs": [
    {
     "data": {
      "application/vnd.plotly.v1+json": {
       "config": {
        "linkText": "Export to plot.ly",
        "plotlyServerURL": "https://plot.ly",
        "showLink": false
       },
       "data": [
        {
         "name": "Order #1",
         "type": "bar",
         "uid": "87d5aaef-c0a1-4e65-822f-6c99e7851553",
         "x": [
          "chocolates",
          "cakes",
          "muffins"
         ],
         "y": [
          50,
          14,
          35
         ]
        },
        {
         "name": "Order #2",
         "type": "bar",
         "uid": "813515f9-c837-4393-81f5-c5abc60d1642",
         "x": [
          "chocolates",
          "cakes",
          "muffins"
         ],
         "y": [
          30,
          18,
          29
         ]
        }
       ],
       "layout": {
        "barmode": "group"
       }
      },
      "text/html": [
       "<div>\n",
       "        \n",
       "        \n",
       "            <div id=\"ed40bfb4-052f-4bdd-b201-e35351f73741\" class=\"plotly-graph-div\" style=\"height:525px; width:100%;\"></div>\n",
       "            <script type=\"text/javascript\">\n",
       "                require([\"plotly\"], function(Plotly) {\n",
       "                    window.PLOTLYENV=window.PLOTLYENV || {};\n",
       "                    window.PLOTLYENV.BASE_URL='https://plot.ly';\n",
       "                    \n",
       "                if (document.getElementById(\"ed40bfb4-052f-4bdd-b201-e35351f73741\")) {\n",
       "                    Plotly.newPlot(\n",
       "                        'ed40bfb4-052f-4bdd-b201-e35351f73741',\n",
       "                        [{\"name\": \"Order #1\", \"type\": \"bar\", \"uid\": \"87d5aaef-c0a1-4e65-822f-6c99e7851553\", \"x\": [\"chocolates\", \"cakes\", \"muffins\"], \"y\": [50, 14, 35]}, {\"name\": \"Order #2\", \"type\": \"bar\", \"uid\": \"813515f9-c837-4393-81f5-c5abc60d1642\", \"x\": [\"chocolates\", \"cakes\", \"muffins\"], \"y\": [30, 18, 29]}],\n",
       "                        {\"barmode\": \"group\"},\n",
       "                        {\"showLink\": false, \"linkText\": \"Export to plot.ly\", \"plotlyServerURL\": \"https://plot.ly\", \"responsive\": true}\n",
       "                    ).then(function(){\n",
       "                            \n",
       "var gd = document.getElementById('ed40bfb4-052f-4bdd-b201-e35351f73741');\n",
       "var x = new MutationObserver(function (mutations, observer) {{\n",
       "        var display = window.getComputedStyle(gd).display;\n",
       "        if (!display || display === 'none') {{\n",
       "            console.log([gd, 'removed!']);\n",
       "            Plotly.purge(gd);\n",
       "            observer.disconnect();\n",
       "        }}\n",
       "}});\n",
       "\n",
       "// Listen for the removal of the full notebook cells\n",
       "var notebookContainer = gd.closest('#notebook-container');\n",
       "if (notebookContainer) {{\n",
       "    x.observe(notebookContainer, {childList: true});\n",
       "}}\n",
       "\n",
       "// Listen for the clearing of the current output cell\n",
       "var outputEl = gd.closest('.output');\n",
       "if (outputEl) {{\n",
       "    x.observe(outputEl, {childList: true});\n",
       "}}\n",
       "\n",
       "                        })\n",
       "                };\n",
       "                });\n",
       "            </script>\n",
       "        </div>"
      ]
     },
     "metadata": {},
     "output_type": "display_data"
    }
   ],
   "source": [
    "fig = go.Figure(data=data, \n",
    "                layout=layout)\n",
    "\n",
    "offline.iplot(fig)"
   ]
  },
  {
   "cell_type": "markdown",
   "metadata": {},
   "source": [
    "### Stacked Bar Chart\n",
    "Instead of having the two traces side by side, the bars from the traces are stacked to show a cumulative value. "
   ]
  },
  {
   "cell_type": "code",
   "execution_count": 10,
   "metadata": {},
   "outputs": [],
   "source": [
    "trace1 = go.Bar(x=['chocolates', 'cakes', 'muffins'],\n",
    "                y=[50, 14, 35],\n",
    "                name='Order #1')\n",
    "\n",
    "trace2 = go.Bar(x=['chocolates', 'cakes', 'muffins'],\n",
    "                y=[30, 18, 29],\n",
    "                name='Order #2'\n",
    ")\n",
    "\n",
    "data = [trace1, trace2]"
   ]
  },
  {
   "cell_type": "code",
   "execution_count": 11,
   "metadata": {},
   "outputs": [],
   "source": [
    "layout = go.Layout(barmode = 'stack')"
   ]
  },
  {
   "cell_type": "code",
   "execution_count": 12,
   "metadata": {},
   "outputs": [
    {
     "data": {
      "application/vnd.plotly.v1+json": {
       "config": {
        "linkText": "Export to plot.ly",
        "plotlyServerURL": "https://plot.ly",
        "showLink": false
       },
       "data": [
        {
         "name": "Order #1",
         "type": "bar",
         "uid": "2716bcdb-9983-4a56-bd0b-46a689df53f1",
         "x": [
          "chocolates",
          "cakes",
          "muffins"
         ],
         "y": [
          50,
          14,
          35
         ]
        },
        {
         "name": "Order #2",
         "type": "bar",
         "uid": "9fc87fc5-bb40-4866-8335-9b9dddc960ff",
         "x": [
          "chocolates",
          "cakes",
          "muffins"
         ],
         "y": [
          30,
          18,
          29
         ]
        }
       ],
       "layout": {
        "barmode": "stack"
       }
      },
      "text/html": [
       "<div>\n",
       "        \n",
       "        \n",
       "            <div id=\"ab107a51-2c64-47a8-8312-a67226eb411f\" class=\"plotly-graph-div\" style=\"height:525px; width:100%;\"></div>\n",
       "            <script type=\"text/javascript\">\n",
       "                require([\"plotly\"], function(Plotly) {\n",
       "                    window.PLOTLYENV=window.PLOTLYENV || {};\n",
       "                    window.PLOTLYENV.BASE_URL='https://plot.ly';\n",
       "                    \n",
       "                if (document.getElementById(\"ab107a51-2c64-47a8-8312-a67226eb411f\")) {\n",
       "                    Plotly.newPlot(\n",
       "                        'ab107a51-2c64-47a8-8312-a67226eb411f',\n",
       "                        [{\"name\": \"Order #1\", \"type\": \"bar\", \"uid\": \"2716bcdb-9983-4a56-bd0b-46a689df53f1\", \"x\": [\"chocolates\", \"cakes\", \"muffins\"], \"y\": [50, 14, 35]}, {\"name\": \"Order #2\", \"type\": \"bar\", \"uid\": \"9fc87fc5-bb40-4866-8335-9b9dddc960ff\", \"x\": [\"chocolates\", \"cakes\", \"muffins\"], \"y\": [30, 18, 29]}],\n",
       "                        {\"barmode\": \"stack\"},\n",
       "                        {\"showLink\": false, \"linkText\": \"Export to plot.ly\", \"plotlyServerURL\": \"https://plot.ly\", \"responsive\": true}\n",
       "                    ).then(function(){\n",
       "                            \n",
       "var gd = document.getElementById('ab107a51-2c64-47a8-8312-a67226eb411f');\n",
       "var x = new MutationObserver(function (mutations, observer) {{\n",
       "        var display = window.getComputedStyle(gd).display;\n",
       "        if (!display || display === 'none') {{\n",
       "            console.log([gd, 'removed!']);\n",
       "            Plotly.purge(gd);\n",
       "            observer.disconnect();\n",
       "        }}\n",
       "}});\n",
       "\n",
       "// Listen for the removal of the full notebook cells\n",
       "var notebookContainer = gd.closest('#notebook-container');\n",
       "if (notebookContainer) {{\n",
       "    x.observe(notebookContainer, {childList: true});\n",
       "}}\n",
       "\n",
       "// Listen for the clearing of the current output cell\n",
       "var outputEl = gd.closest('.output');\n",
       "if (outputEl) {{\n",
       "    x.observe(outputEl, {childList: true});\n",
       "}}\n",
       "\n",
       "                        })\n",
       "                };\n",
       "                });\n",
       "            </script>\n",
       "        </div>"
      ]
     },
     "metadata": {},
     "output_type": "display_data"
    }
   ],
   "source": [
    "fig = go.Figure(data = data, \n",
    "                layout = layout)\n",
    "\n",
    "offline.iplot(fig)"
   ]
  },
  {
   "cell_type": "markdown",
   "metadata": {},
   "source": [
    "### Customising the Bar Graph\n",
    "We can adjust the color, width of the bars and add text labels\n"
   ]
  },
  {
   "cell_type": "markdown",
   "metadata": {},
   "source": [
    "#### Define the new trace\n",
    "Aside from the bars which we drew at first, we configure the following:\n",
    "* The width of each bar (in axis units). Can either be a list (where the widths are picked in rotation) or a single number (which applies to all bars)\n",
    "* The color of each bar in the trace (can again be a number or a list)\n",
    "* The text associated with each bar (set to the y value for the order quantity)\n",
    "* The position of the text (can be either 'inside', 'outside', 'auto' or 'none'). The available options for textposition will vary according to the object being plotted. These are the options for Bar"
   ]
  },
  {
   "cell_type": "code",
   "execution_count": 13,
   "metadata": {},
   "outputs": [],
   "source": [
    "x = ['chocolates', 'cakes', 'muffins']\n",
    "\n",
    "y = [50, 14, 35]"
   ]
  },
  {
   "cell_type": "code",
   "execution_count": 14,
   "metadata": {},
   "outputs": [],
   "source": [
    "trace = go.Bar(x = x,\n",
    "               y = y,\n",
    "               \n",
    "               width = [0.5, 1, 0.7],\n",
    "               \n",
    "               marker = dict(color = ['chocolate', 'wheat', 'yellow']),\n",
    "               \n",
    "               text = y,\n",
    "               textposition = 'inside'\n",
    ")"
   ]
  },
  {
   "cell_type": "code",
   "execution_count": 15,
   "metadata": {},
   "outputs": [],
   "source": [
    "data = [trace]"
   ]
  },
  {
   "cell_type": "markdown",
   "metadata": {},
   "source": [
    "#### Define the layout\n",
    "We add a few more customizations here:\n",
    "* We set the font family and font size for the title\n",
    "* We angle the tick labels on the X axis"
   ]
  },
  {
   "cell_type": "code",
   "execution_count": 16,
   "metadata": {},
   "outputs": [],
   "source": [
    "layout = go.Layout(title='Dessert Order',\n",
    "                   \n",
    "                   titlefont = dict(family = 'Arial', size = 15),\n",
    "                   \n",
    "                   xaxis = dict(tickangle = 30))"
   ]
  },
  {
   "cell_type": "code",
   "execution_count": 17,
   "metadata": {},
   "outputs": [
    {
     "data": {
      "application/vnd.plotly.v1+json": {
       "config": {
        "linkText": "Export to plot.ly",
        "plotlyServerURL": "https://plot.ly",
        "showLink": false
       },
       "data": [
        {
         "marker": {
          "color": [
           "chocolate",
           "wheat",
           "yellow"
          ]
         },
         "text": [
          "50",
          "14",
          "35"
         ],
         "textposition": "inside",
         "type": "bar",
         "uid": "d29286c2-3512-4a96-b35c-761f1f9213ce",
         "width": [
          0.5,
          1,
          0.7
         ],
         "x": [
          "chocolates",
          "cakes",
          "muffins"
         ],
         "y": [
          50,
          14,
          35
         ]
        }
       ],
       "layout": {
        "title": {
         "font": {
          "family": "Arial",
          "size": 15
         },
         "text": "Dessert Order"
        },
        "xaxis": {
         "tickangle": 30
        }
       }
      },
      "text/html": [
       "<div>\n",
       "        \n",
       "        \n",
       "            <div id=\"706476ae-603e-461f-b6a0-c27665df97a5\" class=\"plotly-graph-div\" style=\"height:525px; width:100%;\"></div>\n",
       "            <script type=\"text/javascript\">\n",
       "                require([\"plotly\"], function(Plotly) {\n",
       "                    window.PLOTLYENV=window.PLOTLYENV || {};\n",
       "                    window.PLOTLYENV.BASE_URL='https://plot.ly';\n",
       "                    \n",
       "                if (document.getElementById(\"706476ae-603e-461f-b6a0-c27665df97a5\")) {\n",
       "                    Plotly.newPlot(\n",
       "                        '706476ae-603e-461f-b6a0-c27665df97a5',\n",
       "                        [{\"marker\": {\"color\": [\"chocolate\", \"wheat\", \"yellow\"]}, \"text\": [\"50\", \"14\", \"35\"], \"textposition\": \"inside\", \"type\": \"bar\", \"uid\": \"d29286c2-3512-4a96-b35c-761f1f9213ce\", \"width\": [0.5, 1, 0.7], \"x\": [\"chocolates\", \"cakes\", \"muffins\"], \"y\": [50, 14, 35]}],\n",
       "                        {\"title\": {\"font\": {\"family\": \"Arial\", \"size\": 15}, \"text\": \"Dessert Order\"}, \"xaxis\": {\"tickangle\": 30}},\n",
       "                        {\"showLink\": false, \"linkText\": \"Export to plot.ly\", \"plotlyServerURL\": \"https://plot.ly\", \"responsive\": true}\n",
       "                    ).then(function(){\n",
       "                            \n",
       "var gd = document.getElementById('706476ae-603e-461f-b6a0-c27665df97a5');\n",
       "var x = new MutationObserver(function (mutations, observer) {{\n",
       "        var display = window.getComputedStyle(gd).display;\n",
       "        if (!display || display === 'none') {{\n",
       "            console.log([gd, 'removed!']);\n",
       "            Plotly.purge(gd);\n",
       "            observer.disconnect();\n",
       "        }}\n",
       "}});\n",
       "\n",
       "// Listen for the removal of the full notebook cells\n",
       "var notebookContainer = gd.closest('#notebook-container');\n",
       "if (notebookContainer) {{\n",
       "    x.observe(notebookContainer, {childList: true});\n",
       "}}\n",
       "\n",
       "// Listen for the clearing of the current output cell\n",
       "var outputEl = gd.closest('.output');\n",
       "if (outputEl) {{\n",
       "    x.observe(outputEl, {childList: true});\n",
       "}}\n",
       "\n",
       "                        })\n",
       "                };\n",
       "                });\n",
       "            </script>\n",
       "        </div>"
      ]
     },
     "metadata": {},
     "output_type": "display_data"
    }
   ],
   "source": [
    "fig = go.Figure(data = data, \n",
    "                layout = layout)\n",
    "\n",
    "offline.iplot(fig)"
   ]
  }
 ],
 "metadata": {
  "kernelspec": {
   "display_name": "Python 3",
   "language": "python",
   "name": "python3"
  },
  "language_info": {
   "codemirror_mode": {
    "name": "ipython",
    "version": 3
   },
   "file_extension": ".py",
   "mimetype": "text/x-python",
   "name": "python",
   "nbconvert_exporter": "python",
   "pygments_lexer": "ipython3",
   "version": "3.7.3"
  }
 },
 "nbformat": 4,
 "nbformat_minor": 2
}
