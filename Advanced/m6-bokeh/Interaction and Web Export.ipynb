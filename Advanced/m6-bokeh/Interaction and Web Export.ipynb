{
 "cells": [
  {
   "cell_type": "markdown",
   "metadata": {},
   "source": [
    "# Interaction and Web Export"
   ]
  },
  {
   "cell_type": "code",
   "execution_count": 1,
   "metadata": {},
   "outputs": [],
   "source": [
    "import pandas as pd\n",
    "from bokeh.plotting import figure, show, ColumnDataSource, output_file\n",
    "from bokeh.palettes import Set2_3 as Colors"
   ]
  },
  {
   "cell_type": "code",
   "execution_count": 2,
   "metadata": {},
   "outputs": [],
   "source": [
    "output_file('sales_app.html')"
   ]
  },
  {
   "cell_type": "code",
   "execution_count": 3,
   "metadata": {},
   "outputs": [
    {
     "data": {
      "text/html": [
       "<div>\n",
       "<style scoped>\n",
       "    .dataframe tbody tr th:only-of-type {\n",
       "        vertical-align: middle;\n",
       "    }\n",
       "\n",
       "    .dataframe tbody tr th {\n",
       "        vertical-align: top;\n",
       "    }\n",
       "\n",
       "    .dataframe thead th {\n",
       "        text-align: right;\n",
       "    }\n",
       "</style>\n",
       "<table border=\"1\" class=\"dataframe\">\n",
       "  <thead>\n",
       "    <tr style=\"text-align: right;\">\n",
       "      <th></th>\n",
       "      <th>m</th>\n",
       "      <th>a</th>\n",
       "      <th>b</th>\n",
       "      <th>c</th>\n",
       "    </tr>\n",
       "  </thead>\n",
       "  <tbody>\n",
       "    <tr>\n",
       "      <th>0</th>\n",
       "      <td>1</td>\n",
       "      <td>7260.0</td>\n",
       "      <td>9258.0</td>\n",
       "      <td>1740.0</td>\n",
       "    </tr>\n",
       "    <tr>\n",
       "      <th>1</th>\n",
       "      <td>2</td>\n",
       "      <td>6534.0</td>\n",
       "      <td>0.0</td>\n",
       "      <td>5000.0</td>\n",
       "    </tr>\n",
       "    <tr>\n",
       "      <th>2</th>\n",
       "      <td>3</td>\n",
       "      <td>7260.0</td>\n",
       "      <td>0.0</td>\n",
       "      <td>2117.0</td>\n",
       "    </tr>\n",
       "    <tr>\n",
       "      <th>3</th>\n",
       "      <td>4</td>\n",
       "      <td>11616.0</td>\n",
       "      <td>13221.0</td>\n",
       "      <td>5440.0</td>\n",
       "    </tr>\n",
       "    <tr>\n",
       "      <th>4</th>\n",
       "      <td>5</td>\n",
       "      <td>7119.0</td>\n",
       "      <td>0.0</td>\n",
       "      <td>2990.0</td>\n",
       "    </tr>\n",
       "    <tr>\n",
       "      <th>5</th>\n",
       "      <td>6</td>\n",
       "      <td>11071.0</td>\n",
       "      <td>0.0</td>\n",
       "      <td>0.0</td>\n",
       "    </tr>\n",
       "    <tr>\n",
       "      <th>6</th>\n",
       "      <td>7</td>\n",
       "      <td>4200.0</td>\n",
       "      <td>15973.0</td>\n",
       "      <td>2901.0</td>\n",
       "    </tr>\n",
       "    <tr>\n",
       "      <th>7</th>\n",
       "      <td>8</td>\n",
       "      <td>10342.0</td>\n",
       "      <td>0.0</td>\n",
       "      <td>1590.0</td>\n",
       "    </tr>\n",
       "    <tr>\n",
       "      <th>8</th>\n",
       "      <td>9</td>\n",
       "      <td>0.0</td>\n",
       "      <td>0.0</td>\n",
       "      <td>660.0</td>\n",
       "    </tr>\n",
       "    <tr>\n",
       "      <th>9</th>\n",
       "      <td>10</td>\n",
       "      <td>2100.0</td>\n",
       "      <td>10711.0</td>\n",
       "      <td>14520.0</td>\n",
       "    </tr>\n",
       "    <tr>\n",
       "      <th>10</th>\n",
       "      <td>11</td>\n",
       "      <td>7260.0</td>\n",
       "      <td>0.0</td>\n",
       "      <td>3710.0</td>\n",
       "    </tr>\n",
       "    <tr>\n",
       "      <th>11</th>\n",
       "      <td>12</td>\n",
       "      <td>11616.0</td>\n",
       "      <td>14800.0</td>\n",
       "      <td>0.0</td>\n",
       "    </tr>\n",
       "  </tbody>\n",
       "</table>\n",
       "</div>"
      ],
      "text/plain": [
       "     m        a        b        c\n",
       "0    1   7260.0   9258.0   1740.0\n",
       "1    2   6534.0      0.0   5000.0\n",
       "2    3   7260.0      0.0   2117.0\n",
       "3    4  11616.0  13221.0   5440.0\n",
       "4    5   7119.0      0.0   2990.0\n",
       "5    6  11071.0      0.0      0.0\n",
       "6    7   4200.0  15973.0   2901.0\n",
       "7    8  10342.0      0.0   1590.0\n",
       "8    9      0.0      0.0    660.0\n",
       "9   10   2100.0  10711.0  14520.0\n",
       "10  11   7260.0      0.0   3710.0\n",
       "11  12  11616.0  14800.0      0.0"
      ]
     },
     "execution_count": 3,
     "metadata": {},
     "output_type": "execute_result"
    }
   ],
   "source": [
    "df = pd.read_csv('monthly_sales.csv')\n",
    "src = ColumnDataSource(df)\n",
    "df"
   ]
  },
  {
   "cell_type": "code",
   "execution_count": 4,
   "metadata": {},
   "outputs": [],
   "source": [
    "p = figure(title=\"Monthly Sales (2017)\", \n",
    "           x_axis_label='Month', y_axis_label='Sales (EUR)',\n",
    "           y_range=(0,20000), plot_width=600, plot_height=400)\n",
    "\n",
    "p.line(source=src, x='m', y='a', legend=\"Product A\", line_width=2, color=Colors[0])\n",
    "p.line(source=src, x='m', y='b', legend=\"Product B\", line_width=2, color=Colors[1])\n",
    "p.line(source=src, x='m', y='c', legend=\"Product C\", line_width=2, color=Colors[2])\n",
    "\n",
    "p.legend.location = 'top_left'\n",
    "\n",
    "from bokeh.models import HoverTool\n",
    "p.add_tools(HoverTool(tooltips= [(\"Month\", \"@m\"),\n",
    "                                 (\"Product a sold\",\"@a\"),\n",
    "                                 (\"Product b sold\",\"@b\"),\n",
    "                                 (\"Product c sold\",\"@c\"),\n",
    "                                ]))\n",
    "\n",
    "show(p)"
   ]
  },
  {
   "cell_type": "code",
   "execution_count": 5,
   "metadata": {},
   "outputs": [
    {
     "data": {
      "text/plain": [
       "'\\n<script type=\"text/javascript\">\\n  (function() {\\n    var fn = function() {\\n      Bokeh.safely(function() {\\n        (function(root) {\\n          function embed_document(root) {\\n            \\n          var docs_json = \\'{\"56dd3791-e648-4023-8b30-6364d4041a65\":{\"roots\":{\"references\":[{\"attributes\":{\"callback\":null,\"data\":{\"a\":{\"__ndarray__\":\"AAAAAABcvEAAAAAAAIa5QAAAAAAAXLxAAAAAAACwxkAAAAAAAM+7QAAAAACAn8VAAAAAAABosEAAAAAAADPEQAAAAAAAAAAAAAAAAABooEAAAAAAAFy8QAAAAAAAsMZA\",\"dtype\":\"float64\",\"shape\":[12]},\"b\":{\"__ndarray__\":\"AAAAAAAVwkAAAAAAAAAAAAAAAAAAAAAAAAAAAIDSyUAAAAAAAAAAAAAAAAAAAAAAAAAAAIAyz0AAAAAAAAAAAAAAAAAAAAAAAAAAAIDrxEAAAAAAAAAAAAAAAAAA6MxA\",\"dtype\":\"float64\",\"shape\":[12]},\"c\":{\"__ndarray__\":\"AAAAAAAwm0AAAAAAAIizQAAAAAAAiqBAAAAAAABAtUAAAAAAAFynQAAAAAAAAAAAAAAAAACqpkAAAAAAANiYQAAAAAAAoIRAAAAAAABczEAAAAAAAPysQAAAAAAAAAAA\",\"dtype\":\"float64\",\"shape\":[12]},\"index\":[0,1,2,3,4,5,6,7,8,9,10,11],\"m\":[1,2,3,4,5,6,7,8,9,10,11,12]},\"selected\":{\"id\":\"1059\",\"type\":\"Selection\"},\"selection_policy\":{\"id\":\"1060\",\"type\":\"UnionRenderers\"}},\"id\":\"1001\",\"type\":\"ColumnDataSource\"},{\"attributes\":{\"line_alpha\":0.1,\"line_color\":\"#1f77b4\",\"line_width\":2,\"x\":{\"field\":\"m\"},\"y\":{\"field\":\"b\"}},\"id\":\"1051\",\"type\":\"Line\"},{\"attributes\":{\"source\":{\"id\":\"1001\",\"type\":\"ColumnDataSource\"}},\"id\":\"1040\",\"type\":\"CDSView\"},{\"attributes\":{\"line_alpha\":0.1,\"line_color\":\"#1f77b4\",\"line_width\":2,\"x\":{\"field\":\"m\"},\"y\":{\"field\":\"a\"}},\"id\":\"1038\",\"type\":\"Line\"},{\"attributes\":{\"data_source\":{\"id\":\"1001\",\"type\":\"ColumnDataSource\"},\"glyph\":{\"id\":\"1050\",\"type\":\"Line\"},\"hover_glyph\":null,\"muted_glyph\":null,\"nonselection_glyph\":{\"id\":\"1051\",\"type\":\"Line\"},\"selection_glyph\":null,\"view\":{\"id\":\"1053\",\"type\":\"CDSView\"}},\"id\":\"1052\",\"type\":\"GlyphRenderer\"},{\"attributes\":{\"source\":{\"id\":\"1001\",\"type\":\"ColumnDataSource\"}},\"id\":\"1053\",\"type\":\"CDSView\"},{\"attributes\":{},\"id\":\"1023\",\"type\":\"PanTool\"},{\"attributes\":{},\"id\":\"1059\",\"type\":\"Selection\"},{\"attributes\":{},\"id\":\"1024\",\"type\":\"WheelZoomTool\"},{\"attributes\":{},\"id\":\"1060\",\"type\":\"UnionRenderers\"},{\"attributes\":{\"overlay\":{\"id\":\"1046\",\"type\":\"BoxAnnotation\"}},\"id\":\"1025\",\"type\":\"BoxZoomTool\"},{\"attributes\":{\"label\":{\"value\":\"Product B\"},\"renderers\":[{\"id\":\"1052\",\"type\":\"GlyphRenderer\"}]},\"id\":\"1062\",\"type\":\"LegendItem\"},{\"attributes\":{\"line_color\":\"#66c2a5\",\"line_width\":2,\"x\":{\"field\":\"m\"},\"y\":{\"field\":\"a\"}},\"id\":\"1037\",\"type\":\"Line\"},{\"attributes\":{},\"id\":\"1026\",\"type\":\"SaveTool\"},{\"attributes\":{\"below\":[{\"id\":\"1013\",\"type\":\"LinearAxis\"}],\"center\":[{\"id\":\"1017\",\"type\":\"Grid\"},{\"id\":\"1022\",\"type\":\"Grid\"},{\"id\":\"1047\",\"type\":\"Legend\"}],\"left\":[{\"id\":\"1018\",\"type\":\"LinearAxis\"}],\"plot_height\":400,\"renderers\":[{\"id\":\"1039\",\"type\":\"GlyphRenderer\"},{\"id\":\"1052\",\"type\":\"GlyphRenderer\"},{\"id\":\"1066\",\"type\":\"GlyphRenderer\"}],\"title\":{\"id\":\"1003\",\"type\":\"Title\"},\"toolbar\":{\"id\":\"1029\",\"type\":\"Toolbar\"},\"x_range\":{\"id\":\"1005\",\"type\":\"DataRange1d\"},\"x_scale\":{\"id\":\"1009\",\"type\":\"LinearScale\"},\"y_range\":{\"id\":\"1007\",\"type\":\"Range1d\"},\"y_scale\":{\"id\":\"1011\",\"type\":\"LinearScale\"}},\"id\":\"1002\",\"subtype\":\"Figure\",\"type\":\"Plot\"},{\"attributes\":{},\"id\":\"1027\",\"type\":\"ResetTool\"},{\"attributes\":{\"data_source\":{\"id\":\"1001\",\"type\":\"ColumnDataSource\"},\"glyph\":{\"id\":\"1037\",\"type\":\"Line\"},\"hover_glyph\":null,\"muted_glyph\":null,\"nonselection_glyph\":{\"id\":\"1038\",\"type\":\"Line\"},\"selection_glyph\":null,\"view\":{\"id\":\"1040\",\"type\":\"CDSView\"}},\"id\":\"1039\",\"type\":\"GlyphRenderer\"},{\"attributes\":{\"line_color\":\"#8da0cb\",\"line_width\":2,\"x\":{\"field\":\"m\"},\"y\":{\"field\":\"c\"}},\"id\":\"1064\",\"type\":\"Line\"},{\"attributes\":{\"text\":\"Monthly Sales (2017)\"},\"id\":\"1003\",\"type\":\"Title\"},{\"attributes\":{},\"id\":\"1028\",\"type\":\"HelpTool\"},{\"attributes\":{\"line_alpha\":0.1,\"line_color\":\"#1f77b4\",\"line_width\":2,\"x\":{\"field\":\"m\"},\"y\":{\"field\":\"c\"}},\"id\":\"1065\",\"type\":\"Line\"},{\"attributes\":{\"callback\":null},\"id\":\"1005\",\"type\":\"DataRange1d\"},{\"attributes\":{\"active_drag\":\"auto\",\"active_inspect\":\"auto\",\"active_multi\":null,\"active_scroll\":\"auto\",\"active_tap\":\"auto\",\"tools\":[{\"id\":\"1023\",\"type\":\"PanTool\"},{\"id\":\"1024\",\"type\":\"WheelZoomTool\"},{\"id\":\"1025\",\"type\":\"BoxZoomTool\"},{\"id\":\"1026\",\"type\":\"SaveTool\"},{\"id\":\"1027\",\"type\":\"ResetTool\"},{\"id\":\"1028\",\"type\":\"HelpTool\"},{\"id\":\"1077\",\"type\":\"HoverTool\"}]},\"id\":\"1029\",\"type\":\"Toolbar\"},{\"attributes\":{\"data_source\":{\"id\":\"1001\",\"type\":\"ColumnDataSource\"},\"glyph\":{\"id\":\"1064\",\"type\":\"Line\"},\"hover_glyph\":null,\"muted_glyph\":null,\"nonselection_glyph\":{\"id\":\"1065\",\"type\":\"Line\"},\"selection_glyph\":null,\"view\":{\"id\":\"1067\",\"type\":\"CDSView\"}},\"id\":\"1066\",\"type\":\"GlyphRenderer\"},{\"attributes\":{\"callback\":null,\"end\":20000},\"id\":\"1007\",\"type\":\"Range1d\"},{\"attributes\":{\"source\":{\"id\":\"1001\",\"type\":\"ColumnDataSource\"}},\"id\":\"1067\",\"type\":\"CDSView\"},{\"attributes\":{},\"id\":\"1042\",\"type\":\"BasicTickFormatter\"},{\"attributes\":{},\"id\":\"1009\",\"type\":\"LinearScale\"},{\"attributes\":{\"label\":{\"value\":\"Product C\"},\"renderers\":[{\"id\":\"1066\",\"type\":\"GlyphRenderer\"}]},\"id\":\"1076\",\"type\":\"LegendItem\"},{\"attributes\":{},\"id\":\"1011\",\"type\":\"LinearScale\"},{\"attributes\":{},\"id\":\"1044\",\"type\":\"BasicTickFormatter\"},{\"attributes\":{\"axis_label\":\"Month\",\"formatter\":{\"id\":\"1042\",\"type\":\"BasicTickFormatter\"},\"ticker\":{\"id\":\"1014\",\"type\":\"BasicTicker\"}},\"id\":\"1013\",\"type\":\"LinearAxis\"},{\"attributes\":{\"bottom_units\":\"screen\",\"fill_alpha\":{\"value\":0.5},\"fill_color\":{\"value\":\"lightgrey\"},\"left_units\":\"screen\",\"level\":\"overlay\",\"line_alpha\":{\"value\":1.0},\"line_color\":{\"value\":\"black\"},\"line_dash\":[4,4],\"line_width\":{\"value\":2},\"render_mode\":\"css\",\"right_units\":\"screen\",\"top_units\":\"screen\"},\"id\":\"1046\",\"type\":\"BoxAnnotation\"},{\"attributes\":{\"items\":[{\"id\":\"1048\",\"type\":\"LegendItem\"},{\"id\":\"1062\",\"type\":\"LegendItem\"},{\"id\":\"1076\",\"type\":\"LegendItem\"}],\"location\":\"top_left\"},\"id\":\"1047\",\"type\":\"Legend\"},{\"attributes\":{},\"id\":\"1014\",\"type\":\"BasicTicker\"},{\"attributes\":{\"callback\":null,\"tooltips\":[[\"Month\",\"@m\"],[\"Product a sold\",\"@a\"],[\"Product b sold\",\"@b\"],[\"Product c sold\",\"@c\"]]},\"id\":\"1077\",\"type\":\"HoverTool\"},{\"attributes\":{\"ticker\":{\"id\":\"1014\",\"type\":\"BasicTicker\"}},\"id\":\"1017\",\"type\":\"Grid\"},{\"attributes\":{\"label\":{\"value\":\"Product A\"},\"renderers\":[{\"id\":\"1039\",\"type\":\"GlyphRenderer\"}]},\"id\":\"1048\",\"type\":\"LegendItem\"},{\"attributes\":{\"axis_label\":\"Sales (EUR)\",\"formatter\":{\"id\":\"1044\",\"type\":\"BasicTickFormatter\"},\"ticker\":{\"id\":\"1019\",\"type\":\"BasicTicker\"}},\"id\":\"1018\",\"type\":\"LinearAxis\"},{\"attributes\":{},\"id\":\"1019\",\"type\":\"BasicTicker\"},{\"attributes\":{\"line_color\":\"#fc8d62\",\"line_width\":2,\"x\":{\"field\":\"m\"},\"y\":{\"field\":\"b\"}},\"id\":\"1050\",\"type\":\"Line\"},{\"attributes\":{\"dimension\":1,\"ticker\":{\"id\":\"1019\",\"type\":\"BasicTicker\"}},\"id\":\"1022\",\"type\":\"Grid\"}],\"root_ids\":[\"1002\"]},\"title\":\"Bokeh Application\",\"version\":\"1.2.0\"}}\\';\\n          var render_items = [{\"docid\":\"56dd3791-e648-4023-8b30-6364d4041a65\",\"roots\":{\"1002\":\"08bfb438-b090-4f1a-8734-6393a8166af1\"}}];\\n          root.Bokeh.embed.embed_items(docs_json, render_items);\\n        \\n          }\\n          if (root.Bokeh !== undefined) {\\n            embed_document(root);\\n          } else {\\n            var attempts = 0;\\n            var timer = setInterval(function(root) {\\n              if (root.Bokeh !== undefined) {\\n                embed_document(root);\\n                clearInterval(timer);\\n              }\\n              attempts++;\\n              if (attempts > 100) {\\n                console.log(\"Bokeh: ERROR: Unable to run BokehJS code because BokehJS library is missing\");\\n                clearInterval(timer);\\n              }\\n            }, 10, root)\\n          }\\n        })(window);\\n      });\\n    };\\n    if (document.readyState != \"loading\") fn();\\n    else document.addEventListener(\"DOMContentLoaded\", fn);\\n  })();\\n</script>'"
      ]
     },
     "execution_count": 5,
     "metadata": {},
     "output_type": "execute_result"
    }
   ],
   "source": [
    "from bokeh.embed import components\n",
    "script, div = components(p)\n",
    "script"
   ]
  },
  {
   "cell_type": "code",
   "execution_count": 6,
   "metadata": {},
   "outputs": [
    {
     "data": {
      "text/plain": [
       "'\\n<div class=\"bk-root\" id=\"08bfb438-b090-4f1a-8734-6393a8166af1\" data-root-id=\"1002\"></div>'"
      ]
     },
     "execution_count": 6,
     "metadata": {},
     "output_type": "execute_result"
    }
   ],
   "source": [
    "div"
   ]
  }
 ],
 "metadata": {
  "kernelspec": {
   "display_name": "Python 3",
   "language": "python",
   "name": "python3"
  },
  "language_info": {
   "codemirror_mode": {
    "name": "ipython",
    "version": 3
   },
   "file_extension": ".py",
   "mimetype": "text/x-python",
   "name": "python",
   "nbconvert_exporter": "python",
   "pygments_lexer": "ipython3",
   "version": "3.7.3"
  }
 },
 "nbformat": 4,
 "nbformat_minor": 2
}
