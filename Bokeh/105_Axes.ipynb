{
 "cells": [
  {
   "cell_type": "code",
   "execution_count": 1,
   "metadata": {},
   "outputs": [
    {
     "data": {
      "text/html": [
       "\n",
       "    <div class=\"bk-root\">\n",
       "        <a href=\"https://bokeh.pydata.org\" target=\"_blank\" class=\"bk-logo bk-logo-small bk-logo-notebook\"></a>\n",
       "        <span id=\"1001\">Loading BokehJS ...</span>\n",
       "    </div>"
      ]
     },
     "metadata": {},
     "output_type": "display_data"
    },
    {
     "data": {
      "application/javascript": [
       "\n",
       "(function(root) {\n",
       "  function now() {\n",
       "    return new Date();\n",
       "  }\n",
       "\n",
       "  var force = true;\n",
       "\n",
       "  if (typeof root._bokeh_onload_callbacks === \"undefined\" || force === true) {\n",
       "    root._bokeh_onload_callbacks = [];\n",
       "    root._bokeh_is_loading = undefined;\n",
       "  }\n",
       "\n",
       "  var JS_MIME_TYPE = 'application/javascript';\n",
       "  var HTML_MIME_TYPE = 'text/html';\n",
       "  var EXEC_MIME_TYPE = 'application/vnd.bokehjs_exec.v0+json';\n",
       "  var CLASS_NAME = 'output_bokeh rendered_html';\n",
       "\n",
       "  /**\n",
       "   * Render data to the DOM node\n",
       "   */\n",
       "  function render(props, node) {\n",
       "    var script = document.createElement(\"script\");\n",
       "    node.appendChild(script);\n",
       "  }\n",
       "\n",
       "  /**\n",
       "   * Handle when an output is cleared or removed\n",
       "   */\n",
       "  function handleClearOutput(event, handle) {\n",
       "    var cell = handle.cell;\n",
       "\n",
       "    var id = cell.output_area._bokeh_element_id;\n",
       "    var server_id = cell.output_area._bokeh_server_id;\n",
       "    // Clean up Bokeh references\n",
       "    if (id != null && id in Bokeh.index) {\n",
       "      Bokeh.index[id].model.document.clear();\n",
       "      delete Bokeh.index[id];\n",
       "    }\n",
       "\n",
       "    if (server_id !== undefined) {\n",
       "      // Clean up Bokeh references\n",
       "      var cmd = \"from bokeh.io.state import curstate; print(curstate().uuid_to_server['\" + server_id + \"'].get_sessions()[0].document.roots[0]._id)\";\n",
       "      cell.notebook.kernel.execute(cmd, {\n",
       "        iopub: {\n",
       "          output: function(msg) {\n",
       "            var id = msg.content.text.trim();\n",
       "            if (id in Bokeh.index) {\n",
       "              Bokeh.index[id].model.document.clear();\n",
       "              delete Bokeh.index[id];\n",
       "            }\n",
       "          }\n",
       "        }\n",
       "      });\n",
       "      // Destroy server and session\n",
       "      var cmd = \"import bokeh.io.notebook as ion; ion.destroy_server('\" + server_id + \"')\";\n",
       "      cell.notebook.kernel.execute(cmd);\n",
       "    }\n",
       "  }\n",
       "\n",
       "  /**\n",
       "   * Handle when a new output is added\n",
       "   */\n",
       "  function handleAddOutput(event, handle) {\n",
       "    var output_area = handle.output_area;\n",
       "    var output = handle.output;\n",
       "\n",
       "    // limit handleAddOutput to display_data with EXEC_MIME_TYPE content only\n",
       "    if ((output.output_type != \"display_data\") || (!output.data.hasOwnProperty(EXEC_MIME_TYPE))) {\n",
       "      return\n",
       "    }\n",
       "\n",
       "    var toinsert = output_area.element.find(\".\" + CLASS_NAME.split(' ')[0]);\n",
       "\n",
       "    if (output.metadata[EXEC_MIME_TYPE][\"id\"] !== undefined) {\n",
       "      toinsert[toinsert.length - 1].firstChild.textContent = output.data[JS_MIME_TYPE];\n",
       "      // store reference to embed id on output_area\n",
       "      output_area._bokeh_element_id = output.metadata[EXEC_MIME_TYPE][\"id\"];\n",
       "    }\n",
       "    if (output.metadata[EXEC_MIME_TYPE][\"server_id\"] !== undefined) {\n",
       "      var bk_div = document.createElement(\"div\");\n",
       "      bk_div.innerHTML = output.data[HTML_MIME_TYPE];\n",
       "      var script_attrs = bk_div.children[0].attributes;\n",
       "      for (var i = 0; i < script_attrs.length; i++) {\n",
       "        toinsert[toinsert.length - 1].firstChild.setAttribute(script_attrs[i].name, script_attrs[i].value);\n",
       "      }\n",
       "      // store reference to server id on output_area\n",
       "      output_area._bokeh_server_id = output.metadata[EXEC_MIME_TYPE][\"server_id\"];\n",
       "    }\n",
       "  }\n",
       "\n",
       "  function register_renderer(events, OutputArea) {\n",
       "\n",
       "    function append_mime(data, metadata, element) {\n",
       "      // create a DOM node to render to\n",
       "      var toinsert = this.create_output_subarea(\n",
       "        metadata,\n",
       "        CLASS_NAME,\n",
       "        EXEC_MIME_TYPE\n",
       "      );\n",
       "      this.keyboard_manager.register_events(toinsert);\n",
       "      // Render to node\n",
       "      var props = {data: data, metadata: metadata[EXEC_MIME_TYPE]};\n",
       "      render(props, toinsert[toinsert.length - 1]);\n",
       "      element.append(toinsert);\n",
       "      return toinsert\n",
       "    }\n",
       "\n",
       "    /* Handle when an output is cleared or removed */\n",
       "    events.on('clear_output.CodeCell', handleClearOutput);\n",
       "    events.on('delete.Cell', handleClearOutput);\n",
       "\n",
       "    /* Handle when a new output is added */\n",
       "    events.on('output_added.OutputArea', handleAddOutput);\n",
       "\n",
       "    /**\n",
       "     * Register the mime type and append_mime function with output_area\n",
       "     */\n",
       "    OutputArea.prototype.register_mime_type(EXEC_MIME_TYPE, append_mime, {\n",
       "      /* Is output safe? */\n",
       "      safe: true,\n",
       "      /* Index of renderer in `output_area.display_order` */\n",
       "      index: 0\n",
       "    });\n",
       "  }\n",
       "\n",
       "  // register the mime type if in Jupyter Notebook environment and previously unregistered\n",
       "  if (root.Jupyter !== undefined) {\n",
       "    var events = require('base/js/events');\n",
       "    var OutputArea = require('notebook/js/outputarea').OutputArea;\n",
       "\n",
       "    if (OutputArea.prototype.mime_types().indexOf(EXEC_MIME_TYPE) == -1) {\n",
       "      register_renderer(events, OutputArea);\n",
       "    }\n",
       "  }\n",
       "\n",
       "  \n",
       "  if (typeof (root._bokeh_timeout) === \"undefined\" || force === true) {\n",
       "    root._bokeh_timeout = Date.now() + 5000;\n",
       "    root._bokeh_failed_load = false;\n",
       "  }\n",
       "\n",
       "  var NB_LOAD_WARNING = {'data': {'text/html':\n",
       "     \"<div style='background-color: #fdd'>\\n\"+\n",
       "     \"<p>\\n\"+\n",
       "     \"BokehJS does not appear to have successfully loaded. If loading BokehJS from CDN, this \\n\"+\n",
       "     \"may be due to a slow or bad network connection. Possible fixes:\\n\"+\n",
       "     \"</p>\\n\"+\n",
       "     \"<ul>\\n\"+\n",
       "     \"<li>re-rerun `output_notebook()` to attempt to load from CDN again, or</li>\\n\"+\n",
       "     \"<li>use INLINE resources instead, as so:</li>\\n\"+\n",
       "     \"</ul>\\n\"+\n",
       "     \"<code>\\n\"+\n",
       "     \"from bokeh.resources import INLINE\\n\"+\n",
       "     \"output_notebook(resources=INLINE)\\n\"+\n",
       "     \"</code>\\n\"+\n",
       "     \"</div>\"}};\n",
       "\n",
       "  function display_loaded() {\n",
       "    var el = document.getElementById(\"1001\");\n",
       "    if (el != null) {\n",
       "      el.textContent = \"BokehJS is loading...\";\n",
       "    }\n",
       "    if (root.Bokeh !== undefined) {\n",
       "      if (el != null) {\n",
       "        el.textContent = \"BokehJS \" + root.Bokeh.version + \" successfully loaded.\";\n",
       "      }\n",
       "    } else if (Date.now() < root._bokeh_timeout) {\n",
       "      setTimeout(display_loaded, 100)\n",
       "    }\n",
       "  }\n",
       "\n",
       "\n",
       "  function run_callbacks() {\n",
       "    try {\n",
       "      root._bokeh_onload_callbacks.forEach(function(callback) {\n",
       "        if (callback != null)\n",
       "          callback();\n",
       "      });\n",
       "    } finally {\n",
       "      delete root._bokeh_onload_callbacks\n",
       "    }\n",
       "    console.debug(\"Bokeh: all callbacks have finished\");\n",
       "  }\n",
       "\n",
       "  function load_libs(css_urls, js_urls, callback) {\n",
       "    if (css_urls == null) css_urls = [];\n",
       "    if (js_urls == null) js_urls = [];\n",
       "\n",
       "    root._bokeh_onload_callbacks.push(callback);\n",
       "    if (root._bokeh_is_loading > 0) {\n",
       "      console.debug(\"Bokeh: BokehJS is being loaded, scheduling callback at\", now());\n",
       "      return null;\n",
       "    }\n",
       "    if (js_urls == null || js_urls.length === 0) {\n",
       "      run_callbacks();\n",
       "      return null;\n",
       "    }\n",
       "    console.debug(\"Bokeh: BokehJS not loaded, scheduling load and callback at\", now());\n",
       "    root._bokeh_is_loading = css_urls.length + js_urls.length;\n",
       "\n",
       "    function on_load() {\n",
       "      root._bokeh_is_loading--;\n",
       "      if (root._bokeh_is_loading === 0) {\n",
       "        console.debug(\"Bokeh: all BokehJS libraries/stylesheets loaded\");\n",
       "        run_callbacks()\n",
       "      }\n",
       "    }\n",
       "\n",
       "    function on_error() {\n",
       "      console.error(\"failed to load \" + url);\n",
       "    }\n",
       "\n",
       "    for (var i = 0; i < css_urls.length; i++) {\n",
       "      var url = css_urls[i];\n",
       "      const element = document.createElement(\"link\");\n",
       "      element.onload = on_load;\n",
       "      element.onerror = on_error;\n",
       "      element.rel = \"stylesheet\";\n",
       "      element.type = \"text/css\";\n",
       "      element.href = url;\n",
       "      console.debug(\"Bokeh: injecting link tag for BokehJS stylesheet: \", url);\n",
       "      document.body.appendChild(element);\n",
       "    }\n",
       "\n",
       "    for (var i = 0; i < js_urls.length; i++) {\n",
       "      var url = js_urls[i];\n",
       "      var element = document.createElement('script');\n",
       "      element.onload = on_load;\n",
       "      element.onerror = on_error;\n",
       "      element.async = false;\n",
       "      element.src = url;\n",
       "      console.debug(\"Bokeh: injecting script tag for BokehJS library: \", url);\n",
       "      document.head.appendChild(element);\n",
       "    }\n",
       "  };var element = document.getElementById(\"1001\");\n",
       "  if (element == null) {\n",
       "    console.error(\"Bokeh: ERROR: autoload.js configured with elementid '1001' but no matching script tag was found. \")\n",
       "    return false;\n",
       "  }\n",
       "\n",
       "  function inject_raw_css(css) {\n",
       "    const element = document.createElement(\"style\");\n",
       "    element.appendChild(document.createTextNode(css));\n",
       "    document.body.appendChild(element);\n",
       "  }\n",
       "\n",
       "  var js_urls = [\"https://cdn.pydata.org/bokeh/release/bokeh-1.2.0.min.js\", \"https://cdn.pydata.org/bokeh/release/bokeh-widgets-1.2.0.min.js\", \"https://cdn.pydata.org/bokeh/release/bokeh-tables-1.2.0.min.js\", \"https://cdn.pydata.org/bokeh/release/bokeh-gl-1.2.0.min.js\"];\n",
       "  var css_urls = [\"https://cdn.pydata.org/bokeh/release/bokeh-1.2.0.min.css\", \"https://cdn.pydata.org/bokeh/release/bokeh-widgets-1.2.0.min.css\", \"https://cdn.pydata.org/bokeh/release/bokeh-tables-1.2.0.min.css\"];\n",
       "\n",
       "  var inline_js = [\n",
       "    function(Bokeh) {\n",
       "      Bokeh.set_log_level(\"info\");\n",
       "    },\n",
       "    \n",
       "    function(Bokeh) {\n",
       "      \n",
       "    },\n",
       "    function(Bokeh) {} // ensure no trailing comma for IE\n",
       "  ];\n",
       "\n",
       "  function run_inline_js() {\n",
       "    \n",
       "    if ((root.Bokeh !== undefined) || (force === true)) {\n",
       "      for (var i = 0; i < inline_js.length; i++) {\n",
       "        inline_js[i].call(root, root.Bokeh);\n",
       "      }if (force === true) {\n",
       "        display_loaded();\n",
       "      }} else if (Date.now() < root._bokeh_timeout) {\n",
       "      setTimeout(run_inline_js, 100);\n",
       "    } else if (!root._bokeh_failed_load) {\n",
       "      console.log(\"Bokeh: BokehJS failed to load within specified timeout.\");\n",
       "      root._bokeh_failed_load = true;\n",
       "    } else if (force !== true) {\n",
       "      var cell = $(document.getElementById(\"1001\")).parents('.cell').data().cell;\n",
       "      cell.output_area.append_execute_result(NB_LOAD_WARNING)\n",
       "    }\n",
       "\n",
       "  }\n",
       "\n",
       "  if (root._bokeh_is_loading === 0) {\n",
       "    console.debug(\"Bokeh: BokehJS loaded, going straight to plotting\");\n",
       "    run_inline_js();\n",
       "  } else {\n",
       "    load_libs(css_urls, js_urls, function() {\n",
       "      console.debug(\"Bokeh: BokehJS plotting callback run at\", now());\n",
       "      run_inline_js();\n",
       "    });\n",
       "  }\n",
       "}(window));"
      ],
      "application/vnd.bokehjs_load.v0+json": "\n(function(root) {\n  function now() {\n    return new Date();\n  }\n\n  var force = true;\n\n  if (typeof root._bokeh_onload_callbacks === \"undefined\" || force === true) {\n    root._bokeh_onload_callbacks = [];\n    root._bokeh_is_loading = undefined;\n  }\n\n  \n\n  \n  if (typeof (root._bokeh_timeout) === \"undefined\" || force === true) {\n    root._bokeh_timeout = Date.now() + 5000;\n    root._bokeh_failed_load = false;\n  }\n\n  var NB_LOAD_WARNING = {'data': {'text/html':\n     \"<div style='background-color: #fdd'>\\n\"+\n     \"<p>\\n\"+\n     \"BokehJS does not appear to have successfully loaded. If loading BokehJS from CDN, this \\n\"+\n     \"may be due to a slow or bad network connection. Possible fixes:\\n\"+\n     \"</p>\\n\"+\n     \"<ul>\\n\"+\n     \"<li>re-rerun `output_notebook()` to attempt to load from CDN again, or</li>\\n\"+\n     \"<li>use INLINE resources instead, as so:</li>\\n\"+\n     \"</ul>\\n\"+\n     \"<code>\\n\"+\n     \"from bokeh.resources import INLINE\\n\"+\n     \"output_notebook(resources=INLINE)\\n\"+\n     \"</code>\\n\"+\n     \"</div>\"}};\n\n  function display_loaded() {\n    var el = document.getElementById(\"1001\");\n    if (el != null) {\n      el.textContent = \"BokehJS is loading...\";\n    }\n    if (root.Bokeh !== undefined) {\n      if (el != null) {\n        el.textContent = \"BokehJS \" + root.Bokeh.version + \" successfully loaded.\";\n      }\n    } else if (Date.now() < root._bokeh_timeout) {\n      setTimeout(display_loaded, 100)\n    }\n  }\n\n\n  function run_callbacks() {\n    try {\n      root._bokeh_onload_callbacks.forEach(function(callback) {\n        if (callback != null)\n          callback();\n      });\n    } finally {\n      delete root._bokeh_onload_callbacks\n    }\n    console.debug(\"Bokeh: all callbacks have finished\");\n  }\n\n  function load_libs(css_urls, js_urls, callback) {\n    if (css_urls == null) css_urls = [];\n    if (js_urls == null) js_urls = [];\n\n    root._bokeh_onload_callbacks.push(callback);\n    if (root._bokeh_is_loading > 0) {\n      console.debug(\"Bokeh: BokehJS is being loaded, scheduling callback at\", now());\n      return null;\n    }\n    if (js_urls == null || js_urls.length === 0) {\n      run_callbacks();\n      return null;\n    }\n    console.debug(\"Bokeh: BokehJS not loaded, scheduling load and callback at\", now());\n    root._bokeh_is_loading = css_urls.length + js_urls.length;\n\n    function on_load() {\n      root._bokeh_is_loading--;\n      if (root._bokeh_is_loading === 0) {\n        console.debug(\"Bokeh: all BokehJS libraries/stylesheets loaded\");\n        run_callbacks()\n      }\n    }\n\n    function on_error() {\n      console.error(\"failed to load \" + url);\n    }\n\n    for (var i = 0; i < css_urls.length; i++) {\n      var url = css_urls[i];\n      const element = document.createElement(\"link\");\n      element.onload = on_load;\n      element.onerror = on_error;\n      element.rel = \"stylesheet\";\n      element.type = \"text/css\";\n      element.href = url;\n      console.debug(\"Bokeh: injecting link tag for BokehJS stylesheet: \", url);\n      document.body.appendChild(element);\n    }\n\n    for (var i = 0; i < js_urls.length; i++) {\n      var url = js_urls[i];\n      var element = document.createElement('script');\n      element.onload = on_load;\n      element.onerror = on_error;\n      element.async = false;\n      element.src = url;\n      console.debug(\"Bokeh: injecting script tag for BokehJS library: \", url);\n      document.head.appendChild(element);\n    }\n  };var element = document.getElementById(\"1001\");\n  if (element == null) {\n    console.error(\"Bokeh: ERROR: autoload.js configured with elementid '1001' but no matching script tag was found. \")\n    return false;\n  }\n\n  function inject_raw_css(css) {\n    const element = document.createElement(\"style\");\n    element.appendChild(document.createTextNode(css));\n    document.body.appendChild(element);\n  }\n\n  var js_urls = [\"https://cdn.pydata.org/bokeh/release/bokeh-1.2.0.min.js\", \"https://cdn.pydata.org/bokeh/release/bokeh-widgets-1.2.0.min.js\", \"https://cdn.pydata.org/bokeh/release/bokeh-tables-1.2.0.min.js\", \"https://cdn.pydata.org/bokeh/release/bokeh-gl-1.2.0.min.js\"];\n  var css_urls = [\"https://cdn.pydata.org/bokeh/release/bokeh-1.2.0.min.css\", \"https://cdn.pydata.org/bokeh/release/bokeh-widgets-1.2.0.min.css\", \"https://cdn.pydata.org/bokeh/release/bokeh-tables-1.2.0.min.css\"];\n\n  var inline_js = [\n    function(Bokeh) {\n      Bokeh.set_log_level(\"info\");\n    },\n    \n    function(Bokeh) {\n      \n    },\n    function(Bokeh) {} // ensure no trailing comma for IE\n  ];\n\n  function run_inline_js() {\n    \n    if ((root.Bokeh !== undefined) || (force === true)) {\n      for (var i = 0; i < inline_js.length; i++) {\n        inline_js[i].call(root, root.Bokeh);\n      }if (force === true) {\n        display_loaded();\n      }} else if (Date.now() < root._bokeh_timeout) {\n      setTimeout(run_inline_js, 100);\n    } else if (!root._bokeh_failed_load) {\n      console.log(\"Bokeh: BokehJS failed to load within specified timeout.\");\n      root._bokeh_failed_load = true;\n    } else if (force !== true) {\n      var cell = $(document.getElementById(\"1001\")).parents('.cell').data().cell;\n      cell.output_area.append_execute_result(NB_LOAD_WARNING)\n    }\n\n  }\n\n  if (root._bokeh_is_loading === 0) {\n    console.debug(\"Bokeh: BokehJS loaded, going straight to plotting\");\n    run_inline_js();\n  } else {\n    load_libs(css_urls, js_urls, function() {\n      console.debug(\"Bokeh: BokehJS plotting callback run at\", now());\n      run_inline_js();\n    });\n  }\n}(window));"
     },
     "metadata": {},
     "output_type": "display_data"
    }
   ],
   "source": [
    "from bokeh.plotting import figure\n",
    "from bokeh.io import output_notebook,show\n",
    "import pandas as pd\n",
    "from bokeh.models import Range1d\n",
    "\n",
    "output_notebook()"
   ]
  },
  {
   "cell_type": "markdown",
   "metadata": {},
   "source": [
    "#### Load AAPL stock dataset\n",
    "This contains information about the Apple stock price and volume over the 3-month period from May-July 2017."
   ]
  },
  {
   "cell_type": "code",
   "execution_count": 2,
   "metadata": {},
   "outputs": [
    {
     "data": {
      "text/html": [
       "<div>\n",
       "<style scoped>\n",
       "    .dataframe tbody tr th:only-of-type {\n",
       "        vertical-align: middle;\n",
       "    }\n",
       "\n",
       "    .dataframe tbody tr th {\n",
       "        vertical-align: top;\n",
       "    }\n",
       "\n",
       "    .dataframe thead th {\n",
       "        text-align: right;\n",
       "    }\n",
       "</style>\n",
       "<table border=\"1\" class=\"dataframe\">\n",
       "  <thead>\n",
       "    <tr style=\"text-align: right;\">\n",
       "      <th></th>\n",
       "      <th>Date</th>\n",
       "      <th>Open</th>\n",
       "      <th>High</th>\n",
       "      <th>Low</th>\n",
       "      <th>Close</th>\n",
       "      <th>AdjClose</th>\n",
       "      <th>Volume</th>\n",
       "    </tr>\n",
       "  </thead>\n",
       "  <tbody>\n",
       "    <tr>\n",
       "      <th>0</th>\n",
       "      <td>2017-05-01</td>\n",
       "      <td>145.100006</td>\n",
       "      <td>147.199997</td>\n",
       "      <td>144.960007</td>\n",
       "      <td>146.580002</td>\n",
       "      <td>144.297287</td>\n",
       "      <td>33602900</td>\n",
       "    </tr>\n",
       "    <tr>\n",
       "      <th>1</th>\n",
       "      <td>2017-05-02</td>\n",
       "      <td>147.539993</td>\n",
       "      <td>148.089996</td>\n",
       "      <td>146.839996</td>\n",
       "      <td>147.509995</td>\n",
       "      <td>145.212799</td>\n",
       "      <td>45352200</td>\n",
       "    </tr>\n",
       "    <tr>\n",
       "      <th>2</th>\n",
       "      <td>2017-05-03</td>\n",
       "      <td>145.589996</td>\n",
       "      <td>147.490005</td>\n",
       "      <td>144.270004</td>\n",
       "      <td>147.059998</td>\n",
       "      <td>144.769821</td>\n",
       "      <td>45697000</td>\n",
       "    </tr>\n",
       "    <tr>\n",
       "      <th>3</th>\n",
       "      <td>2017-05-04</td>\n",
       "      <td>146.520004</td>\n",
       "      <td>147.139999</td>\n",
       "      <td>145.809998</td>\n",
       "      <td>146.529999</td>\n",
       "      <td>144.248062</td>\n",
       "      <td>23371900</td>\n",
       "    </tr>\n",
       "    <tr>\n",
       "      <th>4</th>\n",
       "      <td>2017-05-05</td>\n",
       "      <td>146.759995</td>\n",
       "      <td>148.979996</td>\n",
       "      <td>146.759995</td>\n",
       "      <td>148.960007</td>\n",
       "      <td>146.640228</td>\n",
       "      <td>27327700</td>\n",
       "    </tr>\n",
       "  </tbody>\n",
       "</table>\n",
       "</div>"
      ],
      "text/plain": [
       "         Date        Open        High         Low       Close    AdjClose  \\\n",
       "0  2017-05-01  145.100006  147.199997  144.960007  146.580002  144.297287   \n",
       "1  2017-05-02  147.539993  148.089996  146.839996  147.509995  145.212799   \n",
       "2  2017-05-03  145.589996  147.490005  144.270004  147.059998  144.769821   \n",
       "3  2017-05-04  146.520004  147.139999  145.809998  146.529999  144.248062   \n",
       "4  2017-05-05  146.759995  148.979996  146.759995  148.960007  146.640228   \n",
       "\n",
       "     Volume  \n",
       "0  33602900  \n",
       "1  45352200  \n",
       "2  45697000  \n",
       "3  23371900  \n",
       "4  27327700  "
      ]
     },
     "execution_count": 2,
     "metadata": {},
     "output_type": "execute_result"
    }
   ],
   "source": [
    "aapl = pd.read_csv('datasets/AAPL.csv')\n",
    "aapl.head()"
   ]
  },
  {
   "cell_type": "markdown",
   "metadata": {},
   "source": [
    "#### Convert the Date values to datetime type\n",
    "This will allow Bokeh to interpret this field as a Date rather than a string"
   ]
  },
  {
   "cell_type": "code",
   "execution_count": 3,
   "metadata": {},
   "outputs": [],
   "source": [
    "aapl['Date'] = pd.to_datetime(aapl['Date'])"
   ]
  },
  {
   "cell_type": "markdown",
   "metadata": {},
   "source": [
    "#### Scale the traded volume to millions\n",
    "It is easier for us to handle smaller numbers to avoid overflow errors"
   ]
  },
  {
   "cell_type": "code",
   "execution_count": 4,
   "metadata": {},
   "outputs": [],
   "source": [
    "aapl['Volume'] = aapl['Volume']/1000000"
   ]
  },
  {
   "cell_type": "markdown",
   "metadata": {},
   "source": [
    "#### Examine the data\n",
    "This will allow us to set the axis ranges depending on the range of the data"
   ]
  },
  {
   "cell_type": "code",
   "execution_count": 5,
   "metadata": {},
   "outputs": [
    {
     "data": {
      "text/html": [
       "<div>\n",
       "<style scoped>\n",
       "    .dataframe tbody tr th:only-of-type {\n",
       "        vertical-align: middle;\n",
       "    }\n",
       "\n",
       "    .dataframe tbody tr th {\n",
       "        vertical-align: top;\n",
       "    }\n",
       "\n",
       "    .dataframe thead th {\n",
       "        text-align: right;\n",
       "    }\n",
       "</style>\n",
       "<table border=\"1\" class=\"dataframe\">\n",
       "  <thead>\n",
       "    <tr style=\"text-align: right;\">\n",
       "      <th></th>\n",
       "      <th>Open</th>\n",
       "      <th>High</th>\n",
       "      <th>Low</th>\n",
       "      <th>Close</th>\n",
       "      <th>AdjClose</th>\n",
       "      <th>Volume</th>\n",
       "    </tr>\n",
       "  </thead>\n",
       "  <tbody>\n",
       "    <tr>\n",
       "      <th>count</th>\n",
       "      <td>63.000000</td>\n",
       "      <td>63.000000</td>\n",
       "      <td>63.000000</td>\n",
       "      <td>63.000000</td>\n",
       "      <td>63.000000</td>\n",
       "      <td>63.000000</td>\n",
       "    </tr>\n",
       "    <tr>\n",
       "      <th>mean</th>\n",
       "      <td>149.460477</td>\n",
       "      <td>150.484127</td>\n",
       "      <td>148.304604</td>\n",
       "      <td>149.500951</td>\n",
       "      <td>147.703029</td>\n",
       "      <td>27.620316</td>\n",
       "    </tr>\n",
       "    <tr>\n",
       "      <th>std</th>\n",
       "      <td>4.229400</td>\n",
       "      <td>4.075143</td>\n",
       "      <td>4.264109</td>\n",
       "      <td>4.126731</td>\n",
       "      <td>4.081040</td>\n",
       "      <td>11.259767</td>\n",
       "    </tr>\n",
       "    <tr>\n",
       "      <th>min</th>\n",
       "      <td>142.899994</td>\n",
       "      <td>143.500000</td>\n",
       "      <td>142.199997</td>\n",
       "      <td>142.270004</td>\n",
       "      <td>140.632507</td>\n",
       "      <td>14.258300</td>\n",
       "    </tr>\n",
       "    <tr>\n",
       "      <th>25%</th>\n",
       "      <td>145.510002</td>\n",
       "      <td>146.720001</td>\n",
       "      <td>144.495003</td>\n",
       "      <td>145.780006</td>\n",
       "      <td>144.102120</td>\n",
       "      <td>20.527550</td>\n",
       "    </tr>\n",
       "    <tr>\n",
       "      <th>50%</th>\n",
       "      <td>149.199997</td>\n",
       "      <td>150.440002</td>\n",
       "      <td>148.570007</td>\n",
       "      <td>149.559998</td>\n",
       "      <td>147.838593</td>\n",
       "      <td>24.761900</td>\n",
       "    </tr>\n",
       "    <tr>\n",
       "      <th>75%</th>\n",
       "      <td>153.680001</td>\n",
       "      <td>154.205001</td>\n",
       "      <td>152.650002</td>\n",
       "      <td>153.400002</td>\n",
       "      <td>151.583488</td>\n",
       "      <td>31.848300</td>\n",
       "    </tr>\n",
       "    <tr>\n",
       "      <th>max</th>\n",
       "      <td>156.009995</td>\n",
       "      <td>156.649994</td>\n",
       "      <td>155.050003</td>\n",
       "      <td>156.100006</td>\n",
       "      <td>154.303329</td>\n",
       "      <td>72.307300</td>\n",
       "    </tr>\n",
       "  </tbody>\n",
       "</table>\n",
       "</div>"
      ],
      "text/plain": [
       "             Open        High         Low       Close    AdjClose     Volume\n",
       "count   63.000000   63.000000   63.000000   63.000000   63.000000  63.000000\n",
       "mean   149.460477  150.484127  148.304604  149.500951  147.703029  27.620316\n",
       "std      4.229400    4.075143    4.264109    4.126731    4.081040  11.259767\n",
       "min    142.899994  143.500000  142.199997  142.270004  140.632507  14.258300\n",
       "25%    145.510002  146.720001  144.495003  145.780006  144.102120  20.527550\n",
       "50%    149.199997  150.440002  148.570007  149.559998  147.838593  24.761900\n",
       "75%    153.680001  154.205001  152.650002  153.400002  151.583488  31.848300\n",
       "max    156.009995  156.649994  155.050003  156.100006  154.303329  72.307300"
      ]
     },
     "execution_count": 5,
     "metadata": {},
     "output_type": "execute_result"
    }
   ],
   "source": [
    "aapl.describe()"
   ]
  },
  {
   "cell_type": "markdown",
   "metadata": {},
   "source": [
    "#### Import the ColumnDataSource class\n",
    "This will map names of columns to sequences or arrays which can be used in our Bokeh plots. "
   ]
  },
  {
   "cell_type": "code",
   "execution_count": 6,
   "metadata": {},
   "outputs": [],
   "source": [
    "from bokeh.models.sources import ColumnDataSource"
   ]
  },
  {
   "cell_type": "markdown",
   "metadata": {},
   "source": [
    "#### A Pandas dataframe can be turned to a ColumnDataSource\n",
    "This is the way to use tabular data in Bokeh plots."
   ]
  },
  {
   "cell_type": "code",
   "execution_count": 7,
   "metadata": {},
   "outputs": [],
   "source": [
    "data_source = ColumnDataSource(aapl)"
   ]
  },
  {
   "cell_type": "markdown",
   "metadata": {},
   "source": [
    "#### Declare the figure\n",
    "In addition to the plot dimensions, we set the following:\n",
    "* We set the <b>x_axis_type</b> to 'datetime' so that Bokeh treats it as a Date\n",
    "* We set the <b>y_range</b> to cover the values of the adjusted close price"
   ]
  },
  {
   "cell_type": "code",
   "execution_count": 8,
   "metadata": {},
   "outputs": [],
   "source": [
    "p = figure(plot_width = 600, \n",
    "           plot_height = 300,\n",
    "           \n",
    "           x_axis_type = 'datetime',\n",
    "           \n",
    "           y_range = Range1d(135, 160)\n",
    "          )"
   ]
  },
  {
   "cell_type": "markdown",
   "metadata": {},
   "source": [
    "#### Draw the line representing the adjusted close vs time\n",
    "Here, we specify a source for the data and reference the x and y values by the column name strings rather than pass the entire series. "
   ]
  },
  {
   "cell_type": "code",
   "execution_count": 9,
   "metadata": {},
   "outputs": [
    {
     "data": {
      "text/html": [
       "\n",
       "\n",
       "\n",
       "\n",
       "\n",
       "\n",
       "  <div class=\"bk-root\" id=\"e5acf3b1-05f7-4bfa-82c0-02255560f85c\" data-root-id=\"1004\"></div>\n"
      ]
     },
     "metadata": {},
     "output_type": "display_data"
    },
    {
     "data": {
      "application/javascript": [
       "(function(root) {\n",
       "  function embed_document(root) {\n",
       "    \n",
       "  var docs_json = {\"7e2c93b2-3c5d-496e-9b2b-9e1c37891488\":{\"roots\":{\"references\":[{\"attributes\":{\"below\":[{\"id\":\"1012\",\"type\":\"DatetimeAxis\"}],\"center\":[{\"id\":\"1016\",\"type\":\"Grid\"},{\"id\":\"1021\",\"type\":\"Grid\"}],\"left\":[{\"id\":\"1017\",\"type\":\"LinearAxis\"}],\"plot_height\":300,\"renderers\":[{\"id\":\"1038\",\"type\":\"GlyphRenderer\"}],\"title\":{\"id\":\"1041\",\"type\":\"Title\"},\"toolbar\":{\"id\":\"1028\",\"type\":\"Toolbar\"},\"x_range\":{\"id\":\"1005\",\"type\":\"DataRange1d\"},\"x_scale\":{\"id\":\"1008\",\"type\":\"LinearScale\"},\"y_range\":{\"id\":\"1003\",\"type\":\"Range1d\"},\"y_scale\":{\"id\":\"1010\",\"type\":\"LinearScale\"}},\"id\":\"1004\",\"subtype\":\"Figure\",\"type\":\"Plot\"},{\"attributes\":{},\"id\":\"1008\",\"type\":\"LinearScale\"},{\"attributes\":{},\"id\":\"1010\",\"type\":\"LinearScale\"},{\"attributes\":{\"formatter\":{\"id\":\"1044\",\"type\":\"DatetimeTickFormatter\"},\"ticker\":{\"id\":\"1013\",\"type\":\"DatetimeTicker\"}},\"id\":\"1012\",\"type\":\"DatetimeAxis\"},{\"attributes\":{},\"id\":\"1059\",\"type\":\"UnionRenderers\"},{\"attributes\":{\"num_minor_ticks\":5,\"tickers\":[{\"id\":\"1047\",\"type\":\"AdaptiveTicker\"},{\"id\":\"1048\",\"type\":\"AdaptiveTicker\"},{\"id\":\"1049\",\"type\":\"AdaptiveTicker\"},{\"id\":\"1050\",\"type\":\"DaysTicker\"},{\"id\":\"1051\",\"type\":\"DaysTicker\"},{\"id\":\"1052\",\"type\":\"DaysTicker\"},{\"id\":\"1053\",\"type\":\"DaysTicker\"},{\"id\":\"1054\",\"type\":\"MonthsTicker\"},{\"id\":\"1055\",\"type\":\"MonthsTicker\"},{\"id\":\"1056\",\"type\":\"MonthsTicker\"},{\"id\":\"1057\",\"type\":\"MonthsTicker\"},{\"id\":\"1058\",\"type\":\"YearsTicker\"}]},\"id\":\"1013\",\"type\":\"DatetimeTicker\"},{\"attributes\":{\"line_color\":\"blue\",\"x\":{\"field\":\"Date\"},\"y\":{\"field\":\"AdjClose\"}},\"id\":\"1036\",\"type\":\"Line\"},{\"attributes\":{\"ticker\":{\"id\":\"1013\",\"type\":\"DatetimeTicker\"}},\"id\":\"1016\",\"type\":\"Grid\"},{\"attributes\":{\"formatter\":{\"id\":\"1042\",\"type\":\"BasicTickFormatter\"},\"ticker\":{\"id\":\"1018\",\"type\":\"BasicTicker\"}},\"id\":\"1017\",\"type\":\"LinearAxis\"},{\"attributes\":{\"line_alpha\":0.1,\"line_color\":\"#1f77b4\",\"x\":{\"field\":\"Date\"},\"y\":{\"field\":\"AdjClose\"}},\"id\":\"1037\",\"type\":\"Line\"},{\"attributes\":{},\"id\":\"1018\",\"type\":\"BasicTicker\"},{\"attributes\":{\"base\":24,\"mantissas\":[1,2,4,6,8,12],\"max_interval\":43200000.0,\"min_interval\":3600000.0,\"num_minor_ticks\":0},\"id\":\"1049\",\"type\":\"AdaptiveTicker\"},{\"attributes\":{\"data_source\":{\"id\":\"1002\",\"type\":\"ColumnDataSource\"},\"glyph\":{\"id\":\"1036\",\"type\":\"Line\"},\"hover_glyph\":null,\"muted_glyph\":null,\"nonselection_glyph\":{\"id\":\"1037\",\"type\":\"Line\"},\"selection_glyph\":null,\"view\":{\"id\":\"1039\",\"type\":\"CDSView\"}},\"id\":\"1038\",\"type\":\"GlyphRenderer\"},{\"attributes\":{\"callback\":null,\"data\":{\"AdjClose\":{\"__ndarray__\":\"1dAGYIMJYkDjM9k/zyZiQMVYpl+iGGJALCy4H/AHYkB5P26/fFRiQCxEh8AR1GJA5Euo4PDyYkD2nPS+8dtiQHU8ZqCyBWNAtd0E37RJY0CfU5CfDT1jQE0xB0HHNWNAvAopP6mQYkC+FvTeGNliQPrS25+L6WJAiL1QwPYGY0AqHaz/8wBjQAH6ff9m8mJAK0oJwSoDY0BbfAqA8fpiQLslOWDX/GJApYP1fw7gYkAJNq5/V+1iQHAJwD8lNWNA2QOtwBAFY0Ai4Xt/gxVjQCcXY2CdMmNAlPYGX5gmY0BVT+YffWhiQKqYSj/h92FA3xgCgOMcYkCAme/gp+9hQO54k98i1GFAt+9Rfz2UYUCvzjEg+xRiQDV6NUDp6mFAmBdgHx0GYkBWYTPAhf5hQE4lA0AVE2JAtAHYgIgEYkDgKk8gbMJhQBSWeEDZBGJALSY2H9fAYUCU9gZfmMthQP8Iw4Alu2FAMEROX8/NYUCTAgtgyqJhQBu62R+o0GFAW39LAH7sYUB+VwT/W/thQHcwYp8AAmJAnE1HADdCYkBo6J/gYmpiQPK0/MDVemJAh6JAn0iLYkAoEeFfBKliQKWAtP+Bk2JASyL7IEuRYkDFdvcA3cpiQLw6x4Bs32JAEF1Q3zL2YkBM/id/d5piQN4bQwDweGJA\",\"dtype\":\"float64\",\"shape\":[63]},\"Close\":{\"__ndarray__\":\"q7NaYI9SYkD0wwjhUXBiQGr67IDrYWJANX12wPVQYkDMnZlguJ5iQPTDCOFRIGNADDz3Hq4/Y0D0wwjhUShjQIrJG2BmPmNA7GzIPzODY0CKyRtgZnZjQMuCiT8Kb2NAAAAAAADIYkA0YmafRxFjQGr67IDrIWNADDz3Hq4/Y0B2NuSfmTljQKqYSj/hKmNA3xXB/9Y7Y0DgMNEghTNjQFVMpZ9wNWNA9MMI4VEYY0BJEK6AwiVjQIrJG2BmbmNASRCugMI9Y0CKyRtgZk5jQN8Vwf/Wa2NADDz3Hq5fY0C/RpIgXJ9iQFVMpZ9wLWJAqphKP+FSYkBWZ7XAHiViQDRiZp9HCWJAQblt36PIYUCqmEo/4UpiQPTDCOFRIGJA3xXB/9Y7YkAh6j4AKTRiQDV9dsD1SGJAt+9Rfz06YkC/RpIgXPdhQKuzWmCPOmJASRCugML1YUBBuW3fowBiQAAAAAAA8GFAqphKP+ECYkC/RpIgXNdhQEkQroDCBWJAavrsgOshYkA1fXbA9TBiQAw89x6uN2JAQblt36N4YkA0YmafR6FiQGr67IDrsWJAq7NaYI/CYkBBuW3fo+BiQKqYSj/hymJAQblt36PIYkCqmEo/4QJjQAw89x6uF2NAzJ2ZYLguY0Bq+uyA69FiQAAAAAAAsGJA\",\"dtype\":\"float64\",\"shape\":[63]},\"Date\":{\"__ndarray__\":\"AABA6BS8dUIAAABOZ7x1QgAAwLO5vHVCAACAGQy9dUIAAEB/Xr11QgAAgLBVvnVCAABAFqi+dUIAAAB8+r51QgAAwOFMv3VCAACAR5+/dUIAAMB4lsB1QgAAgN7owHVCAABARDvBdUIAAACqjcF1QgAAwA/gwXVCAAAAQdfCdUIAAMCmKcN1QgAAgAx8w3VCAABAcs7DdUIAAADYIMR1QgAAAG9qxXVCAADA1LzFdUIAAIA6D8Z1QgAAQKBhxnVCAACA0VjHdUIAAEA3q8d1QgAAAJ39x3VCAADAAlDIdUIAAIBoosh1QgAAwJmZyXVCAACA/+vJdUIAAEBlPsp1QgAAAMuQynVCAADAMOPKdUIAAABi2st1QgAAwMcszHVCAACALX/MdUIAAECT0cx1QgAAAPkjzXVCAABAKhvOdUIAAACQbc51QgAAwPW/znVCAACAWxLPdUIAAEDBZM91QgAAgPJb0HVCAAAAvgDRdUIAAMAjU9F1QgAAgIml0XVCAADAupzSdUIAAIAg79J1QgAAQIZB03VCAAAA7JPTdUIAAMBR5tN1QgAAAIPd1HVCAADA6C/VdUIAAIBOgtV1QgAAQLTU1XVCAAAAGifWdUIAAEBLHtd1QgAAALFw13VCAADAFsPXdUIAAIB8Fdh1QgAAQOJn2HVC\",\"dtype\":\"float64\",\"shape\":[63]},\"High\":{\"__ndarray__\":\"iskbYGZmYkCqmEo/4YJiQAw89x6ub2JAIM8u33pkYkC/RpIgXJ9iQIrJG2BmNmNAIeo+AClcY0CWBRN/FD5jQLfvUX89QmNAVUyln3CNY0AUkzfAzJRjQGr67IDrgWNAt+9Rfz1SY0CqmEo/4SpjQL9GkiBcP2NAq7NaYI9SY0AUkzfAzFxjQFVMpZ9wRWNA7GzIPzNLY0AMPPcerkdjQEkQroDCTWNAVUyln3BFY0Crs1pgjypjQIrJG2BmbmNAiskbYGZOY0Bq+uyA63ljQL9GkiBcf2NANGJmn0dxY0CWBRN/FGZjQKqYSj/hQmJAiskbYGZuYkAAAAAAAHBiQL9GkiBcD2JAAAAAAAAQYkAMPPcerldiQN8Vwf/WW2JAt+9Rfz1CYkCKyRtgZlZiQFZntcAeZWJANX12wPWIYkBWZ7XAHkViQOAw0SCFQ2JAIeo+ACkkYkDMnZlguB5iQHY25J+ZKWJANGJmn0cZYkAAAAAAAPBhQAAAAAAAGGJAiskbYGY+YkDsbMg/MztiQEkQroDCRWJADDz3Hq6PYkCrs1pgj6piQBSTN8DM3GJAIeo+ACnEYkBVTKWfcO1iQAw89x6u92JAlgUTfxTOYkCWBRN/FA5jQKqYSj/hOmNASRCugMI9Y0AMPPcerj9jQL9GkiBcx2JA\",\"dtype\":\"float64\",\"shape\":[63]},\"Low\":{\"__ndarray__\":\"zJ2ZYLgeYkCqmEo/4VpiQEG5bd+jCGJAavrsgOs5YkD0wwjhUVhiQDV9dsD1oGJAiskbYGYuY0DgMNEghQNjQGr67IDrCWNAVUyln3BVY0B2NuSfmWFjQMuCiT8KV2NAzJ2ZYLi2YkAh6j4AKeRiQCHqPgApFGNAVme1wB4dY0Bq+uyA6yljQFVMpZ9wFWNANX12wPUgY0Bq+uyA6yljQKuzWmCPKmNAIeo+ACkMY0DLgok/CgdjQCDPLt96HGNAzJ2ZYLguY0A1fXbA9ThjQL9GkiBcT2NAFJM3wMxMY0BBuW3fo0BiQPTDCOFR0GFAFJM3wMwkYkCqmEo/4fphQMydmWC4xmFAiskbYGbGYUBWZ7XAHvVhQJYFE38UHmJA4DDRIIUTYkDfFcH/1iNiQOAw0SCFI2JAIeo+ACksYkDfFcH/1vNhQFZntcAe5WFANX12wPXIYUA1fXbA9fhhQOxsyD8z42FAy4KJPwrXYUBWZ7XAHs1hQBSTN8DM3GFA3xXB/9brYUAh6j4AKQxiQLfvUX89GmJAlgUTfxQuYkCrs1pgj2piQLfvUX89kmJAVUyln3CVYkCKyRtgZr5iQJYFE38UxmJAIeo+ACmcYkAUkzfAzLxiQHY25J+Z+WJAavrsgOshY0B2NuSfmWliQJYFE38UpmJA\",\"dtype\":\"float64\",\"shape\":[63]},\"Open\":{\"__ndarray__\":\"7GzIPzMjYkA0YmafR3FiQKqYSj/hMmJAQblt36NQYkD0wwjhUVhiQDV9dsD1oGJA3xXB/9Y7Y0Ah6j4AKTRjQIrJG2BmDmNAiskbYGZWY0D0wwjhUYBjQJYFE38UfmNA7GzIPzMzY0BBuW3fo+hiQCHqPgApLGNAAAAAAABAY0AUkzfAzFxjQKqYSj/hOmNAv0aSIFw3Y0AAAAAAAEBjQFVMpZ9wLWNAy4KJPwo/Y0BVTKWfcCVjQKuzWmCPMmNAqphKP+FKY0AUkzfAzDxjQEG5bd+jYGNAAAAAAABoY0CWBRN/FGZjQAw89x6uN2JAVme1wB5lYkAAAAAAAHBiQLfvUX896mFANX12wPX4YUBWZ7XAHvVhQN8Vwf/WW2JAQblt36MwYkBBuW3fozhiQCHqPgApJGJAVUyln3BlYkD0wwjhUSBiQAw89x6uD2JAzJ2ZYLgWYkCKyRtgZg5iQCHqPgApHGJAlgUTfxT2YUBBuW3fo+BhQBSTN8DM3GFA4DDRIIUDYkC/RpIgXBdiQN8Vwf/WO2JAAAAAAAAwYkDLgok/Cn9iQLfvUX89mmJAiskbYGamYkC/RpIgXM9iQAAAAAAA8GJADDz3Hq6/YkCrs1pgj9JiQHY25J+Z+WJA7GzIPzMrY0AAAAAAADhjQCDPLt96vGJA\",\"dtype\":\"float64\",\"shape\":[63]},\"Volume\":{\"__ndarray__\":\"E2HD0yvNQEBb07zjFK1GQPCnxks32UZA5WGh1jRfN0Ay5q4l5FM7QFXBqKROYEhA/7J78rCQQ0AgY+5aQs45QKg1zTtOQTtA+n5qvHRDQEBtxf6yewI6QCPb+X5qDDRA0ZFc/kNiSUApyxDHushAQC7/If329TpAutqK/WX3NkBeS8gHPeszQCGwcmiRLTNAB/AWSFA8M0DBOSNKe7M1QMbctYR8IDRAiPTb14FzOEBIUPwYc2cwQPcGX5hMxTtATRWMSupUOUA5RUdy+Z86QDbNO07RETVAOdbFbTRANUB4CyQofjhQQOSDns2qE1JAE2HD0ysVQUCcoiO5/Ic/QBNhw9MrFUBA9UpZhjguSUD3Bl+YTEVAQC0hH/Rs5jhA3EYDeAtENUCXkA96NhszQGPuWkI+uEFAGsBbIEGxOUCJ0t7gC8M4QL4wmSoYFTZAVp+rrdh/P0Bn1edqKwY3QBUdyeU/hCxANs07TtGRNUCMuWsJ+SA4QGuad5yiMzNAgQTFjzEXNUBHA3gLJMgzQN9PjZdu4jhAidLe4AszOUA2zTtO0SE0QEJg5dAiyzdAysNCrWneMUA/NV66Sew0QAMJih9jPjFAOPjCZKpAOkAgY+5aQn41QO0NvjCZ2jJAHVpkO9+PL0Dbiv1l9zxAQLsnDwu1NjFA\",\"dtype\":\"float64\",\"shape\":[63]},\"index\":[0,1,2,3,4,5,6,7,8,9,10,11,12,13,14,15,16,17,18,19,20,21,22,23,24,25,26,27,28,29,30,31,32,33,34,35,36,37,38,39,40,41,42,43,44,45,46,47,48,49,50,51,52,53,54,55,56,57,58,59,60,61,62]},\"selected\":{\"id\":\"1060\",\"type\":\"Selection\"},\"selection_policy\":{\"id\":\"1059\",\"type\":\"UnionRenderers\"}},\"id\":\"1002\",\"type\":\"ColumnDataSource\"},{\"attributes\":{\"dimension\":1,\"ticker\":{\"id\":\"1018\",\"type\":\"BasicTicker\"}},\"id\":\"1021\",\"type\":\"Grid\"},{\"attributes\":{\"source\":{\"id\":\"1002\",\"type\":\"ColumnDataSource\"}},\"id\":\"1039\",\"type\":\"CDSView\"},{\"attributes\":{\"bottom_units\":\"screen\",\"fill_alpha\":{\"value\":0.5},\"fill_color\":{\"value\":\"lightgrey\"},\"left_units\":\"screen\",\"level\":\"overlay\",\"line_alpha\":{\"value\":1.0},\"line_color\":{\"value\":\"black\"},\"line_dash\":[4,4],\"line_width\":{\"value\":2},\"render_mode\":\"css\",\"right_units\":\"screen\",\"top_units\":\"screen\"},\"id\":\"1046\",\"type\":\"BoxAnnotation\"},{\"attributes\":{\"text\":\"\"},\"id\":\"1041\",\"type\":\"Title\"},{\"attributes\":{\"months\":[0,2,4,6,8,10]},\"id\":\"1055\",\"type\":\"MonthsTicker\"},{\"attributes\":{\"days\":[1,2,3,4,5,6,7,8,9,10,11,12,13,14,15,16,17,18,19,20,21,22,23,24,25,26,27,28,29,30,31]},\"id\":\"1050\",\"type\":\"DaysTicker\"},{\"attributes\":{},\"id\":\"1060\",\"type\":\"Selection\"},{\"attributes\":{},\"id\":\"1022\",\"type\":\"PanTool\"},{\"attributes\":{},\"id\":\"1023\",\"type\":\"WheelZoomTool\"},{\"attributes\":{\"months\":[0,4,8]},\"id\":\"1056\",\"type\":\"MonthsTicker\"},{\"attributes\":{\"days\":[1,8,15,22]},\"id\":\"1052\",\"type\":\"DaysTicker\"},{\"attributes\":{\"months\":[0,1,2,3,4,5,6,7,8,9,10,11]},\"id\":\"1054\",\"type\":\"MonthsTicker\"},{\"attributes\":{\"overlay\":{\"id\":\"1046\",\"type\":\"BoxAnnotation\"}},\"id\":\"1024\",\"type\":\"BoxZoomTool\"},{\"attributes\":{\"base\":60,\"mantissas\":[1,2,5,10,15,20,30],\"max_interval\":1800000.0,\"min_interval\":1000.0,\"num_minor_ticks\":0},\"id\":\"1048\",\"type\":\"AdaptiveTicker\"},{\"attributes\":{\"days\":[1,4,7,10,13,16,19,22,25,28]},\"id\":\"1051\",\"type\":\"DaysTicker\"},{\"attributes\":{},\"id\":\"1025\",\"type\":\"SaveTool\"},{\"attributes\":{},\"id\":\"1044\",\"type\":\"DatetimeTickFormatter\"},{\"attributes\":{\"days\":[1,15]},\"id\":\"1053\",\"type\":\"DaysTicker\"},{\"attributes\":{\"months\":[0,6]},\"id\":\"1057\",\"type\":\"MonthsTicker\"},{\"attributes\":{},\"id\":\"1026\",\"type\":\"ResetTool\"},{\"attributes\":{\"callback\":null,\"end\":160,\"start\":135},\"id\":\"1003\",\"type\":\"Range1d\"},{\"attributes\":{},\"id\":\"1027\",\"type\":\"HelpTool\"},{\"attributes\":{\"mantissas\":[1,2,5],\"max_interval\":500.0,\"num_minor_ticks\":0},\"id\":\"1047\",\"type\":\"AdaptiveTicker\"},{\"attributes\":{},\"id\":\"1058\",\"type\":\"YearsTicker\"},{\"attributes\":{\"active_drag\":\"auto\",\"active_inspect\":\"auto\",\"active_multi\":null,\"active_scroll\":\"auto\",\"active_tap\":\"auto\",\"tools\":[{\"id\":\"1022\",\"type\":\"PanTool\"},{\"id\":\"1023\",\"type\":\"WheelZoomTool\"},{\"id\":\"1024\",\"type\":\"BoxZoomTool\"},{\"id\":\"1025\",\"type\":\"SaveTool\"},{\"id\":\"1026\",\"type\":\"ResetTool\"},{\"id\":\"1027\",\"type\":\"HelpTool\"}]},\"id\":\"1028\",\"type\":\"Toolbar\"},{\"attributes\":{\"callback\":null},\"id\":\"1005\",\"type\":\"DataRange1d\"},{\"attributes\":{},\"id\":\"1042\",\"type\":\"BasicTickFormatter\"}],\"root_ids\":[\"1004\"]},\"title\":\"Bokeh Application\",\"version\":\"1.2.0\"}};\n",
       "  var render_items = [{\"docid\":\"7e2c93b2-3c5d-496e-9b2b-9e1c37891488\",\"roots\":{\"1004\":\"e5acf3b1-05f7-4bfa-82c0-02255560f85c\"}}];\n",
       "  root.Bokeh.embed.embed_items_notebook(docs_json, render_items);\n",
       "\n",
       "  }\n",
       "  if (root.Bokeh !== undefined) {\n",
       "    embed_document(root);\n",
       "  } else {\n",
       "    var attempts = 0;\n",
       "    var timer = setInterval(function(root) {\n",
       "      if (root.Bokeh !== undefined) {\n",
       "        embed_document(root);\n",
       "        clearInterval(timer);\n",
       "      }\n",
       "      attempts++;\n",
       "      if (attempts > 100) {\n",
       "        console.log(\"Bokeh: ERROR: Unable to run BokehJS code because BokehJS library is missing\");\n",
       "        clearInterval(timer);\n",
       "      }\n",
       "    }, 10, root)\n",
       "  }\n",
       "})(window);"
      ],
      "application/vnd.bokehjs_exec.v0+json": ""
     },
     "metadata": {
      "application/vnd.bokehjs_exec.v0+json": {
       "id": "1004"
      }
     },
     "output_type": "display_data"
    }
   ],
   "source": [
    "p.line(x = 'Date', \n",
    "       y = 'AdjClose',\n",
    "       \n",
    "       color = 'blue',\n",
    "       \n",
    "       source = data_source\n",
    "      )\n",
    "\n",
    "show(p)"
   ]
  },
  {
   "cell_type": "markdown",
   "metadata": {},
   "source": [
    "#### Format the axes\n",
    "We can format the X and Y axes by referencing the p.xaxis and p.yaxis objects. We mark the Y axis in blue to match the color of the line for Adj Close. "
   ]
  },
  {
   "cell_type": "code",
   "execution_count": 10,
   "metadata": {},
   "outputs": [],
   "source": [
    "p.xaxis.axis_label = 'Date'\n",
    "p.yaxis.axis_label = 'Adj Close (USD)'\n",
    "\n",
    "\n",
    "p.yaxis.axis_line_width = 2\n",
    "\n",
    "p.yaxis.axis_label_text_color = 'blue'\n",
    "p.yaxis.axis_line_color = 'blue'\n",
    "p.yaxis.major_label_text_color = 'blue'"
   ]
  },
  {
   "cell_type": "markdown",
   "metadata": {},
   "source": [
    "#### View the updated plot"
   ]
  },
  {
   "cell_type": "code",
   "execution_count": 11,
   "metadata": {
    "scrolled": true
   },
   "outputs": [
    {
     "data": {
      "text/html": [
       "\n",
       "\n",
       "\n",
       "\n",
       "\n",
       "\n",
       "  <div class=\"bk-root\" id=\"ebb68ae4-fa2c-4173-8c02-823314c01138\" data-root-id=\"1004\"></div>\n"
      ]
     },
     "metadata": {},
     "output_type": "display_data"
    },
    {
     "data": {
      "application/javascript": [
       "(function(root) {\n",
       "  function embed_document(root) {\n",
       "    \n",
       "  var docs_json = {\"7a2ac5bf-b821-4caa-a49d-1eea51eecd0a\":{\"roots\":{\"references\":[{\"attributes\":{\"below\":[{\"id\":\"1012\",\"type\":\"DatetimeAxis\"}],\"center\":[{\"id\":\"1016\",\"type\":\"Grid\"},{\"id\":\"1021\",\"type\":\"Grid\"}],\"left\":[{\"id\":\"1017\",\"type\":\"LinearAxis\"}],\"plot_height\":300,\"renderers\":[{\"id\":\"1038\",\"type\":\"GlyphRenderer\"}],\"title\":{\"id\":\"1041\",\"type\":\"Title\"},\"toolbar\":{\"id\":\"1028\",\"type\":\"Toolbar\"},\"x_range\":{\"id\":\"1005\",\"type\":\"DataRange1d\"},\"x_scale\":{\"id\":\"1008\",\"type\":\"LinearScale\"},\"y_range\":{\"id\":\"1003\",\"type\":\"Range1d\"},\"y_scale\":{\"id\":\"1010\",\"type\":\"LinearScale\"}},\"id\":\"1004\",\"subtype\":\"Figure\",\"type\":\"Plot\"},{\"attributes\":{},\"id\":\"1008\",\"type\":\"LinearScale\"},{\"attributes\":{},\"id\":\"1010\",\"type\":\"LinearScale\"},{\"attributes\":{\"axis_label\":\"Date\",\"formatter\":{\"id\":\"1044\",\"type\":\"DatetimeTickFormatter\"},\"ticker\":{\"id\":\"1013\",\"type\":\"DatetimeTicker\"}},\"id\":\"1012\",\"type\":\"DatetimeAxis\"},{\"attributes\":{},\"id\":\"1059\",\"type\":\"UnionRenderers\"},{\"attributes\":{\"num_minor_ticks\":5,\"tickers\":[{\"id\":\"1047\",\"type\":\"AdaptiveTicker\"},{\"id\":\"1048\",\"type\":\"AdaptiveTicker\"},{\"id\":\"1049\",\"type\":\"AdaptiveTicker\"},{\"id\":\"1050\",\"type\":\"DaysTicker\"},{\"id\":\"1051\",\"type\":\"DaysTicker\"},{\"id\":\"1052\",\"type\":\"DaysTicker\"},{\"id\":\"1053\",\"type\":\"DaysTicker\"},{\"id\":\"1054\",\"type\":\"MonthsTicker\"},{\"id\":\"1055\",\"type\":\"MonthsTicker\"},{\"id\":\"1056\",\"type\":\"MonthsTicker\"},{\"id\":\"1057\",\"type\":\"MonthsTicker\"},{\"id\":\"1058\",\"type\":\"YearsTicker\"}]},\"id\":\"1013\",\"type\":\"DatetimeTicker\"},{\"attributes\":{\"line_color\":\"blue\",\"x\":{\"field\":\"Date\"},\"y\":{\"field\":\"AdjClose\"}},\"id\":\"1036\",\"type\":\"Line\"},{\"attributes\":{\"ticker\":{\"id\":\"1013\",\"type\":\"DatetimeTicker\"}},\"id\":\"1016\",\"type\":\"Grid\"},{\"attributes\":{\"axis_label\":\"Adj Close (USD)\",\"axis_label_text_color\":{\"value\":\"blue\"},\"axis_line_color\":{\"value\":\"blue\"},\"axis_line_width\":{\"value\":2},\"formatter\":{\"id\":\"1042\",\"type\":\"BasicTickFormatter\"},\"major_label_text_color\":{\"value\":\"blue\"},\"ticker\":{\"id\":\"1018\",\"type\":\"BasicTicker\"}},\"id\":\"1017\",\"type\":\"LinearAxis\"},{\"attributes\":{\"line_alpha\":0.1,\"line_color\":\"#1f77b4\",\"x\":{\"field\":\"Date\"},\"y\":{\"field\":\"AdjClose\"}},\"id\":\"1037\",\"type\":\"Line\"},{\"attributes\":{},\"id\":\"1018\",\"type\":\"BasicTicker\"},{\"attributes\":{\"base\":24,\"mantissas\":[1,2,4,6,8,12],\"max_interval\":43200000.0,\"min_interval\":3600000.0,\"num_minor_ticks\":0},\"id\":\"1049\",\"type\":\"AdaptiveTicker\"},{\"attributes\":{\"data_source\":{\"id\":\"1002\",\"type\":\"ColumnDataSource\"},\"glyph\":{\"id\":\"1036\",\"type\":\"Line\"},\"hover_glyph\":null,\"muted_glyph\":null,\"nonselection_glyph\":{\"id\":\"1037\",\"type\":\"Line\"},\"selection_glyph\":null,\"view\":{\"id\":\"1039\",\"type\":\"CDSView\"}},\"id\":\"1038\",\"type\":\"GlyphRenderer\"},{\"attributes\":{\"callback\":null,\"data\":{\"AdjClose\":{\"__ndarray__\":\"1dAGYIMJYkDjM9k/zyZiQMVYpl+iGGJALCy4H/AHYkB5P26/fFRiQCxEh8AR1GJA5Euo4PDyYkD2nPS+8dtiQHU8ZqCyBWNAtd0E37RJY0CfU5CfDT1jQE0xB0HHNWNAvAopP6mQYkC+FvTeGNliQPrS25+L6WJAiL1QwPYGY0AqHaz/8wBjQAH6ff9m8mJAK0oJwSoDY0BbfAqA8fpiQLslOWDX/GJApYP1fw7gYkAJNq5/V+1iQHAJwD8lNWNA2QOtwBAFY0Ai4Xt/gxVjQCcXY2CdMmNAlPYGX5gmY0BVT+YffWhiQKqYSj/h92FA3xgCgOMcYkCAme/gp+9hQO54k98i1GFAt+9Rfz2UYUCvzjEg+xRiQDV6NUDp6mFAmBdgHx0GYkBWYTPAhf5hQE4lA0AVE2JAtAHYgIgEYkDgKk8gbMJhQBSWeEDZBGJALSY2H9fAYUCU9gZfmMthQP8Iw4Alu2FAMEROX8/NYUCTAgtgyqJhQBu62R+o0GFAW39LAH7sYUB+VwT/W/thQHcwYp8AAmJAnE1HADdCYkBo6J/gYmpiQPK0/MDVemJAh6JAn0iLYkAoEeFfBKliQKWAtP+Bk2JASyL7IEuRYkDFdvcA3cpiQLw6x4Bs32JAEF1Q3zL2YkBM/id/d5piQN4bQwDweGJA\",\"dtype\":\"float64\",\"shape\":[63]},\"Close\":{\"__ndarray__\":\"q7NaYI9SYkD0wwjhUXBiQGr67IDrYWJANX12wPVQYkDMnZlguJ5iQPTDCOFRIGNADDz3Hq4/Y0D0wwjhUShjQIrJG2BmPmNA7GzIPzODY0CKyRtgZnZjQMuCiT8Kb2NAAAAAAADIYkA0YmafRxFjQGr67IDrIWNADDz3Hq4/Y0B2NuSfmTljQKqYSj/hKmNA3xXB/9Y7Y0DgMNEghTNjQFVMpZ9wNWNA9MMI4VEYY0BJEK6AwiVjQIrJG2BmbmNASRCugMI9Y0CKyRtgZk5jQN8Vwf/Wa2NADDz3Hq5fY0C/RpIgXJ9iQFVMpZ9wLWJAqphKP+FSYkBWZ7XAHiViQDRiZp9HCWJAQblt36PIYUCqmEo/4UpiQPTDCOFRIGJA3xXB/9Y7YkAh6j4AKTRiQDV9dsD1SGJAt+9Rfz06YkC/RpIgXPdhQKuzWmCPOmJASRCugML1YUBBuW3fowBiQAAAAAAA8GFAqphKP+ECYkC/RpIgXNdhQEkQroDCBWJAavrsgOshYkA1fXbA9TBiQAw89x6uN2JAQblt36N4YkA0YmafR6FiQGr67IDrsWJAq7NaYI/CYkBBuW3fo+BiQKqYSj/hymJAQblt36PIYkCqmEo/4QJjQAw89x6uF2NAzJ2ZYLguY0Bq+uyA69FiQAAAAAAAsGJA\",\"dtype\":\"float64\",\"shape\":[63]},\"Date\":{\"__ndarray__\":\"AABA6BS8dUIAAABOZ7x1QgAAwLO5vHVCAACAGQy9dUIAAEB/Xr11QgAAgLBVvnVCAABAFqi+dUIAAAB8+r51QgAAwOFMv3VCAACAR5+/dUIAAMB4lsB1QgAAgN7owHVCAABARDvBdUIAAACqjcF1QgAAwA/gwXVCAAAAQdfCdUIAAMCmKcN1QgAAgAx8w3VCAABAcs7DdUIAAADYIMR1QgAAAG9qxXVCAADA1LzFdUIAAIA6D8Z1QgAAQKBhxnVCAACA0VjHdUIAAEA3q8d1QgAAAJ39x3VCAADAAlDIdUIAAIBoosh1QgAAwJmZyXVCAACA/+vJdUIAAEBlPsp1QgAAAMuQynVCAADAMOPKdUIAAABi2st1QgAAwMcszHVCAACALX/MdUIAAECT0cx1QgAAAPkjzXVCAABAKhvOdUIAAACQbc51QgAAwPW/znVCAACAWxLPdUIAAEDBZM91QgAAgPJb0HVCAAAAvgDRdUIAAMAjU9F1QgAAgIml0XVCAADAupzSdUIAAIAg79J1QgAAQIZB03VCAAAA7JPTdUIAAMBR5tN1QgAAAIPd1HVCAADA6C/VdUIAAIBOgtV1QgAAQLTU1XVCAAAAGifWdUIAAEBLHtd1QgAAALFw13VCAADAFsPXdUIAAIB8Fdh1QgAAQOJn2HVC\",\"dtype\":\"float64\",\"shape\":[63]},\"High\":{\"__ndarray__\":\"iskbYGZmYkCqmEo/4YJiQAw89x6ub2JAIM8u33pkYkC/RpIgXJ9iQIrJG2BmNmNAIeo+AClcY0CWBRN/FD5jQLfvUX89QmNAVUyln3CNY0AUkzfAzJRjQGr67IDrgWNAt+9Rfz1SY0CqmEo/4SpjQL9GkiBcP2NAq7NaYI9SY0AUkzfAzFxjQFVMpZ9wRWNA7GzIPzNLY0AMPPcerkdjQEkQroDCTWNAVUyln3BFY0Crs1pgjypjQIrJG2BmbmNAiskbYGZOY0Bq+uyA63ljQL9GkiBcf2NANGJmn0dxY0CWBRN/FGZjQKqYSj/hQmJAiskbYGZuYkAAAAAAAHBiQL9GkiBcD2JAAAAAAAAQYkAMPPcerldiQN8Vwf/WW2JAt+9Rfz1CYkCKyRtgZlZiQFZntcAeZWJANX12wPWIYkBWZ7XAHkViQOAw0SCFQ2JAIeo+ACkkYkDMnZlguB5iQHY25J+ZKWJANGJmn0cZYkAAAAAAAPBhQAAAAAAAGGJAiskbYGY+YkDsbMg/MztiQEkQroDCRWJADDz3Hq6PYkCrs1pgj6piQBSTN8DM3GJAIeo+ACnEYkBVTKWfcO1iQAw89x6u92JAlgUTfxTOYkCWBRN/FA5jQKqYSj/hOmNASRCugMI9Y0AMPPcerj9jQL9GkiBcx2JA\",\"dtype\":\"float64\",\"shape\":[63]},\"Low\":{\"__ndarray__\":\"zJ2ZYLgeYkCqmEo/4VpiQEG5bd+jCGJAavrsgOs5YkD0wwjhUVhiQDV9dsD1oGJAiskbYGYuY0DgMNEghQNjQGr67IDrCWNAVUyln3BVY0B2NuSfmWFjQMuCiT8KV2NAzJ2ZYLi2YkAh6j4AKeRiQCHqPgApFGNAVme1wB4dY0Bq+uyA6yljQFVMpZ9wFWNANX12wPUgY0Bq+uyA6yljQKuzWmCPKmNAIeo+ACkMY0DLgok/CgdjQCDPLt96HGNAzJ2ZYLguY0A1fXbA9ThjQL9GkiBcT2NAFJM3wMxMY0BBuW3fo0BiQPTDCOFR0GFAFJM3wMwkYkCqmEo/4fphQMydmWC4xmFAiskbYGbGYUBWZ7XAHvVhQJYFE38UHmJA4DDRIIUTYkDfFcH/1iNiQOAw0SCFI2JAIeo+ACksYkDfFcH/1vNhQFZntcAe5WFANX12wPXIYUA1fXbA9fhhQOxsyD8z42FAy4KJPwrXYUBWZ7XAHs1hQBSTN8DM3GFA3xXB/9brYUAh6j4AKQxiQLfvUX89GmJAlgUTfxQuYkCrs1pgj2piQLfvUX89kmJAVUyln3CVYkCKyRtgZr5iQJYFE38UxmJAIeo+ACmcYkAUkzfAzLxiQHY25J+Z+WJAavrsgOshY0B2NuSfmWliQJYFE38UpmJA\",\"dtype\":\"float64\",\"shape\":[63]},\"Open\":{\"__ndarray__\":\"7GzIPzMjYkA0YmafR3FiQKqYSj/hMmJAQblt36NQYkD0wwjhUVhiQDV9dsD1oGJA3xXB/9Y7Y0Ah6j4AKTRjQIrJG2BmDmNAiskbYGZWY0D0wwjhUYBjQJYFE38UfmNA7GzIPzMzY0BBuW3fo+hiQCHqPgApLGNAAAAAAABAY0AUkzfAzFxjQKqYSj/hOmNAv0aSIFw3Y0AAAAAAAEBjQFVMpZ9wLWNAy4KJPwo/Y0BVTKWfcCVjQKuzWmCPMmNAqphKP+FKY0AUkzfAzDxjQEG5bd+jYGNAAAAAAABoY0CWBRN/FGZjQAw89x6uN2JAVme1wB5lYkAAAAAAAHBiQLfvUX896mFANX12wPX4YUBWZ7XAHvVhQN8Vwf/WW2JAQblt36MwYkBBuW3fozhiQCHqPgApJGJAVUyln3BlYkD0wwjhUSBiQAw89x6uD2JAzJ2ZYLgWYkCKyRtgZg5iQCHqPgApHGJAlgUTfxT2YUBBuW3fo+BhQBSTN8DM3GFA4DDRIIUDYkC/RpIgXBdiQN8Vwf/WO2JAAAAAAAAwYkDLgok/Cn9iQLfvUX89mmJAiskbYGamYkC/RpIgXM9iQAAAAAAA8GJADDz3Hq6/YkCrs1pgj9JiQHY25J+Z+WJA7GzIPzMrY0AAAAAAADhjQCDPLt96vGJA\",\"dtype\":\"float64\",\"shape\":[63]},\"Volume\":{\"__ndarray__\":\"E2HD0yvNQEBb07zjFK1GQPCnxks32UZA5WGh1jRfN0Ay5q4l5FM7QFXBqKROYEhA/7J78rCQQ0AgY+5aQs45QKg1zTtOQTtA+n5qvHRDQEBtxf6yewI6QCPb+X5qDDRA0ZFc/kNiSUApyxDHushAQC7/If329TpAutqK/WX3NkBeS8gHPeszQCGwcmiRLTNAB/AWSFA8M0DBOSNKe7M1QMbctYR8IDRAiPTb14FzOEBIUPwYc2cwQPcGX5hMxTtATRWMSupUOUA5RUdy+Z86QDbNO07RETVAOdbFbTRANUB4CyQofjhQQOSDns2qE1JAE2HD0ysVQUCcoiO5/Ic/QBNhw9MrFUBA9UpZhjguSUD3Bl+YTEVAQC0hH/Rs5jhA3EYDeAtENUCXkA96NhszQGPuWkI+uEFAGsBbIEGxOUCJ0t7gC8M4QL4wmSoYFTZAVp+rrdh/P0Bn1edqKwY3QBUdyeU/hCxANs07TtGRNUCMuWsJ+SA4QGuad5yiMzNAgQTFjzEXNUBHA3gLJMgzQN9PjZdu4jhAidLe4AszOUA2zTtO0SE0QEJg5dAiyzdAysNCrWneMUA/NV66Sew0QAMJih9jPjFAOPjCZKpAOkAgY+5aQn41QO0NvjCZ2jJAHVpkO9+PL0Dbiv1l9zxAQLsnDwu1NjFA\",\"dtype\":\"float64\",\"shape\":[63]},\"index\":[0,1,2,3,4,5,6,7,8,9,10,11,12,13,14,15,16,17,18,19,20,21,22,23,24,25,26,27,28,29,30,31,32,33,34,35,36,37,38,39,40,41,42,43,44,45,46,47,48,49,50,51,52,53,54,55,56,57,58,59,60,61,62]},\"selected\":{\"id\":\"1060\",\"type\":\"Selection\"},\"selection_policy\":{\"id\":\"1059\",\"type\":\"UnionRenderers\"}},\"id\":\"1002\",\"type\":\"ColumnDataSource\"},{\"attributes\":{\"dimension\":1,\"ticker\":{\"id\":\"1018\",\"type\":\"BasicTicker\"}},\"id\":\"1021\",\"type\":\"Grid\"},{\"attributes\":{\"source\":{\"id\":\"1002\",\"type\":\"ColumnDataSource\"}},\"id\":\"1039\",\"type\":\"CDSView\"},{\"attributes\":{\"bottom_units\":\"screen\",\"fill_alpha\":{\"value\":0.5},\"fill_color\":{\"value\":\"lightgrey\"},\"left_units\":\"screen\",\"level\":\"overlay\",\"line_alpha\":{\"value\":1.0},\"line_color\":{\"value\":\"black\"},\"line_dash\":[4,4],\"line_width\":{\"value\":2},\"render_mode\":\"css\",\"right_units\":\"screen\",\"top_units\":\"screen\"},\"id\":\"1046\",\"type\":\"BoxAnnotation\"},{\"attributes\":{\"text\":\"\"},\"id\":\"1041\",\"type\":\"Title\"},{\"attributes\":{\"months\":[0,2,4,6,8,10]},\"id\":\"1055\",\"type\":\"MonthsTicker\"},{\"attributes\":{\"days\":[1,2,3,4,5,6,7,8,9,10,11,12,13,14,15,16,17,18,19,20,21,22,23,24,25,26,27,28,29,30,31]},\"id\":\"1050\",\"type\":\"DaysTicker\"},{\"attributes\":{},\"id\":\"1060\",\"type\":\"Selection\"},{\"attributes\":{},\"id\":\"1022\",\"type\":\"PanTool\"},{\"attributes\":{},\"id\":\"1023\",\"type\":\"WheelZoomTool\"},{\"attributes\":{\"months\":[0,4,8]},\"id\":\"1056\",\"type\":\"MonthsTicker\"},{\"attributes\":{\"days\":[1,8,15,22]},\"id\":\"1052\",\"type\":\"DaysTicker\"},{\"attributes\":{\"months\":[0,1,2,3,4,5,6,7,8,9,10,11]},\"id\":\"1054\",\"type\":\"MonthsTicker\"},{\"attributes\":{\"overlay\":{\"id\":\"1046\",\"type\":\"BoxAnnotation\"}},\"id\":\"1024\",\"type\":\"BoxZoomTool\"},{\"attributes\":{\"base\":60,\"mantissas\":[1,2,5,10,15,20,30],\"max_interval\":1800000.0,\"min_interval\":1000.0,\"num_minor_ticks\":0},\"id\":\"1048\",\"type\":\"AdaptiveTicker\"},{\"attributes\":{\"days\":[1,4,7,10,13,16,19,22,25,28]},\"id\":\"1051\",\"type\":\"DaysTicker\"},{\"attributes\":{},\"id\":\"1025\",\"type\":\"SaveTool\"},{\"attributes\":{},\"id\":\"1044\",\"type\":\"DatetimeTickFormatter\"},{\"attributes\":{\"days\":[1,15]},\"id\":\"1053\",\"type\":\"DaysTicker\"},{\"attributes\":{\"months\":[0,6]},\"id\":\"1057\",\"type\":\"MonthsTicker\"},{\"attributes\":{},\"id\":\"1026\",\"type\":\"ResetTool\"},{\"attributes\":{\"callback\":null,\"end\":160,\"start\":135},\"id\":\"1003\",\"type\":\"Range1d\"},{\"attributes\":{},\"id\":\"1027\",\"type\":\"HelpTool\"},{\"attributes\":{\"mantissas\":[1,2,5],\"max_interval\":500.0,\"num_minor_ticks\":0},\"id\":\"1047\",\"type\":\"AdaptiveTicker\"},{\"attributes\":{},\"id\":\"1058\",\"type\":\"YearsTicker\"},{\"attributes\":{\"active_drag\":\"auto\",\"active_inspect\":\"auto\",\"active_multi\":null,\"active_scroll\":\"auto\",\"active_tap\":\"auto\",\"tools\":[{\"id\":\"1022\",\"type\":\"PanTool\"},{\"id\":\"1023\",\"type\":\"WheelZoomTool\"},{\"id\":\"1024\",\"type\":\"BoxZoomTool\"},{\"id\":\"1025\",\"type\":\"SaveTool\"},{\"id\":\"1026\",\"type\":\"ResetTool\"},{\"id\":\"1027\",\"type\":\"HelpTool\"}]},\"id\":\"1028\",\"type\":\"Toolbar\"},{\"attributes\":{\"callback\":null},\"id\":\"1005\",\"type\":\"DataRange1d\"},{\"attributes\":{},\"id\":\"1042\",\"type\":\"BasicTickFormatter\"}],\"root_ids\":[\"1004\"]},\"title\":\"Bokeh Application\",\"version\":\"1.2.0\"}};\n",
       "  var render_items = [{\"docid\":\"7a2ac5bf-b821-4caa-a49d-1eea51eecd0a\",\"roots\":{\"1004\":\"ebb68ae4-fa2c-4173-8c02-823314c01138\"}}];\n",
       "  root.Bokeh.embed.embed_items_notebook(docs_json, render_items);\n",
       "\n",
       "  }\n",
       "  if (root.Bokeh !== undefined) {\n",
       "    embed_document(root);\n",
       "  } else {\n",
       "    var attempts = 0;\n",
       "    var timer = setInterval(function(root) {\n",
       "      if (root.Bokeh !== undefined) {\n",
       "        embed_document(root);\n",
       "        clearInterval(timer);\n",
       "      }\n",
       "      attempts++;\n",
       "      if (attempts > 100) {\n",
       "        console.log(\"Bokeh: ERROR: Unable to run BokehJS code because BokehJS library is missing\");\n",
       "        clearInterval(timer);\n",
       "      }\n",
       "    }, 10, root)\n",
       "  }\n",
       "})(window);"
      ],
      "application/vnd.bokehjs_exec.v0+json": ""
     },
     "metadata": {
      "application/vnd.bokehjs_exec.v0+json": {
       "id": "1004"
      }
     },
     "output_type": "display_data"
    }
   ],
   "source": [
    "show(p)"
   ]
  },
  {
   "cell_type": "markdown",
   "metadata": {},
   "source": [
    "## Twin Axis\n",
    "We can add another axis to the plot to represent another range of values whose units are different from the values denoted on the first Y axis. For instance, we have one axis for the Adjusted Close price in USD. We can another axis to show the traded volume in millions of shares."
   ]
  },
  {
   "cell_type": "markdown",
   "metadata": {},
   "source": [
    "#### Import the LinearAxis class\n",
    "This is needed for us to define a new axis"
   ]
  },
  {
   "cell_type": "code",
   "execution_count": 12,
   "metadata": {},
   "outputs": [],
   "source": [
    "from bokeh.models import LinearAxis"
   ]
  },
  {
   "cell_type": "markdown",
   "metadata": {},
   "source": [
    "#### Define the new Y axis\n",
    "We call this one VolumeAxis and specify the range of values we would like it to cover. Given the range of shares traded is between 14M and 72M per day, we set an appropriate range."
   ]
  },
  {
   "cell_type": "code",
   "execution_count": 13,
   "metadata": {},
   "outputs": [],
   "source": [
    "p.extra_y_ranges = {'VolumeAxis' : Range1d(start=10, end=75)}"
   ]
  },
  {
   "cell_type": "markdown",
   "metadata": {},
   "source": [
    "#### Draw a new line for the traded volume\n",
    "Here, we need to explicitly point the line to the newly created Y axis using the <b>y_range_name</b> property. "
   ]
  },
  {
   "cell_type": "code",
   "execution_count": 14,
   "metadata": {},
   "outputs": [
    {
     "data": {
      "text/html": [
       "<div style=\"display: table;\"><div style=\"display: table-row;\"><div style=\"display: table-cell;\"><b title=\"bokeh.models.renderers.GlyphRenderer\">GlyphRenderer</b>(</div><div style=\"display: table-cell;\">id&nbsp;=&nbsp;'1338', <span id=\"1362\" style=\"cursor: pointer;\">&hellip;)</span></div></div><div class=\"1361\" style=\"display: none;\"><div style=\"display: table-cell;\"></div><div style=\"display: table-cell;\">data_source&nbsp;=&nbsp;ColumnDataSource(id='1002', ...),</div></div><div class=\"1361\" style=\"display: none;\"><div style=\"display: table-cell;\"></div><div style=\"display: table-cell;\">glyph&nbsp;=&nbsp;Line(id='1336', ...),</div></div><div class=\"1361\" style=\"display: none;\"><div style=\"display: table-cell;\"></div><div style=\"display: table-cell;\">hover_glyph&nbsp;=&nbsp;None,</div></div><div class=\"1361\" style=\"display: none;\"><div style=\"display: table-cell;\"></div><div style=\"display: table-cell;\">js_event_callbacks&nbsp;=&nbsp;{},</div></div><div class=\"1361\" style=\"display: none;\"><div style=\"display: table-cell;\"></div><div style=\"display: table-cell;\">js_property_callbacks&nbsp;=&nbsp;{},</div></div><div class=\"1361\" style=\"display: none;\"><div style=\"display: table-cell;\"></div><div style=\"display: table-cell;\">level&nbsp;=&nbsp;'glyph',</div></div><div class=\"1361\" style=\"display: none;\"><div style=\"display: table-cell;\"></div><div style=\"display: table-cell;\">muted&nbsp;=&nbsp;False,</div></div><div class=\"1361\" style=\"display: none;\"><div style=\"display: table-cell;\"></div><div style=\"display: table-cell;\">muted_glyph&nbsp;=&nbsp;None,</div></div><div class=\"1361\" style=\"display: none;\"><div style=\"display: table-cell;\"></div><div style=\"display: table-cell;\">name&nbsp;=&nbsp;None,</div></div><div class=\"1361\" style=\"display: none;\"><div style=\"display: table-cell;\"></div><div style=\"display: table-cell;\">nonselection_glyph&nbsp;=&nbsp;Line(id='1337', ...),</div></div><div class=\"1361\" style=\"display: none;\"><div style=\"display: table-cell;\"></div><div style=\"display: table-cell;\">selection_glyph&nbsp;=&nbsp;None,</div></div><div class=\"1361\" style=\"display: none;\"><div style=\"display: table-cell;\"></div><div style=\"display: table-cell;\">subscribed_events&nbsp;=&nbsp;[],</div></div><div class=\"1361\" style=\"display: none;\"><div style=\"display: table-cell;\"></div><div style=\"display: table-cell;\">tags&nbsp;=&nbsp;[],</div></div><div class=\"1361\" style=\"display: none;\"><div style=\"display: table-cell;\"></div><div style=\"display: table-cell;\">view&nbsp;=&nbsp;CDSView(id='1339', ...),</div></div><div class=\"1361\" style=\"display: none;\"><div style=\"display: table-cell;\"></div><div style=\"display: table-cell;\">visible&nbsp;=&nbsp;True,</div></div><div class=\"1361\" style=\"display: none;\"><div style=\"display: table-cell;\"></div><div style=\"display: table-cell;\">x_range_name&nbsp;=&nbsp;'default',</div></div><div class=\"1361\" style=\"display: none;\"><div style=\"display: table-cell;\"></div><div style=\"display: table-cell;\">y_range_name&nbsp;=&nbsp;'VolumeAxis')</div></div></div>\n",
       "<script>\n",
       "(function() {\n",
       "  var expanded = false;\n",
       "  var ellipsis = document.getElementById(\"1362\");\n",
       "  ellipsis.addEventListener(\"click\", function() {\n",
       "    var rows = document.getElementsByClassName(\"1361\");\n",
       "    for (var i = 0; i < rows.length; i++) {\n",
       "      var el = rows[i];\n",
       "      el.style.display = expanded ? \"none\" : \"table-row\";\n",
       "    }\n",
       "    ellipsis.innerHTML = expanded ? \"&hellip;)\" : \"&lsaquo;&lsaquo;&lsaquo;\";\n",
       "    expanded = !expanded;\n",
       "  });\n",
       "})();\n",
       "</script>\n"
      ],
      "text/plain": [
       "GlyphRenderer(id='1338', ...)"
      ]
     },
     "execution_count": 14,
     "metadata": {},
     "output_type": "execute_result"
    }
   ],
   "source": [
    "p.line(x = 'Date', \n",
    "       y = 'Volume',\n",
    "       \n",
    "       color = 'green',\n",
    "       \n",
    "       y_range_name = 'VolumeAxis',\n",
    "       \n",
    "       source = data_source)"
   ]
  },
  {
   "cell_type": "markdown",
   "metadata": {},
   "source": [
    "#### Add the new Y axis to the plot\n",
    "We add a new LinearAxis object to the right of the plot. This will reference the 'VolumeAxis' from the figure's extra_y_ranges"
   ]
  },
  {
   "cell_type": "code",
   "execution_count": 15,
   "metadata": {},
   "outputs": [],
   "source": [
    "p.add_layout(LinearAxis(y_range_name = 'VolumeAxis'), \n",
    "             'right')"
   ]
  },
  {
   "cell_type": "markdown",
   "metadata": {},
   "source": [
    "#### Format the new Y axis\n",
    "p.yaxis is really a list of Y axes. Here, we reference the new axis we have created by accessing it from its index in the list. \n",
    "\n",
    "We set the color to match the line color for the volume."
   ]
  },
  {
   "cell_type": "code",
   "execution_count": 16,
   "metadata": {},
   "outputs": [],
   "source": [
    "p.yaxis[1].axis_label = 'Traded Volume (millions)'\n",
    "\n",
    "\n",
    "p.yaxis[1].axis_line_width = 2\n",
    "\n",
    "p.yaxis[1].axis_label_text_color = 'blue'\n",
    "p.yaxis[1].axis_line_color = 'green'\n",
    "p.yaxis[1].major_label_text_color = 'green'"
   ]
  },
  {
   "cell_type": "code",
   "execution_count": 17,
   "metadata": {},
   "outputs": [
    {
     "data": {
      "text/html": [
       "\n",
       "\n",
       "\n",
       "\n",
       "\n",
       "\n",
       "  <div class=\"bk-root\" id=\"6b3d2d5f-bc1b-4234-b121-a2fdc06abcda\" data-root-id=\"1004\"></div>\n"
      ]
     },
     "metadata": {},
     "output_type": "display_data"
    },
    {
     "data": {
      "application/javascript": [
       "(function(root) {\n",
       "  function embed_document(root) {\n",
       "    \n",
       "  var docs_json = {\"5eb0bed2-8d2a-43c7-ac88-e39d99c6af45\":{\"roots\":{\"references\":[{\"attributes\":{\"below\":[{\"id\":\"1012\",\"type\":\"DatetimeAxis\"}],\"center\":[{\"id\":\"1016\",\"type\":\"Grid\"},{\"id\":\"1021\",\"type\":\"Grid\"}],\"extra_y_ranges\":{\"VolumeAxis\":{\"id\":\"1313\",\"type\":\"Range1d\"}},\"left\":[{\"id\":\"1017\",\"type\":\"LinearAxis\"}],\"plot_height\":300,\"renderers\":[{\"id\":\"1038\",\"type\":\"GlyphRenderer\"},{\"id\":\"1338\",\"type\":\"GlyphRenderer\"}],\"right\":[{\"id\":\"1363\",\"type\":\"LinearAxis\"}],\"title\":{\"id\":\"1041\",\"type\":\"Title\"},\"toolbar\":{\"id\":\"1028\",\"type\":\"Toolbar\"},\"x_range\":{\"id\":\"1005\",\"type\":\"DataRange1d\"},\"x_scale\":{\"id\":\"1008\",\"type\":\"LinearScale\"},\"y_range\":{\"id\":\"1003\",\"type\":\"Range1d\"},\"y_scale\":{\"id\":\"1010\",\"type\":\"LinearScale\"}},\"id\":\"1004\",\"subtype\":\"Figure\",\"type\":\"Plot\"},{\"attributes\":{},\"id\":\"1008\",\"type\":\"LinearScale\"},{\"attributes\":{\"axis_label\":\"Traded Volume (millions)\",\"axis_label_text_color\":{\"value\":\"blue\"},\"axis_line_color\":{\"value\":\"green\"},\"axis_line_width\":{\"value\":2},\"formatter\":{\"id\":\"1366\",\"type\":\"BasicTickFormatter\"},\"major_label_text_color\":{\"value\":\"green\"},\"ticker\":{\"id\":\"1367\",\"type\":\"BasicTicker\"},\"y_range_name\":\"VolumeAxis\"},\"id\":\"1363\",\"type\":\"LinearAxis\"},{\"attributes\":{},\"id\":\"1010\",\"type\":\"LinearScale\"},{\"attributes\":{\"callback\":null,\"end\":75,\"start\":10},\"id\":\"1313\",\"type\":\"Range1d\"},{\"attributes\":{\"axis_label\":\"Date\",\"formatter\":{\"id\":\"1044\",\"type\":\"DatetimeTickFormatter\"},\"ticker\":{\"id\":\"1013\",\"type\":\"DatetimeTicker\"}},\"id\":\"1012\",\"type\":\"DatetimeAxis\"},{\"attributes\":{},\"id\":\"1059\",\"type\":\"UnionRenderers\"},{\"attributes\":{\"num_minor_ticks\":5,\"tickers\":[{\"id\":\"1047\",\"type\":\"AdaptiveTicker\"},{\"id\":\"1048\",\"type\":\"AdaptiveTicker\"},{\"id\":\"1049\",\"type\":\"AdaptiveTicker\"},{\"id\":\"1050\",\"type\":\"DaysTicker\"},{\"id\":\"1051\",\"type\":\"DaysTicker\"},{\"id\":\"1052\",\"type\":\"DaysTicker\"},{\"id\":\"1053\",\"type\":\"DaysTicker\"},{\"id\":\"1054\",\"type\":\"MonthsTicker\"},{\"id\":\"1055\",\"type\":\"MonthsTicker\"},{\"id\":\"1056\",\"type\":\"MonthsTicker\"},{\"id\":\"1057\",\"type\":\"MonthsTicker\"},{\"id\":\"1058\",\"type\":\"YearsTicker\"}]},\"id\":\"1013\",\"type\":\"DatetimeTicker\"},{\"attributes\":{\"line_color\":\"blue\",\"x\":{\"field\":\"Date\"},\"y\":{\"field\":\"AdjClose\"}},\"id\":\"1036\",\"type\":\"Line\"},{\"attributes\":{\"ticker\":{\"id\":\"1013\",\"type\":\"DatetimeTicker\"}},\"id\":\"1016\",\"type\":\"Grid\"},{\"attributes\":{\"axis_label\":\"Adj Close (USD)\",\"axis_label_text_color\":{\"value\":\"blue\"},\"axis_line_color\":{\"value\":\"blue\"},\"axis_line_width\":{\"value\":2},\"formatter\":{\"id\":\"1042\",\"type\":\"BasicTickFormatter\"},\"major_label_text_color\":{\"value\":\"blue\"},\"ticker\":{\"id\":\"1018\",\"type\":\"BasicTicker\"}},\"id\":\"1017\",\"type\":\"LinearAxis\"},{\"attributes\":{\"line_alpha\":0.1,\"line_color\":\"#1f77b4\",\"x\":{\"field\":\"Date\"},\"y\":{\"field\":\"AdjClose\"}},\"id\":\"1037\",\"type\":\"Line\"},{\"attributes\":{\"line_alpha\":0.1,\"line_color\":\"#1f77b4\",\"x\":{\"field\":\"Date\"},\"y\":{\"field\":\"Volume\"}},\"id\":\"1337\",\"type\":\"Line\"},{\"attributes\":{},\"id\":\"1018\",\"type\":\"BasicTicker\"},{\"attributes\":{\"base\":24,\"mantissas\":[1,2,4,6,8,12],\"max_interval\":43200000.0,\"min_interval\":3600000.0,\"num_minor_ticks\":0},\"id\":\"1049\",\"type\":\"AdaptiveTicker\"},{\"attributes\":{\"data_source\":{\"id\":\"1002\",\"type\":\"ColumnDataSource\"},\"glyph\":{\"id\":\"1036\",\"type\":\"Line\"},\"hover_glyph\":null,\"muted_glyph\":null,\"nonselection_glyph\":{\"id\":\"1037\",\"type\":\"Line\"},\"selection_glyph\":null,\"view\":{\"id\":\"1039\",\"type\":\"CDSView\"}},\"id\":\"1038\",\"type\":\"GlyphRenderer\"},{\"attributes\":{\"callback\":null,\"data\":{\"AdjClose\":{\"__ndarray__\":\"1dAGYIMJYkDjM9k/zyZiQMVYpl+iGGJALCy4H/AHYkB5P26/fFRiQCxEh8AR1GJA5Euo4PDyYkD2nPS+8dtiQHU8ZqCyBWNAtd0E37RJY0CfU5CfDT1jQE0xB0HHNWNAvAopP6mQYkC+FvTeGNliQPrS25+L6WJAiL1QwPYGY0AqHaz/8wBjQAH6ff9m8mJAK0oJwSoDY0BbfAqA8fpiQLslOWDX/GJApYP1fw7gYkAJNq5/V+1iQHAJwD8lNWNA2QOtwBAFY0Ai4Xt/gxVjQCcXY2CdMmNAlPYGX5gmY0BVT+YffWhiQKqYSj/h92FA3xgCgOMcYkCAme/gp+9hQO54k98i1GFAt+9Rfz2UYUCvzjEg+xRiQDV6NUDp6mFAmBdgHx0GYkBWYTPAhf5hQE4lA0AVE2JAtAHYgIgEYkDgKk8gbMJhQBSWeEDZBGJALSY2H9fAYUCU9gZfmMthQP8Iw4Alu2FAMEROX8/NYUCTAgtgyqJhQBu62R+o0GFAW39LAH7sYUB+VwT/W/thQHcwYp8AAmJAnE1HADdCYkBo6J/gYmpiQPK0/MDVemJAh6JAn0iLYkAoEeFfBKliQKWAtP+Bk2JASyL7IEuRYkDFdvcA3cpiQLw6x4Bs32JAEF1Q3zL2YkBM/id/d5piQN4bQwDweGJA\",\"dtype\":\"float64\",\"shape\":[63]},\"Close\":{\"__ndarray__\":\"q7NaYI9SYkD0wwjhUXBiQGr67IDrYWJANX12wPVQYkDMnZlguJ5iQPTDCOFRIGNADDz3Hq4/Y0D0wwjhUShjQIrJG2BmPmNA7GzIPzODY0CKyRtgZnZjQMuCiT8Kb2NAAAAAAADIYkA0YmafRxFjQGr67IDrIWNADDz3Hq4/Y0B2NuSfmTljQKqYSj/hKmNA3xXB/9Y7Y0DgMNEghTNjQFVMpZ9wNWNA9MMI4VEYY0BJEK6AwiVjQIrJG2BmbmNASRCugMI9Y0CKyRtgZk5jQN8Vwf/Wa2NADDz3Hq5fY0C/RpIgXJ9iQFVMpZ9wLWJAqphKP+FSYkBWZ7XAHiViQDRiZp9HCWJAQblt36PIYUCqmEo/4UpiQPTDCOFRIGJA3xXB/9Y7YkAh6j4AKTRiQDV9dsD1SGJAt+9Rfz06YkC/RpIgXPdhQKuzWmCPOmJASRCugML1YUBBuW3fowBiQAAAAAAA8GFAqphKP+ECYkC/RpIgXNdhQEkQroDCBWJAavrsgOshYkA1fXbA9TBiQAw89x6uN2JAQblt36N4YkA0YmafR6FiQGr67IDrsWJAq7NaYI/CYkBBuW3fo+BiQKqYSj/hymJAQblt36PIYkCqmEo/4QJjQAw89x6uF2NAzJ2ZYLguY0Bq+uyA69FiQAAAAAAAsGJA\",\"dtype\":\"float64\",\"shape\":[63]},\"Date\":{\"__ndarray__\":\"AABA6BS8dUIAAABOZ7x1QgAAwLO5vHVCAACAGQy9dUIAAEB/Xr11QgAAgLBVvnVCAABAFqi+dUIAAAB8+r51QgAAwOFMv3VCAACAR5+/dUIAAMB4lsB1QgAAgN7owHVCAABARDvBdUIAAACqjcF1QgAAwA/gwXVCAAAAQdfCdUIAAMCmKcN1QgAAgAx8w3VCAABAcs7DdUIAAADYIMR1QgAAAG9qxXVCAADA1LzFdUIAAIA6D8Z1QgAAQKBhxnVCAACA0VjHdUIAAEA3q8d1QgAAAJ39x3VCAADAAlDIdUIAAIBoosh1QgAAwJmZyXVCAACA/+vJdUIAAEBlPsp1QgAAAMuQynVCAADAMOPKdUIAAABi2st1QgAAwMcszHVCAACALX/MdUIAAECT0cx1QgAAAPkjzXVCAABAKhvOdUIAAACQbc51QgAAwPW/znVCAACAWxLPdUIAAEDBZM91QgAAgPJb0HVCAAAAvgDRdUIAAMAjU9F1QgAAgIml0XVCAADAupzSdUIAAIAg79J1QgAAQIZB03VCAAAA7JPTdUIAAMBR5tN1QgAAAIPd1HVCAADA6C/VdUIAAIBOgtV1QgAAQLTU1XVCAAAAGifWdUIAAEBLHtd1QgAAALFw13VCAADAFsPXdUIAAIB8Fdh1QgAAQOJn2HVC\",\"dtype\":\"float64\",\"shape\":[63]},\"High\":{\"__ndarray__\":\"iskbYGZmYkCqmEo/4YJiQAw89x6ub2JAIM8u33pkYkC/RpIgXJ9iQIrJG2BmNmNAIeo+AClcY0CWBRN/FD5jQLfvUX89QmNAVUyln3CNY0AUkzfAzJRjQGr67IDrgWNAt+9Rfz1SY0CqmEo/4SpjQL9GkiBcP2NAq7NaYI9SY0AUkzfAzFxjQFVMpZ9wRWNA7GzIPzNLY0AMPPcerkdjQEkQroDCTWNAVUyln3BFY0Crs1pgjypjQIrJG2BmbmNAiskbYGZOY0Bq+uyA63ljQL9GkiBcf2NANGJmn0dxY0CWBRN/FGZjQKqYSj/hQmJAiskbYGZuYkAAAAAAAHBiQL9GkiBcD2JAAAAAAAAQYkAMPPcerldiQN8Vwf/WW2JAt+9Rfz1CYkCKyRtgZlZiQFZntcAeZWJANX12wPWIYkBWZ7XAHkViQOAw0SCFQ2JAIeo+ACkkYkDMnZlguB5iQHY25J+ZKWJANGJmn0cZYkAAAAAAAPBhQAAAAAAAGGJAiskbYGY+YkDsbMg/MztiQEkQroDCRWJADDz3Hq6PYkCrs1pgj6piQBSTN8DM3GJAIeo+ACnEYkBVTKWfcO1iQAw89x6u92JAlgUTfxTOYkCWBRN/FA5jQKqYSj/hOmNASRCugMI9Y0AMPPcerj9jQL9GkiBcx2JA\",\"dtype\":\"float64\",\"shape\":[63]},\"Low\":{\"__ndarray__\":\"zJ2ZYLgeYkCqmEo/4VpiQEG5bd+jCGJAavrsgOs5YkD0wwjhUVhiQDV9dsD1oGJAiskbYGYuY0DgMNEghQNjQGr67IDrCWNAVUyln3BVY0B2NuSfmWFjQMuCiT8KV2NAzJ2ZYLi2YkAh6j4AKeRiQCHqPgApFGNAVme1wB4dY0Bq+uyA6yljQFVMpZ9wFWNANX12wPUgY0Bq+uyA6yljQKuzWmCPKmNAIeo+ACkMY0DLgok/CgdjQCDPLt96HGNAzJ2ZYLguY0A1fXbA9ThjQL9GkiBcT2NAFJM3wMxMY0BBuW3fo0BiQPTDCOFR0GFAFJM3wMwkYkCqmEo/4fphQMydmWC4xmFAiskbYGbGYUBWZ7XAHvVhQJYFE38UHmJA4DDRIIUTYkDfFcH/1iNiQOAw0SCFI2JAIeo+ACksYkDfFcH/1vNhQFZntcAe5WFANX12wPXIYUA1fXbA9fhhQOxsyD8z42FAy4KJPwrXYUBWZ7XAHs1hQBSTN8DM3GFA3xXB/9brYUAh6j4AKQxiQLfvUX89GmJAlgUTfxQuYkCrs1pgj2piQLfvUX89kmJAVUyln3CVYkCKyRtgZr5iQJYFE38UxmJAIeo+ACmcYkAUkzfAzLxiQHY25J+Z+WJAavrsgOshY0B2NuSfmWliQJYFE38UpmJA\",\"dtype\":\"float64\",\"shape\":[63]},\"Open\":{\"__ndarray__\":\"7GzIPzMjYkA0YmafR3FiQKqYSj/hMmJAQblt36NQYkD0wwjhUVhiQDV9dsD1oGJA3xXB/9Y7Y0Ah6j4AKTRjQIrJG2BmDmNAiskbYGZWY0D0wwjhUYBjQJYFE38UfmNA7GzIPzMzY0BBuW3fo+hiQCHqPgApLGNAAAAAAABAY0AUkzfAzFxjQKqYSj/hOmNAv0aSIFw3Y0AAAAAAAEBjQFVMpZ9wLWNAy4KJPwo/Y0BVTKWfcCVjQKuzWmCPMmNAqphKP+FKY0AUkzfAzDxjQEG5bd+jYGNAAAAAAABoY0CWBRN/FGZjQAw89x6uN2JAVme1wB5lYkAAAAAAAHBiQLfvUX896mFANX12wPX4YUBWZ7XAHvVhQN8Vwf/WW2JAQblt36MwYkBBuW3fozhiQCHqPgApJGJAVUyln3BlYkD0wwjhUSBiQAw89x6uD2JAzJ2ZYLgWYkCKyRtgZg5iQCHqPgApHGJAlgUTfxT2YUBBuW3fo+BhQBSTN8DM3GFA4DDRIIUDYkC/RpIgXBdiQN8Vwf/WO2JAAAAAAAAwYkDLgok/Cn9iQLfvUX89mmJAiskbYGamYkC/RpIgXM9iQAAAAAAA8GJADDz3Hq6/YkCrs1pgj9JiQHY25J+Z+WJA7GzIPzMrY0AAAAAAADhjQCDPLt96vGJA\",\"dtype\":\"float64\",\"shape\":[63]},\"Volume\":{\"__ndarray__\":\"E2HD0yvNQEBb07zjFK1GQPCnxks32UZA5WGh1jRfN0Ay5q4l5FM7QFXBqKROYEhA/7J78rCQQ0AgY+5aQs45QKg1zTtOQTtA+n5qvHRDQEBtxf6yewI6QCPb+X5qDDRA0ZFc/kNiSUApyxDHushAQC7/If329TpAutqK/WX3NkBeS8gHPeszQCGwcmiRLTNAB/AWSFA8M0DBOSNKe7M1QMbctYR8IDRAiPTb14FzOEBIUPwYc2cwQPcGX5hMxTtATRWMSupUOUA5RUdy+Z86QDbNO07RETVAOdbFbTRANUB4CyQofjhQQOSDns2qE1JAE2HD0ysVQUCcoiO5/Ic/QBNhw9MrFUBA9UpZhjguSUD3Bl+YTEVAQC0hH/Rs5jhA3EYDeAtENUCXkA96NhszQGPuWkI+uEFAGsBbIEGxOUCJ0t7gC8M4QL4wmSoYFTZAVp+rrdh/P0Bn1edqKwY3QBUdyeU/hCxANs07TtGRNUCMuWsJ+SA4QGuad5yiMzNAgQTFjzEXNUBHA3gLJMgzQN9PjZdu4jhAidLe4AszOUA2zTtO0SE0QEJg5dAiyzdAysNCrWneMUA/NV66Sew0QAMJih9jPjFAOPjCZKpAOkAgY+5aQn41QO0NvjCZ2jJAHVpkO9+PL0Dbiv1l9zxAQLsnDwu1NjFA\",\"dtype\":\"float64\",\"shape\":[63]},\"index\":[0,1,2,3,4,5,6,7,8,9,10,11,12,13,14,15,16,17,18,19,20,21,22,23,24,25,26,27,28,29,30,31,32,33,34,35,36,37,38,39,40,41,42,43,44,45,46,47,48,49,50,51,52,53,54,55,56,57,58,59,60,61,62]},\"selected\":{\"id\":\"1060\",\"type\":\"Selection\"},\"selection_policy\":{\"id\":\"1059\",\"type\":\"UnionRenderers\"}},\"id\":\"1002\",\"type\":\"ColumnDataSource\"},{\"attributes\":{\"dimension\":1,\"ticker\":{\"id\":\"1018\",\"type\":\"BasicTicker\"}},\"id\":\"1021\",\"type\":\"Grid\"},{\"attributes\":{\"source\":{\"id\":\"1002\",\"type\":\"ColumnDataSource\"}},\"id\":\"1039\",\"type\":\"CDSView\"},{\"attributes\":{\"bottom_units\":\"screen\",\"fill_alpha\":{\"value\":0.5},\"fill_color\":{\"value\":\"lightgrey\"},\"left_units\":\"screen\",\"level\":\"overlay\",\"line_alpha\":{\"value\":1.0},\"line_color\":{\"value\":\"black\"},\"line_dash\":[4,4],\"line_width\":{\"value\":2},\"render_mode\":\"css\",\"right_units\":\"screen\",\"top_units\":\"screen\"},\"id\":\"1046\",\"type\":\"BoxAnnotation\"},{\"attributes\":{\"text\":\"\"},\"id\":\"1041\",\"type\":\"Title\"},{\"attributes\":{\"months\":[0,2,4,6,8,10]},\"id\":\"1055\",\"type\":\"MonthsTicker\"},{\"attributes\":{\"days\":[1,2,3,4,5,6,7,8,9,10,11,12,13,14,15,16,17,18,19,20,21,22,23,24,25,26,27,28,29,30,31]},\"id\":\"1050\",\"type\":\"DaysTicker\"},{\"attributes\":{},\"id\":\"1060\",\"type\":\"Selection\"},{\"attributes\":{},\"id\":\"1022\",\"type\":\"PanTool\"},{\"attributes\":{},\"id\":\"1023\",\"type\":\"WheelZoomTool\"},{\"attributes\":{\"months\":[0,4,8]},\"id\":\"1056\",\"type\":\"MonthsTicker\"},{\"attributes\":{\"source\":{\"id\":\"1002\",\"type\":\"ColumnDataSource\"}},\"id\":\"1339\",\"type\":\"CDSView\"},{\"attributes\":{\"days\":[1,8,15,22]},\"id\":\"1052\",\"type\":\"DaysTicker\"},{\"attributes\":{\"months\":[0,1,2,3,4,5,6,7,8,9,10,11]},\"id\":\"1054\",\"type\":\"MonthsTicker\"},{\"attributes\":{\"overlay\":{\"id\":\"1046\",\"type\":\"BoxAnnotation\"}},\"id\":\"1024\",\"type\":\"BoxZoomTool\"},{\"attributes\":{\"base\":60,\"mantissas\":[1,2,5,10,15,20,30],\"max_interval\":1800000.0,\"min_interval\":1000.0,\"num_minor_ticks\":0},\"id\":\"1048\",\"type\":\"AdaptiveTicker\"},{\"attributes\":{\"days\":[1,4,7,10,13,16,19,22,25,28]},\"id\":\"1051\",\"type\":\"DaysTicker\"},{\"attributes\":{},\"id\":\"1025\",\"type\":\"SaveTool\"},{\"attributes\":{},\"id\":\"1366\",\"type\":\"BasicTickFormatter\"},{\"attributes\":{},\"id\":\"1044\",\"type\":\"DatetimeTickFormatter\"},{\"attributes\":{\"days\":[1,15]},\"id\":\"1053\",\"type\":\"DaysTicker\"},{\"attributes\":{\"months\":[0,6]},\"id\":\"1057\",\"type\":\"MonthsTicker\"},{\"attributes\":{},\"id\":\"1026\",\"type\":\"ResetTool\"},{\"attributes\":{},\"id\":\"1367\",\"type\":\"BasicTicker\"},{\"attributes\":{\"line_color\":\"green\",\"x\":{\"field\":\"Date\"},\"y\":{\"field\":\"Volume\"}},\"id\":\"1336\",\"type\":\"Line\"},{\"attributes\":{\"callback\":null,\"end\":160,\"start\":135},\"id\":\"1003\",\"type\":\"Range1d\"},{\"attributes\":{\"data_source\":{\"id\":\"1002\",\"type\":\"ColumnDataSource\"},\"glyph\":{\"id\":\"1336\",\"type\":\"Line\"},\"hover_glyph\":null,\"muted_glyph\":null,\"nonselection_glyph\":{\"id\":\"1337\",\"type\":\"Line\"},\"selection_glyph\":null,\"view\":{\"id\":\"1339\",\"type\":\"CDSView\"},\"y_range_name\":\"VolumeAxis\"},\"id\":\"1338\",\"type\":\"GlyphRenderer\"},{\"attributes\":{},\"id\":\"1027\",\"type\":\"HelpTool\"},{\"attributes\":{\"mantissas\":[1,2,5],\"max_interval\":500.0,\"num_minor_ticks\":0},\"id\":\"1047\",\"type\":\"AdaptiveTicker\"},{\"attributes\":{},\"id\":\"1058\",\"type\":\"YearsTicker\"},{\"attributes\":{\"active_drag\":\"auto\",\"active_inspect\":\"auto\",\"active_multi\":null,\"active_scroll\":\"auto\",\"active_tap\":\"auto\",\"tools\":[{\"id\":\"1022\",\"type\":\"PanTool\"},{\"id\":\"1023\",\"type\":\"WheelZoomTool\"},{\"id\":\"1024\",\"type\":\"BoxZoomTool\"},{\"id\":\"1025\",\"type\":\"SaveTool\"},{\"id\":\"1026\",\"type\":\"ResetTool\"},{\"id\":\"1027\",\"type\":\"HelpTool\"}]},\"id\":\"1028\",\"type\":\"Toolbar\"},{\"attributes\":{\"callback\":null},\"id\":\"1005\",\"type\":\"DataRange1d\"},{\"attributes\":{},\"id\":\"1042\",\"type\":\"BasicTickFormatter\"}],\"root_ids\":[\"1004\"]},\"title\":\"Bokeh Application\",\"version\":\"1.2.0\"}};\n",
       "  var render_items = [{\"docid\":\"5eb0bed2-8d2a-43c7-ac88-e39d99c6af45\",\"roots\":{\"1004\":\"6b3d2d5f-bc1b-4234-b121-a2fdc06abcda\"}}];\n",
       "  root.Bokeh.embed.embed_items_notebook(docs_json, render_items);\n",
       "\n",
       "  }\n",
       "  if (root.Bokeh !== undefined) {\n",
       "    embed_document(root);\n",
       "  } else {\n",
       "    var attempts = 0;\n",
       "    var timer = setInterval(function(root) {\n",
       "      if (root.Bokeh !== undefined) {\n",
       "        embed_document(root);\n",
       "        clearInterval(timer);\n",
       "      }\n",
       "      attempts++;\n",
       "      if (attempts > 100) {\n",
       "        console.log(\"Bokeh: ERROR: Unable to run BokehJS code because BokehJS library is missing\");\n",
       "        clearInterval(timer);\n",
       "      }\n",
       "    }, 10, root)\n",
       "  }\n",
       "})(window);"
      ],
      "application/vnd.bokehjs_exec.v0+json": ""
     },
     "metadata": {
      "application/vnd.bokehjs_exec.v0+json": {
       "id": "1004"
      }
     },
     "output_type": "display_data"
    }
   ],
   "source": [
    "show(p)"
   ]
  }
 ],
 "metadata": {
  "kernelspec": {
   "display_name": "Python 3",
   "language": "python",
   "name": "python3"
  },
  "language_info": {
   "codemirror_mode": {
    "name": "ipython",
    "version": 3
   },
   "file_extension": ".py",
   "mimetype": "text/x-python",
   "name": "python",
   "nbconvert_exporter": "python",
   "pygments_lexer": "ipython3",
   "version": "3.7.3"
  }
 },
 "nbformat": 4,
 "nbformat_minor": 2
}
