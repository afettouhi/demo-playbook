{
 "cells": [
  {
   "cell_type": "code",
   "execution_count": 1,
   "metadata": {},
   "outputs": [],
   "source": [
    "from bokeh.plotting import figure\n",
    "from bokeh.io import output_notebook, show"
   ]
  },
  {
   "cell_type": "code",
   "execution_count": 2,
   "metadata": {},
   "outputs": [
    {
     "data": {
      "text/html": [
       "\n",
       "    <div class=\"bk-root\">\n",
       "        <a href=\"https://bokeh.pydata.org\" target=\"_blank\" class=\"bk-logo bk-logo-small bk-logo-notebook\"></a>\n",
       "        <span id=\"1001\">Loading BokehJS ...</span>\n",
       "    </div>"
      ]
     },
     "metadata": {},
     "output_type": "display_data"
    },
    {
     "data": {
      "application/javascript": [
       "\n",
       "(function(root) {\n",
       "  function now() {\n",
       "    return new Date();\n",
       "  }\n",
       "\n",
       "  var force = true;\n",
       "\n",
       "  if (typeof root._bokeh_onload_callbacks === \"undefined\" || force === true) {\n",
       "    root._bokeh_onload_callbacks = [];\n",
       "    root._bokeh_is_loading = undefined;\n",
       "  }\n",
       "\n",
       "  var JS_MIME_TYPE = 'application/javascript';\n",
       "  var HTML_MIME_TYPE = 'text/html';\n",
       "  var EXEC_MIME_TYPE = 'application/vnd.bokehjs_exec.v0+json';\n",
       "  var CLASS_NAME = 'output_bokeh rendered_html';\n",
       "\n",
       "  /**\n",
       "   * Render data to the DOM node\n",
       "   */\n",
       "  function render(props, node) {\n",
       "    var script = document.createElement(\"script\");\n",
       "    node.appendChild(script);\n",
       "  }\n",
       "\n",
       "  /**\n",
       "   * Handle when an output is cleared or removed\n",
       "   */\n",
       "  function handleClearOutput(event, handle) {\n",
       "    var cell = handle.cell;\n",
       "\n",
       "    var id = cell.output_area._bokeh_element_id;\n",
       "    var server_id = cell.output_area._bokeh_server_id;\n",
       "    // Clean up Bokeh references\n",
       "    if (id != null && id in Bokeh.index) {\n",
       "      Bokeh.index[id].model.document.clear();\n",
       "      delete Bokeh.index[id];\n",
       "    }\n",
       "\n",
       "    if (server_id !== undefined) {\n",
       "      // Clean up Bokeh references\n",
       "      var cmd = \"from bokeh.io.state import curstate; print(curstate().uuid_to_server['\" + server_id + \"'].get_sessions()[0].document.roots[0]._id)\";\n",
       "      cell.notebook.kernel.execute(cmd, {\n",
       "        iopub: {\n",
       "          output: function(msg) {\n",
       "            var id = msg.content.text.trim();\n",
       "            if (id in Bokeh.index) {\n",
       "              Bokeh.index[id].model.document.clear();\n",
       "              delete Bokeh.index[id];\n",
       "            }\n",
       "          }\n",
       "        }\n",
       "      });\n",
       "      // Destroy server and session\n",
       "      var cmd = \"import bokeh.io.notebook as ion; ion.destroy_server('\" + server_id + \"')\";\n",
       "      cell.notebook.kernel.execute(cmd);\n",
       "    }\n",
       "  }\n",
       "\n",
       "  /**\n",
       "   * Handle when a new output is added\n",
       "   */\n",
       "  function handleAddOutput(event, handle) {\n",
       "    var output_area = handle.output_area;\n",
       "    var output = handle.output;\n",
       "\n",
       "    // limit handleAddOutput to display_data with EXEC_MIME_TYPE content only\n",
       "    if ((output.output_type != \"display_data\") || (!output.data.hasOwnProperty(EXEC_MIME_TYPE))) {\n",
       "      return\n",
       "    }\n",
       "\n",
       "    var toinsert = output_area.element.find(\".\" + CLASS_NAME.split(' ')[0]);\n",
       "\n",
       "    if (output.metadata[EXEC_MIME_TYPE][\"id\"] !== undefined) {\n",
       "      toinsert[toinsert.length - 1].firstChild.textContent = output.data[JS_MIME_TYPE];\n",
       "      // store reference to embed id on output_area\n",
       "      output_area._bokeh_element_id = output.metadata[EXEC_MIME_TYPE][\"id\"];\n",
       "    }\n",
       "    if (output.metadata[EXEC_MIME_TYPE][\"server_id\"] !== undefined) {\n",
       "      var bk_div = document.createElement(\"div\");\n",
       "      bk_div.innerHTML = output.data[HTML_MIME_TYPE];\n",
       "      var script_attrs = bk_div.children[0].attributes;\n",
       "      for (var i = 0; i < script_attrs.length; i++) {\n",
       "        toinsert[toinsert.length - 1].firstChild.setAttribute(script_attrs[i].name, script_attrs[i].value);\n",
       "      }\n",
       "      // store reference to server id on output_area\n",
       "      output_area._bokeh_server_id = output.metadata[EXEC_MIME_TYPE][\"server_id\"];\n",
       "    }\n",
       "  }\n",
       "\n",
       "  function register_renderer(events, OutputArea) {\n",
       "\n",
       "    function append_mime(data, metadata, element) {\n",
       "      // create a DOM node to render to\n",
       "      var toinsert = this.create_output_subarea(\n",
       "        metadata,\n",
       "        CLASS_NAME,\n",
       "        EXEC_MIME_TYPE\n",
       "      );\n",
       "      this.keyboard_manager.register_events(toinsert);\n",
       "      // Render to node\n",
       "      var props = {data: data, metadata: metadata[EXEC_MIME_TYPE]};\n",
       "      render(props, toinsert[toinsert.length - 1]);\n",
       "      element.append(toinsert);\n",
       "      return toinsert\n",
       "    }\n",
       "\n",
       "    /* Handle when an output is cleared or removed */\n",
       "    events.on('clear_output.CodeCell', handleClearOutput);\n",
       "    events.on('delete.Cell', handleClearOutput);\n",
       "\n",
       "    /* Handle when a new output is added */\n",
       "    events.on('output_added.OutputArea', handleAddOutput);\n",
       "\n",
       "    /**\n",
       "     * Register the mime type and append_mime function with output_area\n",
       "     */\n",
       "    OutputArea.prototype.register_mime_type(EXEC_MIME_TYPE, append_mime, {\n",
       "      /* Is output safe? */\n",
       "      safe: true,\n",
       "      /* Index of renderer in `output_area.display_order` */\n",
       "      index: 0\n",
       "    });\n",
       "  }\n",
       "\n",
       "  // register the mime type if in Jupyter Notebook environment and previously unregistered\n",
       "  if (root.Jupyter !== undefined) {\n",
       "    var events = require('base/js/events');\n",
       "    var OutputArea = require('notebook/js/outputarea').OutputArea;\n",
       "\n",
       "    if (OutputArea.prototype.mime_types().indexOf(EXEC_MIME_TYPE) == -1) {\n",
       "      register_renderer(events, OutputArea);\n",
       "    }\n",
       "  }\n",
       "\n",
       "  \n",
       "  if (typeof (root._bokeh_timeout) === \"undefined\" || force === true) {\n",
       "    root._bokeh_timeout = Date.now() + 5000;\n",
       "    root._bokeh_failed_load = false;\n",
       "  }\n",
       "\n",
       "  var NB_LOAD_WARNING = {'data': {'text/html':\n",
       "     \"<div style='background-color: #fdd'>\\n\"+\n",
       "     \"<p>\\n\"+\n",
       "     \"BokehJS does not appear to have successfully loaded. If loading BokehJS from CDN, this \\n\"+\n",
       "     \"may be due to a slow or bad network connection. Possible fixes:\\n\"+\n",
       "     \"</p>\\n\"+\n",
       "     \"<ul>\\n\"+\n",
       "     \"<li>re-rerun `output_notebook()` to attempt to load from CDN again, or</li>\\n\"+\n",
       "     \"<li>use INLINE resources instead, as so:</li>\\n\"+\n",
       "     \"</ul>\\n\"+\n",
       "     \"<code>\\n\"+\n",
       "     \"from bokeh.resources import INLINE\\n\"+\n",
       "     \"output_notebook(resources=INLINE)\\n\"+\n",
       "     \"</code>\\n\"+\n",
       "     \"</div>\"}};\n",
       "\n",
       "  function display_loaded() {\n",
       "    var el = document.getElementById(\"1001\");\n",
       "    if (el != null) {\n",
       "      el.textContent = \"BokehJS is loading...\";\n",
       "    }\n",
       "    if (root.Bokeh !== undefined) {\n",
       "      if (el != null) {\n",
       "        el.textContent = \"BokehJS \" + root.Bokeh.version + \" successfully loaded.\";\n",
       "      }\n",
       "    } else if (Date.now() < root._bokeh_timeout) {\n",
       "      setTimeout(display_loaded, 100)\n",
       "    }\n",
       "  }\n",
       "\n",
       "\n",
       "  function run_callbacks() {\n",
       "    try {\n",
       "      root._bokeh_onload_callbacks.forEach(function(callback) {\n",
       "        if (callback != null)\n",
       "          callback();\n",
       "      });\n",
       "    } finally {\n",
       "      delete root._bokeh_onload_callbacks\n",
       "    }\n",
       "    console.debug(\"Bokeh: all callbacks have finished\");\n",
       "  }\n",
       "\n",
       "  function load_libs(css_urls, js_urls, callback) {\n",
       "    if (css_urls == null) css_urls = [];\n",
       "    if (js_urls == null) js_urls = [];\n",
       "\n",
       "    root._bokeh_onload_callbacks.push(callback);\n",
       "    if (root._bokeh_is_loading > 0) {\n",
       "      console.debug(\"Bokeh: BokehJS is being loaded, scheduling callback at\", now());\n",
       "      return null;\n",
       "    }\n",
       "    if (js_urls == null || js_urls.length === 0) {\n",
       "      run_callbacks();\n",
       "      return null;\n",
       "    }\n",
       "    console.debug(\"Bokeh: BokehJS not loaded, scheduling load and callback at\", now());\n",
       "    root._bokeh_is_loading = css_urls.length + js_urls.length;\n",
       "\n",
       "    function on_load() {\n",
       "      root._bokeh_is_loading--;\n",
       "      if (root._bokeh_is_loading === 0) {\n",
       "        console.debug(\"Bokeh: all BokehJS libraries/stylesheets loaded\");\n",
       "        run_callbacks()\n",
       "      }\n",
       "    }\n",
       "\n",
       "    function on_error() {\n",
       "      console.error(\"failed to load \" + url);\n",
       "    }\n",
       "\n",
       "    for (var i = 0; i < css_urls.length; i++) {\n",
       "      var url = css_urls[i];\n",
       "      const element = document.createElement(\"link\");\n",
       "      element.onload = on_load;\n",
       "      element.onerror = on_error;\n",
       "      element.rel = \"stylesheet\";\n",
       "      element.type = \"text/css\";\n",
       "      element.href = url;\n",
       "      console.debug(\"Bokeh: injecting link tag for BokehJS stylesheet: \", url);\n",
       "      document.body.appendChild(element);\n",
       "    }\n",
       "\n",
       "    for (var i = 0; i < js_urls.length; i++) {\n",
       "      var url = js_urls[i];\n",
       "      var element = document.createElement('script');\n",
       "      element.onload = on_load;\n",
       "      element.onerror = on_error;\n",
       "      element.async = false;\n",
       "      element.src = url;\n",
       "      console.debug(\"Bokeh: injecting script tag for BokehJS library: \", url);\n",
       "      document.head.appendChild(element);\n",
       "    }\n",
       "  };var element = document.getElementById(\"1001\");\n",
       "  if (element == null) {\n",
       "    console.error(\"Bokeh: ERROR: autoload.js configured with elementid '1001' but no matching script tag was found. \")\n",
       "    return false;\n",
       "  }\n",
       "\n",
       "  function inject_raw_css(css) {\n",
       "    const element = document.createElement(\"style\");\n",
       "    element.appendChild(document.createTextNode(css));\n",
       "    document.body.appendChild(element);\n",
       "  }\n",
       "\n",
       "  var js_urls = [\"https://cdn.pydata.org/bokeh/release/bokeh-1.2.0.min.js\", \"https://cdn.pydata.org/bokeh/release/bokeh-widgets-1.2.0.min.js\", \"https://cdn.pydata.org/bokeh/release/bokeh-tables-1.2.0.min.js\", \"https://cdn.pydata.org/bokeh/release/bokeh-gl-1.2.0.min.js\"];\n",
       "  var css_urls = [\"https://cdn.pydata.org/bokeh/release/bokeh-1.2.0.min.css\", \"https://cdn.pydata.org/bokeh/release/bokeh-widgets-1.2.0.min.css\", \"https://cdn.pydata.org/bokeh/release/bokeh-tables-1.2.0.min.css\"];\n",
       "\n",
       "  var inline_js = [\n",
       "    function(Bokeh) {\n",
       "      Bokeh.set_log_level(\"info\");\n",
       "    },\n",
       "    \n",
       "    function(Bokeh) {\n",
       "      \n",
       "    },\n",
       "    function(Bokeh) {} // ensure no trailing comma for IE\n",
       "  ];\n",
       "\n",
       "  function run_inline_js() {\n",
       "    \n",
       "    if ((root.Bokeh !== undefined) || (force === true)) {\n",
       "      for (var i = 0; i < inline_js.length; i++) {\n",
       "        inline_js[i].call(root, root.Bokeh);\n",
       "      }if (force === true) {\n",
       "        display_loaded();\n",
       "      }} else if (Date.now() < root._bokeh_timeout) {\n",
       "      setTimeout(run_inline_js, 100);\n",
       "    } else if (!root._bokeh_failed_load) {\n",
       "      console.log(\"Bokeh: BokehJS failed to load within specified timeout.\");\n",
       "      root._bokeh_failed_load = true;\n",
       "    } else if (force !== true) {\n",
       "      var cell = $(document.getElementById(\"1001\")).parents('.cell').data().cell;\n",
       "      cell.output_area.append_execute_result(NB_LOAD_WARNING)\n",
       "    }\n",
       "\n",
       "  }\n",
       "\n",
       "  if (root._bokeh_is_loading === 0) {\n",
       "    console.debug(\"Bokeh: BokehJS loaded, going straight to plotting\");\n",
       "    run_inline_js();\n",
       "  } else {\n",
       "    load_libs(css_urls, js_urls, function() {\n",
       "      console.debug(\"Bokeh: BokehJS plotting callback run at\", now());\n",
       "      run_inline_js();\n",
       "    });\n",
       "  }\n",
       "}(window));"
      ],
      "application/vnd.bokehjs_load.v0+json": "\n(function(root) {\n  function now() {\n    return new Date();\n  }\n\n  var force = true;\n\n  if (typeof root._bokeh_onload_callbacks === \"undefined\" || force === true) {\n    root._bokeh_onload_callbacks = [];\n    root._bokeh_is_loading = undefined;\n  }\n\n  \n\n  \n  if (typeof (root._bokeh_timeout) === \"undefined\" || force === true) {\n    root._bokeh_timeout = Date.now() + 5000;\n    root._bokeh_failed_load = false;\n  }\n\n  var NB_LOAD_WARNING = {'data': {'text/html':\n     \"<div style='background-color: #fdd'>\\n\"+\n     \"<p>\\n\"+\n     \"BokehJS does not appear to have successfully loaded. If loading BokehJS from CDN, this \\n\"+\n     \"may be due to a slow or bad network connection. Possible fixes:\\n\"+\n     \"</p>\\n\"+\n     \"<ul>\\n\"+\n     \"<li>re-rerun `output_notebook()` to attempt to load from CDN again, or</li>\\n\"+\n     \"<li>use INLINE resources instead, as so:</li>\\n\"+\n     \"</ul>\\n\"+\n     \"<code>\\n\"+\n     \"from bokeh.resources import INLINE\\n\"+\n     \"output_notebook(resources=INLINE)\\n\"+\n     \"</code>\\n\"+\n     \"</div>\"}};\n\n  function display_loaded() {\n    var el = document.getElementById(\"1001\");\n    if (el != null) {\n      el.textContent = \"BokehJS is loading...\";\n    }\n    if (root.Bokeh !== undefined) {\n      if (el != null) {\n        el.textContent = \"BokehJS \" + root.Bokeh.version + \" successfully loaded.\";\n      }\n    } else if (Date.now() < root._bokeh_timeout) {\n      setTimeout(display_loaded, 100)\n    }\n  }\n\n\n  function run_callbacks() {\n    try {\n      root._bokeh_onload_callbacks.forEach(function(callback) {\n        if (callback != null)\n          callback();\n      });\n    } finally {\n      delete root._bokeh_onload_callbacks\n    }\n    console.debug(\"Bokeh: all callbacks have finished\");\n  }\n\n  function load_libs(css_urls, js_urls, callback) {\n    if (css_urls == null) css_urls = [];\n    if (js_urls == null) js_urls = [];\n\n    root._bokeh_onload_callbacks.push(callback);\n    if (root._bokeh_is_loading > 0) {\n      console.debug(\"Bokeh: BokehJS is being loaded, scheduling callback at\", now());\n      return null;\n    }\n    if (js_urls == null || js_urls.length === 0) {\n      run_callbacks();\n      return null;\n    }\n    console.debug(\"Bokeh: BokehJS not loaded, scheduling load and callback at\", now());\n    root._bokeh_is_loading = css_urls.length + js_urls.length;\n\n    function on_load() {\n      root._bokeh_is_loading--;\n      if (root._bokeh_is_loading === 0) {\n        console.debug(\"Bokeh: all BokehJS libraries/stylesheets loaded\");\n        run_callbacks()\n      }\n    }\n\n    function on_error() {\n      console.error(\"failed to load \" + url);\n    }\n\n    for (var i = 0; i < css_urls.length; i++) {\n      var url = css_urls[i];\n      const element = document.createElement(\"link\");\n      element.onload = on_load;\n      element.onerror = on_error;\n      element.rel = \"stylesheet\";\n      element.type = \"text/css\";\n      element.href = url;\n      console.debug(\"Bokeh: injecting link tag for BokehJS stylesheet: \", url);\n      document.body.appendChild(element);\n    }\n\n    for (var i = 0; i < js_urls.length; i++) {\n      var url = js_urls[i];\n      var element = document.createElement('script');\n      element.onload = on_load;\n      element.onerror = on_error;\n      element.async = false;\n      element.src = url;\n      console.debug(\"Bokeh: injecting script tag for BokehJS library: \", url);\n      document.head.appendChild(element);\n    }\n  };var element = document.getElementById(\"1001\");\n  if (element == null) {\n    console.error(\"Bokeh: ERROR: autoload.js configured with elementid '1001' but no matching script tag was found. \")\n    return false;\n  }\n\n  function inject_raw_css(css) {\n    const element = document.createElement(\"style\");\n    element.appendChild(document.createTextNode(css));\n    document.body.appendChild(element);\n  }\n\n  var js_urls = [\"https://cdn.pydata.org/bokeh/release/bokeh-1.2.0.min.js\", \"https://cdn.pydata.org/bokeh/release/bokeh-widgets-1.2.0.min.js\", \"https://cdn.pydata.org/bokeh/release/bokeh-tables-1.2.0.min.js\", \"https://cdn.pydata.org/bokeh/release/bokeh-gl-1.2.0.min.js\"];\n  var css_urls = [\"https://cdn.pydata.org/bokeh/release/bokeh-1.2.0.min.css\", \"https://cdn.pydata.org/bokeh/release/bokeh-widgets-1.2.0.min.css\", \"https://cdn.pydata.org/bokeh/release/bokeh-tables-1.2.0.min.css\"];\n\n  var inline_js = [\n    function(Bokeh) {\n      Bokeh.set_log_level(\"info\");\n    },\n    \n    function(Bokeh) {\n      \n    },\n    function(Bokeh) {} // ensure no trailing comma for IE\n  ];\n\n  function run_inline_js() {\n    \n    if ((root.Bokeh !== undefined) || (force === true)) {\n      for (var i = 0; i < inline_js.length; i++) {\n        inline_js[i].call(root, root.Bokeh);\n      }if (force === true) {\n        display_loaded();\n      }} else if (Date.now() < root._bokeh_timeout) {\n      setTimeout(run_inline_js, 100);\n    } else if (!root._bokeh_failed_load) {\n      console.log(\"Bokeh: BokehJS failed to load within specified timeout.\");\n      root._bokeh_failed_load = true;\n    } else if (force !== true) {\n      var cell = $(document.getElementById(\"1001\")).parents('.cell').data().cell;\n      cell.output_area.append_execute_result(NB_LOAD_WARNING)\n    }\n\n  }\n\n  if (root._bokeh_is_loading === 0) {\n    console.debug(\"Bokeh: BokehJS loaded, going straight to plotting\");\n    run_inline_js();\n  } else {\n    load_libs(css_urls, js_urls, function() {\n      console.debug(\"Bokeh: BokehJS plotting callback run at\", now());\n      run_inline_js();\n    });\n  }\n}(window));"
     },
     "metadata": {},
     "output_type": "display_data"
    }
   ],
   "source": [
    "output_notebook()"
   ]
  },
  {
   "cell_type": "markdown",
   "metadata": {},
   "source": [
    "#### Start off with a figure"
   ]
  },
  {
   "cell_type": "code",
   "execution_count": 3,
   "metadata": {},
   "outputs": [],
   "source": [
    "p = figure(plot_width = 600, \n",
    "           plot_height = 300)"
   ]
  },
  {
   "cell_type": "markdown",
   "metadata": {},
   "source": [
    "#### Define a rectangle using the Quad glyph\n",
    "We can use this to define a list of quadrilaterals whose edges are parallel to the axes. We start off by defining one such quadrilateral.\n",
    "\n",
    "The values to pass are the top, bottom, left and right of the quadrilaterals. \n",
    "\n",
    "Note that even though the width is 1 unit and the height is 6, the quadrilateral appears wider than it is high due to the auto-scaling feature of bokeh plots."
   ]
  },
  {
   "cell_type": "code",
   "execution_count": 4,
   "metadata": {},
   "outputs": [
    {
     "data": {
      "text/html": [
       "\n",
       "\n",
       "\n",
       "\n",
       "\n",
       "\n",
       "  <div class=\"bk-root\" id=\"293f0990-fdb6-4992-b66f-476ab6de09c2\" data-root-id=\"1002\"></div>\n"
      ]
     },
     "metadata": {},
     "output_type": "display_data"
    },
    {
     "data": {
      "application/javascript": [
       "(function(root) {\n",
       "  function embed_document(root) {\n",
       "    \n",
       "  var docs_json = {\"73f84e30-c3b7-4a21-8b9e-a9c637788239\":{\"roots\":{\"references\":[{\"attributes\":{\"below\":[{\"id\":\"1011\",\"type\":\"LinearAxis\"}],\"center\":[{\"id\":\"1015\",\"type\":\"Grid\"},{\"id\":\"1020\",\"type\":\"Grid\"}],\"left\":[{\"id\":\"1016\",\"type\":\"LinearAxis\"}],\"plot_height\":300,\"renderers\":[{\"id\":\"1037\",\"type\":\"GlyphRenderer\"}],\"title\":{\"id\":\"1039\",\"type\":\"Title\"},\"toolbar\":{\"id\":\"1027\",\"type\":\"Toolbar\"},\"x_range\":{\"id\":\"1003\",\"type\":\"DataRange1d\"},\"x_scale\":{\"id\":\"1007\",\"type\":\"LinearScale\"},\"y_range\":{\"id\":\"1005\",\"type\":\"DataRange1d\"},\"y_scale\":{\"id\":\"1009\",\"type\":\"LinearScale\"}},\"id\":\"1002\",\"subtype\":\"Figure\",\"type\":\"Plot\"},{\"attributes\":{\"data_source\":{\"id\":\"1034\",\"type\":\"ColumnDataSource\"},\"glyph\":{\"id\":\"1035\",\"type\":\"Quad\"},\"hover_glyph\":null,\"muted_glyph\":null,\"nonselection_glyph\":{\"id\":\"1036\",\"type\":\"Quad\"},\"selection_glyph\":null,\"view\":{\"id\":\"1038\",\"type\":\"CDSView\"}},\"id\":\"1037\",\"type\":\"GlyphRenderer\"},{\"attributes\":{\"overlay\":{\"id\":\"1047\",\"type\":\"BoxAnnotation\"}},\"id\":\"1023\",\"type\":\"BoxZoomTool\"},{\"attributes\":{\"source\":{\"id\":\"1034\",\"type\":\"ColumnDataSource\"}},\"id\":\"1038\",\"type\":\"CDSView\"},{\"attributes\":{},\"id\":\"1024\",\"type\":\"SaveTool\"},{\"attributes\":{},\"id\":\"1025\",\"type\":\"ResetTool\"},{\"attributes\":{\"text\":\"\"},\"id\":\"1039\",\"type\":\"Title\"},{\"attributes\":{},\"id\":\"1026\",\"type\":\"HelpTool\"},{\"attributes\":{\"callback\":null},\"id\":\"1003\",\"type\":\"DataRange1d\"},{\"attributes\":{\"active_drag\":\"auto\",\"active_inspect\":\"auto\",\"active_multi\":null,\"active_scroll\":\"auto\",\"active_tap\":\"auto\",\"tools\":[{\"id\":\"1021\",\"type\":\"PanTool\"},{\"id\":\"1022\",\"type\":\"WheelZoomTool\"},{\"id\":\"1023\",\"type\":\"BoxZoomTool\"},{\"id\":\"1024\",\"type\":\"SaveTool\"},{\"id\":\"1025\",\"type\":\"ResetTool\"},{\"id\":\"1026\",\"type\":\"HelpTool\"}]},\"id\":\"1027\",\"type\":\"Toolbar\"},{\"attributes\":{\"callback\":null},\"id\":\"1005\",\"type\":\"DataRange1d\"},{\"attributes\":{},\"id\":\"1007\",\"type\":\"LinearScale\"},{\"attributes\":{},\"id\":\"1045\",\"type\":\"UnionRenderers\"},{\"attributes\":{},\"id\":\"1009\",\"type\":\"LinearScale\"},{\"attributes\":{\"formatter\":{\"id\":\"1042\",\"type\":\"BasicTickFormatter\"},\"ticker\":{\"id\":\"1012\",\"type\":\"BasicTicker\"}},\"id\":\"1011\",\"type\":\"LinearAxis\"},{\"attributes\":{},\"id\":\"1046\",\"type\":\"Selection\"},{\"attributes\":{},\"id\":\"1012\",\"type\":\"BasicTicker\"},{\"attributes\":{\"ticker\":{\"id\":\"1012\",\"type\":\"BasicTicker\"}},\"id\":\"1015\",\"type\":\"Grid\"},{\"attributes\":{},\"id\":\"1044\",\"type\":\"BasicTickFormatter\"},{\"attributes\":{\"formatter\":{\"id\":\"1044\",\"type\":\"BasicTickFormatter\"},\"ticker\":{\"id\":\"1017\",\"type\":\"BasicTicker\"}},\"id\":\"1016\",\"type\":\"LinearAxis\"},{\"attributes\":{},\"id\":\"1017\",\"type\":\"BasicTicker\"},{\"attributes\":{\"dimension\":1,\"ticker\":{\"id\":\"1017\",\"type\":\"BasicTicker\"}},\"id\":\"1020\",\"type\":\"Grid\"},{\"attributes\":{\"bottom_units\":\"screen\",\"fill_alpha\":{\"value\":0.5},\"fill_color\":{\"value\":\"lightgrey\"},\"left_units\":\"screen\",\"level\":\"overlay\",\"line_alpha\":{\"value\":1.0},\"line_color\":{\"value\":\"black\"},\"line_dash\":[4,4],\"line_width\":{\"value\":2},\"render_mode\":\"css\",\"right_units\":\"screen\",\"top_units\":\"screen\"},\"id\":\"1047\",\"type\":\"BoxAnnotation\"},{\"attributes\":{\"callback\":null,\"data\":{\"bottom\":[1],\"left\":[1],\"right\":[2],\"top\":[7]},\"selected\":{\"id\":\"1046\",\"type\":\"Selection\"},\"selection_policy\":{\"id\":\"1045\",\"type\":\"UnionRenderers\"}},\"id\":\"1034\",\"type\":\"ColumnDataSource\"},{\"attributes\":{},\"id\":\"1021\",\"type\":\"PanTool\"},{\"attributes\":{\"bottom\":{\"field\":\"bottom\"},\"fill_color\":{\"value\":\"#1f77b4\"},\"left\":{\"field\":\"left\"},\"line_color\":{\"value\":\"#1f77b4\"},\"right\":{\"field\":\"right\"},\"top\":{\"field\":\"top\"}},\"id\":\"1035\",\"type\":\"Quad\"},{\"attributes\":{},\"id\":\"1042\",\"type\":\"BasicTickFormatter\"},{\"attributes\":{},\"id\":\"1022\",\"type\":\"WheelZoomTool\"},{\"attributes\":{\"bottom\":{\"field\":\"bottom\"},\"fill_alpha\":{\"value\":0.1},\"fill_color\":{\"value\":\"#1f77b4\"},\"left\":{\"field\":\"left\"},\"line_alpha\":{\"value\":0.1},\"line_color\":{\"value\":\"#1f77b4\"},\"right\":{\"field\":\"right\"},\"top\":{\"field\":\"top\"}},\"id\":\"1036\",\"type\":\"Quad\"}],\"root_ids\":[\"1002\"]},\"title\":\"Bokeh Application\",\"version\":\"1.2.0\"}};\n",
       "  var render_items = [{\"docid\":\"73f84e30-c3b7-4a21-8b9e-a9c637788239\",\"roots\":{\"1002\":\"293f0990-fdb6-4992-b66f-476ab6de09c2\"}}];\n",
       "  root.Bokeh.embed.embed_items_notebook(docs_json, render_items);\n",
       "\n",
       "  }\n",
       "  if (root.Bokeh !== undefined) {\n",
       "    embed_document(root);\n",
       "  } else {\n",
       "    var attempts = 0;\n",
       "    var timer = setInterval(function(root) {\n",
       "      if (root.Bokeh !== undefined) {\n",
       "        embed_document(root);\n",
       "        clearInterval(timer);\n",
       "      }\n",
       "      attempts++;\n",
       "      if (attempts > 100) {\n",
       "        console.log(\"Bokeh: ERROR: Unable to run BokehJS code because BokehJS library is missing\");\n",
       "        clearInterval(timer);\n",
       "      }\n",
       "    }, 10, root)\n",
       "  }\n",
       "})(window);"
      ],
      "application/vnd.bokehjs_exec.v0+json": ""
     },
     "metadata": {
      "application/vnd.bokehjs_exec.v0+json": {
       "id": "1002"
      }
     },
     "output_type": "display_data"
    }
   ],
   "source": [
    "p.quad(bottom=[1],\n",
    "       top=[7], \n",
    "       left=[1],\n",
    "       right=[2]\n",
    "      )\n",
    "\n",
    "show(p)"
   ]
  },
  {
   "cell_type": "markdown",
   "metadata": {},
   "source": [
    "#### Set the aspect ratio of the axes to be 1:1\n",
    "The match_aspect property for a figure allows us to address this skewed appearance"
   ]
  },
  {
   "cell_type": "code",
   "execution_count": 5,
   "metadata": {},
   "outputs": [],
   "source": [
    "p = figure(plot_height = 300, \n",
    "           \n",
    "           match_aspect = True)"
   ]
  },
  {
   "cell_type": "markdown",
   "metadata": {},
   "source": [
    "#### Plot the same quadrilateral on the new figure\n",
    "This time the shape is represented with the correct proportions. Note that Bokeh has adjusted the axes so that the shape appears in the middle of the plot"
   ]
  },
  {
   "cell_type": "code",
   "execution_count": 6,
   "metadata": {},
   "outputs": [
    {
     "data": {
      "text/html": [
       "\n",
       "\n",
       "\n",
       "\n",
       "\n",
       "\n",
       "  <div class=\"bk-root\" id=\"22c606af-977c-41e9-852e-424790984ef9\" data-root-id=\"1102\"></div>\n"
      ]
     },
     "metadata": {},
     "output_type": "display_data"
    },
    {
     "data": {
      "application/javascript": [
       "(function(root) {\n",
       "  function embed_document(root) {\n",
       "    \n",
       "  var docs_json = {\"ad2024e6-8a22-483f-90fe-cb1f71596f07\":{\"roots\":{\"references\":[{\"attributes\":{\"below\":[{\"id\":\"1111\",\"type\":\"LinearAxis\"}],\"center\":[{\"id\":\"1115\",\"type\":\"Grid\"},{\"id\":\"1120\",\"type\":\"Grid\"}],\"left\":[{\"id\":\"1116\",\"type\":\"LinearAxis\"}],\"match_aspect\":true,\"plot_height\":300,\"renderers\":[{\"id\":\"1137\",\"type\":\"GlyphRenderer\"}],\"title\":{\"id\":\"1148\",\"type\":\"Title\"},\"toolbar\":{\"id\":\"1127\",\"type\":\"Toolbar\"},\"x_range\":{\"id\":\"1103\",\"type\":\"DataRange1d\"},\"x_scale\":{\"id\":\"1107\",\"type\":\"LinearScale\"},\"y_range\":{\"id\":\"1105\",\"type\":\"DataRange1d\"},\"y_scale\":{\"id\":\"1109\",\"type\":\"LinearScale\"}},\"id\":\"1102\",\"subtype\":\"Figure\",\"type\":\"Plot\"},{\"attributes\":{},\"id\":\"1124\",\"type\":\"SaveTool\"},{\"attributes\":{\"overlay\":{\"id\":\"1156\",\"type\":\"BoxAnnotation\"}},\"id\":\"1123\",\"type\":\"BoxZoomTool\"},{\"attributes\":{\"callback\":null},\"id\":\"1103\",\"type\":\"DataRange1d\"},{\"attributes\":{},\"id\":\"1122\",\"type\":\"WheelZoomTool\"},{\"attributes\":{},\"id\":\"1121\",\"type\":\"PanTool\"},{\"attributes\":{\"callback\":null,\"data\":{\"bottom\":[1],\"left\":[1],\"right\":[2],\"top\":[7]},\"selected\":{\"id\":\"1155\",\"type\":\"Selection\"},\"selection_policy\":{\"id\":\"1154\",\"type\":\"UnionRenderers\"}},\"id\":\"1134\",\"type\":\"ColumnDataSource\"},{\"attributes\":{},\"id\":\"1125\",\"type\":\"ResetTool\"},{\"attributes\":{\"data_source\":{\"id\":\"1134\",\"type\":\"ColumnDataSource\"},\"glyph\":{\"id\":\"1135\",\"type\":\"Quad\"},\"hover_glyph\":null,\"muted_glyph\":null,\"nonselection_glyph\":{\"id\":\"1136\",\"type\":\"Quad\"},\"selection_glyph\":null,\"view\":{\"id\":\"1138\",\"type\":\"CDSView\"}},\"id\":\"1137\",\"type\":\"GlyphRenderer\"},{\"attributes\":{},\"id\":\"1117\",\"type\":\"BasicTicker\"},{\"attributes\":{},\"id\":\"1154\",\"type\":\"UnionRenderers\"},{\"attributes\":{\"active_drag\":\"auto\",\"active_inspect\":\"auto\",\"active_multi\":null,\"active_scroll\":\"auto\",\"active_tap\":\"auto\",\"tools\":[{\"id\":\"1121\",\"type\":\"PanTool\"},{\"id\":\"1122\",\"type\":\"WheelZoomTool\"},{\"id\":\"1123\",\"type\":\"BoxZoomTool\"},{\"id\":\"1124\",\"type\":\"SaveTool\"},{\"id\":\"1125\",\"type\":\"ResetTool\"},{\"id\":\"1126\",\"type\":\"HelpTool\"}]},\"id\":\"1127\",\"type\":\"Toolbar\"},{\"attributes\":{\"bottom\":{\"field\":\"bottom\"},\"fill_alpha\":{\"value\":0.1},\"fill_color\":{\"value\":\"#1f77b4\"},\"left\":{\"field\":\"left\"},\"line_alpha\":{\"value\":0.1},\"line_color\":{\"value\":\"#1f77b4\"},\"right\":{\"field\":\"right\"},\"top\":{\"field\":\"top\"}},\"id\":\"1136\",\"type\":\"Quad\"},{\"attributes\":{},\"id\":\"1109\",\"type\":\"LinearScale\"},{\"attributes\":{\"bottom\":{\"field\":\"bottom\"},\"fill_color\":{\"value\":\"#1f77b4\"},\"left\":{\"field\":\"left\"},\"line_color\":{\"value\":\"#1f77b4\"},\"right\":{\"field\":\"right\"},\"top\":{\"field\":\"top\"}},\"id\":\"1135\",\"type\":\"Quad\"},{\"attributes\":{},\"id\":\"1126\",\"type\":\"HelpTool\"},{\"attributes\":{\"formatter\":{\"id\":\"1153\",\"type\":\"BasicTickFormatter\"},\"ticker\":{\"id\":\"1117\",\"type\":\"BasicTicker\"}},\"id\":\"1116\",\"type\":\"LinearAxis\"},{\"attributes\":{\"text\":\"\"},\"id\":\"1148\",\"type\":\"Title\"},{\"attributes\":{},\"id\":\"1112\",\"type\":\"BasicTicker\"},{\"attributes\":{\"bottom_units\":\"screen\",\"fill_alpha\":{\"value\":0.5},\"fill_color\":{\"value\":\"lightgrey\"},\"left_units\":\"screen\",\"level\":\"overlay\",\"line_alpha\":{\"value\":1.0},\"line_color\":{\"value\":\"black\"},\"line_dash\":[4,4],\"line_width\":{\"value\":2},\"render_mode\":\"css\",\"right_units\":\"screen\",\"top_units\":\"screen\"},\"id\":\"1156\",\"type\":\"BoxAnnotation\"},{\"attributes\":{},\"id\":\"1155\",\"type\":\"Selection\"},{\"attributes\":{\"ticker\":{\"id\":\"1112\",\"type\":\"BasicTicker\"}},\"id\":\"1115\",\"type\":\"Grid\"},{\"attributes\":{\"formatter\":{\"id\":\"1151\",\"type\":\"BasicTickFormatter\"},\"ticker\":{\"id\":\"1112\",\"type\":\"BasicTicker\"}},\"id\":\"1111\",\"type\":\"LinearAxis\"},{\"attributes\":{\"source\":{\"id\":\"1134\",\"type\":\"ColumnDataSource\"}},\"id\":\"1138\",\"type\":\"CDSView\"},{\"attributes\":{\"callback\":null},\"id\":\"1105\",\"type\":\"DataRange1d\"},{\"attributes\":{\"dimension\":1,\"ticker\":{\"id\":\"1117\",\"type\":\"BasicTicker\"}},\"id\":\"1120\",\"type\":\"Grid\"},{\"attributes\":{},\"id\":\"1151\",\"type\":\"BasicTickFormatter\"},{\"attributes\":{},\"id\":\"1107\",\"type\":\"LinearScale\"},{\"attributes\":{},\"id\":\"1153\",\"type\":\"BasicTickFormatter\"}],\"root_ids\":[\"1102\"]},\"title\":\"Bokeh Application\",\"version\":\"1.2.0\"}};\n",
       "  var render_items = [{\"docid\":\"ad2024e6-8a22-483f-90fe-cb1f71596f07\",\"roots\":{\"1102\":\"22c606af-977c-41e9-852e-424790984ef9\"}}];\n",
       "  root.Bokeh.embed.embed_items_notebook(docs_json, render_items);\n",
       "\n",
       "  }\n",
       "  if (root.Bokeh !== undefined) {\n",
       "    embed_document(root);\n",
       "  } else {\n",
       "    var attempts = 0;\n",
       "    var timer = setInterval(function(root) {\n",
       "      if (root.Bokeh !== undefined) {\n",
       "        embed_document(root);\n",
       "        clearInterval(timer);\n",
       "      }\n",
       "      attempts++;\n",
       "      if (attempts > 100) {\n",
       "        console.log(\"Bokeh: ERROR: Unable to run BokehJS code because BokehJS library is missing\");\n",
       "        clearInterval(timer);\n",
       "      }\n",
       "    }, 10, root)\n",
       "  }\n",
       "})(window);"
      ],
      "application/vnd.bokehjs_exec.v0+json": ""
     },
     "metadata": {
      "application/vnd.bokehjs_exec.v0+json": {
       "id": "1102"
      }
     },
     "output_type": "display_data"
    }
   ],
   "source": [
    "p.quad(bottom=[1],\n",
    "       top=[7], \n",
    "       left=[1],\n",
    "       right=[2]\n",
    "      )\n",
    "\n",
    "show(p)"
   ]
  },
  {
   "cell_type": "markdown",
   "metadata": {},
   "source": [
    "#### Plotting multiple quadrilaterals\n",
    "Just like with multiple lines, we can format the individual quads by passing the formatting options (fill_color in this example) in a list"
   ]
  },
  {
   "cell_type": "code",
   "execution_count": 7,
   "metadata": {},
   "outputs": [
    {
     "data": {
      "text/html": [
       "\n",
       "\n",
       "\n",
       "\n",
       "\n",
       "\n",
       "  <div class=\"bk-root\" id=\"7c62c2d2-820a-4bad-9621-711b9959a144\" data-root-id=\"1211\"></div>\n"
      ]
     },
     "metadata": {},
     "output_type": "display_data"
    },
    {
     "data": {
      "application/javascript": [
       "(function(root) {\n",
       "  function embed_document(root) {\n",
       "    \n",
       "  var docs_json = {\"5057589e-3ead-4c1a-8710-ce8b5e4404a3\":{\"roots\":{\"references\":[{\"attributes\":{\"below\":[{\"id\":\"1220\",\"type\":\"LinearAxis\"}],\"center\":[{\"id\":\"1224\",\"type\":\"Grid\"},{\"id\":\"1229\",\"type\":\"Grid\"}],\"left\":[{\"id\":\"1225\",\"type\":\"LinearAxis\"}],\"match_aspect\":true,\"plot_height\":300,\"renderers\":[{\"id\":\"1246\",\"type\":\"GlyphRenderer\"}],\"title\":{\"id\":\"1266\",\"type\":\"Title\"},\"toolbar\":{\"id\":\"1236\",\"type\":\"Toolbar\"},\"x_range\":{\"id\":\"1212\",\"type\":\"DataRange1d\"},\"x_scale\":{\"id\":\"1216\",\"type\":\"LinearScale\"},\"y_range\":{\"id\":\"1214\",\"type\":\"DataRange1d\"},\"y_scale\":{\"id\":\"1218\",\"type\":\"LinearScale\"}},\"id\":\"1211\",\"subtype\":\"Figure\",\"type\":\"Plot\"},{\"attributes\":{},\"id\":\"1221\",\"type\":\"BasicTicker\"},{\"attributes\":{\"ticker\":{\"id\":\"1221\",\"type\":\"BasicTicker\"}},\"id\":\"1224\",\"type\":\"Grid\"},{\"attributes\":{},\"id\":\"1269\",\"type\":\"BasicTickFormatter\"},{\"attributes\":{\"formatter\":{\"id\":\"1271\",\"type\":\"BasicTickFormatter\"},\"ticker\":{\"id\":\"1226\",\"type\":\"BasicTicker\"}},\"id\":\"1225\",\"type\":\"LinearAxis\"},{\"attributes\":{},\"id\":\"1271\",\"type\":\"BasicTickFormatter\"},{\"attributes\":{},\"id\":\"1226\",\"type\":\"BasicTicker\"},{\"attributes\":{\"dimension\":1,\"ticker\":{\"id\":\"1226\",\"type\":\"BasicTicker\"}},\"id\":\"1229\",\"type\":\"Grid\"},{\"attributes\":{\"bottom\":{\"field\":\"bottom\"},\"fill_alpha\":{\"value\":0.1},\"fill_color\":{\"value\":\"#1f77b4\"},\"left\":{\"field\":\"left\"},\"line_alpha\":{\"value\":0.1},\"line_color\":{\"value\":\"#1f77b4\"},\"right\":{\"field\":\"right\"},\"top\":{\"field\":\"top\"}},\"id\":\"1245\",\"type\":\"Quad\"},{\"attributes\":{\"bottom\":{\"field\":\"bottom\"},\"fill_color\":{\"field\":\"fill_color\"},\"left\":{\"field\":\"left\"},\"line_color\":{\"value\":\"#1f77b4\"},\"right\":{\"field\":\"right\"},\"top\":{\"field\":\"top\"}},\"id\":\"1244\",\"type\":\"Quad\"},{\"attributes\":{},\"id\":\"1230\",\"type\":\"PanTool\"},{\"attributes\":{},\"id\":\"1231\",\"type\":\"WheelZoomTool\"},{\"attributes\":{\"overlay\":{\"id\":\"1274\",\"type\":\"BoxAnnotation\"}},\"id\":\"1232\",\"type\":\"BoxZoomTool\"},{\"attributes\":{},\"id\":\"1272\",\"type\":\"UnionRenderers\"},{\"attributes\":{},\"id\":\"1233\",\"type\":\"SaveTool\"},{\"attributes\":{},\"id\":\"1234\",\"type\":\"ResetTool\"},{\"attributes\":{\"callback\":null,\"data\":{\"bottom\":[1,3],\"fill_color\":[\"cyan\",\"lightyellow\"],\"left\":[1,4],\"right\":[2,8],\"top\":[7,6]},\"selected\":{\"id\":\"1273\",\"type\":\"Selection\"},\"selection_policy\":{\"id\":\"1272\",\"type\":\"UnionRenderers\"}},\"id\":\"1243\",\"type\":\"ColumnDataSource\"},{\"attributes\":{},\"id\":\"1235\",\"type\":\"HelpTool\"},{\"attributes\":{\"callback\":null},\"id\":\"1212\",\"type\":\"DataRange1d\"},{\"attributes\":{\"active_drag\":\"auto\",\"active_inspect\":\"auto\",\"active_multi\":null,\"active_scroll\":\"auto\",\"active_tap\":\"auto\",\"tools\":[{\"id\":\"1230\",\"type\":\"PanTool\"},{\"id\":\"1231\",\"type\":\"WheelZoomTool\"},{\"id\":\"1232\",\"type\":\"BoxZoomTool\"},{\"id\":\"1233\",\"type\":\"SaveTool\"},{\"id\":\"1234\",\"type\":\"ResetTool\"},{\"id\":\"1235\",\"type\":\"HelpTool\"}]},\"id\":\"1236\",\"type\":\"Toolbar\"},{\"attributes\":{\"data_source\":{\"id\":\"1243\",\"type\":\"ColumnDataSource\"},\"glyph\":{\"id\":\"1244\",\"type\":\"Quad\"},\"hover_glyph\":null,\"muted_glyph\":null,\"nonselection_glyph\":{\"id\":\"1245\",\"type\":\"Quad\"},\"selection_glyph\":null,\"view\":{\"id\":\"1247\",\"type\":\"CDSView\"}},\"id\":\"1246\",\"type\":\"GlyphRenderer\"},{\"attributes\":{\"callback\":null},\"id\":\"1214\",\"type\":\"DataRange1d\"},{\"attributes\":{},\"id\":\"1216\",\"type\":\"LinearScale\"},{\"attributes\":{\"source\":{\"id\":\"1243\",\"type\":\"ColumnDataSource\"}},\"id\":\"1247\",\"type\":\"CDSView\"},{\"attributes\":{\"bottom_units\":\"screen\",\"fill_alpha\":{\"value\":0.5},\"fill_color\":{\"value\":\"lightgrey\"},\"left_units\":\"screen\",\"level\":\"overlay\",\"line_alpha\":{\"value\":1.0},\"line_color\":{\"value\":\"black\"},\"line_dash\":[4,4],\"line_width\":{\"value\":2},\"render_mode\":\"css\",\"right_units\":\"screen\",\"top_units\":\"screen\"},\"id\":\"1274\",\"type\":\"BoxAnnotation\"},{\"attributes\":{},\"id\":\"1218\",\"type\":\"LinearScale\"},{\"attributes\":{\"text\":\"\"},\"id\":\"1266\",\"type\":\"Title\"},{\"attributes\":{},\"id\":\"1273\",\"type\":\"Selection\"},{\"attributes\":{\"formatter\":{\"id\":\"1269\",\"type\":\"BasicTickFormatter\"},\"ticker\":{\"id\":\"1221\",\"type\":\"BasicTicker\"}},\"id\":\"1220\",\"type\":\"LinearAxis\"}],\"root_ids\":[\"1211\"]},\"title\":\"Bokeh Application\",\"version\":\"1.2.0\"}};\n",
       "  var render_items = [{\"docid\":\"5057589e-3ead-4c1a-8710-ce8b5e4404a3\",\"roots\":{\"1211\":\"7c62c2d2-820a-4bad-9621-711b9959a144\"}}];\n",
       "  root.Bokeh.embed.embed_items_notebook(docs_json, render_items);\n",
       "\n",
       "  }\n",
       "  if (root.Bokeh !== undefined) {\n",
       "    embed_document(root);\n",
       "  } else {\n",
       "    var attempts = 0;\n",
       "    var timer = setInterval(function(root) {\n",
       "      if (root.Bokeh !== undefined) {\n",
       "        embed_document(root);\n",
       "        clearInterval(timer);\n",
       "      }\n",
       "      attempts++;\n",
       "      if (attempts > 100) {\n",
       "        console.log(\"Bokeh: ERROR: Unable to run BokehJS code because BokehJS library is missing\");\n",
       "        clearInterval(timer);\n",
       "      }\n",
       "    }, 10, root)\n",
       "  }\n",
       "})(window);"
      ],
      "application/vnd.bokehjs_exec.v0+json": ""
     },
     "metadata": {
      "application/vnd.bokehjs_exec.v0+json": {
       "id": "1211"
      }
     },
     "output_type": "display_data"
    }
   ],
   "source": [
    "p = figure(plot_height = 300, \n",
    "           match_aspect = True)\n",
    "\n",
    "p.quad(bottom=[1, 3],\n",
    "       top=[7, 6], \n",
    "       left=[1, 4],\n",
    "       right=[2, 8],\n",
    "       \n",
    "       fill_color = ['cyan', 'lightyellow']\n",
    "      )\n",
    "\n",
    "show(p)"
   ]
  },
  {
   "cell_type": "markdown",
   "metadata": {},
   "source": [
    "#### Rectangles\n",
    "The rect() glyph requires the following arguments:\n",
    "* the x and y coordinates of the center\n",
    "* the width and height of the rectangle\n",
    "\n",
    "We can apply formats for the rectangle as we have seen previously. Note though that by tilting the rectangle, it has escaped the bounds of the figure (Bokeh probably uses the coordinates and width of the figure to decide the range of the axes to display, but perhaps not the angle)"
   ]
  },
  {
   "cell_type": "code",
   "execution_count": 8,
   "metadata": {},
   "outputs": [
    {
     "data": {
      "text/html": [
       "\n",
       "\n",
       "\n",
       "\n",
       "\n",
       "\n",
       "  <div class=\"bk-root\" id=\"7ee6eb34-eece-4901-a124-6a81fd6e4620\" data-root-id=\"1329\"></div>\n"
      ]
     },
     "metadata": {},
     "output_type": "display_data"
    },
    {
     "data": {
      "application/javascript": [
       "(function(root) {\n",
       "  function embed_document(root) {\n",
       "    \n",
       "  var docs_json = {\"19a7c291-66d6-48b8-b576-0a5a1d7e58d0\":{\"roots\":{\"references\":[{\"attributes\":{\"below\":[{\"id\":\"1338\",\"type\":\"LinearAxis\"}],\"center\":[{\"id\":\"1342\",\"type\":\"Grid\"},{\"id\":\"1347\",\"type\":\"Grid\"}],\"left\":[{\"id\":\"1343\",\"type\":\"LinearAxis\"}],\"match_aspect\":true,\"plot_height\":300,\"renderers\":[{\"id\":\"1364\",\"type\":\"GlyphRenderer\"}],\"title\":{\"id\":\"1393\",\"type\":\"Title\"},\"toolbar\":{\"id\":\"1354\",\"type\":\"Toolbar\"},\"x_range\":{\"id\":\"1330\",\"type\":\"DataRange1d\"},\"x_scale\":{\"id\":\"1334\",\"type\":\"LinearScale\"},\"y_range\":{\"id\":\"1332\",\"type\":\"DataRange1d\"},\"y_scale\":{\"id\":\"1336\",\"type\":\"LinearScale\"}},\"id\":\"1329\",\"subtype\":\"Figure\",\"type\":\"Plot\"},{\"attributes\":{\"callback\":null,\"data\":{\"height\":[5],\"width\":[6],\"x\":[4],\"y\":[3]},\"selected\":{\"id\":\"1400\",\"type\":\"Selection\"},\"selection_policy\":{\"id\":\"1399\",\"type\":\"UnionRenderers\"}},\"id\":\"1361\",\"type\":\"ColumnDataSource\"},{\"attributes\":{\"text\":\"\"},\"id\":\"1393\",\"type\":\"Title\"},{\"attributes\":{\"source\":{\"id\":\"1361\",\"type\":\"ColumnDataSource\"}},\"id\":\"1365\",\"type\":\"CDSView\"},{\"attributes\":{},\"id\":\"1348\",\"type\":\"PanTool\"},{\"attributes\":{\"bottom_units\":\"screen\",\"fill_alpha\":{\"value\":0.5},\"fill_color\":{\"value\":\"lightgrey\"},\"left_units\":\"screen\",\"level\":\"overlay\",\"line_alpha\":{\"value\":1.0},\"line_color\":{\"value\":\"black\"},\"line_dash\":[4,4],\"line_width\":{\"value\":2},\"render_mode\":\"css\",\"right_units\":\"screen\",\"top_units\":\"screen\"},\"id\":\"1401\",\"type\":\"BoxAnnotation\"},{\"attributes\":{\"angle\":{\"units\":\"rad\",\"value\":0.2},\"fill_color\":{\"value\":\"lightblue\"},\"height\":{\"field\":\"height\",\"units\":\"data\"},\"line_color\":{\"value\":\"navy\"},\"line_width\":{\"value\":2},\"width\":{\"field\":\"width\",\"units\":\"data\"},\"x\":{\"field\":\"x\"},\"y\":{\"field\":\"y\"}},\"id\":\"1362\",\"type\":\"Rect\"},{\"attributes\":{},\"id\":\"1351\",\"type\":\"SaveTool\"},{\"attributes\":{\"angle\":{\"units\":\"rad\",\"value\":0.2},\"fill_alpha\":{\"value\":0.1},\"fill_color\":{\"value\":\"#1f77b4\"},\"height\":{\"field\":\"height\",\"units\":\"data\"},\"line_alpha\":{\"value\":0.1},\"line_color\":{\"value\":\"#1f77b4\"},\"line_width\":{\"value\":2},\"width\":{\"field\":\"width\",\"units\":\"data\"},\"x\":{\"field\":\"x\"},\"y\":{\"field\":\"y\"}},\"id\":\"1363\",\"type\":\"Rect\"},{\"attributes\":{\"overlay\":{\"id\":\"1401\",\"type\":\"BoxAnnotation\"}},\"id\":\"1350\",\"type\":\"BoxZoomTool\"},{\"attributes\":{},\"id\":\"1349\",\"type\":\"WheelZoomTool\"},{\"attributes\":{},\"id\":\"1352\",\"type\":\"ResetTool\"},{\"attributes\":{\"dimension\":1,\"ticker\":{\"id\":\"1344\",\"type\":\"BasicTicker\"}},\"id\":\"1347\",\"type\":\"Grid\"},{\"attributes\":{\"formatter\":{\"id\":\"1398\",\"type\":\"BasicTickFormatter\"},\"ticker\":{\"id\":\"1344\",\"type\":\"BasicTicker\"}},\"id\":\"1343\",\"type\":\"LinearAxis\"},{\"attributes\":{\"data_source\":{\"id\":\"1361\",\"type\":\"ColumnDataSource\"},\"glyph\":{\"id\":\"1362\",\"type\":\"Rect\"},\"hover_glyph\":null,\"muted_glyph\":null,\"nonselection_glyph\":{\"id\":\"1363\",\"type\":\"Rect\"},\"selection_glyph\":null,\"view\":{\"id\":\"1365\",\"type\":\"CDSView\"}},\"id\":\"1364\",\"type\":\"GlyphRenderer\"},{\"attributes\":{},\"id\":\"1400\",\"type\":\"Selection\"},{\"attributes\":{},\"id\":\"1344\",\"type\":\"BasicTicker\"},{\"attributes\":{},\"id\":\"1398\",\"type\":\"BasicTickFormatter\"},{\"attributes\":{},\"id\":\"1396\",\"type\":\"BasicTickFormatter\"},{\"attributes\":{\"ticker\":{\"id\":\"1339\",\"type\":\"BasicTicker\"}},\"id\":\"1342\",\"type\":\"Grid\"},{\"attributes\":{},\"id\":\"1399\",\"type\":\"UnionRenderers\"},{\"attributes\":{},\"id\":\"1339\",\"type\":\"BasicTicker\"},{\"attributes\":{\"formatter\":{\"id\":\"1396\",\"type\":\"BasicTickFormatter\"},\"ticker\":{\"id\":\"1339\",\"type\":\"BasicTicker\"}},\"id\":\"1338\",\"type\":\"LinearAxis\"},{\"attributes\":{\"active_drag\":\"auto\",\"active_inspect\":\"auto\",\"active_multi\":null,\"active_scroll\":\"auto\",\"active_tap\":\"auto\",\"tools\":[{\"id\":\"1348\",\"type\":\"PanTool\"},{\"id\":\"1349\",\"type\":\"WheelZoomTool\"},{\"id\":\"1350\",\"type\":\"BoxZoomTool\"},{\"id\":\"1351\",\"type\":\"SaveTool\"},{\"id\":\"1352\",\"type\":\"ResetTool\"},{\"id\":\"1353\",\"type\":\"HelpTool\"}]},\"id\":\"1354\",\"type\":\"Toolbar\"},{\"attributes\":{},\"id\":\"1336\",\"type\":\"LinearScale\"},{\"attributes\":{},\"id\":\"1353\",\"type\":\"HelpTool\"},{\"attributes\":{},\"id\":\"1334\",\"type\":\"LinearScale\"},{\"attributes\":{\"callback\":null},\"id\":\"1332\",\"type\":\"DataRange1d\"},{\"attributes\":{\"callback\":null},\"id\":\"1330\",\"type\":\"DataRange1d\"}],\"root_ids\":[\"1329\"]},\"title\":\"Bokeh Application\",\"version\":\"1.2.0\"}};\n",
       "  var render_items = [{\"docid\":\"19a7c291-66d6-48b8-b576-0a5a1d7e58d0\",\"roots\":{\"1329\":\"7ee6eb34-eece-4901-a124-6a81fd6e4620\"}}];\n",
       "  root.Bokeh.embed.embed_items_notebook(docs_json, render_items);\n",
       "\n",
       "  }\n",
       "  if (root.Bokeh !== undefined) {\n",
       "    embed_document(root);\n",
       "  } else {\n",
       "    var attempts = 0;\n",
       "    var timer = setInterval(function(root) {\n",
       "      if (root.Bokeh !== undefined) {\n",
       "        embed_document(root);\n",
       "        clearInterval(timer);\n",
       "      }\n",
       "      attempts++;\n",
       "      if (attempts > 100) {\n",
       "        console.log(\"Bokeh: ERROR: Unable to run BokehJS code because BokehJS library is missing\");\n",
       "        clearInterval(timer);\n",
       "      }\n",
       "    }, 10, root)\n",
       "  }\n",
       "})(window);"
      ],
      "application/vnd.bokehjs_exec.v0+json": ""
     },
     "metadata": {
      "application/vnd.bokehjs_exec.v0+json": {
       "id": "1329"
      }
     },
     "output_type": "display_data"
    }
   ],
   "source": [
    "p = figure(plot_height = 300, \n",
    "           match_aspect = True)\n",
    "\n",
    "p.rect(x = [4], y = [3], width = [6], height = [5],\n",
    "       \n",
    "       fill_color='lightblue',\n",
    "       line_color='navy',\n",
    "       line_width=2, \n",
    "       \n",
    "       angle = 0.2)\n",
    "\n",
    "show(p)"
   ]
  },
  {
   "cell_type": "markdown",
   "metadata": {},
   "source": [
    "#### The Range1d object\n",
    "This is an object which can be used to set the range for objects such as axes"
   ]
  },
  {
   "cell_type": "code",
   "execution_count": 9,
   "metadata": {},
   "outputs": [],
   "source": [
    "from bokeh.models import Range1d"
   ]
  },
  {
   "cell_type": "markdown",
   "metadata": {},
   "source": [
    "#### We set the ranges for both axes\n",
    "We ensure that the whole quadrilateral is visible. \n",
    "\n",
    "Note that we are now modifying the figure after it has been created and used."
   ]
  },
  {
   "cell_type": "code",
   "execution_count": 10,
   "metadata": {},
   "outputs": [],
   "source": [
    "p.x_range = Range1d(-2, 10)\n",
    "p.y_range = Range1d(-1, 7)"
   ]
  },
  {
   "cell_type": "markdown",
   "metadata": {},
   "source": [
    "#### View the figure\n",
    "Note that the match_aspect property seems to have been reset. This is because the figure size is exactly the same as it was previously, but the range of each axis has been modified."
   ]
  },
  {
   "cell_type": "code",
   "execution_count": 11,
   "metadata": {},
   "outputs": [
    {
     "data": {
      "text/html": [
       "\n",
       "\n",
       "\n",
       "\n",
       "\n",
       "\n",
       "  <div class=\"bk-root\" id=\"28fa5f9a-8533-42a3-b91d-b1d22f20ebad\" data-root-id=\"1329\"></div>\n"
      ]
     },
     "metadata": {},
     "output_type": "display_data"
    },
    {
     "data": {
      "application/javascript": [
       "(function(root) {\n",
       "  function embed_document(root) {\n",
       "    \n",
       "  var docs_json = {\"8f7b090c-ae6c-4f7c-99c5-7b1650b36362\":{\"roots\":{\"references\":[{\"attributes\":{\"below\":[{\"id\":\"1338\",\"type\":\"LinearAxis\"}],\"center\":[{\"id\":\"1342\",\"type\":\"Grid\"},{\"id\":\"1347\",\"type\":\"Grid\"}],\"left\":[{\"id\":\"1343\",\"type\":\"LinearAxis\"}],\"match_aspect\":true,\"plot_height\":300,\"renderers\":[{\"id\":\"1364\",\"type\":\"GlyphRenderer\"}],\"title\":{\"id\":\"1393\",\"type\":\"Title\"},\"toolbar\":{\"id\":\"1354\",\"type\":\"Toolbar\"},\"x_range\":{\"id\":\"1456\",\"type\":\"Range1d\"},\"x_scale\":{\"id\":\"1334\",\"type\":\"LinearScale\"},\"y_range\":{\"id\":\"1493\",\"type\":\"Range1d\"},\"y_scale\":{\"id\":\"1336\",\"type\":\"LinearScale\"}},\"id\":\"1329\",\"subtype\":\"Figure\",\"type\":\"Plot\"},{\"attributes\":{\"callback\":null,\"data\":{\"height\":[5],\"width\":[6],\"x\":[4],\"y\":[3]},\"selected\":{\"id\":\"1400\",\"type\":\"Selection\"},\"selection_policy\":{\"id\":\"1399\",\"type\":\"UnionRenderers\"}},\"id\":\"1361\",\"type\":\"ColumnDataSource\"},{\"attributes\":{\"text\":\"\"},\"id\":\"1393\",\"type\":\"Title\"},{\"attributes\":{\"source\":{\"id\":\"1361\",\"type\":\"ColumnDataSource\"}},\"id\":\"1365\",\"type\":\"CDSView\"},{\"attributes\":{},\"id\":\"1348\",\"type\":\"PanTool\"},{\"attributes\":{\"bottom_units\":\"screen\",\"fill_alpha\":{\"value\":0.5},\"fill_color\":{\"value\":\"lightgrey\"},\"left_units\":\"screen\",\"level\":\"overlay\",\"line_alpha\":{\"value\":1.0},\"line_color\":{\"value\":\"black\"},\"line_dash\":[4,4],\"line_width\":{\"value\":2},\"render_mode\":\"css\",\"right_units\":\"screen\",\"top_units\":\"screen\"},\"id\":\"1401\",\"type\":\"BoxAnnotation\"},{\"attributes\":{\"angle\":{\"units\":\"rad\",\"value\":0.2},\"fill_color\":{\"value\":\"lightblue\"},\"height\":{\"field\":\"height\",\"units\":\"data\"},\"line_color\":{\"value\":\"navy\"},\"line_width\":{\"value\":2},\"width\":{\"field\":\"width\",\"units\":\"data\"},\"x\":{\"field\":\"x\"},\"y\":{\"field\":\"y\"}},\"id\":\"1362\",\"type\":\"Rect\"},{\"attributes\":{},\"id\":\"1351\",\"type\":\"SaveTool\"},{\"attributes\":{\"angle\":{\"units\":\"rad\",\"value\":0.2},\"fill_alpha\":{\"value\":0.1},\"fill_color\":{\"value\":\"#1f77b4\"},\"height\":{\"field\":\"height\",\"units\":\"data\"},\"line_alpha\":{\"value\":0.1},\"line_color\":{\"value\":\"#1f77b4\"},\"line_width\":{\"value\":2},\"width\":{\"field\":\"width\",\"units\":\"data\"},\"x\":{\"field\":\"x\"},\"y\":{\"field\":\"y\"}},\"id\":\"1363\",\"type\":\"Rect\"},{\"attributes\":{\"overlay\":{\"id\":\"1401\",\"type\":\"BoxAnnotation\"}},\"id\":\"1350\",\"type\":\"BoxZoomTool\"},{\"attributes\":{\"callback\":null,\"end\":7,\"start\":-1},\"id\":\"1493\",\"type\":\"Range1d\"},{\"attributes\":{},\"id\":\"1349\",\"type\":\"WheelZoomTool\"},{\"attributes\":{\"callback\":null,\"end\":10,\"start\":-2},\"id\":\"1456\",\"type\":\"Range1d\"},{\"attributes\":{},\"id\":\"1352\",\"type\":\"ResetTool\"},{\"attributes\":{\"dimension\":1,\"ticker\":{\"id\":\"1344\",\"type\":\"BasicTicker\"}},\"id\":\"1347\",\"type\":\"Grid\"},{\"attributes\":{\"formatter\":{\"id\":\"1398\",\"type\":\"BasicTickFormatter\"},\"ticker\":{\"id\":\"1344\",\"type\":\"BasicTicker\"}},\"id\":\"1343\",\"type\":\"LinearAxis\"},{\"attributes\":{\"data_source\":{\"id\":\"1361\",\"type\":\"ColumnDataSource\"},\"glyph\":{\"id\":\"1362\",\"type\":\"Rect\"},\"hover_glyph\":null,\"muted_glyph\":null,\"nonselection_glyph\":{\"id\":\"1363\",\"type\":\"Rect\"},\"selection_glyph\":null,\"view\":{\"id\":\"1365\",\"type\":\"CDSView\"}},\"id\":\"1364\",\"type\":\"GlyphRenderer\"},{\"attributes\":{},\"id\":\"1400\",\"type\":\"Selection\"},{\"attributes\":{},\"id\":\"1344\",\"type\":\"BasicTicker\"},{\"attributes\":{},\"id\":\"1398\",\"type\":\"BasicTickFormatter\"},{\"attributes\":{},\"id\":\"1396\",\"type\":\"BasicTickFormatter\"},{\"attributes\":{\"ticker\":{\"id\":\"1339\",\"type\":\"BasicTicker\"}},\"id\":\"1342\",\"type\":\"Grid\"},{\"attributes\":{},\"id\":\"1399\",\"type\":\"UnionRenderers\"},{\"attributes\":{},\"id\":\"1339\",\"type\":\"BasicTicker\"},{\"attributes\":{\"formatter\":{\"id\":\"1396\",\"type\":\"BasicTickFormatter\"},\"ticker\":{\"id\":\"1339\",\"type\":\"BasicTicker\"}},\"id\":\"1338\",\"type\":\"LinearAxis\"},{\"attributes\":{\"active_drag\":\"auto\",\"active_inspect\":\"auto\",\"active_multi\":null,\"active_scroll\":\"auto\",\"active_tap\":\"auto\",\"tools\":[{\"id\":\"1348\",\"type\":\"PanTool\"},{\"id\":\"1349\",\"type\":\"WheelZoomTool\"},{\"id\":\"1350\",\"type\":\"BoxZoomTool\"},{\"id\":\"1351\",\"type\":\"SaveTool\"},{\"id\":\"1352\",\"type\":\"ResetTool\"},{\"id\":\"1353\",\"type\":\"HelpTool\"}]},\"id\":\"1354\",\"type\":\"Toolbar\"},{\"attributes\":{},\"id\":\"1336\",\"type\":\"LinearScale\"},{\"attributes\":{},\"id\":\"1353\",\"type\":\"HelpTool\"},{\"attributes\":{},\"id\":\"1334\",\"type\":\"LinearScale\"}],\"root_ids\":[\"1329\"]},\"title\":\"Bokeh Application\",\"version\":\"1.2.0\"}};\n",
       "  var render_items = [{\"docid\":\"8f7b090c-ae6c-4f7c-99c5-7b1650b36362\",\"roots\":{\"1329\":\"28fa5f9a-8533-42a3-b91d-b1d22f20ebad\"}}];\n",
       "  root.Bokeh.embed.embed_items_notebook(docs_json, render_items);\n",
       "\n",
       "  }\n",
       "  if (root.Bokeh !== undefined) {\n",
       "    embed_document(root);\n",
       "  } else {\n",
       "    var attempts = 0;\n",
       "    var timer = setInterval(function(root) {\n",
       "      if (root.Bokeh !== undefined) {\n",
       "        embed_document(root);\n",
       "        clearInterval(timer);\n",
       "      }\n",
       "      attempts++;\n",
       "      if (attempts > 100) {\n",
       "        console.log(\"Bokeh: ERROR: Unable to run BokehJS code because BokehJS library is missing\");\n",
       "        clearInterval(timer);\n",
       "      }\n",
       "    }, 10, root)\n",
       "  }\n",
       "})(window);"
      ],
      "application/vnd.bokehjs_exec.v0+json": ""
     },
     "metadata": {
      "application/vnd.bokehjs_exec.v0+json": {
       "id": "1329"
      }
     },
     "output_type": "display_data"
    }
   ],
   "source": [
    "show(p)"
   ]
  },
  {
   "cell_type": "markdown",
   "metadata": {},
   "source": [
    "#### Adjusting the plot dimensions\n",
    "We can now readjust the plot dimensions to match the axis ranges. The ranges for the X and Y axes are 12 and 8 respectively, so we also set the width and height in a 3:2 ratio"
   ]
  },
  {
   "cell_type": "code",
   "execution_count": 12,
   "metadata": {},
   "outputs": [
    {
     "data": {
      "text/html": [
       "\n",
       "\n",
       "\n",
       "\n",
       "\n",
       "\n",
       "  <div class=\"bk-root\" id=\"bd1579b9-b169-4532-9911-695addd457ff\" data-root-id=\"1329\"></div>\n"
      ]
     },
     "metadata": {},
     "output_type": "display_data"
    },
    {
     "data": {
      "application/javascript": [
       "(function(root) {\n",
       "  function embed_document(root) {\n",
       "    \n",
       "  var docs_json = {\"9d523ee8-400e-48ca-8eef-f0e427d10138\":{\"roots\":{\"references\":[{\"attributes\":{\"below\":[{\"id\":\"1338\",\"type\":\"LinearAxis\"}],\"center\":[{\"id\":\"1342\",\"type\":\"Grid\"},{\"id\":\"1347\",\"type\":\"Grid\"}],\"left\":[{\"id\":\"1343\",\"type\":\"LinearAxis\"}],\"match_aspect\":true,\"plot_height\":400,\"renderers\":[{\"id\":\"1364\",\"type\":\"GlyphRenderer\"}],\"title\":{\"id\":\"1393\",\"type\":\"Title\"},\"toolbar\":{\"id\":\"1354\",\"type\":\"Toolbar\"},\"x_range\":{\"id\":\"1456\",\"type\":\"Range1d\"},\"x_scale\":{\"id\":\"1334\",\"type\":\"LinearScale\"},\"y_range\":{\"id\":\"1493\",\"type\":\"Range1d\"},\"y_scale\":{\"id\":\"1336\",\"type\":\"LinearScale\"}},\"id\":\"1329\",\"subtype\":\"Figure\",\"type\":\"Plot\"},{\"attributes\":{\"callback\":null,\"data\":{\"height\":[5],\"width\":[6],\"x\":[4],\"y\":[3]},\"selected\":{\"id\":\"1400\",\"type\":\"Selection\"},\"selection_policy\":{\"id\":\"1399\",\"type\":\"UnionRenderers\"}},\"id\":\"1361\",\"type\":\"ColumnDataSource\"},{\"attributes\":{\"text\":\"\"},\"id\":\"1393\",\"type\":\"Title\"},{\"attributes\":{\"source\":{\"id\":\"1361\",\"type\":\"ColumnDataSource\"}},\"id\":\"1365\",\"type\":\"CDSView\"},{\"attributes\":{},\"id\":\"1348\",\"type\":\"PanTool\"},{\"attributes\":{\"bottom_units\":\"screen\",\"fill_alpha\":{\"value\":0.5},\"fill_color\":{\"value\":\"lightgrey\"},\"left_units\":\"screen\",\"level\":\"overlay\",\"line_alpha\":{\"value\":1.0},\"line_color\":{\"value\":\"black\"},\"line_dash\":[4,4],\"line_width\":{\"value\":2},\"render_mode\":\"css\",\"right_units\":\"screen\",\"top_units\":\"screen\"},\"id\":\"1401\",\"type\":\"BoxAnnotation\"},{\"attributes\":{\"angle\":{\"units\":\"rad\",\"value\":0.2},\"fill_color\":{\"value\":\"lightblue\"},\"height\":{\"field\":\"height\",\"units\":\"data\"},\"line_color\":{\"value\":\"navy\"},\"line_width\":{\"value\":2},\"width\":{\"field\":\"width\",\"units\":\"data\"},\"x\":{\"field\":\"x\"},\"y\":{\"field\":\"y\"}},\"id\":\"1362\",\"type\":\"Rect\"},{\"attributes\":{},\"id\":\"1351\",\"type\":\"SaveTool\"},{\"attributes\":{\"angle\":{\"units\":\"rad\",\"value\":0.2},\"fill_alpha\":{\"value\":0.1},\"fill_color\":{\"value\":\"#1f77b4\"},\"height\":{\"field\":\"height\",\"units\":\"data\"},\"line_alpha\":{\"value\":0.1},\"line_color\":{\"value\":\"#1f77b4\"},\"line_width\":{\"value\":2},\"width\":{\"field\":\"width\",\"units\":\"data\"},\"x\":{\"field\":\"x\"},\"y\":{\"field\":\"y\"}},\"id\":\"1363\",\"type\":\"Rect\"},{\"attributes\":{\"overlay\":{\"id\":\"1401\",\"type\":\"BoxAnnotation\"}},\"id\":\"1350\",\"type\":\"BoxZoomTool\"},{\"attributes\":{\"callback\":null,\"end\":7,\"start\":-1},\"id\":\"1493\",\"type\":\"Range1d\"},{\"attributes\":{},\"id\":\"1349\",\"type\":\"WheelZoomTool\"},{\"attributes\":{\"callback\":null,\"end\":10,\"start\":-2},\"id\":\"1456\",\"type\":\"Range1d\"},{\"attributes\":{},\"id\":\"1352\",\"type\":\"ResetTool\"},{\"attributes\":{\"dimension\":1,\"ticker\":{\"id\":\"1344\",\"type\":\"BasicTicker\"}},\"id\":\"1347\",\"type\":\"Grid\"},{\"attributes\":{\"formatter\":{\"id\":\"1398\",\"type\":\"BasicTickFormatter\"},\"ticker\":{\"id\":\"1344\",\"type\":\"BasicTicker\"}},\"id\":\"1343\",\"type\":\"LinearAxis\"},{\"attributes\":{\"data_source\":{\"id\":\"1361\",\"type\":\"ColumnDataSource\"},\"glyph\":{\"id\":\"1362\",\"type\":\"Rect\"},\"hover_glyph\":null,\"muted_glyph\":null,\"nonselection_glyph\":{\"id\":\"1363\",\"type\":\"Rect\"},\"selection_glyph\":null,\"view\":{\"id\":\"1365\",\"type\":\"CDSView\"}},\"id\":\"1364\",\"type\":\"GlyphRenderer\"},{\"attributes\":{},\"id\":\"1400\",\"type\":\"Selection\"},{\"attributes\":{},\"id\":\"1344\",\"type\":\"BasicTicker\"},{\"attributes\":{},\"id\":\"1398\",\"type\":\"BasicTickFormatter\"},{\"attributes\":{},\"id\":\"1396\",\"type\":\"BasicTickFormatter\"},{\"attributes\":{\"ticker\":{\"id\":\"1339\",\"type\":\"BasicTicker\"}},\"id\":\"1342\",\"type\":\"Grid\"},{\"attributes\":{},\"id\":\"1399\",\"type\":\"UnionRenderers\"},{\"attributes\":{},\"id\":\"1339\",\"type\":\"BasicTicker\"},{\"attributes\":{\"formatter\":{\"id\":\"1396\",\"type\":\"BasicTickFormatter\"},\"ticker\":{\"id\":\"1339\",\"type\":\"BasicTicker\"}},\"id\":\"1338\",\"type\":\"LinearAxis\"},{\"attributes\":{\"active_drag\":\"auto\",\"active_inspect\":\"auto\",\"active_multi\":null,\"active_scroll\":\"auto\",\"active_tap\":\"auto\",\"tools\":[{\"id\":\"1348\",\"type\":\"PanTool\"},{\"id\":\"1349\",\"type\":\"WheelZoomTool\"},{\"id\":\"1350\",\"type\":\"BoxZoomTool\"},{\"id\":\"1351\",\"type\":\"SaveTool\"},{\"id\":\"1352\",\"type\":\"ResetTool\"},{\"id\":\"1353\",\"type\":\"HelpTool\"}]},\"id\":\"1354\",\"type\":\"Toolbar\"},{\"attributes\":{},\"id\":\"1336\",\"type\":\"LinearScale\"},{\"attributes\":{},\"id\":\"1353\",\"type\":\"HelpTool\"},{\"attributes\":{},\"id\":\"1334\",\"type\":\"LinearScale\"}],\"root_ids\":[\"1329\"]},\"title\":\"Bokeh Application\",\"version\":\"1.2.0\"}};\n",
       "  var render_items = [{\"docid\":\"9d523ee8-400e-48ca-8eef-f0e427d10138\",\"roots\":{\"1329\":\"bd1579b9-b169-4532-9911-695addd457ff\"}}];\n",
       "  root.Bokeh.embed.embed_items_notebook(docs_json, render_items);\n",
       "\n",
       "  }\n",
       "  if (root.Bokeh !== undefined) {\n",
       "    embed_document(root);\n",
       "  } else {\n",
       "    var attempts = 0;\n",
       "    var timer = setInterval(function(root) {\n",
       "      if (root.Bokeh !== undefined) {\n",
       "        embed_document(root);\n",
       "        clearInterval(timer);\n",
       "      }\n",
       "      attempts++;\n",
       "      if (attempts > 100) {\n",
       "        console.log(\"Bokeh: ERROR: Unable to run BokehJS code because BokehJS library is missing\");\n",
       "        clearInterval(timer);\n",
       "      }\n",
       "    }, 10, root)\n",
       "  }\n",
       "})(window);"
      ],
      "application/vnd.bokehjs_exec.v0+json": ""
     },
     "metadata": {
      "application/vnd.bokehjs_exec.v0+json": {
       "id": "1329"
      }
     },
     "output_type": "display_data"
    }
   ],
   "source": [
    "p.plot_width = 600\n",
    "p.plot_height = 400\n",
    "\n",
    "show(p)"
   ]
  },
  {
   "cell_type": "markdown",
   "metadata": {},
   "source": [
    "### Other Shapes\n",
    "Bokeh figures suppport a number of other shapes, some of which are explored here.\n",
    "\n",
    "We begin by declaring a figure by setting the range for the axes along with the plot width and height"
   ]
  },
  {
   "cell_type": "code",
   "execution_count": 13,
   "metadata": {},
   "outputs": [],
   "source": [
    "p = figure(x_range = Range1d(0, 10), \n",
    "           y_range = Range1d(2, 7), \n",
    "           \n",
    "           plot_width = 600, \n",
    "           plot_height = 300\n",
    "          )"
   ]
  },
  {
   "cell_type": "markdown",
   "metadata": {},
   "source": [
    "#### Circles\n",
    "We have seen that circles can be used as markers. The x and y coordinates are the circle centers while the size here is the circle diameter in screen space units. \n",
    "\n",
    "To convert screen space units to the axis units, consider that the plot width is also in screen space units. Our plot width is 600, and the size of the first circle is 60 - so 10% of the plot width. The X axis extends from 0 to 10 so the first circle should be 1 X-axis unit wide."
   ]
  },
  {
   "cell_type": "code",
   "execution_count": 14,
   "metadata": {},
   "outputs": [
    {
     "data": {
      "text/html": [
       "<div style=\"display: table;\"><div style=\"display: table-row;\"><div style=\"display: table-cell;\"><b title=\"bokeh.models.renderers.GlyphRenderer\">GlyphRenderer</b>(</div><div style=\"display: table-cell;\">id&nbsp;=&nbsp;'1673', <span id=\"1676\" style=\"cursor: pointer;\">&hellip;)</span></div></div><div class=\"1675\" style=\"display: none;\"><div style=\"display: table-cell;\"></div><div style=\"display: table-cell;\">data_source&nbsp;=&nbsp;ColumnDataSource(id='1670', ...),</div></div><div class=\"1675\" style=\"display: none;\"><div style=\"display: table-cell;\"></div><div style=\"display: table-cell;\">glyph&nbsp;=&nbsp;Circle(id='1671', ...),</div></div><div class=\"1675\" style=\"display: none;\"><div style=\"display: table-cell;\"></div><div style=\"display: table-cell;\">hover_glyph&nbsp;=&nbsp;None,</div></div><div class=\"1675\" style=\"display: none;\"><div style=\"display: table-cell;\"></div><div style=\"display: table-cell;\">js_event_callbacks&nbsp;=&nbsp;{},</div></div><div class=\"1675\" style=\"display: none;\"><div style=\"display: table-cell;\"></div><div style=\"display: table-cell;\">js_property_callbacks&nbsp;=&nbsp;{},</div></div><div class=\"1675\" style=\"display: none;\"><div style=\"display: table-cell;\"></div><div style=\"display: table-cell;\">level&nbsp;=&nbsp;'glyph',</div></div><div class=\"1675\" style=\"display: none;\"><div style=\"display: table-cell;\"></div><div style=\"display: table-cell;\">muted&nbsp;=&nbsp;False,</div></div><div class=\"1675\" style=\"display: none;\"><div style=\"display: table-cell;\"></div><div style=\"display: table-cell;\">muted_glyph&nbsp;=&nbsp;None,</div></div><div class=\"1675\" style=\"display: none;\"><div style=\"display: table-cell;\"></div><div style=\"display: table-cell;\">name&nbsp;=&nbsp;None,</div></div><div class=\"1675\" style=\"display: none;\"><div style=\"display: table-cell;\"></div><div style=\"display: table-cell;\">nonselection_glyph&nbsp;=&nbsp;Circle(id='1672', ...),</div></div><div class=\"1675\" style=\"display: none;\"><div style=\"display: table-cell;\"></div><div style=\"display: table-cell;\">selection_glyph&nbsp;=&nbsp;None,</div></div><div class=\"1675\" style=\"display: none;\"><div style=\"display: table-cell;\"></div><div style=\"display: table-cell;\">subscribed_events&nbsp;=&nbsp;[],</div></div><div class=\"1675\" style=\"display: none;\"><div style=\"display: table-cell;\"></div><div style=\"display: table-cell;\">tags&nbsp;=&nbsp;[],</div></div><div class=\"1675\" style=\"display: none;\"><div style=\"display: table-cell;\"></div><div style=\"display: table-cell;\">view&nbsp;=&nbsp;CDSView(id='1674', ...),</div></div><div class=\"1675\" style=\"display: none;\"><div style=\"display: table-cell;\"></div><div style=\"display: table-cell;\">visible&nbsp;=&nbsp;True,</div></div><div class=\"1675\" style=\"display: none;\"><div style=\"display: table-cell;\"></div><div style=\"display: table-cell;\">x_range_name&nbsp;=&nbsp;'default',</div></div><div class=\"1675\" style=\"display: none;\"><div style=\"display: table-cell;\"></div><div style=\"display: table-cell;\">y_range_name&nbsp;=&nbsp;'default')</div></div></div>\n",
       "<script>\n",
       "(function() {\n",
       "  var expanded = false;\n",
       "  var ellipsis = document.getElementById(\"1676\");\n",
       "  ellipsis.addEventListener(\"click\", function() {\n",
       "    var rows = document.getElementsByClassName(\"1675\");\n",
       "    for (var i = 0; i < rows.length; i++) {\n",
       "      var el = rows[i];\n",
       "      el.style.display = expanded ? \"none\" : \"table-row\";\n",
       "    }\n",
       "    ellipsis.innerHTML = expanded ? \"&hellip;)\" : \"&lsaquo;&lsaquo;&lsaquo;\";\n",
       "    expanded = !expanded;\n",
       "  });\n",
       "})();\n",
       "</script>\n"
      ],
      "text/plain": [
       "GlyphRenderer(id='1673', ...)"
      ]
     },
     "execution_count": 14,
     "metadata": {},
     "output_type": "execute_result"
    }
   ],
   "source": [
    "p.circle(x = [2, 5],\n",
    "         y = [3, 6], \n",
    "         \n",
    "         size = [60, 80],  \n",
    "         alpha = 0.2,\n",
    "         \n",
    "         fill_color = None,\n",
    "         line_color  = 'maroon',\n",
    "         line_width = 4)"
   ]
  },
  {
   "cell_type": "markdown",
   "metadata": {},
   "source": [
    "#### Hexagons\n",
    "Like with circles, the hexagon also takes in the coordinates of the center along with a size measure."
   ]
  },
  {
   "cell_type": "code",
   "execution_count": 15,
   "metadata": {},
   "outputs": [
    {
     "data": {
      "text/html": [
       "<div style=\"display: table;\"><div style=\"display: table-row;\"><div style=\"display: table-cell;\"><b title=\"bokeh.models.renderers.GlyphRenderer\">GlyphRenderer</b>(</div><div style=\"display: table-cell;\">id&nbsp;=&nbsp;'1680', <span id=\"1683\" style=\"cursor: pointer;\">&hellip;)</span></div></div><div class=\"1682\" style=\"display: none;\"><div style=\"display: table-cell;\"></div><div style=\"display: table-cell;\">data_source&nbsp;=&nbsp;ColumnDataSource(id='1677', ...),</div></div><div class=\"1682\" style=\"display: none;\"><div style=\"display: table-cell;\"></div><div style=\"display: table-cell;\">glyph&nbsp;=&nbsp;Hex(id='1678', ...),</div></div><div class=\"1682\" style=\"display: none;\"><div style=\"display: table-cell;\"></div><div style=\"display: table-cell;\">hover_glyph&nbsp;=&nbsp;None,</div></div><div class=\"1682\" style=\"display: none;\"><div style=\"display: table-cell;\"></div><div style=\"display: table-cell;\">js_event_callbacks&nbsp;=&nbsp;{},</div></div><div class=\"1682\" style=\"display: none;\"><div style=\"display: table-cell;\"></div><div style=\"display: table-cell;\">js_property_callbacks&nbsp;=&nbsp;{},</div></div><div class=\"1682\" style=\"display: none;\"><div style=\"display: table-cell;\"></div><div style=\"display: table-cell;\">level&nbsp;=&nbsp;'glyph',</div></div><div class=\"1682\" style=\"display: none;\"><div style=\"display: table-cell;\"></div><div style=\"display: table-cell;\">muted&nbsp;=&nbsp;False,</div></div><div class=\"1682\" style=\"display: none;\"><div style=\"display: table-cell;\"></div><div style=\"display: table-cell;\">muted_glyph&nbsp;=&nbsp;None,</div></div><div class=\"1682\" style=\"display: none;\"><div style=\"display: table-cell;\"></div><div style=\"display: table-cell;\">name&nbsp;=&nbsp;None,</div></div><div class=\"1682\" style=\"display: none;\"><div style=\"display: table-cell;\"></div><div style=\"display: table-cell;\">nonselection_glyph&nbsp;=&nbsp;Hex(id='1679', ...),</div></div><div class=\"1682\" style=\"display: none;\"><div style=\"display: table-cell;\"></div><div style=\"display: table-cell;\">selection_glyph&nbsp;=&nbsp;None,</div></div><div class=\"1682\" style=\"display: none;\"><div style=\"display: table-cell;\"></div><div style=\"display: table-cell;\">subscribed_events&nbsp;=&nbsp;[],</div></div><div class=\"1682\" style=\"display: none;\"><div style=\"display: table-cell;\"></div><div style=\"display: table-cell;\">tags&nbsp;=&nbsp;[],</div></div><div class=\"1682\" style=\"display: none;\"><div style=\"display: table-cell;\"></div><div style=\"display: table-cell;\">view&nbsp;=&nbsp;CDSView(id='1681', ...),</div></div><div class=\"1682\" style=\"display: none;\"><div style=\"display: table-cell;\"></div><div style=\"display: table-cell;\">visible&nbsp;=&nbsp;True,</div></div><div class=\"1682\" style=\"display: none;\"><div style=\"display: table-cell;\"></div><div style=\"display: table-cell;\">x_range_name&nbsp;=&nbsp;'default',</div></div><div class=\"1682\" style=\"display: none;\"><div style=\"display: table-cell;\"></div><div style=\"display: table-cell;\">y_range_name&nbsp;=&nbsp;'default')</div></div></div>\n",
       "<script>\n",
       "(function() {\n",
       "  var expanded = false;\n",
       "  var ellipsis = document.getElementById(\"1683\");\n",
       "  ellipsis.addEventListener(\"click\", function() {\n",
       "    var rows = document.getElementsByClassName(\"1682\");\n",
       "    for (var i = 0; i < rows.length; i++) {\n",
       "      var el = rows[i];\n",
       "      el.style.display = expanded ? \"none\" : \"table-row\";\n",
       "    }\n",
       "    ellipsis.innerHTML = expanded ? \"&hellip;)\" : \"&lsaquo;&lsaquo;&lsaquo;\";\n",
       "    expanded = !expanded;\n",
       "  });\n",
       "})();\n",
       "</script>\n"
      ],
      "text/plain": [
       "GlyphRenderer(id='1680', ...)"
      ]
     },
     "execution_count": 15,
     "metadata": {},
     "output_type": "execute_result"
    }
   ],
   "source": [
    "p.hex(x = [2], \n",
    "      y = [5], \n",
    "           \n",
    "      line_color = 'deeppink', \n",
    "      line_width = 4,\n",
    "           \n",
    "      size = 150,\n",
    "      fill_color = 'white')"
   ]
  },
  {
   "cell_type": "markdown",
   "metadata": {},
   "source": [
    "#### Ellipse\n",
    "Along with the ellipse centers, we can specify the height and width of the ellipse in axis units rather than screen space units.\n",
    "\n",
    "Note that we are individually specifying the widths for the two ellipses by passing a list of width values. But the height for all ellipses is fixed at 2 units."
   ]
  },
  {
   "cell_type": "code",
   "execution_count": 16,
   "metadata": {},
   "outputs": [
    {
     "data": {
      "text/html": [
       "<div style=\"display: table;\"><div style=\"display: table-row;\"><div style=\"display: table-cell;\"><b title=\"bokeh.models.renderers.GlyphRenderer\">GlyphRenderer</b>(</div><div style=\"display: table-cell;\">id&nbsp;=&nbsp;'1687', <span id=\"1690\" style=\"cursor: pointer;\">&hellip;)</span></div></div><div class=\"1689\" style=\"display: none;\"><div style=\"display: table-cell;\"></div><div style=\"display: table-cell;\">data_source&nbsp;=&nbsp;ColumnDataSource(id='1684', ...),</div></div><div class=\"1689\" style=\"display: none;\"><div style=\"display: table-cell;\"></div><div style=\"display: table-cell;\">glyph&nbsp;=&nbsp;Ellipse(id='1685', ...),</div></div><div class=\"1689\" style=\"display: none;\"><div style=\"display: table-cell;\"></div><div style=\"display: table-cell;\">hover_glyph&nbsp;=&nbsp;None,</div></div><div class=\"1689\" style=\"display: none;\"><div style=\"display: table-cell;\"></div><div style=\"display: table-cell;\">js_event_callbacks&nbsp;=&nbsp;{},</div></div><div class=\"1689\" style=\"display: none;\"><div style=\"display: table-cell;\"></div><div style=\"display: table-cell;\">js_property_callbacks&nbsp;=&nbsp;{},</div></div><div class=\"1689\" style=\"display: none;\"><div style=\"display: table-cell;\"></div><div style=\"display: table-cell;\">level&nbsp;=&nbsp;'glyph',</div></div><div class=\"1689\" style=\"display: none;\"><div style=\"display: table-cell;\"></div><div style=\"display: table-cell;\">muted&nbsp;=&nbsp;False,</div></div><div class=\"1689\" style=\"display: none;\"><div style=\"display: table-cell;\"></div><div style=\"display: table-cell;\">muted_glyph&nbsp;=&nbsp;None,</div></div><div class=\"1689\" style=\"display: none;\"><div style=\"display: table-cell;\"></div><div style=\"display: table-cell;\">name&nbsp;=&nbsp;None,</div></div><div class=\"1689\" style=\"display: none;\"><div style=\"display: table-cell;\"></div><div style=\"display: table-cell;\">nonselection_glyph&nbsp;=&nbsp;Ellipse(id='1686', ...),</div></div><div class=\"1689\" style=\"display: none;\"><div style=\"display: table-cell;\"></div><div style=\"display: table-cell;\">selection_glyph&nbsp;=&nbsp;None,</div></div><div class=\"1689\" style=\"display: none;\"><div style=\"display: table-cell;\"></div><div style=\"display: table-cell;\">subscribed_events&nbsp;=&nbsp;[],</div></div><div class=\"1689\" style=\"display: none;\"><div style=\"display: table-cell;\"></div><div style=\"display: table-cell;\">tags&nbsp;=&nbsp;[],</div></div><div class=\"1689\" style=\"display: none;\"><div style=\"display: table-cell;\"></div><div style=\"display: table-cell;\">view&nbsp;=&nbsp;CDSView(id='1688', ...),</div></div><div class=\"1689\" style=\"display: none;\"><div style=\"display: table-cell;\"></div><div style=\"display: table-cell;\">visible&nbsp;=&nbsp;True,</div></div><div class=\"1689\" style=\"display: none;\"><div style=\"display: table-cell;\"></div><div style=\"display: table-cell;\">x_range_name&nbsp;=&nbsp;'default',</div></div><div class=\"1689\" style=\"display: none;\"><div style=\"display: table-cell;\"></div><div style=\"display: table-cell;\">y_range_name&nbsp;=&nbsp;'default')</div></div></div>\n",
       "<script>\n",
       "(function() {\n",
       "  var expanded = false;\n",
       "  var ellipsis = document.getElementById(\"1690\");\n",
       "  ellipsis.addEventListener(\"click\", function() {\n",
       "    var rows = document.getElementsByClassName(\"1689\");\n",
       "    for (var i = 0; i < rows.length; i++) {\n",
       "      var el = rows[i];\n",
       "      el.style.display = expanded ? \"none\" : \"table-row\";\n",
       "    }\n",
       "    ellipsis.innerHTML = expanded ? \"&hellip;)\" : \"&lsaquo;&lsaquo;&lsaquo;\";\n",
       "    expanded = !expanded;\n",
       "  });\n",
       "})();\n",
       "</script>\n"
      ],
      "text/plain": [
       "GlyphRenderer(id='1687', ...)"
      ]
     },
     "execution_count": 16,
     "metadata": {},
     "output_type": "execute_result"
    }
   ],
   "source": [
    "p.ellipse(x = [5, 8], \n",
    "          y = [3, 5], \n",
    "          \n",
    "          width = [1, 3], \n",
    "          height = 2,\n",
    "          \n",
    "          color = 'tomato')"
   ]
  },
  {
   "cell_type": "code",
   "execution_count": 17,
   "metadata": {},
   "outputs": [
    {
     "data": {
      "text/html": [
       "\n",
       "\n",
       "\n",
       "\n",
       "\n",
       "\n",
       "  <div class=\"bk-root\" id=\"73aa9774-09c8-4a06-921c-0f92edca5e2d\" data-root-id=\"1640\"></div>\n"
      ]
     },
     "metadata": {},
     "output_type": "display_data"
    },
    {
     "data": {
      "application/javascript": [
       "(function(root) {\n",
       "  function embed_document(root) {\n",
       "    \n",
       "  var docs_json = {\"5d8b99ce-5cd3-4c59-8811-735274f3f4f5\":{\"roots\":{\"references\":[{\"attributes\":{\"below\":[{\"id\":\"1647\",\"type\":\"LinearAxis\"}],\"center\":[{\"id\":\"1651\",\"type\":\"Grid\"},{\"id\":\"1656\",\"type\":\"Grid\"}],\"left\":[{\"id\":\"1652\",\"type\":\"LinearAxis\"}],\"plot_height\":300,\"renderers\":[{\"id\":\"1673\",\"type\":\"GlyphRenderer\"},{\"id\":\"1680\",\"type\":\"GlyphRenderer\"},{\"id\":\"1687\",\"type\":\"GlyphRenderer\"}],\"title\":{\"id\":\"1727\",\"type\":\"Title\"},\"toolbar\":{\"id\":\"1663\",\"type\":\"Toolbar\"},\"x_range\":{\"id\":\"1638\",\"type\":\"Range1d\"},\"x_scale\":{\"id\":\"1643\",\"type\":\"LinearScale\"},\"y_range\":{\"id\":\"1639\",\"type\":\"Range1d\"},\"y_scale\":{\"id\":\"1645\",\"type\":\"LinearScale\"}},\"id\":\"1640\",\"subtype\":\"Figure\",\"type\":\"Plot\"},{\"attributes\":{\"source\":{\"id\":\"1684\",\"type\":\"ColumnDataSource\"}},\"id\":\"1688\",\"type\":\"CDSView\"},{\"attributes\":{\"source\":{\"id\":\"1677\",\"type\":\"ColumnDataSource\"}},\"id\":\"1681\",\"type\":\"CDSView\"},{\"attributes\":{\"fill_alpha\":{\"value\":0.1},\"fill_color\":{\"value\":\"#1f77b4\"},\"line_alpha\":{\"value\":0.1},\"line_color\":{\"value\":\"#1f77b4\"},\"line_width\":{\"value\":4},\"size\":{\"field\":\"size\",\"units\":\"screen\"},\"x\":{\"field\":\"x\"},\"y\":{\"field\":\"y\"}},\"id\":\"1672\",\"type\":\"Circle\"},{\"attributes\":{\"fill_alpha\":{\"value\":0.1},\"fill_color\":{\"value\":\"#1f77b4\"},\"line_alpha\":{\"value\":0.1},\"line_color\":{\"value\":\"#1f77b4\"},\"line_width\":{\"value\":4},\"size\":{\"units\":\"screen\",\"value\":150},\"x\":{\"field\":\"x\"},\"y\":{\"field\":\"y\"}},\"id\":\"1679\",\"type\":\"Hex\"},{\"attributes\":{\"fill_alpha\":{\"value\":0.2},\"fill_color\":{\"value\":null},\"line_alpha\":{\"value\":0.2},\"line_color\":{\"value\":\"maroon\"},\"line_width\":{\"value\":4},\"size\":{\"field\":\"size\",\"units\":\"screen\"},\"x\":{\"field\":\"x\"},\"y\":{\"field\":\"y\"}},\"id\":\"1671\",\"type\":\"Circle\"},{\"attributes\":{\"callback\":null,\"end\":7,\"start\":2},\"id\":\"1639\",\"type\":\"Range1d\"},{\"attributes\":{\"callback\":null,\"end\":10},\"id\":\"1638\",\"type\":\"Range1d\"},{\"attributes\":{\"data_source\":{\"id\":\"1677\",\"type\":\"ColumnDataSource\"},\"glyph\":{\"id\":\"1678\",\"type\":\"Hex\"},\"hover_glyph\":null,\"muted_glyph\":null,\"nonselection_glyph\":{\"id\":\"1679\",\"type\":\"Hex\"},\"selection_glyph\":null,\"view\":{\"id\":\"1681\",\"type\":\"CDSView\"}},\"id\":\"1680\",\"type\":\"GlyphRenderer\"},{\"attributes\":{\"data_source\":{\"id\":\"1670\",\"type\":\"ColumnDataSource\"},\"glyph\":{\"id\":\"1671\",\"type\":\"Circle\"},\"hover_glyph\":null,\"muted_glyph\":null,\"nonselection_glyph\":{\"id\":\"1672\",\"type\":\"Circle\"},\"selection_glyph\":null,\"view\":{\"id\":\"1674\",\"type\":\"CDSView\"}},\"id\":\"1673\",\"type\":\"GlyphRenderer\"},{\"attributes\":{\"text\":\"\"},\"id\":\"1727\",\"type\":\"Title\"},{\"attributes\":{\"callback\":null,\"data\":{\"size\":[60,80],\"x\":[2,5],\"y\":[3,6]},\"selected\":{\"id\":\"1734\",\"type\":\"Selection\"},\"selection_policy\":{\"id\":\"1733\",\"type\":\"UnionRenderers\"}},\"id\":\"1670\",\"type\":\"ColumnDataSource\"},{\"attributes\":{},\"id\":\"1730\",\"type\":\"BasicTickFormatter\"},{\"attributes\":{\"fill_color\":{\"value\":\"white\"},\"line_color\":{\"value\":\"deeppink\"},\"line_width\":{\"value\":4},\"size\":{\"units\":\"screen\",\"value\":150},\"x\":{\"field\":\"x\"},\"y\":{\"field\":\"y\"}},\"id\":\"1678\",\"type\":\"Hex\"},{\"attributes\":{},\"id\":\"1732\",\"type\":\"BasicTickFormatter\"},{\"attributes\":{\"formatter\":{\"id\":\"1732\",\"type\":\"BasicTickFormatter\"},\"ticker\":{\"id\":\"1653\",\"type\":\"BasicTicker\"}},\"id\":\"1652\",\"type\":\"LinearAxis\"},{\"attributes\":{\"source\":{\"id\":\"1670\",\"type\":\"ColumnDataSource\"}},\"id\":\"1674\",\"type\":\"CDSView\"},{\"attributes\":{\"dimension\":1,\"ticker\":{\"id\":\"1653\",\"type\":\"BasicTicker\"}},\"id\":\"1656\",\"type\":\"Grid\"},{\"attributes\":{},\"id\":\"1660\",\"type\":\"SaveTool\"},{\"attributes\":{},\"id\":\"1661\",\"type\":\"ResetTool\"},{\"attributes\":{},\"id\":\"1733\",\"type\":\"UnionRenderers\"},{\"attributes\":{},\"id\":\"1658\",\"type\":\"WheelZoomTool\"},{\"attributes\":{},\"id\":\"1653\",\"type\":\"BasicTicker\"},{\"attributes\":{},\"id\":\"1734\",\"type\":\"Selection\"},{\"attributes\":{},\"id\":\"1643\",\"type\":\"LinearScale\"},{\"attributes\":{},\"id\":\"1735\",\"type\":\"UnionRenderers\"},{\"attributes\":{},\"id\":\"1736\",\"type\":\"Selection\"},{\"attributes\":{\"ticker\":{\"id\":\"1648\",\"type\":\"BasicTicker\"}},\"id\":\"1651\",\"type\":\"Grid\"},{\"attributes\":{},\"id\":\"1657\",\"type\":\"PanTool\"},{\"attributes\":{},\"id\":\"1737\",\"type\":\"UnionRenderers\"},{\"attributes\":{\"formatter\":{\"id\":\"1730\",\"type\":\"BasicTickFormatter\"},\"ticker\":{\"id\":\"1648\",\"type\":\"BasicTicker\"}},\"id\":\"1647\",\"type\":\"LinearAxis\"},{\"attributes\":{\"callback\":null,\"data\":{\"width\":[1,3],\"x\":[5,8],\"y\":[3,5]},\"selected\":{\"id\":\"1738\",\"type\":\"Selection\"},\"selection_policy\":{\"id\":\"1737\",\"type\":\"UnionRenderers\"}},\"id\":\"1684\",\"type\":\"ColumnDataSource\"},{\"attributes\":{},\"id\":\"1662\",\"type\":\"HelpTool\"},{\"attributes\":{\"overlay\":{\"id\":\"1739\",\"type\":\"BoxAnnotation\"}},\"id\":\"1659\",\"type\":\"BoxZoomTool\"},{\"attributes\":{},\"id\":\"1738\",\"type\":\"Selection\"},{\"attributes\":{},\"id\":\"1648\",\"type\":\"BasicTicker\"},{\"attributes\":{\"fill_color\":{\"value\":\"tomato\"},\"height\":{\"units\":\"data\",\"value\":2},\"line_color\":{\"value\":\"tomato\"},\"width\":{\"field\":\"width\",\"units\":\"data\"},\"x\":{\"field\":\"x\"},\"y\":{\"field\":\"y\"}},\"id\":\"1685\",\"type\":\"Ellipse\"},{\"attributes\":{\"callback\":null,\"data\":{\"x\":[2],\"y\":[5]},\"selected\":{\"id\":\"1736\",\"type\":\"Selection\"},\"selection_policy\":{\"id\":\"1735\",\"type\":\"UnionRenderers\"}},\"id\":\"1677\",\"type\":\"ColumnDataSource\"},{\"attributes\":{\"bottom_units\":\"screen\",\"fill_alpha\":{\"value\":0.5},\"fill_color\":{\"value\":\"lightgrey\"},\"left_units\":\"screen\",\"level\":\"overlay\",\"line_alpha\":{\"value\":1.0},\"line_color\":{\"value\":\"black\"},\"line_dash\":[4,4],\"line_width\":{\"value\":2},\"render_mode\":\"css\",\"right_units\":\"screen\",\"top_units\":\"screen\"},\"id\":\"1739\",\"type\":\"BoxAnnotation\"},{\"attributes\":{},\"id\":\"1645\",\"type\":\"LinearScale\"},{\"attributes\":{\"fill_alpha\":{\"value\":0.1},\"fill_color\":{\"value\":\"#1f77b4\"},\"height\":{\"units\":\"data\",\"value\":2},\"line_alpha\":{\"value\":0.1},\"line_color\":{\"value\":\"#1f77b4\"},\"width\":{\"field\":\"width\",\"units\":\"data\"},\"x\":{\"field\":\"x\"},\"y\":{\"field\":\"y\"}},\"id\":\"1686\",\"type\":\"Ellipse\"},{\"attributes\":{\"active_drag\":\"auto\",\"active_inspect\":\"auto\",\"active_multi\":null,\"active_scroll\":\"auto\",\"active_tap\":\"auto\",\"tools\":[{\"id\":\"1657\",\"type\":\"PanTool\"},{\"id\":\"1658\",\"type\":\"WheelZoomTool\"},{\"id\":\"1659\",\"type\":\"BoxZoomTool\"},{\"id\":\"1660\",\"type\":\"SaveTool\"},{\"id\":\"1661\",\"type\":\"ResetTool\"},{\"id\":\"1662\",\"type\":\"HelpTool\"}]},\"id\":\"1663\",\"type\":\"Toolbar\"},{\"attributes\":{\"data_source\":{\"id\":\"1684\",\"type\":\"ColumnDataSource\"},\"glyph\":{\"id\":\"1685\",\"type\":\"Ellipse\"},\"hover_glyph\":null,\"muted_glyph\":null,\"nonselection_glyph\":{\"id\":\"1686\",\"type\":\"Ellipse\"},\"selection_glyph\":null,\"view\":{\"id\":\"1688\",\"type\":\"CDSView\"}},\"id\":\"1687\",\"type\":\"GlyphRenderer\"}],\"root_ids\":[\"1640\"]},\"title\":\"Bokeh Application\",\"version\":\"1.2.0\"}};\n",
       "  var render_items = [{\"docid\":\"5d8b99ce-5cd3-4c59-8811-735274f3f4f5\",\"roots\":{\"1640\":\"73aa9774-09c8-4a06-921c-0f92edca5e2d\"}}];\n",
       "  root.Bokeh.embed.embed_items_notebook(docs_json, render_items);\n",
       "\n",
       "  }\n",
       "  if (root.Bokeh !== undefined) {\n",
       "    embed_document(root);\n",
       "  } else {\n",
       "    var attempts = 0;\n",
       "    var timer = setInterval(function(root) {\n",
       "      if (root.Bokeh !== undefined) {\n",
       "        embed_document(root);\n",
       "        clearInterval(timer);\n",
       "      }\n",
       "      attempts++;\n",
       "      if (attempts > 100) {\n",
       "        console.log(\"Bokeh: ERROR: Unable to run BokehJS code because BokehJS library is missing\");\n",
       "        clearInterval(timer);\n",
       "      }\n",
       "    }, 10, root)\n",
       "  }\n",
       "})(window);"
      ],
      "application/vnd.bokehjs_exec.v0+json": ""
     },
     "metadata": {
      "application/vnd.bokehjs_exec.v0+json": {
       "id": "1640"
      }
     },
     "output_type": "display_data"
    }
   ],
   "source": [
    "show(p)"
   ]
  },
  {
   "cell_type": "markdown",
   "metadata": {},
   "source": [
    "### Polygons\n",
    "Polygons can be defined using patch glyphs. "
   ]
  },
  {
   "cell_type": "code",
   "execution_count": 18,
   "metadata": {},
   "outputs": [],
   "source": [
    "p = figure(x_range = Range1d(0, 10), \n",
    "           y_range = Range1d(2, 7), \n",
    "           \n",
    "           plot_width = 600, \n",
    "           plot_height = 300\n",
    "          )"
   ]
  },
  {
   "cell_type": "markdown",
   "metadata": {},
   "source": [
    "#### Define the patch\n",
    "These will accept a sequence of X and Y coordinates. The polygon is completed by connecting the last point in the list to the first one"
   ]
  },
  {
   "cell_type": "code",
   "execution_count": 19,
   "metadata": {},
   "outputs": [
    {
     "data": {
      "text/html": [
       "\n",
       "\n",
       "\n",
       "\n",
       "\n",
       "\n",
       "  <div class=\"bk-root\" id=\"a2f63409-76a7-413e-b730-28e2c9231976\" data-root-id=\"1820\"></div>\n"
      ]
     },
     "metadata": {},
     "output_type": "display_data"
    },
    {
     "data": {
      "application/javascript": [
       "(function(root) {\n",
       "  function embed_document(root) {\n",
       "    \n",
       "  var docs_json = {\"d272a813-2f66-4cf8-826c-05004f19db38\":{\"roots\":{\"references\":[{\"attributes\":{\"below\":[{\"id\":\"1827\",\"type\":\"LinearAxis\"}],\"center\":[{\"id\":\"1831\",\"type\":\"Grid\"},{\"id\":\"1836\",\"type\":\"Grid\"}],\"left\":[{\"id\":\"1832\",\"type\":\"LinearAxis\"}],\"plot_height\":300,\"renderers\":[{\"id\":\"1853\",\"type\":\"GlyphRenderer\"}],\"title\":{\"id\":\"1904\",\"type\":\"Title\"},\"toolbar\":{\"id\":\"1843\",\"type\":\"Toolbar\"},\"x_range\":{\"id\":\"1818\",\"type\":\"Range1d\"},\"x_scale\":{\"id\":\"1823\",\"type\":\"LinearScale\"},\"y_range\":{\"id\":\"1819\",\"type\":\"Range1d\"},\"y_scale\":{\"id\":\"1825\",\"type\":\"LinearScale\"}},\"id\":\"1820\",\"subtype\":\"Figure\",\"type\":\"Plot\"},{\"attributes\":{},\"id\":\"1840\",\"type\":\"SaveTool\"},{\"attributes\":{\"data_source\":{\"id\":\"1850\",\"type\":\"ColumnDataSource\"},\"glyph\":{\"id\":\"1851\",\"type\":\"Patch\"},\"hover_glyph\":null,\"muted_glyph\":null,\"nonselection_glyph\":{\"id\":\"1852\",\"type\":\"Patch\"},\"selection_glyph\":null,\"view\":{\"id\":\"1854\",\"type\":\"CDSView\"}},\"id\":\"1853\",\"type\":\"GlyphRenderer\"},{\"attributes\":{},\"id\":\"1841\",\"type\":\"ResetTool\"},{\"attributes\":{\"callback\":null,\"end\":10},\"id\":\"1818\",\"type\":\"Range1d\"},{\"attributes\":{\"source\":{\"id\":\"1850\",\"type\":\"ColumnDataSource\"}},\"id\":\"1854\",\"type\":\"CDSView\"},{\"attributes\":{},\"id\":\"1842\",\"type\":\"HelpTool\"},{\"attributes\":{\"callback\":null,\"end\":7,\"start\":2},\"id\":\"1819\",\"type\":\"Range1d\"},{\"attributes\":{\"text\":\"\"},\"id\":\"1904\",\"type\":\"Title\"},{\"attributes\":{\"active_drag\":\"auto\",\"active_inspect\":\"auto\",\"active_multi\":null,\"active_scroll\":\"auto\",\"active_tap\":\"auto\",\"tools\":[{\"id\":\"1837\",\"type\":\"PanTool\"},{\"id\":\"1838\",\"type\":\"WheelZoomTool\"},{\"id\":\"1839\",\"type\":\"BoxZoomTool\"},{\"id\":\"1840\",\"type\":\"SaveTool\"},{\"id\":\"1841\",\"type\":\"ResetTool\"},{\"id\":\"1842\",\"type\":\"HelpTool\"}]},\"id\":\"1843\",\"type\":\"Toolbar\"},{\"attributes\":{},\"id\":\"1823\",\"type\":\"LinearScale\"},{\"attributes\":{},\"id\":\"1907\",\"type\":\"BasicTickFormatter\"},{\"attributes\":{},\"id\":\"1825\",\"type\":\"LinearScale\"},{\"attributes\":{},\"id\":\"1909\",\"type\":\"BasicTickFormatter\"},{\"attributes\":{\"formatter\":{\"id\":\"1907\",\"type\":\"BasicTickFormatter\"},\"ticker\":{\"id\":\"1828\",\"type\":\"BasicTicker\"}},\"id\":\"1827\",\"type\":\"LinearAxis\"},{\"attributes\":{},\"id\":\"1910\",\"type\":\"UnionRenderers\"},{\"attributes\":{},\"id\":\"1828\",\"type\":\"BasicTicker\"},{\"attributes\":{},\"id\":\"1911\",\"type\":\"Selection\"},{\"attributes\":{\"ticker\":{\"id\":\"1828\",\"type\":\"BasicTicker\"}},\"id\":\"1831\",\"type\":\"Grid\"},{\"attributes\":{\"bottom_units\":\"screen\",\"fill_alpha\":{\"value\":0.5},\"fill_color\":{\"value\":\"lightgrey\"},\"left_units\":\"screen\",\"level\":\"overlay\",\"line_alpha\":{\"value\":1.0},\"line_color\":{\"value\":\"black\"},\"line_dash\":[4,4],\"line_width\":{\"value\":2},\"render_mode\":\"css\",\"right_units\":\"screen\",\"top_units\":\"screen\"},\"id\":\"1912\",\"type\":\"BoxAnnotation\"},{\"attributes\":{\"formatter\":{\"id\":\"1909\",\"type\":\"BasicTickFormatter\"},\"ticker\":{\"id\":\"1833\",\"type\":\"BasicTicker\"}},\"id\":\"1832\",\"type\":\"LinearAxis\"},{\"attributes\":{},\"id\":\"1833\",\"type\":\"BasicTicker\"},{\"attributes\":{\"dimension\":1,\"ticker\":{\"id\":\"1833\",\"type\":\"BasicTicker\"}},\"id\":\"1836\",\"type\":\"Grid\"},{\"attributes\":{\"callback\":null,\"data\":{\"x\":[2,3,5,8,6],\"y\":[4,6,4,5,3]},\"selected\":{\"id\":\"1911\",\"type\":\"Selection\"},\"selection_policy\":{\"id\":\"1910\",\"type\":\"UnionRenderers\"}},\"id\":\"1850\",\"type\":\"ColumnDataSource\"},{\"attributes\":{},\"id\":\"1837\",\"type\":\"PanTool\"},{\"attributes\":{\"fill_color\":\"violet\",\"line_color\":\"violet\",\"x\":{\"field\":\"x\"},\"y\":{\"field\":\"y\"}},\"id\":\"1851\",\"type\":\"Patch\"},{\"attributes\":{},\"id\":\"1838\",\"type\":\"WheelZoomTool\"},{\"attributes\":{\"fill_alpha\":0.1,\"fill_color\":\"#1f77b4\",\"line_alpha\":0.1,\"line_color\":\"#1f77b4\",\"x\":{\"field\":\"x\"},\"y\":{\"field\":\"y\"}},\"id\":\"1852\",\"type\":\"Patch\"},{\"attributes\":{\"overlay\":{\"id\":\"1912\",\"type\":\"BoxAnnotation\"}},\"id\":\"1839\",\"type\":\"BoxZoomTool\"}],\"root_ids\":[\"1820\"]},\"title\":\"Bokeh Application\",\"version\":\"1.2.0\"}};\n",
       "  var render_items = [{\"docid\":\"d272a813-2f66-4cf8-826c-05004f19db38\",\"roots\":{\"1820\":\"a2f63409-76a7-413e-b730-28e2c9231976\"}}];\n",
       "  root.Bokeh.embed.embed_items_notebook(docs_json, render_items);\n",
       "\n",
       "  }\n",
       "  if (root.Bokeh !== undefined) {\n",
       "    embed_document(root);\n",
       "  } else {\n",
       "    var attempts = 0;\n",
       "    var timer = setInterval(function(root) {\n",
       "      if (root.Bokeh !== undefined) {\n",
       "        embed_document(root);\n",
       "        clearInterval(timer);\n",
       "      }\n",
       "      attempts++;\n",
       "      if (attempts > 100) {\n",
       "        console.log(\"Bokeh: ERROR: Unable to run BokehJS code because BokehJS library is missing\");\n",
       "        clearInterval(timer);\n",
       "      }\n",
       "    }, 10, root)\n",
       "  }\n",
       "})(window);"
      ],
      "application/vnd.bokehjs_exec.v0+json": ""
     },
     "metadata": {
      "application/vnd.bokehjs_exec.v0+json": {
       "id": "1820"
      }
     },
     "output_type": "display_data"
    }
   ],
   "source": [
    "p.patch([2, 3, 5, 8, 6], \n",
    "        [4, 6, 4, 5, 3],\n",
    "        \n",
    "        color='violet')\n",
    "\n",
    "show(p)"
   ]
  }
 ],
 "metadata": {
  "kernelspec": {
   "display_name": "Python 3",
   "language": "python",
   "name": "python3"
  },
  "language_info": {
   "codemirror_mode": {
    "name": "ipython",
    "version": 3
   },
   "file_extension": ".py",
   "mimetype": "text/x-python",
   "name": "python",
   "nbconvert_exporter": "python",
   "pygments_lexer": "ipython3",
   "version": "3.7.3"
  }
 },
 "nbformat": 4,
 "nbformat_minor": 2
}
