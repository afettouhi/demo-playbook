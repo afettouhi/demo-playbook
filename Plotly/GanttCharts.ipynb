{
 "cells": [
  {
   "cell_type": "markdown",
   "metadata": {},
   "source": [
    "# A Gantt chart provides a graphical illustration of a schedule that helps to plan, coordinate, and track specific tasks in a project."
   ]
  },
  {
   "cell_type": "code",
   "execution_count": 1,
   "metadata": {},
   "outputs": [
    {
     "data": {
      "text/html": [
       "        <script type=\"text/javascript\">\n",
       "        window.PlotlyConfig = {MathJaxConfig: 'local'};\n",
       "        if (window.MathJax) {MathJax.Hub.Config({SVG: {font: \"STIX-Web\"}});}\n",
       "        if (typeof require !== 'undefined') {\n",
       "        require.undef(\"plotly\");\n",
       "        requirejs.config({\n",
       "            paths: {\n",
       "                'plotly': ['https://cdn.plot.ly/plotly-latest.min']\n",
       "            }\n",
       "        });\n",
       "        require(['plotly'], function(Plotly) {\n",
       "            window._Plotly = Plotly;\n",
       "        });\n",
       "        }\n",
       "        </script>\n",
       "        "
      ]
     },
     "metadata": {},
     "output_type": "display_data"
    }
   ],
   "source": [
    "import plotly.plotly as py\n",
    "import plotly.offline as offline\n",
    "\n",
    "offline.init_notebook_mode(connected=True)"
   ]
  },
  {
   "cell_type": "markdown",
   "metadata": {},
   "source": [
    "#### Import Plotly's figure factory\n",
    "This is the package which contains the Gantt chart"
   ]
  },
  {
   "cell_type": "code",
   "execution_count": 2,
   "metadata": {},
   "outputs": [],
   "source": [
    "import plotly.figure_factory as ff"
   ]
  },
  {
   "cell_type": "markdown",
   "metadata": {},
   "source": [
    "#### Define a simple schedule\n",
    "The fields which are required to plot a Gantt Chart are:\n",
    "* <b>Task</b>, which is a string\n",
    "* <b>Start</b> which is the task's start time expressed in some date format\n",
    "* <b>Finish</b> which is the end time for the task, also in some date format\n",
    "\n",
    "Note that the times for the tasks can overlap"
   ]
  },
  {
   "cell_type": "code",
   "execution_count": 3,
   "metadata": {},
   "outputs": [],
   "source": [
    "tasks = [dict(Task='Task 1', \n",
    "              Start='2018-01-01', \n",
    "              Finish='2018-02-28'),\n",
    "         \n",
    "         dict(Task='Task 2', \n",
    "              Start='2018-03-05', \n",
    "              Finish='2018-05-15'),\n",
    "         \n",
    "         dict(Task='Task 3', \n",
    "              Start='2018-05-01', \n",
    "              Finish='2018-06-30')]"
   ]
  },
  {
   "cell_type": "markdown",
   "metadata": {},
   "source": [
    "#### Plot the Gantt chart\n",
    "Use the figure factory to generate a Gantt Chart figure with our list of tasks"
   ]
  },
  {
   "cell_type": "code",
   "execution_count": 4,
   "metadata": {},
   "outputs": [
    {
     "data": {
      "application/vnd.plotly.v1+json": {
       "config": {
        "linkText": "Export to plot.ly",
        "plotlyServerURL": "https://plot.ly",
        "showLink": false
       },
       "data": [
        {
         "marker": {
          "color": "white"
         },
         "name": "",
         "type": "scatter",
         "uid": "6b3087a3-a92b-4c33-bc9b-ba960d506735",
         "x": [
          "2018-01-01",
          "2018-02-28"
         ],
         "y": [
          0,
          0
         ]
        },
        {
         "marker": {
          "color": "white"
         },
         "name": "",
         "type": "scatter",
         "uid": "8e5eca07-2475-4c03-a5c6-91cff343484f",
         "x": [
          "2018-03-05",
          "2018-05-15"
         ],
         "y": [
          1,
          1
         ]
        },
        {
         "marker": {
          "color": "white"
         },
         "name": "",
         "type": "scatter",
         "uid": "72111c1f-cfd5-4a2a-b65c-68517cd3d359",
         "x": [
          "2018-05-01",
          "2018-06-30"
         ],
         "y": [
          2,
          2
         ]
        }
       ],
       "layout": {
        "height": 600,
        "hovermode": "closest",
        "shapes": [
         {
          "fillcolor": "rgb(31, 119, 180)",
          "line": {
           "width": 0
          },
          "opacity": 1,
          "type": "rect",
          "x0": "2018-01-01",
          "x1": "2018-02-28",
          "xref": "x",
          "y0": -0.2,
          "y1": 0.2,
          "yref": "y"
         },
         {
          "fillcolor": "rgb(255, 127, 14)",
          "line": {
           "width": 0
          },
          "opacity": 1,
          "type": "rect",
          "x0": "2018-03-05",
          "x1": "2018-05-15",
          "xref": "x",
          "y0": 0.8,
          "y1": 1.2,
          "yref": "y"
         },
         {
          "fillcolor": "rgb(44, 160, 44)",
          "line": {
           "width": 0
          },
          "opacity": 1,
          "type": "rect",
          "x0": "2018-05-01",
          "x1": "2018-06-30",
          "xref": "x",
          "y0": 1.8,
          "y1": 2.2,
          "yref": "y"
         }
        ],
        "showlegend": false,
        "title": {
         "text": "Gantt Chart"
        },
        "width": 900,
        "xaxis": {
         "rangeselector": {
          "buttons": [
           {
            "count": 7,
            "label": "1w",
            "step": "day",
            "stepmode": "backward"
           },
           {
            "count": 1,
            "label": "1m",
            "step": "month",
            "stepmode": "backward"
           },
           {
            "count": 6,
            "label": "6m",
            "step": "month",
            "stepmode": "backward"
           },
           {
            "count": 1,
            "label": "YTD",
            "step": "year",
            "stepmode": "todate"
           },
           {
            "count": 1,
            "label": "1y",
            "step": "year",
            "stepmode": "backward"
           },
           {
            "step": "all"
           }
          ]
         },
         "showgrid": false,
         "type": "date",
         "zeroline": false
        },
        "yaxis": {
         "autorange": false,
         "range": [
          -1,
          4
         ],
         "showgrid": false,
         "ticktext": [
          "Task 1",
          "Task 2",
          "Task 3"
         ],
         "tickvals": [
          0,
          1,
          2
         ],
         "zeroline": false
        }
       }
      },
      "text/html": [
       "<div>\n",
       "        \n",
       "        \n",
       "            <div id=\"93d64346-6456-4e25-a317-dadd540ec5f1\" class=\"plotly-graph-div\" style=\"height:600px; width:900px;\"></div>\n",
       "            <script type=\"text/javascript\">\n",
       "                require([\"plotly\"], function(Plotly) {\n",
       "                    window.PLOTLYENV=window.PLOTLYENV || {};\n",
       "                    window.PLOTLYENV.BASE_URL='https://plot.ly';\n",
       "                    \n",
       "                if (document.getElementById(\"93d64346-6456-4e25-a317-dadd540ec5f1\")) {\n",
       "                    Plotly.newPlot(\n",
       "                        '93d64346-6456-4e25-a317-dadd540ec5f1',\n",
       "                        [{\"marker\": {\"color\": \"white\"}, \"name\": \"\", \"type\": \"scatter\", \"uid\": \"6b3087a3-a92b-4c33-bc9b-ba960d506735\", \"x\": [\"2018-01-01\", \"2018-02-28\"], \"y\": [0, 0]}, {\"marker\": {\"color\": \"white\"}, \"name\": \"\", \"type\": \"scatter\", \"uid\": \"8e5eca07-2475-4c03-a5c6-91cff343484f\", \"x\": [\"2018-03-05\", \"2018-05-15\"], \"y\": [1, 1]}, {\"marker\": {\"color\": \"white\"}, \"name\": \"\", \"type\": \"scatter\", \"uid\": \"72111c1f-cfd5-4a2a-b65c-68517cd3d359\", \"x\": [\"2018-05-01\", \"2018-06-30\"], \"y\": [2, 2]}],\n",
       "                        {\"height\": 600, \"hovermode\": \"closest\", \"shapes\": [{\"fillcolor\": \"rgb(31, 119, 180)\", \"line\": {\"width\": 0}, \"opacity\": 1, \"type\": \"rect\", \"x0\": \"2018-01-01\", \"x1\": \"2018-02-28\", \"xref\": \"x\", \"y0\": -0.2, \"y1\": 0.2, \"yref\": \"y\"}, {\"fillcolor\": \"rgb(255, 127, 14)\", \"line\": {\"width\": 0}, \"opacity\": 1, \"type\": \"rect\", \"x0\": \"2018-03-05\", \"x1\": \"2018-05-15\", \"xref\": \"x\", \"y0\": 0.8, \"y1\": 1.2, \"yref\": \"y\"}, {\"fillcolor\": \"rgb(44, 160, 44)\", \"line\": {\"width\": 0}, \"opacity\": 1, \"type\": \"rect\", \"x0\": \"2018-05-01\", \"x1\": \"2018-06-30\", \"xref\": \"x\", \"y0\": 1.8, \"y1\": 2.2, \"yref\": \"y\"}], \"showlegend\": false, \"title\": {\"text\": \"Gantt Chart\"}, \"width\": 900, \"xaxis\": {\"rangeselector\": {\"buttons\": [{\"count\": 7, \"label\": \"1w\", \"step\": \"day\", \"stepmode\": \"backward\"}, {\"count\": 1, \"label\": \"1m\", \"step\": \"month\", \"stepmode\": \"backward\"}, {\"count\": 6, \"label\": \"6m\", \"step\": \"month\", \"stepmode\": \"backward\"}, {\"count\": 1, \"label\": \"YTD\", \"step\": \"year\", \"stepmode\": \"todate\"}, {\"count\": 1, \"label\": \"1y\", \"step\": \"year\", \"stepmode\": \"backward\"}, {\"step\": \"all\"}]}, \"showgrid\": false, \"type\": \"date\", \"zeroline\": false}, \"yaxis\": {\"autorange\": false, \"range\": [-1, 4], \"showgrid\": false, \"ticktext\": [\"Task 1\", \"Task 2\", \"Task 3\"], \"tickvals\": [0, 1, 2], \"zeroline\": false}},\n",
       "                        {\"showLink\": false, \"linkText\": \"Export to plot.ly\", \"plotlyServerURL\": \"https://plot.ly\", \"responsive\": true}\n",
       "                    ).then(function(){\n",
       "                            \n",
       "var gd = document.getElementById('93d64346-6456-4e25-a317-dadd540ec5f1');\n",
       "var x = new MutationObserver(function (mutations, observer) {{\n",
       "        var display = window.getComputedStyle(gd).display;\n",
       "        if (!display || display === 'none') {{\n",
       "            console.log([gd, 'removed!']);\n",
       "            Plotly.purge(gd);\n",
       "            observer.disconnect();\n",
       "        }}\n",
       "}});\n",
       "\n",
       "// Listen for the removal of the full notebook cells\n",
       "var notebookContainer = gd.closest('#notebook-container');\n",
       "if (notebookContainer) {{\n",
       "    x.observe(notebookContainer, {childList: true});\n",
       "}}\n",
       "\n",
       "// Listen for the clearing of the current output cell\n",
       "var outputEl = gd.closest('.output');\n",
       "if (outputEl) {{\n",
       "    x.observe(outputEl, {childList: true});\n",
       "}}\n",
       "\n",
       "                        })\n",
       "                };\n",
       "                });\n",
       "            </script>\n",
       "        </div>"
      ]
     },
     "metadata": {},
     "output_type": "display_data"
    }
   ],
   "source": [
    "fig = ff.create_gantt(tasks)\n",
    "\n",
    "offline.iplot(fig)"
   ]
  },
  {
   "cell_type": "markdown",
   "metadata": {},
   "source": [
    "### Using Color Scales\n",
    "Color scales can be used in Gantt charts to represent information"
   ]
  },
  {
   "cell_type": "markdown",
   "metadata": {},
   "source": [
    "### Numeric data represented with a color scale\n",
    "By using a color scale, we can portray how much of a task is completed"
   ]
  },
  {
   "cell_type": "code",
   "execution_count": 5,
   "metadata": {},
   "outputs": [],
   "source": [
    "tasks = [dict(Task='Task 1', \n",
    "              Start='2018-01-01', \n",
    "              Finish='2018-02-28',\n",
    "              Complete=100),\n",
    "         \n",
    "         dict(Task='Task 2', \n",
    "              Start='2018-03-05', \n",
    "              Finish='2018-04-15',\n",
    "              Complete=60),\n",
    "         \n",
    "         dict(Task='Task 3', \n",
    "              Start='2018-04-15', \n",
    "              Finish='2018-06-30',\n",
    "              Complete=20)]"
   ]
  },
  {
   "cell_type": "markdown",
   "metadata": {},
   "source": [
    "#### Define the Gantt chart\n",
    "* The <b>colors</b> attribute takes in the name of a built-in color scale or a list of RGB or Hexademical numbers\n",
    "* <b>index_col</b> is used to specify which field should be represented using the color scale\n",
    "* <b>show_colorbar</b> can be set to view the color scale as a reference "
   ]
  },
  {
   "cell_type": "code",
   "execution_count": 6,
   "metadata": {},
   "outputs": [
    {
     "data": {
      "application/vnd.plotly.v1+json": {
       "config": {
        "linkText": "Export to plot.ly",
        "plotlyServerURL": "https://plot.ly",
        "showLink": false
       },
       "data": [
        {
         "marker": {
          "color": "white"
         },
         "name": "",
         "type": "scatter",
         "uid": "1b35edfd-c416-43a9-9867-005d4a716e44",
         "x": [
          "2018-01-01",
          "2018-02-28"
         ],
         "y": [
          0,
          0
         ]
        },
        {
         "marker": {
          "color": "white"
         },
         "name": "",
         "type": "scatter",
         "uid": "a146de97-c6ab-4960-b817-bb9570a97cde",
         "x": [
          "2018-03-05",
          "2018-04-15"
         ],
         "y": [
          1,
          1
         ]
        },
        {
         "marker": {
          "color": "white"
         },
         "name": "",
         "type": "scatter",
         "uid": "22ecee1b-e123-47ec-8671-5dbfe4c679e0",
         "x": [
          "2018-04-15",
          "2018-06-30"
         ],
         "y": [
          2,
          2
         ]
        },
        {
         "marker": {
          "cmax": 100,
          "cmin": 0,
          "color": "white",
          "colorscale": [
           [
            0,
            "rgb(0.0, 0.0, 255.0)"
           ],
           [
            1,
            "rgb(255.0, 0.0, 0.0)"
           ]
          ],
          "showscale": true
         },
         "name": "",
         "type": "scatter",
         "uid": "fd2ed0d5-f8d3-4f30-a18a-c0ef45c2bd67",
         "x": [
          "2018-04-15",
          "2018-04-15"
         ],
         "y": [
          2,
          2
         ]
        }
       ],
       "layout": {
        "height": 600,
        "hovermode": "closest",
        "shapes": [
         {
          "fillcolor": "rgb(255.0, 0.0, 0.0)",
          "line": {
           "width": 0
          },
          "opacity": 1,
          "type": "rect",
          "x0": "2018-01-01",
          "x1": "2018-02-28",
          "xref": "x",
          "y0": -0.2,
          "y1": 0.2,
          "yref": "y"
         },
         {
          "fillcolor": "rgb(153.0, 0.0, 102.0)",
          "line": {
           "width": 0
          },
          "opacity": 1,
          "type": "rect",
          "x0": "2018-03-05",
          "x1": "2018-04-15",
          "xref": "x",
          "y0": 0.8,
          "y1": 1.2,
          "yref": "y"
         },
         {
          "fillcolor": "rgb(51.0, 0.0, 204.0)",
          "line": {
           "width": 0
          },
          "opacity": 1,
          "type": "rect",
          "x0": "2018-04-15",
          "x1": "2018-06-30",
          "xref": "x",
          "y0": 1.8,
          "y1": 2.2,
          "yref": "y"
         }
        ],
        "showlegend": false,
        "title": {
         "text": "Gantt Chart with a color scale"
        },
        "width": 900,
        "xaxis": {
         "rangeselector": {
          "buttons": [
           {
            "count": 7,
            "label": "1w",
            "step": "day",
            "stepmode": "backward"
           },
           {
            "count": 1,
            "label": "1m",
            "step": "month",
            "stepmode": "backward"
           },
           {
            "count": 6,
            "label": "6m",
            "step": "month",
            "stepmode": "backward"
           },
           {
            "count": 1,
            "label": "YTD",
            "step": "year",
            "stepmode": "todate"
           },
           {
            "count": 1,
            "label": "1y",
            "step": "year",
            "stepmode": "backward"
           },
           {
            "step": "all"
           }
          ]
         },
         "showgrid": false,
         "type": "date",
         "zeroline": false
        },
        "yaxis": {
         "autorange": false,
         "range": [
          -1,
          4
         ],
         "showgrid": false,
         "ticktext": [
          "Task 1",
          "Task 2",
          "Task 3"
         ],
         "tickvals": [
          0,
          1,
          2
         ],
         "zeroline": false
        }
       }
      },
      "text/html": [
       "<div>\n",
       "        \n",
       "        \n",
       "            <div id=\"3b5c461f-2c0f-4809-94d6-9a7e5b2aef7e\" class=\"plotly-graph-div\" style=\"height:600px; width:900px;\"></div>\n",
       "            <script type=\"text/javascript\">\n",
       "                require([\"plotly\"], function(Plotly) {\n",
       "                    window.PLOTLYENV=window.PLOTLYENV || {};\n",
       "                    window.PLOTLYENV.BASE_URL='https://plot.ly';\n",
       "                    \n",
       "                if (document.getElementById(\"3b5c461f-2c0f-4809-94d6-9a7e5b2aef7e\")) {\n",
       "                    Plotly.newPlot(\n",
       "                        '3b5c461f-2c0f-4809-94d6-9a7e5b2aef7e',\n",
       "                        [{\"marker\": {\"color\": \"white\"}, \"name\": \"\", \"type\": \"scatter\", \"uid\": \"1b35edfd-c416-43a9-9867-005d4a716e44\", \"x\": [\"2018-01-01\", \"2018-02-28\"], \"y\": [0, 0]}, {\"marker\": {\"color\": \"white\"}, \"name\": \"\", \"type\": \"scatter\", \"uid\": \"a146de97-c6ab-4960-b817-bb9570a97cde\", \"x\": [\"2018-03-05\", \"2018-04-15\"], \"y\": [1, 1]}, {\"marker\": {\"color\": \"white\"}, \"name\": \"\", \"type\": \"scatter\", \"uid\": \"22ecee1b-e123-47ec-8671-5dbfe4c679e0\", \"x\": [\"2018-04-15\", \"2018-06-30\"], \"y\": [2, 2]}, {\"marker\": {\"cmax\": 100, \"cmin\": 0, \"color\": \"white\", \"colorscale\": [[0, \"rgb(0.0, 0.0, 255.0)\"], [1, \"rgb(255.0, 0.0, 0.0)\"]], \"showscale\": true}, \"name\": \"\", \"type\": \"scatter\", \"uid\": \"fd2ed0d5-f8d3-4f30-a18a-c0ef45c2bd67\", \"x\": [\"2018-04-15\", \"2018-04-15\"], \"y\": [2, 2]}],\n",
       "                        {\"height\": 600, \"hovermode\": \"closest\", \"shapes\": [{\"fillcolor\": \"rgb(255.0, 0.0, 0.0)\", \"line\": {\"width\": 0}, \"opacity\": 1, \"type\": \"rect\", \"x0\": \"2018-01-01\", \"x1\": \"2018-02-28\", \"xref\": \"x\", \"y0\": -0.2, \"y1\": 0.2, \"yref\": \"y\"}, {\"fillcolor\": \"rgb(153.0, 0.0, 102.0)\", \"line\": {\"width\": 0}, \"opacity\": 1, \"type\": \"rect\", \"x0\": \"2018-03-05\", \"x1\": \"2018-04-15\", \"xref\": \"x\", \"y0\": 0.8, \"y1\": 1.2, \"yref\": \"y\"}, {\"fillcolor\": \"rgb(51.0, 0.0, 204.0)\", \"line\": {\"width\": 0}, \"opacity\": 1, \"type\": \"rect\", \"x0\": \"2018-04-15\", \"x1\": \"2018-06-30\", \"xref\": \"x\", \"y0\": 1.8, \"y1\": 2.2, \"yref\": \"y\"}], \"showlegend\": false, \"title\": {\"text\": \"Gantt Chart with a color scale\"}, \"width\": 900, \"xaxis\": {\"rangeselector\": {\"buttons\": [{\"count\": 7, \"label\": \"1w\", \"step\": \"day\", \"stepmode\": \"backward\"}, {\"count\": 1, \"label\": \"1m\", \"step\": \"month\", \"stepmode\": \"backward\"}, {\"count\": 6, \"label\": \"6m\", \"step\": \"month\", \"stepmode\": \"backward\"}, {\"count\": 1, \"label\": \"YTD\", \"step\": \"year\", \"stepmode\": \"todate\"}, {\"count\": 1, \"label\": \"1y\", \"step\": \"year\", \"stepmode\": \"backward\"}, {\"step\": \"all\"}]}, \"showgrid\": false, \"type\": \"date\", \"zeroline\": false}, \"yaxis\": {\"autorange\": false, \"range\": [-1, 4], \"showgrid\": false, \"ticktext\": [\"Task 1\", \"Task 2\", \"Task 3\"], \"tickvals\": [0, 1, 2], \"zeroline\": false}},\n",
       "                        {\"showLink\": false, \"linkText\": \"Export to plot.ly\", \"plotlyServerURL\": \"https://plot.ly\", \"responsive\": true}\n",
       "                    ).then(function(){\n",
       "                            \n",
       "var gd = document.getElementById('3b5c461f-2c0f-4809-94d6-9a7e5b2aef7e');\n",
       "var x = new MutationObserver(function (mutations, observer) {{\n",
       "        var display = window.getComputedStyle(gd).display;\n",
       "        if (!display || display === 'none') {{\n",
       "            console.log([gd, 'removed!']);\n",
       "            Plotly.purge(gd);\n",
       "            observer.disconnect();\n",
       "        }}\n",
       "}});\n",
       "\n",
       "// Listen for the removal of the full notebook cells\n",
       "var notebookContainer = gd.closest('#notebook-container');\n",
       "if (notebookContainer) {{\n",
       "    x.observe(notebookContainer, {childList: true});\n",
       "}}\n",
       "\n",
       "// Listen for the clearing of the current output cell\n",
       "var outputEl = gd.closest('.output');\n",
       "if (outputEl) {{\n",
       "    x.observe(outputEl, {childList: true});\n",
       "}}\n",
       "\n",
       "                        })\n",
       "                };\n",
       "                });\n",
       "            </script>\n",
       "        </div>"
      ]
     },
     "metadata": {},
     "output_type": "display_data"
    }
   ],
   "source": [
    "fig = ff.create_gantt(tasks, \n",
    "                      title = 'Gantt Chart with a color scale',\n",
    "                      \n",
    "                      colors = 'Picnic', \n",
    "                      index_col = 'Complete', \n",
    "                      show_colorbar = True)\n",
    "\n",
    "offline.iplot(fig)"
   ]
  },
  {
   "cell_type": "markdown",
   "metadata": {},
   "source": [
    "### Color Scales to represent string categories"
   ]
  },
  {
   "cell_type": "markdown",
   "metadata": {},
   "source": [
    "#### Import a CSV file containing a schedule\n",
    "The following is a schedule for a school going kid depicting his/her activities for 1-July-2018 "
   ]
  },
  {
   "cell_type": "code",
   "execution_count": 7,
   "metadata": {},
   "outputs": [
    {
     "data": {
      "text/html": [
       "<div>\n",
       "<style scoped>\n",
       "    .dataframe tbody tr th:only-of-type {\n",
       "        vertical-align: middle;\n",
       "    }\n",
       "\n",
       "    .dataframe tbody tr th {\n",
       "        vertical-align: top;\n",
       "    }\n",
       "\n",
       "    .dataframe thead th {\n",
       "        text-align: right;\n",
       "    }\n",
       "</style>\n",
       "<table border=\"1\" class=\"dataframe\">\n",
       "  <thead>\n",
       "    <tr style=\"text-align: right;\">\n",
       "      <th></th>\n",
       "      <th>Task</th>\n",
       "      <th>Start</th>\n",
       "      <th>Finish</th>\n",
       "      <th>Category</th>\n",
       "    </tr>\n",
       "  </thead>\n",
       "  <tbody>\n",
       "    <tr>\n",
       "      <th>0</th>\n",
       "      <td>Sleep</td>\n",
       "      <td>2018-07-01 0:00:00</td>\n",
       "      <td>2018-07-01 7:00:00</td>\n",
       "      <td>Rest</td>\n",
       "    </tr>\n",
       "    <tr>\n",
       "      <th>1</th>\n",
       "      <td>Breakfast</td>\n",
       "      <td>2018-07-01 7:30:00</td>\n",
       "      <td>2018-07-01 8:00:00</td>\n",
       "      <td>Eat</td>\n",
       "    </tr>\n",
       "    <tr>\n",
       "      <th>2</th>\n",
       "      <td>Music</td>\n",
       "      <td>2018-07-01 8:00:00</td>\n",
       "      <td>2018-07-01 12:00:00</td>\n",
       "      <td>Music</td>\n",
       "    </tr>\n",
       "    <tr>\n",
       "      <th>3</th>\n",
       "      <td>Math</td>\n",
       "      <td>2018-07-01 9:00:00</td>\n",
       "      <td>2018-07-01 12:00:00</td>\n",
       "      <td>Homework</td>\n",
       "    </tr>\n",
       "    <tr>\n",
       "      <th>4</th>\n",
       "      <td>Lunch</td>\n",
       "      <td>2018-07-01 12:00:00</td>\n",
       "      <td>2018-07-01 13:00:00</td>\n",
       "      <td>Eat</td>\n",
       "    </tr>\n",
       "    <tr>\n",
       "      <th>5</th>\n",
       "      <td>Physics</td>\n",
       "      <td>2018-07-01 13:00:00</td>\n",
       "      <td>2018-07-01 14:30:00</td>\n",
       "      <td>Homework</td>\n",
       "    </tr>\n",
       "    <tr>\n",
       "      <th>6</th>\n",
       "      <td>Music</td>\n",
       "      <td>2018-07-01 14:00:00</td>\n",
       "      <td>2018-07-01 15:30:00</td>\n",
       "      <td>Music</td>\n",
       "    </tr>\n",
       "    <tr>\n",
       "      <th>7</th>\n",
       "      <td>Nap</td>\n",
       "      <td>2018-07-01 16:00:00</td>\n",
       "      <td>2018-07-01 16:30:00</td>\n",
       "      <td>Rest</td>\n",
       "    </tr>\n",
       "    <tr>\n",
       "      <th>8</th>\n",
       "      <td>Tennis</td>\n",
       "      <td>2018-07-01 17:30:00</td>\n",
       "      <td>2018-07-01 19:00:00</td>\n",
       "      <td>Play</td>\n",
       "    </tr>\n",
       "    <tr>\n",
       "      <th>9</th>\n",
       "      <td>Dinner</td>\n",
       "      <td>2018-07-01 20:00:00</td>\n",
       "      <td>2018-07-01 20:30:00</td>\n",
       "      <td>Eat</td>\n",
       "    </tr>\n",
       "    <tr>\n",
       "      <th>10</th>\n",
       "      <td>Music</td>\n",
       "      <td>2018-07-01 20:30:00</td>\n",
       "      <td>2018-07-01 22:00:00</td>\n",
       "      <td>Music</td>\n",
       "    </tr>\n",
       "    <tr>\n",
       "      <th>11</th>\n",
       "      <td>History</td>\n",
       "      <td>2018-07-01 21:00:00</td>\n",
       "      <td>2018-07-01 22:00:00</td>\n",
       "      <td>Homework</td>\n",
       "    </tr>\n",
       "  </tbody>\n",
       "</table>\n",
       "</div>"
      ],
      "text/plain": [
       "         Task                Start               Finish  Category\n",
       "0       Sleep   2018-07-01 0:00:00   2018-07-01 7:00:00      Rest\n",
       "1   Breakfast   2018-07-01 7:30:00   2018-07-01 8:00:00       Eat\n",
       "2       Music   2018-07-01 8:00:00  2018-07-01 12:00:00     Music\n",
       "3        Math   2018-07-01 9:00:00  2018-07-01 12:00:00  Homework\n",
       "4       Lunch  2018-07-01 12:00:00  2018-07-01 13:00:00       Eat\n",
       "5     Physics  2018-07-01 13:00:00  2018-07-01 14:30:00  Homework\n",
       "6       Music  2018-07-01 14:00:00  2018-07-01 15:30:00     Music\n",
       "7         Nap  2018-07-01 16:00:00  2018-07-01 16:30:00      Rest\n",
       "8      Tennis  2018-07-01 17:30:00  2018-07-01 19:00:00      Play\n",
       "9      Dinner  2018-07-01 20:00:00  2018-07-01 20:30:00       Eat\n",
       "10      Music  2018-07-01 20:30:00  2018-07-01 22:00:00     Music\n",
       "11    History  2018-07-01 21:00:00  2018-07-01 22:00:00  Homework"
      ]
     },
     "execution_count": 7,
     "metadata": {},
     "output_type": "execute_result"
    }
   ],
   "source": [
    "import pandas as pd\n",
    "\n",
    "schedule = pd.read_csv('./datasets/schedule.csv')\n",
    "schedule"
   ]
  },
  {
   "cell_type": "markdown",
   "metadata": {},
   "source": [
    "#### Define a color map\n",
    "This needs to contain colors specified in either RGB or Hexadecimal format (named colors will not work in a Gantt Chart). The list can contain a mix of both RGB and Hex colors.\n",
    "\n",
    "Here, we map the Category names to the color we want it to be portrayed by."
   ]
  },
  {
   "cell_type": "code",
   "execution_count": 8,
   "metadata": {},
   "outputs": [],
   "source": [
    "color_dict = dict(Rest = 'rgb(46, 137, 205)',\n",
    "                  Eat = 'rgb(114, 44, 121)',\n",
    "                  Homework = 'rgb(198, 47, 105)',\n",
    "                  \n",
    "                  Play = '#BD8FD7',\n",
    "                  Music = '#78F7DE')"
   ]
  },
  {
   "cell_type": "markdown",
   "metadata": {},
   "source": [
    "#### Draw the Gantt Chart\n",
    "We cannot use a named color scale to map String values, so we pass in our colors dictionary to be used to assign colors to the different values of 'Category' in our dataset.\n",
    "\n",
    "<b>bar_width</b> sets the width (in this portrayal, the height) of each bar. A bar_width of 0.5 equals the distance between two grid lines on the Y axis. "
   ]
  },
  {
   "cell_type": "code",
   "execution_count": 9,
   "metadata": {
    "scrolled": false
   },
   "outputs": [
    {
     "data": {
      "application/vnd.plotly.v1+json": {
       "config": {
        "linkText": "Export to plot.ly",
        "plotlyServerURL": "https://plot.ly",
        "showLink": false
       },
       "data": [
        {
         "marker": {
          "color": "white"
         },
         "name": "",
         "showlegend": false,
         "type": "scatter",
         "uid": "941b4276-6b4a-4818-9488-9fe56c4f5d65",
         "x": [
          "2018-07-01 0:00:00",
          "2018-07-01 7:00:00"
         ],
         "y": [
          0,
          0
         ]
        },
        {
         "marker": {
          "color": "white"
         },
         "name": "",
         "showlegend": false,
         "type": "scatter",
         "uid": "9772e60d-a807-4d90-97a2-8b020dee0364",
         "x": [
          "2018-07-01 7:30:00",
          "2018-07-01 8:00:00"
         ],
         "y": [
          1,
          1
         ]
        },
        {
         "marker": {
          "color": "white"
         },
         "name": "",
         "showlegend": false,
         "type": "scatter",
         "uid": "0a8ae9dc-c29c-4467-816b-1d2993d4a13d",
         "x": [
          "2018-07-01 8:00:00",
          "2018-07-01 12:00:00"
         ],
         "y": [
          2,
          2
         ]
        },
        {
         "marker": {
          "color": "white"
         },
         "name": "",
         "showlegend": false,
         "type": "scatter",
         "uid": "43ceaeab-f24e-4095-8cc5-adc1609efa4c",
         "x": [
          "2018-07-01 9:00:00",
          "2018-07-01 12:00:00"
         ],
         "y": [
          3,
          3
         ]
        },
        {
         "marker": {
          "color": "white"
         },
         "name": "",
         "showlegend": false,
         "type": "scatter",
         "uid": "2f58b759-5e00-4428-94cb-0c57637b6be6",
         "x": [
          "2018-07-01 12:00:00",
          "2018-07-01 13:00:00"
         ],
         "y": [
          4,
          4
         ]
        },
        {
         "marker": {
          "color": "white"
         },
         "name": "",
         "showlegend": false,
         "type": "scatter",
         "uid": "2560c123-616c-4bd1-996f-ea395e273d68",
         "x": [
          "2018-07-01 13:00:00",
          "2018-07-01 14:30:00"
         ],
         "y": [
          5,
          5
         ]
        },
        {
         "marker": {
          "color": "white"
         },
         "name": "",
         "showlegend": false,
         "type": "scatter",
         "uid": "e94a6551-3124-43b6-ae96-a73af5d9ace5",
         "x": [
          "2018-07-01 14:00:00",
          "2018-07-01 15:30:00"
         ],
         "y": [
          6,
          6
         ]
        },
        {
         "marker": {
          "color": "white"
         },
         "name": "",
         "showlegend": false,
         "type": "scatter",
         "uid": "4da43a83-31dc-4ced-b74a-7e31d7483913",
         "x": [
          "2018-07-01 16:00:00",
          "2018-07-01 16:30:00"
         ],
         "y": [
          7,
          7
         ]
        },
        {
         "marker": {
          "color": "white"
         },
         "name": "",
         "showlegend": false,
         "type": "scatter",
         "uid": "1f25a1f8-afde-4618-b183-364b186fbc0a",
         "x": [
          "2018-07-01 17:30:00",
          "2018-07-01 19:00:00"
         ],
         "y": [
          8,
          8
         ]
        },
        {
         "marker": {
          "color": "white"
         },
         "name": "",
         "showlegend": false,
         "type": "scatter",
         "uid": "1b4d3c42-dd9b-427b-a63d-cbc632f5213e",
         "x": [
          "2018-07-01 20:00:00",
          "2018-07-01 20:30:00"
         ],
         "y": [
          9,
          9
         ]
        },
        {
         "marker": {
          "color": "white"
         },
         "name": "",
         "showlegend": false,
         "type": "scatter",
         "uid": "5ea848f0-b1ae-4ff2-b03c-1120e60ca748",
         "x": [
          "2018-07-01 20:30:00",
          "2018-07-01 22:00:00"
         ],
         "y": [
          10,
          10
         ]
        },
        {
         "marker": {
          "color": "white"
         },
         "name": "",
         "showlegend": false,
         "type": "scatter",
         "uid": "95e4dff7-a0e4-4866-b3e1-f3709b93e9eb",
         "x": [
          "2018-07-01 21:00:00",
          "2018-07-01 22:00:00"
         ],
         "y": [
          11,
          11
         ]
        },
        {
         "hoverinfo": "none",
         "marker": {
          "color": "rgb(114, 44, 121)",
          "size": 1
         },
         "name": "Eat",
         "showlegend": true,
         "type": "scatter",
         "uid": "dc15d079-919c-4920-9819-1869f52c9144",
         "x": [
          "2018-07-01 21:00:00",
          "2018-07-01 21:00:00"
         ],
         "y": [
          0,
          0
         ]
        },
        {
         "hoverinfo": "none",
         "marker": {
          "color": "rgb(198, 47, 105)",
          "size": 1
         },
         "name": "Homework",
         "showlegend": true,
         "type": "scatter",
         "uid": "c8c49887-e2ed-4e9a-90af-e834b6756a0f",
         "x": [
          "2018-07-01 21:00:00",
          "2018-07-01 21:00:00"
         ],
         "y": [
          1,
          1
         ]
        },
        {
         "hoverinfo": "none",
         "marker": {
          "color": "rgb(120, 247, 222)",
          "size": 1
         },
         "name": "Music",
         "showlegend": true,
         "type": "scatter",
         "uid": "c6d8b948-13b8-4bf6-84c3-bc11866fbb82",
         "x": [
          "2018-07-01 21:00:00",
          "2018-07-01 21:00:00"
         ],
         "y": [
          2,
          2
         ]
        },
        {
         "hoverinfo": "none",
         "marker": {
          "color": "rgb(189, 143, 215)",
          "size": 1
         },
         "name": "Play",
         "showlegend": true,
         "type": "scatter",
         "uid": "3af81fc9-be31-49cd-9b80-63278c1178e5",
         "x": [
          "2018-07-01 21:00:00",
          "2018-07-01 21:00:00"
         ],
         "y": [
          3,
          3
         ]
        },
        {
         "hoverinfo": "none",
         "marker": {
          "color": "rgb(46, 137, 205)",
          "size": 1
         },
         "name": "Rest",
         "showlegend": true,
         "type": "scatter",
         "uid": "768ce9c5-273b-45ea-a224-4126f128b503",
         "x": [
          "2018-07-01 21:00:00",
          "2018-07-01 21:00:00"
         ],
         "y": [
          4,
          4
         ]
        }
       ],
       "layout": {
        "height": 600,
        "hovermode": "closest",
        "shapes": [
         {
          "fillcolor": "rgb(46, 137, 205)",
          "line": {
           "width": 0
          },
          "opacity": 1,
          "type": "rect",
          "x0": "2018-07-01 0:00:00",
          "x1": "2018-07-01 7:00:00",
          "xref": "x",
          "y0": -0.5,
          "y1": 0.5,
          "yref": "y"
         },
         {
          "fillcolor": "rgb(114, 44, 121)",
          "line": {
           "width": 0
          },
          "opacity": 1,
          "type": "rect",
          "x0": "2018-07-01 7:30:00",
          "x1": "2018-07-01 8:00:00",
          "xref": "x",
          "y0": 0.5,
          "y1": 1.5,
          "yref": "y"
         },
         {
          "fillcolor": "rgb(120, 247, 222)",
          "line": {
           "width": 0
          },
          "opacity": 1,
          "type": "rect",
          "x0": "2018-07-01 8:00:00",
          "x1": "2018-07-01 12:00:00",
          "xref": "x",
          "y0": 1.5,
          "y1": 2.5,
          "yref": "y"
         },
         {
          "fillcolor": "rgb(198, 47, 105)",
          "line": {
           "width": 0
          },
          "opacity": 1,
          "type": "rect",
          "x0": "2018-07-01 9:00:00",
          "x1": "2018-07-01 12:00:00",
          "xref": "x",
          "y0": 2.5,
          "y1": 3.5,
          "yref": "y"
         },
         {
          "fillcolor": "rgb(114, 44, 121)",
          "line": {
           "width": 0
          },
          "opacity": 1,
          "type": "rect",
          "x0": "2018-07-01 12:00:00",
          "x1": "2018-07-01 13:00:00",
          "xref": "x",
          "y0": 3.5,
          "y1": 4.5,
          "yref": "y"
         },
         {
          "fillcolor": "rgb(198, 47, 105)",
          "line": {
           "width": 0
          },
          "opacity": 1,
          "type": "rect",
          "x0": "2018-07-01 13:00:00",
          "x1": "2018-07-01 14:30:00",
          "xref": "x",
          "y0": 4.5,
          "y1": 5.5,
          "yref": "y"
         },
         {
          "fillcolor": "rgb(120, 247, 222)",
          "line": {
           "width": 0
          },
          "opacity": 1,
          "type": "rect",
          "x0": "2018-07-01 14:00:00",
          "x1": "2018-07-01 15:30:00",
          "xref": "x",
          "y0": 5.5,
          "y1": 6.5,
          "yref": "y"
         },
         {
          "fillcolor": "rgb(46, 137, 205)",
          "line": {
           "width": 0
          },
          "opacity": 1,
          "type": "rect",
          "x0": "2018-07-01 16:00:00",
          "x1": "2018-07-01 16:30:00",
          "xref": "x",
          "y0": 6.5,
          "y1": 7.5,
          "yref": "y"
         },
         {
          "fillcolor": "rgb(189, 143, 215)",
          "line": {
           "width": 0
          },
          "opacity": 1,
          "type": "rect",
          "x0": "2018-07-01 17:30:00",
          "x1": "2018-07-01 19:00:00",
          "xref": "x",
          "y0": 7.5,
          "y1": 8.5,
          "yref": "y"
         },
         {
          "fillcolor": "rgb(114, 44, 121)",
          "line": {
           "width": 0
          },
          "opacity": 1,
          "type": "rect",
          "x0": "2018-07-01 20:00:00",
          "x1": "2018-07-01 20:30:00",
          "xref": "x",
          "y0": 8.5,
          "y1": 9.5,
          "yref": "y"
         },
         {
          "fillcolor": "rgb(120, 247, 222)",
          "line": {
           "width": 0
          },
          "opacity": 1,
          "type": "rect",
          "x0": "2018-07-01 20:30:00",
          "x1": "2018-07-01 22:00:00",
          "xref": "x",
          "y0": 9.5,
          "y1": 10.5,
          "yref": "y"
         },
         {
          "fillcolor": "rgb(198, 47, 105)",
          "line": {
           "width": 0
          },
          "opacity": 1,
          "type": "rect",
          "x0": "2018-07-01 21:00:00",
          "x1": "2018-07-01 22:00:00",
          "xref": "x",
          "y0": 10.5,
          "y1": 11.5,
          "yref": "y"
         }
        ],
        "showlegend": true,
        "title": {
         "text": "Schedule for 1-July-2018"
        },
        "width": 900,
        "xaxis": {
         "rangeselector": {
          "buttons": [
           {
            "count": 7,
            "label": "1w",
            "step": "day",
            "stepmode": "backward"
           },
           {
            "count": 1,
            "label": "1m",
            "step": "month",
            "stepmode": "backward"
           },
           {
            "count": 6,
            "label": "6m",
            "step": "month",
            "stepmode": "backward"
           },
           {
            "count": 1,
            "label": "YTD",
            "step": "year",
            "stepmode": "todate"
           },
           {
            "count": 1,
            "label": "1y",
            "step": "year",
            "stepmode": "backward"
           },
           {
            "step": "all"
           }
          ]
         },
         "showgrid": true,
         "type": "date",
         "zeroline": false
        },
        "yaxis": {
         "autorange": false,
         "range": [
          -1,
          13
         ],
         "showgrid": true,
         "ticktext": [
          "Sleep",
          "Breakfast",
          "Music",
          "Math",
          "Lunch",
          "Physics",
          "Music",
          "Nap",
          "Tennis",
          "Dinner",
          "Music",
          "History"
         ],
         "tickvals": [
          0,
          1,
          2,
          3,
          4,
          5,
          6,
          7,
          8,
          9,
          10,
          11
         ],
         "zeroline": false
        }
       }
      },
      "text/html": [
       "<div>\n",
       "        \n",
       "        \n",
       "            <div id=\"4a56b187-bf03-4e70-840c-bfc122fd803c\" class=\"plotly-graph-div\" style=\"height:600px; width:900px;\"></div>\n",
       "            <script type=\"text/javascript\">\n",
       "                require([\"plotly\"], function(Plotly) {\n",
       "                    window.PLOTLYENV=window.PLOTLYENV || {};\n",
       "                    window.PLOTLYENV.BASE_URL='https://plot.ly';\n",
       "                    \n",
       "                if (document.getElementById(\"4a56b187-bf03-4e70-840c-bfc122fd803c\")) {\n",
       "                    Plotly.newPlot(\n",
       "                        '4a56b187-bf03-4e70-840c-bfc122fd803c',\n",
       "                        [{\"marker\": {\"color\": \"white\"}, \"name\": \"\", \"showlegend\": false, \"type\": \"scatter\", \"uid\": \"941b4276-6b4a-4818-9488-9fe56c4f5d65\", \"x\": [\"2018-07-01 0:00:00\", \"2018-07-01 7:00:00\"], \"y\": [0, 0]}, {\"marker\": {\"color\": \"white\"}, \"name\": \"\", \"showlegend\": false, \"type\": \"scatter\", \"uid\": \"9772e60d-a807-4d90-97a2-8b020dee0364\", \"x\": [\"2018-07-01 7:30:00\", \"2018-07-01 8:00:00\"], \"y\": [1, 1]}, {\"marker\": {\"color\": \"white\"}, \"name\": \"\", \"showlegend\": false, \"type\": \"scatter\", \"uid\": \"0a8ae9dc-c29c-4467-816b-1d2993d4a13d\", \"x\": [\"2018-07-01 8:00:00\", \"2018-07-01 12:00:00\"], \"y\": [2, 2]}, {\"marker\": {\"color\": \"white\"}, \"name\": \"\", \"showlegend\": false, \"type\": \"scatter\", \"uid\": \"43ceaeab-f24e-4095-8cc5-adc1609efa4c\", \"x\": [\"2018-07-01 9:00:00\", \"2018-07-01 12:00:00\"], \"y\": [3, 3]}, {\"marker\": {\"color\": \"white\"}, \"name\": \"\", \"showlegend\": false, \"type\": \"scatter\", \"uid\": \"2f58b759-5e00-4428-94cb-0c57637b6be6\", \"x\": [\"2018-07-01 12:00:00\", \"2018-07-01 13:00:00\"], \"y\": [4, 4]}, {\"marker\": {\"color\": \"white\"}, \"name\": \"\", \"showlegend\": false, \"type\": \"scatter\", \"uid\": \"2560c123-616c-4bd1-996f-ea395e273d68\", \"x\": [\"2018-07-01 13:00:00\", \"2018-07-01 14:30:00\"], \"y\": [5, 5]}, {\"marker\": {\"color\": \"white\"}, \"name\": \"\", \"showlegend\": false, \"type\": \"scatter\", \"uid\": \"e94a6551-3124-43b6-ae96-a73af5d9ace5\", \"x\": [\"2018-07-01 14:00:00\", \"2018-07-01 15:30:00\"], \"y\": [6, 6]}, {\"marker\": {\"color\": \"white\"}, \"name\": \"\", \"showlegend\": false, \"type\": \"scatter\", \"uid\": \"4da43a83-31dc-4ced-b74a-7e31d7483913\", \"x\": [\"2018-07-01 16:00:00\", \"2018-07-01 16:30:00\"], \"y\": [7, 7]}, {\"marker\": {\"color\": \"white\"}, \"name\": \"\", \"showlegend\": false, \"type\": \"scatter\", \"uid\": \"1f25a1f8-afde-4618-b183-364b186fbc0a\", \"x\": [\"2018-07-01 17:30:00\", \"2018-07-01 19:00:00\"], \"y\": [8, 8]}, {\"marker\": {\"color\": \"white\"}, \"name\": \"\", \"showlegend\": false, \"type\": \"scatter\", \"uid\": \"1b4d3c42-dd9b-427b-a63d-cbc632f5213e\", \"x\": [\"2018-07-01 20:00:00\", \"2018-07-01 20:30:00\"], \"y\": [9, 9]}, {\"marker\": {\"color\": \"white\"}, \"name\": \"\", \"showlegend\": false, \"type\": \"scatter\", \"uid\": \"5ea848f0-b1ae-4ff2-b03c-1120e60ca748\", \"x\": [\"2018-07-01 20:30:00\", \"2018-07-01 22:00:00\"], \"y\": [10, 10]}, {\"marker\": {\"color\": \"white\"}, \"name\": \"\", \"showlegend\": false, \"type\": \"scatter\", \"uid\": \"95e4dff7-a0e4-4866-b3e1-f3709b93e9eb\", \"x\": [\"2018-07-01 21:00:00\", \"2018-07-01 22:00:00\"], \"y\": [11, 11]}, {\"hoverinfo\": \"none\", \"marker\": {\"color\": \"rgb(114, 44, 121)\", \"size\": 1}, \"name\": \"Eat\", \"showlegend\": true, \"type\": \"scatter\", \"uid\": \"dc15d079-919c-4920-9819-1869f52c9144\", \"x\": [\"2018-07-01 21:00:00\", \"2018-07-01 21:00:00\"], \"y\": [0, 0]}, {\"hoverinfo\": \"none\", \"marker\": {\"color\": \"rgb(198, 47, 105)\", \"size\": 1}, \"name\": \"Homework\", \"showlegend\": true, \"type\": \"scatter\", \"uid\": \"c8c49887-e2ed-4e9a-90af-e834b6756a0f\", \"x\": [\"2018-07-01 21:00:00\", \"2018-07-01 21:00:00\"], \"y\": [1, 1]}, {\"hoverinfo\": \"none\", \"marker\": {\"color\": \"rgb(120, 247, 222)\", \"size\": 1}, \"name\": \"Music\", \"showlegend\": true, \"type\": \"scatter\", \"uid\": \"c6d8b948-13b8-4bf6-84c3-bc11866fbb82\", \"x\": [\"2018-07-01 21:00:00\", \"2018-07-01 21:00:00\"], \"y\": [2, 2]}, {\"hoverinfo\": \"none\", \"marker\": {\"color\": \"rgb(189, 143, 215)\", \"size\": 1}, \"name\": \"Play\", \"showlegend\": true, \"type\": \"scatter\", \"uid\": \"3af81fc9-be31-49cd-9b80-63278c1178e5\", \"x\": [\"2018-07-01 21:00:00\", \"2018-07-01 21:00:00\"], \"y\": [3, 3]}, {\"hoverinfo\": \"none\", \"marker\": {\"color\": \"rgb(46, 137, 205)\", \"size\": 1}, \"name\": \"Rest\", \"showlegend\": true, \"type\": \"scatter\", \"uid\": \"768ce9c5-273b-45ea-a224-4126f128b503\", \"x\": [\"2018-07-01 21:00:00\", \"2018-07-01 21:00:00\"], \"y\": [4, 4]}],\n",
       "                        {\"height\": 600, \"hovermode\": \"closest\", \"shapes\": [{\"fillcolor\": \"rgb(46, 137, 205)\", \"line\": {\"width\": 0}, \"opacity\": 1, \"type\": \"rect\", \"x0\": \"2018-07-01 0:00:00\", \"x1\": \"2018-07-01 7:00:00\", \"xref\": \"x\", \"y0\": -0.5, \"y1\": 0.5, \"yref\": \"y\"}, {\"fillcolor\": \"rgb(114, 44, 121)\", \"line\": {\"width\": 0}, \"opacity\": 1, \"type\": \"rect\", \"x0\": \"2018-07-01 7:30:00\", \"x1\": \"2018-07-01 8:00:00\", \"xref\": \"x\", \"y0\": 0.5, \"y1\": 1.5, \"yref\": \"y\"}, {\"fillcolor\": \"rgb(120, 247, 222)\", \"line\": {\"width\": 0}, \"opacity\": 1, \"type\": \"rect\", \"x0\": \"2018-07-01 8:00:00\", \"x1\": \"2018-07-01 12:00:00\", \"xref\": \"x\", \"y0\": 1.5, \"y1\": 2.5, \"yref\": \"y\"}, {\"fillcolor\": \"rgb(198, 47, 105)\", \"line\": {\"width\": 0}, \"opacity\": 1, \"type\": \"rect\", \"x0\": \"2018-07-01 9:00:00\", \"x1\": \"2018-07-01 12:00:00\", \"xref\": \"x\", \"y0\": 2.5, \"y1\": 3.5, \"yref\": \"y\"}, {\"fillcolor\": \"rgb(114, 44, 121)\", \"line\": {\"width\": 0}, \"opacity\": 1, \"type\": \"rect\", \"x0\": \"2018-07-01 12:00:00\", \"x1\": \"2018-07-01 13:00:00\", \"xref\": \"x\", \"y0\": 3.5, \"y1\": 4.5, \"yref\": \"y\"}, {\"fillcolor\": \"rgb(198, 47, 105)\", \"line\": {\"width\": 0}, \"opacity\": 1, \"type\": \"rect\", \"x0\": \"2018-07-01 13:00:00\", \"x1\": \"2018-07-01 14:30:00\", \"xref\": \"x\", \"y0\": 4.5, \"y1\": 5.5, \"yref\": \"y\"}, {\"fillcolor\": \"rgb(120, 247, 222)\", \"line\": {\"width\": 0}, \"opacity\": 1, \"type\": \"rect\", \"x0\": \"2018-07-01 14:00:00\", \"x1\": \"2018-07-01 15:30:00\", \"xref\": \"x\", \"y0\": 5.5, \"y1\": 6.5, \"yref\": \"y\"}, {\"fillcolor\": \"rgb(46, 137, 205)\", \"line\": {\"width\": 0}, \"opacity\": 1, \"type\": \"rect\", \"x0\": \"2018-07-01 16:00:00\", \"x1\": \"2018-07-01 16:30:00\", \"xref\": \"x\", \"y0\": 6.5, \"y1\": 7.5, \"yref\": \"y\"}, {\"fillcolor\": \"rgb(189, 143, 215)\", \"line\": {\"width\": 0}, \"opacity\": 1, \"type\": \"rect\", \"x0\": \"2018-07-01 17:30:00\", \"x1\": \"2018-07-01 19:00:00\", \"xref\": \"x\", \"y0\": 7.5, \"y1\": 8.5, \"yref\": \"y\"}, {\"fillcolor\": \"rgb(114, 44, 121)\", \"line\": {\"width\": 0}, \"opacity\": 1, \"type\": \"rect\", \"x0\": \"2018-07-01 20:00:00\", \"x1\": \"2018-07-01 20:30:00\", \"xref\": \"x\", \"y0\": 8.5, \"y1\": 9.5, \"yref\": \"y\"}, {\"fillcolor\": \"rgb(120, 247, 222)\", \"line\": {\"width\": 0}, \"opacity\": 1, \"type\": \"rect\", \"x0\": \"2018-07-01 20:30:00\", \"x1\": \"2018-07-01 22:00:00\", \"xref\": \"x\", \"y0\": 9.5, \"y1\": 10.5, \"yref\": \"y\"}, {\"fillcolor\": \"rgb(198, 47, 105)\", \"line\": {\"width\": 0}, \"opacity\": 1, \"type\": \"rect\", \"x0\": \"2018-07-01 21:00:00\", \"x1\": \"2018-07-01 22:00:00\", \"xref\": \"x\", \"y0\": 10.5, \"y1\": 11.5, \"yref\": \"y\"}], \"showlegend\": true, \"title\": {\"text\": \"Schedule for 1-July-2018\"}, \"width\": 900, \"xaxis\": {\"rangeselector\": {\"buttons\": [{\"count\": 7, \"label\": \"1w\", \"step\": \"day\", \"stepmode\": \"backward\"}, {\"count\": 1, \"label\": \"1m\", \"step\": \"month\", \"stepmode\": \"backward\"}, {\"count\": 6, \"label\": \"6m\", \"step\": \"month\", \"stepmode\": \"backward\"}, {\"count\": 1, \"label\": \"YTD\", \"step\": \"year\", \"stepmode\": \"todate\"}, {\"count\": 1, \"label\": \"1y\", \"step\": \"year\", \"stepmode\": \"backward\"}, {\"step\": \"all\"}]}, \"showgrid\": true, \"type\": \"date\", \"zeroline\": false}, \"yaxis\": {\"autorange\": false, \"range\": [-1, 13], \"showgrid\": true, \"ticktext\": [\"Sleep\", \"Breakfast\", \"Music\", \"Math\", \"Lunch\", \"Physics\", \"Music\", \"Nap\", \"Tennis\", \"Dinner\", \"Music\", \"History\"], \"tickvals\": [0, 1, 2, 3, 4, 5, 6, 7, 8, 9, 10, 11], \"zeroline\": false}},\n",
       "                        {\"showLink\": false, \"linkText\": \"Export to plot.ly\", \"plotlyServerURL\": \"https://plot.ly\", \"responsive\": true}\n",
       "                    ).then(function(){\n",
       "                            \n",
       "var gd = document.getElementById('4a56b187-bf03-4e70-840c-bfc122fd803c');\n",
       "var x = new MutationObserver(function (mutations, observer) {{\n",
       "        var display = window.getComputedStyle(gd).display;\n",
       "        if (!display || display === 'none') {{\n",
       "            console.log([gd, 'removed!']);\n",
       "            Plotly.purge(gd);\n",
       "            observer.disconnect();\n",
       "        }}\n",
       "}});\n",
       "\n",
       "// Listen for the removal of the full notebook cells\n",
       "var notebookContainer = gd.closest('#notebook-container');\n",
       "if (notebookContainer) {{\n",
       "    x.observe(notebookContainer, {childList: true});\n",
       "}}\n",
       "\n",
       "// Listen for the clearing of the current output cell\n",
       "var outputEl = gd.closest('.output');\n",
       "if (outputEl) {{\n",
       "    x.observe(outputEl, {childList: true});\n",
       "}}\n",
       "\n",
       "                        })\n",
       "                };\n",
       "                });\n",
       "            </script>\n",
       "        </div>"
      ]
     },
     "metadata": {},
     "output_type": "display_data"
    }
   ],
   "source": [
    "fig = ff.create_gantt(schedule,\n",
    "                      title='Schedule for 1-July-2018',\n",
    "                      \n",
    "                      colors=color_dict, \n",
    "                      index_col='Category',\n",
    "                      show_colorbar=True,\n",
    "                      \n",
    "                      bar_width=0.5,\n",
    "                      \n",
    "                      showgrid_x=True, \n",
    "                      showgrid_y=True)\n",
    "\n",
    "offline.iplot(fig)"
   ]
  },
  {
   "cell_type": "markdown",
   "metadata": {},
   "source": [
    "#### Alternatively, we use a color list\n",
    "Here, the ordering of colors will be mapped to the list of categories in alphabetical order."
   ]
  },
  {
   "cell_type": "code",
   "execution_count": 10,
   "metadata": {},
   "outputs": [],
   "source": [
    "color_list = ['#BD8FD7', \n",
    "              '#78F7DE', \n",
    "              'rgb(198, 47, 105)', \n",
    "              'rgb(114, 44, 121)', \n",
    "              'rgb(46, 137, 205)']"
   ]
  },
  {
   "cell_type": "code",
   "execution_count": 11,
   "metadata": {},
   "outputs": [
    {
     "data": {
      "application/vnd.plotly.v1+json": {
       "config": {
        "linkText": "Export to plot.ly",
        "plotlyServerURL": "https://plot.ly",
        "showLink": false
       },
       "data": [
        {
         "marker": {
          "color": "white"
         },
         "name": "",
         "type": "scatter",
         "uid": "27a301fd-dabf-4da2-9583-5674cf7181c9",
         "x": [
          "2018-07-01 0:00:00",
          "2018-07-01 7:00:00"
         ],
         "y": [
          0,
          0
         ]
        },
        {
         "marker": {
          "color": "white"
         },
         "name": "",
         "type": "scatter",
         "uid": "fc2ec31a-166d-4d36-a968-d1d5e2efb518",
         "x": [
          "2018-07-01 7:30:00",
          "2018-07-01 8:00:00"
         ],
         "y": [
          1,
          1
         ]
        },
        {
         "marker": {
          "color": "white"
         },
         "name": "",
         "type": "scatter",
         "uid": "1e7b19d9-443c-4260-82bb-438af0667d6f",
         "x": [
          "2018-07-01 8:00:00",
          "2018-07-01 12:00:00"
         ],
         "y": [
          2,
          2
         ]
        },
        {
         "marker": {
          "color": "white"
         },
         "name": "",
         "type": "scatter",
         "uid": "625f3b32-2229-40ee-9747-275c01d8f5f2",
         "x": [
          "2018-07-01 9:00:00",
          "2018-07-01 12:00:00"
         ],
         "y": [
          3,
          3
         ]
        },
        {
         "marker": {
          "color": "white"
         },
         "name": "",
         "type": "scatter",
         "uid": "df4fde99-3aeb-4714-b2d9-6f7f8744dc30",
         "x": [
          "2018-07-01 12:00:00",
          "2018-07-01 13:00:00"
         ],
         "y": [
          4,
          4
         ]
        },
        {
         "marker": {
          "color": "white"
         },
         "name": "",
         "type": "scatter",
         "uid": "c483de50-ca59-4b7b-88ca-e948ea4bfe06",
         "x": [
          "2018-07-01 13:00:00",
          "2018-07-01 14:30:00"
         ],
         "y": [
          5,
          5
         ]
        },
        {
         "marker": {
          "color": "white"
         },
         "name": "",
         "type": "scatter",
         "uid": "93fd69ec-1385-4074-a534-1a9c99013f25",
         "x": [
          "2018-07-01 14:00:00",
          "2018-07-01 15:30:00"
         ],
         "y": [
          6,
          6
         ]
        },
        {
         "marker": {
          "color": "white"
         },
         "name": "",
         "type": "scatter",
         "uid": "8d8bdb0b-628f-4e67-80e9-a66a28b0467d",
         "x": [
          "2018-07-01 16:00:00",
          "2018-07-01 16:30:00"
         ],
         "y": [
          7,
          7
         ]
        },
        {
         "marker": {
          "color": "white"
         },
         "name": "",
         "type": "scatter",
         "uid": "025aff4d-2594-444f-ad2b-a86d50e5d2b6",
         "x": [
          "2018-07-01 17:30:00",
          "2018-07-01 19:00:00"
         ],
         "y": [
          8,
          8
         ]
        },
        {
         "marker": {
          "color": "white"
         },
         "name": "",
         "type": "scatter",
         "uid": "c8e2131d-8006-4705-a4fe-2d9f4fd3fe80",
         "x": [
          "2018-07-01 20:00:00",
          "2018-07-01 20:30:00"
         ],
         "y": [
          9,
          9
         ]
        },
        {
         "marker": {
          "color": "white"
         },
         "name": "",
         "type": "scatter",
         "uid": "7e8a9f31-7474-4677-88e9-f15863af4b98",
         "x": [
          "2018-07-01 20:30:00",
          "2018-07-01 22:00:00"
         ],
         "y": [
          10,
          10
         ]
        },
        {
         "marker": {
          "color": "white"
         },
         "name": "",
         "type": "scatter",
         "uid": "d0bb19e9-c4dc-4961-a5a3-21f9983e2def",
         "x": [
          "2018-07-01 21:00:00",
          "2018-07-01 22:00:00"
         ],
         "y": [
          11,
          11
         ]
        },
        {
         "hoverinfo": "none",
         "marker": {
          "color": "rgb(189, 143, 215)",
          "size": 1
         },
         "name": "Eat",
         "showlegend": true,
         "type": "scatter",
         "uid": "46012dbf-69bc-400a-b87e-95ed5b90ad8f",
         "x": [
          "2018-07-01 21:00:00",
          "2018-07-01 21:00:00"
         ],
         "y": [
          0,
          0
         ]
        },
        {
         "hoverinfo": "none",
         "marker": {
          "color": "rgb(120, 247, 222)",
          "size": 1
         },
         "name": "Homework",
         "showlegend": true,
         "type": "scatter",
         "uid": "8d8880e6-861d-4624-8c9b-b3b33bb0ad20",
         "x": [
          "2018-07-01 21:00:00",
          "2018-07-01 21:00:00"
         ],
         "y": [
          1,
          1
         ]
        },
        {
         "hoverinfo": "none",
         "marker": {
          "color": "rgb(198, 47, 105)",
          "size": 1
         },
         "name": "Music",
         "showlegend": true,
         "type": "scatter",
         "uid": "86e504ec-9946-4410-9e79-d530598c5678",
         "x": [
          "2018-07-01 21:00:00",
          "2018-07-01 21:00:00"
         ],
         "y": [
          2,
          2
         ]
        },
        {
         "hoverinfo": "none",
         "marker": {
          "color": "rgb(114, 44, 121)",
          "size": 1
         },
         "name": "Play",
         "showlegend": true,
         "type": "scatter",
         "uid": "b6a42c20-1f46-408e-9d51-29e0d07dbd39",
         "x": [
          "2018-07-01 21:00:00",
          "2018-07-01 21:00:00"
         ],
         "y": [
          3,
          3
         ]
        },
        {
         "hoverinfo": "none",
         "marker": {
          "color": "rgb(46, 137, 205)",
          "size": 1
         },
         "name": "Rest",
         "showlegend": true,
         "type": "scatter",
         "uid": "face288e-961a-4897-9991-5a2867c48f97",
         "x": [
          "2018-07-01 21:00:00",
          "2018-07-01 21:00:00"
         ],
         "y": [
          4,
          4
         ]
        }
       ],
       "layout": {
        "height": 600,
        "hovermode": "closest",
        "shapes": [
         {
          "fillcolor": "rgb(46, 137, 205)",
          "line": {
           "width": 0
          },
          "opacity": 1,
          "type": "rect",
          "x0": "2018-07-01 0:00:00",
          "x1": "2018-07-01 7:00:00",
          "xref": "x",
          "y0": -0.5,
          "y1": 0.5,
          "yref": "y"
         },
         {
          "fillcolor": "rgb(189, 143, 215)",
          "line": {
           "width": 0
          },
          "opacity": 1,
          "type": "rect",
          "x0": "2018-07-01 7:30:00",
          "x1": "2018-07-01 8:00:00",
          "xref": "x",
          "y0": 0.5,
          "y1": 1.5,
          "yref": "y"
         },
         {
          "fillcolor": "rgb(198, 47, 105)",
          "line": {
           "width": 0
          },
          "opacity": 1,
          "type": "rect",
          "x0": "2018-07-01 8:00:00",
          "x1": "2018-07-01 12:00:00",
          "xref": "x",
          "y0": 1.5,
          "y1": 2.5,
          "yref": "y"
         },
         {
          "fillcolor": "rgb(120, 247, 222)",
          "line": {
           "width": 0
          },
          "opacity": 1,
          "type": "rect",
          "x0": "2018-07-01 9:00:00",
          "x1": "2018-07-01 12:00:00",
          "xref": "x",
          "y0": 2.5,
          "y1": 3.5,
          "yref": "y"
         },
         {
          "fillcolor": "rgb(189, 143, 215)",
          "line": {
           "width": 0
          },
          "opacity": 1,
          "type": "rect",
          "x0": "2018-07-01 12:00:00",
          "x1": "2018-07-01 13:00:00",
          "xref": "x",
          "y0": 3.5,
          "y1": 4.5,
          "yref": "y"
         },
         {
          "fillcolor": "rgb(120, 247, 222)",
          "line": {
           "width": 0
          },
          "opacity": 1,
          "type": "rect",
          "x0": "2018-07-01 13:00:00",
          "x1": "2018-07-01 14:30:00",
          "xref": "x",
          "y0": 4.5,
          "y1": 5.5,
          "yref": "y"
         },
         {
          "fillcolor": "rgb(198, 47, 105)",
          "line": {
           "width": 0
          },
          "opacity": 1,
          "type": "rect",
          "x0": "2018-07-01 14:00:00",
          "x1": "2018-07-01 15:30:00",
          "xref": "x",
          "y0": 5.5,
          "y1": 6.5,
          "yref": "y"
         },
         {
          "fillcolor": "rgb(46, 137, 205)",
          "line": {
           "width": 0
          },
          "opacity": 1,
          "type": "rect",
          "x0": "2018-07-01 16:00:00",
          "x1": "2018-07-01 16:30:00",
          "xref": "x",
          "y0": 6.5,
          "y1": 7.5,
          "yref": "y"
         },
         {
          "fillcolor": "rgb(114, 44, 121)",
          "line": {
           "width": 0
          },
          "opacity": 1,
          "type": "rect",
          "x0": "2018-07-01 17:30:00",
          "x1": "2018-07-01 19:00:00",
          "xref": "x",
          "y0": 7.5,
          "y1": 8.5,
          "yref": "y"
         },
         {
          "fillcolor": "rgb(189, 143, 215)",
          "line": {
           "width": 0
          },
          "opacity": 1,
          "type": "rect",
          "x0": "2018-07-01 20:00:00",
          "x1": "2018-07-01 20:30:00",
          "xref": "x",
          "y0": 8.5,
          "y1": 9.5,
          "yref": "y"
         },
         {
          "fillcolor": "rgb(198, 47, 105)",
          "line": {
           "width": 0
          },
          "opacity": 1,
          "type": "rect",
          "x0": "2018-07-01 20:30:00",
          "x1": "2018-07-01 22:00:00",
          "xref": "x",
          "y0": 9.5,
          "y1": 10.5,
          "yref": "y"
         },
         {
          "fillcolor": "rgb(120, 247, 222)",
          "line": {
           "width": 0
          },
          "opacity": 1,
          "type": "rect",
          "x0": "2018-07-01 21:00:00",
          "x1": "2018-07-01 22:00:00",
          "xref": "x",
          "y0": 10.5,
          "y1": 11.5,
          "yref": "y"
         }
        ],
        "showlegend": true,
        "title": {
         "text": "Schedule for 1-July-2018"
        },
        "width": 900,
        "xaxis": {
         "rangeselector": {
          "buttons": [
           {
            "count": 7,
            "label": "1w",
            "step": "day",
            "stepmode": "backward"
           },
           {
            "count": 1,
            "label": "1m",
            "step": "month",
            "stepmode": "backward"
           },
           {
            "count": 6,
            "label": "6m",
            "step": "month",
            "stepmode": "backward"
           },
           {
            "count": 1,
            "label": "YTD",
            "step": "year",
            "stepmode": "todate"
           },
           {
            "count": 1,
            "label": "1y",
            "step": "year",
            "stepmode": "backward"
           },
           {
            "step": "all"
           }
          ]
         },
         "showgrid": true,
         "type": "date",
         "zeroline": false
        },
        "yaxis": {
         "autorange": false,
         "range": [
          -1,
          13
         ],
         "showgrid": true,
         "ticktext": [
          "Sleep",
          "Breakfast",
          "Music",
          "Math",
          "Lunch",
          "Physics",
          "Music",
          "Nap",
          "Tennis",
          "Dinner",
          "Music",
          "History"
         ],
         "tickvals": [
          0,
          1,
          2,
          3,
          4,
          5,
          6,
          7,
          8,
          9,
          10,
          11
         ],
         "zeroline": false
        }
       }
      },
      "text/html": [
       "<div>\n",
       "        \n",
       "        \n",
       "            <div id=\"7bf1d5a0-c160-44ed-bc9b-f09b1c2f0371\" class=\"plotly-graph-div\" style=\"height:600px; width:900px;\"></div>\n",
       "            <script type=\"text/javascript\">\n",
       "                require([\"plotly\"], function(Plotly) {\n",
       "                    window.PLOTLYENV=window.PLOTLYENV || {};\n",
       "                    window.PLOTLYENV.BASE_URL='https://plot.ly';\n",
       "                    \n",
       "                if (document.getElementById(\"7bf1d5a0-c160-44ed-bc9b-f09b1c2f0371\")) {\n",
       "                    Plotly.newPlot(\n",
       "                        '7bf1d5a0-c160-44ed-bc9b-f09b1c2f0371',\n",
       "                        [{\"marker\": {\"color\": \"white\"}, \"name\": \"\", \"type\": \"scatter\", \"uid\": \"27a301fd-dabf-4da2-9583-5674cf7181c9\", \"x\": [\"2018-07-01 0:00:00\", \"2018-07-01 7:00:00\"], \"y\": [0, 0]}, {\"marker\": {\"color\": \"white\"}, \"name\": \"\", \"type\": \"scatter\", \"uid\": \"fc2ec31a-166d-4d36-a968-d1d5e2efb518\", \"x\": [\"2018-07-01 7:30:00\", \"2018-07-01 8:00:00\"], \"y\": [1, 1]}, {\"marker\": {\"color\": \"white\"}, \"name\": \"\", \"type\": \"scatter\", \"uid\": \"1e7b19d9-443c-4260-82bb-438af0667d6f\", \"x\": [\"2018-07-01 8:00:00\", \"2018-07-01 12:00:00\"], \"y\": [2, 2]}, {\"marker\": {\"color\": \"white\"}, \"name\": \"\", \"type\": \"scatter\", \"uid\": \"625f3b32-2229-40ee-9747-275c01d8f5f2\", \"x\": [\"2018-07-01 9:00:00\", \"2018-07-01 12:00:00\"], \"y\": [3, 3]}, {\"marker\": {\"color\": \"white\"}, \"name\": \"\", \"type\": \"scatter\", \"uid\": \"df4fde99-3aeb-4714-b2d9-6f7f8744dc30\", \"x\": [\"2018-07-01 12:00:00\", \"2018-07-01 13:00:00\"], \"y\": [4, 4]}, {\"marker\": {\"color\": \"white\"}, \"name\": \"\", \"type\": \"scatter\", \"uid\": \"c483de50-ca59-4b7b-88ca-e948ea4bfe06\", \"x\": [\"2018-07-01 13:00:00\", \"2018-07-01 14:30:00\"], \"y\": [5, 5]}, {\"marker\": {\"color\": \"white\"}, \"name\": \"\", \"type\": \"scatter\", \"uid\": \"93fd69ec-1385-4074-a534-1a9c99013f25\", \"x\": [\"2018-07-01 14:00:00\", \"2018-07-01 15:30:00\"], \"y\": [6, 6]}, {\"marker\": {\"color\": \"white\"}, \"name\": \"\", \"type\": \"scatter\", \"uid\": \"8d8bdb0b-628f-4e67-80e9-a66a28b0467d\", \"x\": [\"2018-07-01 16:00:00\", \"2018-07-01 16:30:00\"], \"y\": [7, 7]}, {\"marker\": {\"color\": \"white\"}, \"name\": \"\", \"type\": \"scatter\", \"uid\": \"025aff4d-2594-444f-ad2b-a86d50e5d2b6\", \"x\": [\"2018-07-01 17:30:00\", \"2018-07-01 19:00:00\"], \"y\": [8, 8]}, {\"marker\": {\"color\": \"white\"}, \"name\": \"\", \"type\": \"scatter\", \"uid\": \"c8e2131d-8006-4705-a4fe-2d9f4fd3fe80\", \"x\": [\"2018-07-01 20:00:00\", \"2018-07-01 20:30:00\"], \"y\": [9, 9]}, {\"marker\": {\"color\": \"white\"}, \"name\": \"\", \"type\": \"scatter\", \"uid\": \"7e8a9f31-7474-4677-88e9-f15863af4b98\", \"x\": [\"2018-07-01 20:30:00\", \"2018-07-01 22:00:00\"], \"y\": [10, 10]}, {\"marker\": {\"color\": \"white\"}, \"name\": \"\", \"type\": \"scatter\", \"uid\": \"d0bb19e9-c4dc-4961-a5a3-21f9983e2def\", \"x\": [\"2018-07-01 21:00:00\", \"2018-07-01 22:00:00\"], \"y\": [11, 11]}, {\"hoverinfo\": \"none\", \"marker\": {\"color\": \"rgb(189, 143, 215)\", \"size\": 1}, \"name\": \"Eat\", \"showlegend\": true, \"type\": \"scatter\", \"uid\": \"46012dbf-69bc-400a-b87e-95ed5b90ad8f\", \"x\": [\"2018-07-01 21:00:00\", \"2018-07-01 21:00:00\"], \"y\": [0, 0]}, {\"hoverinfo\": \"none\", \"marker\": {\"color\": \"rgb(120, 247, 222)\", \"size\": 1}, \"name\": \"Homework\", \"showlegend\": true, \"type\": \"scatter\", \"uid\": \"8d8880e6-861d-4624-8c9b-b3b33bb0ad20\", \"x\": [\"2018-07-01 21:00:00\", \"2018-07-01 21:00:00\"], \"y\": [1, 1]}, {\"hoverinfo\": \"none\", \"marker\": {\"color\": \"rgb(198, 47, 105)\", \"size\": 1}, \"name\": \"Music\", \"showlegend\": true, \"type\": \"scatter\", \"uid\": \"86e504ec-9946-4410-9e79-d530598c5678\", \"x\": [\"2018-07-01 21:00:00\", \"2018-07-01 21:00:00\"], \"y\": [2, 2]}, {\"hoverinfo\": \"none\", \"marker\": {\"color\": \"rgb(114, 44, 121)\", \"size\": 1}, \"name\": \"Play\", \"showlegend\": true, \"type\": \"scatter\", \"uid\": \"b6a42c20-1f46-408e-9d51-29e0d07dbd39\", \"x\": [\"2018-07-01 21:00:00\", \"2018-07-01 21:00:00\"], \"y\": [3, 3]}, {\"hoverinfo\": \"none\", \"marker\": {\"color\": \"rgb(46, 137, 205)\", \"size\": 1}, \"name\": \"Rest\", \"showlegend\": true, \"type\": \"scatter\", \"uid\": \"face288e-961a-4897-9991-5a2867c48f97\", \"x\": [\"2018-07-01 21:00:00\", \"2018-07-01 21:00:00\"], \"y\": [4, 4]}],\n",
       "                        {\"height\": 600, \"hovermode\": \"closest\", \"shapes\": [{\"fillcolor\": \"rgb(46, 137, 205)\", \"line\": {\"width\": 0}, \"opacity\": 1, \"type\": \"rect\", \"x0\": \"2018-07-01 0:00:00\", \"x1\": \"2018-07-01 7:00:00\", \"xref\": \"x\", \"y0\": -0.5, \"y1\": 0.5, \"yref\": \"y\"}, {\"fillcolor\": \"rgb(189, 143, 215)\", \"line\": {\"width\": 0}, \"opacity\": 1, \"type\": \"rect\", \"x0\": \"2018-07-01 7:30:00\", \"x1\": \"2018-07-01 8:00:00\", \"xref\": \"x\", \"y0\": 0.5, \"y1\": 1.5, \"yref\": \"y\"}, {\"fillcolor\": \"rgb(198, 47, 105)\", \"line\": {\"width\": 0}, \"opacity\": 1, \"type\": \"rect\", \"x0\": \"2018-07-01 8:00:00\", \"x1\": \"2018-07-01 12:00:00\", \"xref\": \"x\", \"y0\": 1.5, \"y1\": 2.5, \"yref\": \"y\"}, {\"fillcolor\": \"rgb(120, 247, 222)\", \"line\": {\"width\": 0}, \"opacity\": 1, \"type\": \"rect\", \"x0\": \"2018-07-01 9:00:00\", \"x1\": \"2018-07-01 12:00:00\", \"xref\": \"x\", \"y0\": 2.5, \"y1\": 3.5, \"yref\": \"y\"}, {\"fillcolor\": \"rgb(189, 143, 215)\", \"line\": {\"width\": 0}, \"opacity\": 1, \"type\": \"rect\", \"x0\": \"2018-07-01 12:00:00\", \"x1\": \"2018-07-01 13:00:00\", \"xref\": \"x\", \"y0\": 3.5, \"y1\": 4.5, \"yref\": \"y\"}, {\"fillcolor\": \"rgb(120, 247, 222)\", \"line\": {\"width\": 0}, \"opacity\": 1, \"type\": \"rect\", \"x0\": \"2018-07-01 13:00:00\", \"x1\": \"2018-07-01 14:30:00\", \"xref\": \"x\", \"y0\": 4.5, \"y1\": 5.5, \"yref\": \"y\"}, {\"fillcolor\": \"rgb(198, 47, 105)\", \"line\": {\"width\": 0}, \"opacity\": 1, \"type\": \"rect\", \"x0\": \"2018-07-01 14:00:00\", \"x1\": \"2018-07-01 15:30:00\", \"xref\": \"x\", \"y0\": 5.5, \"y1\": 6.5, \"yref\": \"y\"}, {\"fillcolor\": \"rgb(46, 137, 205)\", \"line\": {\"width\": 0}, \"opacity\": 1, \"type\": \"rect\", \"x0\": \"2018-07-01 16:00:00\", \"x1\": \"2018-07-01 16:30:00\", \"xref\": \"x\", \"y0\": 6.5, \"y1\": 7.5, \"yref\": \"y\"}, {\"fillcolor\": \"rgb(114, 44, 121)\", \"line\": {\"width\": 0}, \"opacity\": 1, \"type\": \"rect\", \"x0\": \"2018-07-01 17:30:00\", \"x1\": \"2018-07-01 19:00:00\", \"xref\": \"x\", \"y0\": 7.5, \"y1\": 8.5, \"yref\": \"y\"}, {\"fillcolor\": \"rgb(189, 143, 215)\", \"line\": {\"width\": 0}, \"opacity\": 1, \"type\": \"rect\", \"x0\": \"2018-07-01 20:00:00\", \"x1\": \"2018-07-01 20:30:00\", \"xref\": \"x\", \"y0\": 8.5, \"y1\": 9.5, \"yref\": \"y\"}, {\"fillcolor\": \"rgb(198, 47, 105)\", \"line\": {\"width\": 0}, \"opacity\": 1, \"type\": \"rect\", \"x0\": \"2018-07-01 20:30:00\", \"x1\": \"2018-07-01 22:00:00\", \"xref\": \"x\", \"y0\": 9.5, \"y1\": 10.5, \"yref\": \"y\"}, {\"fillcolor\": \"rgb(120, 247, 222)\", \"line\": {\"width\": 0}, \"opacity\": 1, \"type\": \"rect\", \"x0\": \"2018-07-01 21:00:00\", \"x1\": \"2018-07-01 22:00:00\", \"xref\": \"x\", \"y0\": 10.5, \"y1\": 11.5, \"yref\": \"y\"}], \"showlegend\": true, \"title\": {\"text\": \"Schedule for 1-July-2018\"}, \"width\": 900, \"xaxis\": {\"rangeselector\": {\"buttons\": [{\"count\": 7, \"label\": \"1w\", \"step\": \"day\", \"stepmode\": \"backward\"}, {\"count\": 1, \"label\": \"1m\", \"step\": \"month\", \"stepmode\": \"backward\"}, {\"count\": 6, \"label\": \"6m\", \"step\": \"month\", \"stepmode\": \"backward\"}, {\"count\": 1, \"label\": \"YTD\", \"step\": \"year\", \"stepmode\": \"todate\"}, {\"count\": 1, \"label\": \"1y\", \"step\": \"year\", \"stepmode\": \"backward\"}, {\"step\": \"all\"}]}, \"showgrid\": true, \"type\": \"date\", \"zeroline\": false}, \"yaxis\": {\"autorange\": false, \"range\": [-1, 13], \"showgrid\": true, \"ticktext\": [\"Sleep\", \"Breakfast\", \"Music\", \"Math\", \"Lunch\", \"Physics\", \"Music\", \"Nap\", \"Tennis\", \"Dinner\", \"Music\", \"History\"], \"tickvals\": [0, 1, 2, 3, 4, 5, 6, 7, 8, 9, 10, 11], \"zeroline\": false}},\n",
       "                        {\"showLink\": false, \"linkText\": \"Export to plot.ly\", \"plotlyServerURL\": \"https://plot.ly\", \"responsive\": true}\n",
       "                    ).then(function(){\n",
       "                            \n",
       "var gd = document.getElementById('7bf1d5a0-c160-44ed-bc9b-f09b1c2f0371');\n",
       "var x = new MutationObserver(function (mutations, observer) {{\n",
       "        var display = window.getComputedStyle(gd).display;\n",
       "        if (!display || display === 'none') {{\n",
       "            console.log([gd, 'removed!']);\n",
       "            Plotly.purge(gd);\n",
       "            observer.disconnect();\n",
       "        }}\n",
       "}});\n",
       "\n",
       "// Listen for the removal of the full notebook cells\n",
       "var notebookContainer = gd.closest('#notebook-container');\n",
       "if (notebookContainer) {{\n",
       "    x.observe(notebookContainer, {childList: true});\n",
       "}}\n",
       "\n",
       "// Listen for the clearing of the current output cell\n",
       "var outputEl = gd.closest('.output');\n",
       "if (outputEl) {{\n",
       "    x.observe(outputEl, {childList: true});\n",
       "}}\n",
       "\n",
       "                        })\n",
       "                };\n",
       "                });\n",
       "            </script>\n",
       "        </div>"
      ]
     },
     "metadata": {},
     "output_type": "display_data"
    }
   ],
   "source": [
    "fig = ff.create_gantt(schedule,\n",
    "                      title='Schedule for 1-July-2018',\n",
    "                      \n",
    "                      colors=color_list, \n",
    "                      index_col='Category',\n",
    "                      show_colorbar=True,\n",
    "                      \n",
    "                      bar_width=0.5, \n",
    "                      showgrid_x=True, \n",
    "                      showgrid_y=True)\n",
    "\n",
    "offline.iplot(fig)"
   ]
  },
  {
   "cell_type": "markdown",
   "metadata": {},
   "source": [
    "#### Grouping tasks\n",
    "In our schedule, there are 3 occurences of Music which have so far appeared as separate tasks. We use the group_tasks attribute so that they all appear in the same row on our plot."
   ]
  },
  {
   "cell_type": "code",
   "execution_count": 12,
   "metadata": {},
   "outputs": [
    {
     "data": {
      "application/vnd.plotly.v1+json": {
       "config": {
        "linkText": "Export to plot.ly",
        "plotlyServerURL": "https://plot.ly",
        "showLink": false
       },
       "data": [
        {
         "marker": {
          "color": "white"
         },
         "name": "",
         "type": "scatter",
         "uid": "144de6ba-cc84-46a2-bf38-6e9b91850a01",
         "x": [
          "2018-07-01 0:00:00",
          "2018-07-01 7:00:00"
         ],
         "y": [
          9,
          9
         ]
        },
        {
         "marker": {
          "color": "white"
         },
         "name": "",
         "type": "scatter",
         "uid": "f2385888-1e3b-4448-9c5e-64d14c5aea97",
         "x": [
          "2018-07-01 7:30:00",
          "2018-07-01 8:00:00"
         ],
         "y": [
          8,
          8
         ]
        },
        {
         "marker": {
          "color": "white"
         },
         "name": "",
         "type": "scatter",
         "uid": "78c97fe4-8ae3-4b52-978d-e22d8085e601",
         "x": [
          "2018-07-01 8:00:00",
          "2018-07-01 12:00:00"
         ],
         "y": [
          7,
          7
         ]
        },
        {
         "marker": {
          "color": "white"
         },
         "name": "",
         "type": "scatter",
         "uid": "23c468c2-d552-4849-83a8-3365d9583722",
         "x": [
          "2018-07-01 9:00:00",
          "2018-07-01 12:00:00"
         ],
         "y": [
          6,
          6
         ]
        },
        {
         "marker": {
          "color": "white"
         },
         "name": "",
         "type": "scatter",
         "uid": "549bf589-97b9-4a06-8cdd-39e37beb7c54",
         "x": [
          "2018-07-01 12:00:00",
          "2018-07-01 13:00:00"
         ],
         "y": [
          5,
          5
         ]
        },
        {
         "marker": {
          "color": "white"
         },
         "name": "",
         "type": "scatter",
         "uid": "1cd7482b-3f98-4bda-99b1-b41d26c11012",
         "x": [
          "2018-07-01 13:00:00",
          "2018-07-01 14:30:00"
         ],
         "y": [
          4,
          4
         ]
        },
        {
         "marker": {
          "color": "white"
         },
         "name": "",
         "type": "scatter",
         "uid": "15f2c7a7-63b2-4b4a-8637-7b9df83fc11f",
         "x": [
          "2018-07-01 14:00:00",
          "2018-07-01 15:30:00"
         ],
         "y": [
          7,
          7
         ]
        },
        {
         "marker": {
          "color": "white"
         },
         "name": "",
         "type": "scatter",
         "uid": "8ce42655-6198-4b93-8aeb-9ff77f0be804",
         "x": [
          "2018-07-01 16:00:00",
          "2018-07-01 16:30:00"
         ],
         "y": [
          3,
          3
         ]
        },
        {
         "marker": {
          "color": "white"
         },
         "name": "",
         "type": "scatter",
         "uid": "79b6c82a-4b56-42e1-b9f8-baa6af223610",
         "x": [
          "2018-07-01 17:30:00",
          "2018-07-01 19:00:00"
         ],
         "y": [
          2,
          2
         ]
        },
        {
         "marker": {
          "color": "white"
         },
         "name": "",
         "type": "scatter",
         "uid": "8221d808-46a8-476d-93b6-7e371c2f68da",
         "x": [
          "2018-07-01 20:00:00",
          "2018-07-01 20:30:00"
         ],
         "y": [
          1,
          1
         ]
        },
        {
         "marker": {
          "color": "white"
         },
         "name": "",
         "type": "scatter",
         "uid": "415fede4-e310-44fa-9800-6bdebea5b183",
         "x": [
          "2018-07-01 20:30:00",
          "2018-07-01 22:00:00"
         ],
         "y": [
          7,
          7
         ]
        },
        {
         "marker": {
          "color": "white"
         },
         "name": "",
         "type": "scatter",
         "uid": "f2b0cd1f-e3b3-4b7b-a1a6-a4f1126bb40a",
         "x": [
          "2018-07-01 21:00:00",
          "2018-07-01 22:00:00"
         ],
         "y": [
          0,
          0
         ]
        },
        {
         "hoverinfo": "none",
         "marker": {
          "color": "rgb(189, 143, 215)",
          "size": 1
         },
         "name": "Eat",
         "showlegend": true,
         "type": "scatter",
         "uid": "16c26895-a3ae-4464-a14a-249970ef41ec",
         "x": [
          "2018-07-01 21:00:00",
          "2018-07-01 21:00:00"
         ],
         "y": [
          0,
          0
         ]
        },
        {
         "hoverinfo": "none",
         "marker": {
          "color": "rgb(120, 247, 222)",
          "size": 1
         },
         "name": "Homework",
         "showlegend": true,
         "type": "scatter",
         "uid": "bb1be449-2c91-49ae-923c-c85f24b05f14",
         "x": [
          "2018-07-01 21:00:00",
          "2018-07-01 21:00:00"
         ],
         "y": [
          1,
          1
         ]
        },
        {
         "hoverinfo": "none",
         "marker": {
          "color": "rgb(198, 47, 105)",
          "size": 1
         },
         "name": "Music",
         "showlegend": true,
         "type": "scatter",
         "uid": "f168aec7-26d7-4340-a853-c068ca19f343",
         "x": [
          "2018-07-01 21:00:00",
          "2018-07-01 21:00:00"
         ],
         "y": [
          2,
          2
         ]
        },
        {
         "hoverinfo": "none",
         "marker": {
          "color": "rgb(114, 44, 121)",
          "size": 1
         },
         "name": "Play",
         "showlegend": true,
         "type": "scatter",
         "uid": "e34f9865-16e7-4a6c-8619-ab52b0de2df6",
         "x": [
          "2018-07-01 21:00:00",
          "2018-07-01 21:00:00"
         ],
         "y": [
          3,
          3
         ]
        },
        {
         "hoverinfo": "none",
         "marker": {
          "color": "rgb(46, 137, 205)",
          "size": 1
         },
         "name": "Rest",
         "showlegend": true,
         "type": "scatter",
         "uid": "8366ce61-9bad-49e7-9995-b710a096effc",
         "x": [
          "2018-07-01 21:00:00",
          "2018-07-01 21:00:00"
         ],
         "y": [
          4,
          4
         ]
        }
       ],
       "layout": {
        "height": 600,
        "hovermode": "closest",
        "shapes": [
         {
          "fillcolor": "rgb(46, 137, 205)",
          "line": {
           "width": 0
          },
          "opacity": 1,
          "type": "rect",
          "x0": "2018-07-01 0:00:00",
          "x1": "2018-07-01 7:00:00",
          "xref": "x",
          "y0": 8.5,
          "y1": 9.5,
          "yref": "y"
         },
         {
          "fillcolor": "rgb(189, 143, 215)",
          "line": {
           "width": 0
          },
          "opacity": 1,
          "type": "rect",
          "x0": "2018-07-01 7:30:00",
          "x1": "2018-07-01 8:00:00",
          "xref": "x",
          "y0": 7.5,
          "y1": 8.5,
          "yref": "y"
         },
         {
          "fillcolor": "rgb(198, 47, 105)",
          "line": {
           "width": 0
          },
          "opacity": 1,
          "type": "rect",
          "x0": "2018-07-01 8:00:00",
          "x1": "2018-07-01 12:00:00",
          "xref": "x",
          "y0": 6.5,
          "y1": 7.5,
          "yref": "y"
         },
         {
          "fillcolor": "rgb(120, 247, 222)",
          "line": {
           "width": 0
          },
          "opacity": 1,
          "type": "rect",
          "x0": "2018-07-01 9:00:00",
          "x1": "2018-07-01 12:00:00",
          "xref": "x",
          "y0": 5.5,
          "y1": 6.5,
          "yref": "y"
         },
         {
          "fillcolor": "rgb(189, 143, 215)",
          "line": {
           "width": 0
          },
          "opacity": 1,
          "type": "rect",
          "x0": "2018-07-01 12:00:00",
          "x1": "2018-07-01 13:00:00",
          "xref": "x",
          "y0": 4.5,
          "y1": 5.5,
          "yref": "y"
         },
         {
          "fillcolor": "rgb(120, 247, 222)",
          "line": {
           "width": 0
          },
          "opacity": 1,
          "type": "rect",
          "x0": "2018-07-01 13:00:00",
          "x1": "2018-07-01 14:30:00",
          "xref": "x",
          "y0": 3.5,
          "y1": 4.5,
          "yref": "y"
         },
         {
          "fillcolor": "rgb(198, 47, 105)",
          "line": {
           "width": 0
          },
          "opacity": 1,
          "type": "rect",
          "x0": "2018-07-01 14:00:00",
          "x1": "2018-07-01 15:30:00",
          "xref": "x",
          "y0": 6.5,
          "y1": 7.5,
          "yref": "y"
         },
         {
          "fillcolor": "rgb(46, 137, 205)",
          "line": {
           "width": 0
          },
          "opacity": 1,
          "type": "rect",
          "x0": "2018-07-01 16:00:00",
          "x1": "2018-07-01 16:30:00",
          "xref": "x",
          "y0": 2.5,
          "y1": 3.5,
          "yref": "y"
         },
         {
          "fillcolor": "rgb(114, 44, 121)",
          "line": {
           "width": 0
          },
          "opacity": 1,
          "type": "rect",
          "x0": "2018-07-01 17:30:00",
          "x1": "2018-07-01 19:00:00",
          "xref": "x",
          "y0": 1.5,
          "y1": 2.5,
          "yref": "y"
         },
         {
          "fillcolor": "rgb(189, 143, 215)",
          "line": {
           "width": 0
          },
          "opacity": 1,
          "type": "rect",
          "x0": "2018-07-01 20:00:00",
          "x1": "2018-07-01 20:30:00",
          "xref": "x",
          "y0": 0.5,
          "y1": 1.5,
          "yref": "y"
         },
         {
          "fillcolor": "rgb(198, 47, 105)",
          "line": {
           "width": 0
          },
          "opacity": 1,
          "type": "rect",
          "x0": "2018-07-01 20:30:00",
          "x1": "2018-07-01 22:00:00",
          "xref": "x",
          "y0": 6.5,
          "y1": 7.5,
          "yref": "y"
         },
         {
          "fillcolor": "rgb(120, 247, 222)",
          "line": {
           "width": 0
          },
          "opacity": 1,
          "type": "rect",
          "x0": "2018-07-01 21:00:00",
          "x1": "2018-07-01 22:00:00",
          "xref": "x",
          "y0": -0.5,
          "y1": 0.5,
          "yref": "y"
         }
        ],
        "showlegend": true,
        "title": {
         "text": "Schedule for 1-July-2018"
        },
        "width": 900,
        "xaxis": {
         "rangeselector": {
          "buttons": [
           {
            "count": 7,
            "label": "1w",
            "step": "day",
            "stepmode": "backward"
           },
           {
            "count": 1,
            "label": "1m",
            "step": "month",
            "stepmode": "backward"
           },
           {
            "count": 6,
            "label": "6m",
            "step": "month",
            "stepmode": "backward"
           },
           {
            "count": 1,
            "label": "YTD",
            "step": "year",
            "stepmode": "todate"
           },
           {
            "count": 1,
            "label": "1y",
            "step": "year",
            "stepmode": "backward"
           },
           {
            "step": "all"
           }
          ]
         },
         "showgrid": true,
         "type": "date",
         "zeroline": false
        },
        "yaxis": {
         "autorange": false,
         "range": [
          -1,
          11
         ],
         "showgrid": true,
         "ticktext": [
          "History",
          "Dinner",
          "Tennis",
          "Nap",
          "Physics",
          "Lunch",
          "Math",
          "Music",
          "Breakfast",
          "Sleep"
         ],
         "tickvals": [
          0,
          1,
          2,
          3,
          4,
          5,
          6,
          7,
          8,
          9
         ],
         "zeroline": false
        }
       }
      },
      "text/html": [
       "<div>\n",
       "        \n",
       "        \n",
       "            <div id=\"2ff5c53e-24a2-456d-aed9-e674dad9f472\" class=\"plotly-graph-div\" style=\"height:600px; width:900px;\"></div>\n",
       "            <script type=\"text/javascript\">\n",
       "                require([\"plotly\"], function(Plotly) {\n",
       "                    window.PLOTLYENV=window.PLOTLYENV || {};\n",
       "                    window.PLOTLYENV.BASE_URL='https://plot.ly';\n",
       "                    \n",
       "                if (document.getElementById(\"2ff5c53e-24a2-456d-aed9-e674dad9f472\")) {\n",
       "                    Plotly.newPlot(\n",
       "                        '2ff5c53e-24a2-456d-aed9-e674dad9f472',\n",
       "                        [{\"marker\": {\"color\": \"white\"}, \"name\": \"\", \"type\": \"scatter\", \"uid\": \"144de6ba-cc84-46a2-bf38-6e9b91850a01\", \"x\": [\"2018-07-01 0:00:00\", \"2018-07-01 7:00:00\"], \"y\": [9, 9]}, {\"marker\": {\"color\": \"white\"}, \"name\": \"\", \"type\": \"scatter\", \"uid\": \"f2385888-1e3b-4448-9c5e-64d14c5aea97\", \"x\": [\"2018-07-01 7:30:00\", \"2018-07-01 8:00:00\"], \"y\": [8, 8]}, {\"marker\": {\"color\": \"white\"}, \"name\": \"\", \"type\": \"scatter\", \"uid\": \"78c97fe4-8ae3-4b52-978d-e22d8085e601\", \"x\": [\"2018-07-01 8:00:00\", \"2018-07-01 12:00:00\"], \"y\": [7, 7]}, {\"marker\": {\"color\": \"white\"}, \"name\": \"\", \"type\": \"scatter\", \"uid\": \"23c468c2-d552-4849-83a8-3365d9583722\", \"x\": [\"2018-07-01 9:00:00\", \"2018-07-01 12:00:00\"], \"y\": [6, 6]}, {\"marker\": {\"color\": \"white\"}, \"name\": \"\", \"type\": \"scatter\", \"uid\": \"549bf589-97b9-4a06-8cdd-39e37beb7c54\", \"x\": [\"2018-07-01 12:00:00\", \"2018-07-01 13:00:00\"], \"y\": [5, 5]}, {\"marker\": {\"color\": \"white\"}, \"name\": \"\", \"type\": \"scatter\", \"uid\": \"1cd7482b-3f98-4bda-99b1-b41d26c11012\", \"x\": [\"2018-07-01 13:00:00\", \"2018-07-01 14:30:00\"], \"y\": [4, 4]}, {\"marker\": {\"color\": \"white\"}, \"name\": \"\", \"type\": \"scatter\", \"uid\": \"15f2c7a7-63b2-4b4a-8637-7b9df83fc11f\", \"x\": [\"2018-07-01 14:00:00\", \"2018-07-01 15:30:00\"], \"y\": [7, 7]}, {\"marker\": {\"color\": \"white\"}, \"name\": \"\", \"type\": \"scatter\", \"uid\": \"8ce42655-6198-4b93-8aeb-9ff77f0be804\", \"x\": [\"2018-07-01 16:00:00\", \"2018-07-01 16:30:00\"], \"y\": [3, 3]}, {\"marker\": {\"color\": \"white\"}, \"name\": \"\", \"type\": \"scatter\", \"uid\": \"79b6c82a-4b56-42e1-b9f8-baa6af223610\", \"x\": [\"2018-07-01 17:30:00\", \"2018-07-01 19:00:00\"], \"y\": [2, 2]}, {\"marker\": {\"color\": \"white\"}, \"name\": \"\", \"type\": \"scatter\", \"uid\": \"8221d808-46a8-476d-93b6-7e371c2f68da\", \"x\": [\"2018-07-01 20:00:00\", \"2018-07-01 20:30:00\"], \"y\": [1, 1]}, {\"marker\": {\"color\": \"white\"}, \"name\": \"\", \"type\": \"scatter\", \"uid\": \"415fede4-e310-44fa-9800-6bdebea5b183\", \"x\": [\"2018-07-01 20:30:00\", \"2018-07-01 22:00:00\"], \"y\": [7, 7]}, {\"marker\": {\"color\": \"white\"}, \"name\": \"\", \"type\": \"scatter\", \"uid\": \"f2b0cd1f-e3b3-4b7b-a1a6-a4f1126bb40a\", \"x\": [\"2018-07-01 21:00:00\", \"2018-07-01 22:00:00\"], \"y\": [0, 0]}, {\"hoverinfo\": \"none\", \"marker\": {\"color\": \"rgb(189, 143, 215)\", \"size\": 1}, \"name\": \"Eat\", \"showlegend\": true, \"type\": \"scatter\", \"uid\": \"16c26895-a3ae-4464-a14a-249970ef41ec\", \"x\": [\"2018-07-01 21:00:00\", \"2018-07-01 21:00:00\"], \"y\": [0, 0]}, {\"hoverinfo\": \"none\", \"marker\": {\"color\": \"rgb(120, 247, 222)\", \"size\": 1}, \"name\": \"Homework\", \"showlegend\": true, \"type\": \"scatter\", \"uid\": \"bb1be449-2c91-49ae-923c-c85f24b05f14\", \"x\": [\"2018-07-01 21:00:00\", \"2018-07-01 21:00:00\"], \"y\": [1, 1]}, {\"hoverinfo\": \"none\", \"marker\": {\"color\": \"rgb(198, 47, 105)\", \"size\": 1}, \"name\": \"Music\", \"showlegend\": true, \"type\": \"scatter\", \"uid\": \"f168aec7-26d7-4340-a853-c068ca19f343\", \"x\": [\"2018-07-01 21:00:00\", \"2018-07-01 21:00:00\"], \"y\": [2, 2]}, {\"hoverinfo\": \"none\", \"marker\": {\"color\": \"rgb(114, 44, 121)\", \"size\": 1}, \"name\": \"Play\", \"showlegend\": true, \"type\": \"scatter\", \"uid\": \"e34f9865-16e7-4a6c-8619-ab52b0de2df6\", \"x\": [\"2018-07-01 21:00:00\", \"2018-07-01 21:00:00\"], \"y\": [3, 3]}, {\"hoverinfo\": \"none\", \"marker\": {\"color\": \"rgb(46, 137, 205)\", \"size\": 1}, \"name\": \"Rest\", \"showlegend\": true, \"type\": \"scatter\", \"uid\": \"8366ce61-9bad-49e7-9995-b710a096effc\", \"x\": [\"2018-07-01 21:00:00\", \"2018-07-01 21:00:00\"], \"y\": [4, 4]}],\n",
       "                        {\"height\": 600, \"hovermode\": \"closest\", \"shapes\": [{\"fillcolor\": \"rgb(46, 137, 205)\", \"line\": {\"width\": 0}, \"opacity\": 1, \"type\": \"rect\", \"x0\": \"2018-07-01 0:00:00\", \"x1\": \"2018-07-01 7:00:00\", \"xref\": \"x\", \"y0\": 8.5, \"y1\": 9.5, \"yref\": \"y\"}, {\"fillcolor\": \"rgb(189, 143, 215)\", \"line\": {\"width\": 0}, \"opacity\": 1, \"type\": \"rect\", \"x0\": \"2018-07-01 7:30:00\", \"x1\": \"2018-07-01 8:00:00\", \"xref\": \"x\", \"y0\": 7.5, \"y1\": 8.5, \"yref\": \"y\"}, {\"fillcolor\": \"rgb(198, 47, 105)\", \"line\": {\"width\": 0}, \"opacity\": 1, \"type\": \"rect\", \"x0\": \"2018-07-01 8:00:00\", \"x1\": \"2018-07-01 12:00:00\", \"xref\": \"x\", \"y0\": 6.5, \"y1\": 7.5, \"yref\": \"y\"}, {\"fillcolor\": \"rgb(120, 247, 222)\", \"line\": {\"width\": 0}, \"opacity\": 1, \"type\": \"rect\", \"x0\": \"2018-07-01 9:00:00\", \"x1\": \"2018-07-01 12:00:00\", \"xref\": \"x\", \"y0\": 5.5, \"y1\": 6.5, \"yref\": \"y\"}, {\"fillcolor\": \"rgb(189, 143, 215)\", \"line\": {\"width\": 0}, \"opacity\": 1, \"type\": \"rect\", \"x0\": \"2018-07-01 12:00:00\", \"x1\": \"2018-07-01 13:00:00\", \"xref\": \"x\", \"y0\": 4.5, \"y1\": 5.5, \"yref\": \"y\"}, {\"fillcolor\": \"rgb(120, 247, 222)\", \"line\": {\"width\": 0}, \"opacity\": 1, \"type\": \"rect\", \"x0\": \"2018-07-01 13:00:00\", \"x1\": \"2018-07-01 14:30:00\", \"xref\": \"x\", \"y0\": 3.5, \"y1\": 4.5, \"yref\": \"y\"}, {\"fillcolor\": \"rgb(198, 47, 105)\", \"line\": {\"width\": 0}, \"opacity\": 1, \"type\": \"rect\", \"x0\": \"2018-07-01 14:00:00\", \"x1\": \"2018-07-01 15:30:00\", \"xref\": \"x\", \"y0\": 6.5, \"y1\": 7.5, \"yref\": \"y\"}, {\"fillcolor\": \"rgb(46, 137, 205)\", \"line\": {\"width\": 0}, \"opacity\": 1, \"type\": \"rect\", \"x0\": \"2018-07-01 16:00:00\", \"x1\": \"2018-07-01 16:30:00\", \"xref\": \"x\", \"y0\": 2.5, \"y1\": 3.5, \"yref\": \"y\"}, {\"fillcolor\": \"rgb(114, 44, 121)\", \"line\": {\"width\": 0}, \"opacity\": 1, \"type\": \"rect\", \"x0\": \"2018-07-01 17:30:00\", \"x1\": \"2018-07-01 19:00:00\", \"xref\": \"x\", \"y0\": 1.5, \"y1\": 2.5, \"yref\": \"y\"}, {\"fillcolor\": \"rgb(189, 143, 215)\", \"line\": {\"width\": 0}, \"opacity\": 1, \"type\": \"rect\", \"x0\": \"2018-07-01 20:00:00\", \"x1\": \"2018-07-01 20:30:00\", \"xref\": \"x\", \"y0\": 0.5, \"y1\": 1.5, \"yref\": \"y\"}, {\"fillcolor\": \"rgb(198, 47, 105)\", \"line\": {\"width\": 0}, \"opacity\": 1, \"type\": \"rect\", \"x0\": \"2018-07-01 20:30:00\", \"x1\": \"2018-07-01 22:00:00\", \"xref\": \"x\", \"y0\": 6.5, \"y1\": 7.5, \"yref\": \"y\"}, {\"fillcolor\": \"rgb(120, 247, 222)\", \"line\": {\"width\": 0}, \"opacity\": 1, \"type\": \"rect\", \"x0\": \"2018-07-01 21:00:00\", \"x1\": \"2018-07-01 22:00:00\", \"xref\": \"x\", \"y0\": -0.5, \"y1\": 0.5, \"yref\": \"y\"}], \"showlegend\": true, \"title\": {\"text\": \"Schedule for 1-July-2018\"}, \"width\": 900, \"xaxis\": {\"rangeselector\": {\"buttons\": [{\"count\": 7, \"label\": \"1w\", \"step\": \"day\", \"stepmode\": \"backward\"}, {\"count\": 1, \"label\": \"1m\", \"step\": \"month\", \"stepmode\": \"backward\"}, {\"count\": 6, \"label\": \"6m\", \"step\": \"month\", \"stepmode\": \"backward\"}, {\"count\": 1, \"label\": \"YTD\", \"step\": \"year\", \"stepmode\": \"todate\"}, {\"count\": 1, \"label\": \"1y\", \"step\": \"year\", \"stepmode\": \"backward\"}, {\"step\": \"all\"}]}, \"showgrid\": true, \"type\": \"date\", \"zeroline\": false}, \"yaxis\": {\"autorange\": false, \"range\": [-1, 11], \"showgrid\": true, \"ticktext\": [\"History\", \"Dinner\", \"Tennis\", \"Nap\", \"Physics\", \"Lunch\", \"Math\", \"Music\", \"Breakfast\", \"Sleep\"], \"tickvals\": [0, 1, 2, 3, 4, 5, 6, 7, 8, 9], \"zeroline\": false}},\n",
       "                        {\"showLink\": false, \"linkText\": \"Export to plot.ly\", \"plotlyServerURL\": \"https://plot.ly\", \"responsive\": true}\n",
       "                    ).then(function(){\n",
       "                            \n",
       "var gd = document.getElementById('2ff5c53e-24a2-456d-aed9-e674dad9f472');\n",
       "var x = new MutationObserver(function (mutations, observer) {{\n",
       "        var display = window.getComputedStyle(gd).display;\n",
       "        if (!display || display === 'none') {{\n",
       "            console.log([gd, 'removed!']);\n",
       "            Plotly.purge(gd);\n",
       "            observer.disconnect();\n",
       "        }}\n",
       "}});\n",
       "\n",
       "// Listen for the removal of the full notebook cells\n",
       "var notebookContainer = gd.closest('#notebook-container');\n",
       "if (notebookContainer) {{\n",
       "    x.observe(notebookContainer, {childList: true});\n",
       "}}\n",
       "\n",
       "// Listen for the clearing of the current output cell\n",
       "var outputEl = gd.closest('.output');\n",
       "if (outputEl) {{\n",
       "    x.observe(outputEl, {childList: true});\n",
       "}}\n",
       "\n",
       "                        })\n",
       "                };\n",
       "                });\n",
       "            </script>\n",
       "        </div>"
      ]
     },
     "metadata": {},
     "output_type": "display_data"
    }
   ],
   "source": [
    "fig = ff.create_gantt(schedule,\n",
    "                      title='Schedule for 1-July-2018',\n",
    "                      \n",
    "                      colors=color_list, \n",
    "                      index_col='Category',\n",
    "                      show_colorbar=True,\n",
    "                      \n",
    "                      bar_width=0.5, \n",
    "                      showgrid_x=True, \n",
    "                      showgrid_y=True,\n",
    "                      \n",
    "                      group_tasks=True)\n",
    "\n",
    "offline.iplot(fig)"
   ]
  }
 ],
 "metadata": {
  "kernelspec": {
   "display_name": "Python 3",
   "language": "python",
   "name": "python3"
  },
  "language_info": {
   "codemirror_mode": {
    "name": "ipython",
    "version": 3
   },
   "file_extension": ".py",
   "mimetype": "text/x-python",
   "name": "python",
   "nbconvert_exporter": "python",
   "pygments_lexer": "ipython3",
   "version": "3.7.3"
  }
 },
 "nbformat": 4,
 "nbformat_minor": 2
}
