{
 "cells": [
  {
   "cell_type": "code",
   "execution_count": 1,
   "metadata": {},
   "outputs": [
    {
     "data": {
      "text/plain": [
       "True"
      ]
     },
     "execution_count": 1,
     "metadata": {},
     "output_type": "execute_result"
    }
   ],
   "source": [
    "import matplotlib\n",
    "import numpy as np\n",
    "import matplotlib.pyplot as plt\n",
    "import pandas as pd\n",
    "\n",
    "matplotlib.interactive(True)\n",
    "plt.ion()\n",
    "matplotlib.is_interactive()"
   ]
  },
  {
   "cell_type": "markdown",
   "metadata": {},
   "source": [
    "#### Use data about annual visits to some US national parks \n",
    "Data obtained from: https://irma.nps.gov/Stats/Reports/Park\n",
    "\n",
    "Number of annual visits in 3 US National parks from 1961-2017 - same data used in the Histograms demo"
   ]
  },
  {
   "cell_type": "code",
   "execution_count": 2,
   "metadata": {},
   "outputs": [
    {
     "data": {
      "text/html": [
       "<div>\n",
       "<style scoped>\n",
       "    .dataframe tbody tr th:only-of-type {\n",
       "        vertical-align: middle;\n",
       "    }\n",
       "\n",
       "    .dataframe tbody tr th {\n",
       "        vertical-align: top;\n",
       "    }\n",
       "\n",
       "    .dataframe thead th {\n",
       "        text-align: right;\n",
       "    }\n",
       "</style>\n",
       "<table border=\"1\" class=\"dataframe\">\n",
       "  <thead>\n",
       "    <tr style=\"text-align: right;\">\n",
       "      <th></th>\n",
       "      <th>Year</th>\n",
       "      <th>Badlands</th>\n",
       "      <th>GrandCanyon</th>\n",
       "      <th>BryceCanyon</th>\n",
       "    </tr>\n",
       "  </thead>\n",
       "  <tbody>\n",
       "    <tr>\n",
       "      <th>0</th>\n",
       "      <td>1961</td>\n",
       "      <td>833300</td>\n",
       "      <td>1253000</td>\n",
       "      <td>264800</td>\n",
       "    </tr>\n",
       "    <tr>\n",
       "      <th>1</th>\n",
       "      <td>1962</td>\n",
       "      <td>1044800</td>\n",
       "      <td>1447400</td>\n",
       "      <td>251000</td>\n",
       "    </tr>\n",
       "    <tr>\n",
       "      <th>2</th>\n",
       "      <td>1963</td>\n",
       "      <td>1074000</td>\n",
       "      <td>1539500</td>\n",
       "      <td>289500</td>\n",
       "    </tr>\n",
       "    <tr>\n",
       "      <th>3</th>\n",
       "      <td>1964</td>\n",
       "      <td>1079800</td>\n",
       "      <td>1576600</td>\n",
       "      <td>300300</td>\n",
       "    </tr>\n",
       "    <tr>\n",
       "      <th>4</th>\n",
       "      <td>1965</td>\n",
       "      <td>1091300</td>\n",
       "      <td>1689200</td>\n",
       "      <td>366800</td>\n",
       "    </tr>\n",
       "  </tbody>\n",
       "</table>\n",
       "</div>"
      ],
      "text/plain": [
       "   Year  Badlands  GrandCanyon  BryceCanyon\n",
       "0  1961    833300      1253000       264800\n",
       "1  1962   1044800      1447400       251000\n",
       "2  1963   1074000      1539500       289500\n",
       "3  1964   1079800      1576600       300300\n",
       "4  1965   1091300      1689200       366800"
      ]
     },
     "execution_count": 2,
     "metadata": {},
     "output_type": "execute_result"
    }
   ],
   "source": [
    "np_data= pd.read_csv('datasets/national_parks.csv')\n",
    "np_data.head()"
   ]
  },
  {
   "cell_type": "markdown",
   "metadata": {},
   "source": [
    "#### Define the data to be used in the X axis"
   ]
  },
  {
   "cell_type": "code",
   "execution_count": 3,
   "metadata": {},
   "outputs": [],
   "source": [
    "x = np_data['Year']"
   ]
  },
  {
   "cell_type": "markdown",
   "metadata": {},
   "source": [
    "#### Use Numpy's vstack method to create a vertical stack\n",
    "This will create a 2-D array with the data for number of annual visitors to each park stacked on top of each other. We end up with 3 arrays in the stack - one for each park"
   ]
  },
  {
   "cell_type": "code",
   "execution_count": 4,
   "metadata": {},
   "outputs": [
    {
     "data": {
      "text/plain": [
       "array([[ 833300, 1044800, 1074000, 1079800, 1091300, 1094800, 1188700,\n",
       "        1194600, 1221300, 1303100, 1282000, 1274600, 1387900, 1205300,\n",
       "        1153200, 1210100, 1305400, 1234915,  858000,  952652, 1175952,\n",
       "        1030484, 1026981, 1113675,  950242, 1025630, 1174398, 1110040,\n",
       "        1237956, 1326475, 1518396, 1205297, 1179458, 1130459, 1075569,\n",
       "        1024705,  970696, 1021049,  950453, 1105824,  955469,  908898,\n",
       "         871034,  936030,  909146,  840118,  886654,  845734,  933918,\n",
       "         977778,  870741,  883406,  892372,  868094,  989354,  996263,\n",
       "        1054325],\n",
       "       [1253000, 1447400, 1539500, 1576600, 1689200, 1806000, 1804900,\n",
       "        1986300, 2192600, 2258200, 2402100, 2698300, 1909700, 1888600,\n",
       "        2625100, 2791600, 2627200, 2748642, 2131716, 2304973, 2472270,\n",
       "        2293127, 2248082, 2173584, 2711529, 3035787, 3513030, 3859886,\n",
       "        3966209, 3776685, 3886031, 4203545, 4575602, 4364316, 4557645,\n",
       "        4537703, 4791668, 4239682, 4575124, 4460228, 4104809, 4001974,\n",
       "        4124900, 4326234, 4401522, 4279439, 4413668, 4425314, 4348068,\n",
       "        4388386, 4298178, 4421352, 4564840, 4756771, 5520736, 5969811,\n",
       "        6254238],\n",
       "       [ 264800,  251000,  289500,  300300,  366800,  396600,  295000,\n",
       "         320800,  366900,  345900,  377800,  424830,  429700,  408800,\n",
       "         579200,  625600,  611500,  679260,  558095,  571541,  474092,\n",
       "         471517,  472633,  495104,  500782,  578018,  718342,  791348,\n",
       "         808045,  862659,  929067, 1018174, 1107951, 1028134,  994548,\n",
       "        1269600, 1174824, 1166331, 1081521, 1099275, 1068619,  886436,\n",
       "         903760,  987253, 1017681,  890676, 1012563, 1043321, 1216377,\n",
       "        1285492, 1296000, 1385352, 1311875, 1435741, 1745804, 2365110,\n",
       "        2571684]])"
      ]
     },
     "execution_count": 4,
     "metadata": {},
     "output_type": "execute_result"
    }
   ],
   "source": [
    "y = np.vstack([np_data['Badlands'], \n",
    "               np_data['GrandCanyon'], \n",
    "               np_data['BryceCanyon']])\n",
    "y"
   ]
  },
  {
   "cell_type": "markdown",
   "metadata": {},
   "source": [
    "#### Define the labels for each stack item"
   ]
  },
  {
   "cell_type": "code",
   "execution_count": 5,
   "metadata": {},
   "outputs": [],
   "source": [
    "labels = ['Badlands', \n",
    "          'GrandCanyon', \n",
    "          'BryceCanyon']"
   ]
  },
  {
   "cell_type": "markdown",
   "metadata": {},
   "source": [
    "#### Plot the Stackplot\n",
    "We just pass in the X values along with our stack of y values. We also place a legend on this plot:\n",
    "* This plot allows us to view the change in the number of visitors to each park over time\n",
    "* We also get to see the total visitors to all these parks put together\n",
    "* Notice how the Badlands has drawn a steady number of visitors over the time period, while the others have viewed an increase"
   ]
  },
  {
   "cell_type": "code",
   "execution_count": 6,
   "metadata": {},
   "outputs": [
    {
     "data": {
      "image/png": "[encoded data removed]",
      "text/plain": [
       "<Figure size 432x288 with 1 Axes>"
      ]
     },
     "metadata": {
      "needs_background": "light"
     },
     "output_type": "display_data"
    }
   ],
   "source": [
    "plt.stackplot(x, y, \n",
    "              labels=labels)\n",
    "\n",
    "plt.legend(loc='upper left')\n",
    "\n",
    "plt.show()"
   ]
  },
  {
   "cell_type": "markdown",
   "metadata": {},
   "source": [
    "#### Specify the colors to use in the Stackplot\n",
    "We define a list of colors to use"
   ]
  },
  {
   "cell_type": "code",
   "execution_count": 7,
   "metadata": {},
   "outputs": [],
   "source": [
    "colors = ['sandybrown', \n",
    "          'tomato', \n",
    "          'skyblue']"
   ]
  },
  {
   "cell_type": "markdown",
   "metadata": {},
   "source": [
    "#### Plot the new Stackplot\n",
    "* Make use of the colors list we have just defined\n",
    "* Set an edge color used to separate each shape in the stackplot"
   ]
  },
  {
   "cell_type": "code",
   "execution_count": 8,
   "metadata": {},
   "outputs": [
    {
     "data": {
      "image/png": "[encoded data removed]",
      "text/plain": [
       "<Figure size 432x288 with 1 Axes>"
      ]
     },
     "metadata": {
      "needs_background": "light"
     },
     "output_type": "display_data"
    }
   ],
   "source": [
    "plt.stackplot(x, y, \n",
    "              labels=labels,\n",
    "              colors=colors, \n",
    "              edgecolor='grey')\n",
    "\n",
    "plt.legend(loc='upper left')\n",
    "\n",
    "plt.show()"
   ]
  },
  {
   "cell_type": "markdown",
   "metadata": {},
   "source": [
    "### Stem Plots\n",
    "These can also be used to visualize data over time. However, since this also helps us view negative numbers, we can use it to plot a slightly different set of data "
   ]
  },
  {
   "cell_type": "markdown",
   "metadata": {},
   "source": [
    "#### Modify the national parks data to show the difference in the number of visitors from the previous year\n",
    "Use the pandas dataframe.diff() function to get the difference in value from the one in the previous row. We only do this for the park visitor information and not for the Year column"
   ]
  },
  {
   "cell_type": "code",
   "execution_count": 9,
   "metadata": {},
   "outputs": [
    {
     "data": {
      "text/html": [
       "<div>\n",
       "<style scoped>\n",
       "    .dataframe tbody tr th:only-of-type {\n",
       "        vertical-align: middle;\n",
       "    }\n",
       "\n",
       "    .dataframe tbody tr th {\n",
       "        vertical-align: top;\n",
       "    }\n",
       "\n",
       "    .dataframe thead th {\n",
       "        text-align: right;\n",
       "    }\n",
       "</style>\n",
       "<table border=\"1\" class=\"dataframe\">\n",
       "  <thead>\n",
       "    <tr style=\"text-align: right;\">\n",
       "      <th></th>\n",
       "      <th>Year</th>\n",
       "      <th>Badlands</th>\n",
       "      <th>GrandCanyon</th>\n",
       "      <th>BryceCanyon</th>\n",
       "    </tr>\n",
       "  </thead>\n",
       "  <tbody>\n",
       "    <tr>\n",
       "      <th>0</th>\n",
       "      <td>1961</td>\n",
       "      <td>NaN</td>\n",
       "      <td>NaN</td>\n",
       "      <td>NaN</td>\n",
       "    </tr>\n",
       "    <tr>\n",
       "      <th>1</th>\n",
       "      <td>1962</td>\n",
       "      <td>211500.0</td>\n",
       "      <td>194400.0</td>\n",
       "      <td>-13800.0</td>\n",
       "    </tr>\n",
       "    <tr>\n",
       "      <th>2</th>\n",
       "      <td>1963</td>\n",
       "      <td>29200.0</td>\n",
       "      <td>92100.0</td>\n",
       "      <td>38500.0</td>\n",
       "    </tr>\n",
       "    <tr>\n",
       "      <th>3</th>\n",
       "      <td>1964</td>\n",
       "      <td>5800.0</td>\n",
       "      <td>37100.0</td>\n",
       "      <td>10800.0</td>\n",
       "    </tr>\n",
       "    <tr>\n",
       "      <th>4</th>\n",
       "      <td>1965</td>\n",
       "      <td>11500.0</td>\n",
       "      <td>112600.0</td>\n",
       "      <td>66500.0</td>\n",
       "    </tr>\n",
       "  </tbody>\n",
       "</table>\n",
       "</div>"
      ],
      "text/plain": [
       "   Year  Badlands  GrandCanyon  BryceCanyon\n",
       "0  1961       NaN          NaN          NaN\n",
       "1  1962  211500.0     194400.0     -13800.0\n",
       "2  1963   29200.0      92100.0      38500.0\n",
       "3  1964    5800.0      37100.0      10800.0\n",
       "4  1965   11500.0     112600.0      66500.0"
      ]
     },
     "execution_count": 9,
     "metadata": {},
     "output_type": "execute_result"
    }
   ],
   "source": [
    "np_data[['Badlands', \n",
    "         'GrandCanyon',\n",
    "         'BryceCanyon']] = np_data[['Badlands', \n",
    "                                    'GrandCanyon',\n",
    "                                    'BryceCanyon']].diff()\n",
    "\n",
    "np_data.head()"
   ]
  },
  {
   "cell_type": "markdown",
   "metadata": {},
   "source": [
    "#### Analyze the fluctuations in the visits to Badlands National Park"
   ]
  },
  {
   "cell_type": "code",
   "execution_count": 10,
   "metadata": {},
   "outputs": [
    {
     "name": "stderr",
     "output_type": "stream",
     "text": [
      "/home/af/Dokumenter/Programs/miniconda3/envs/demo-playbook/lib/python3.7/site-packages/ipykernel_launcher.py:4: UserWarning: In Matplotlib 3.3 individual lines on a stem plot will be added as a LineCollection instead of individual lines. This significantly improves the performance of a stem plot. To remove this warning and switch to the new behaviour, set the \"use_line_collection\" keyword argument to True.\n",
      "  after removing the cwd from sys.path.\n"
     ]
    },
    {
     "data": {
      "image/png": "[encoded data removed]",
      "text/plain": [
       "<Figure size 720x432 with 1 Axes>"
      ]
     },
     "metadata": {
      "needs_background": "light"
     },
     "output_type": "display_data"
    }
   ],
   "source": [
    "plt.figure(figsize=(10,6))\n",
    "\n",
    "plt.stem(np_data['Year'],\n",
    "         np_data['Badlands'])\n",
    "\n",
    "plt.title('Change in Number of Visitors')\n",
    "\n",
    "plt.show()"
   ]
  },
  {
   "cell_type": "markdown",
   "metadata": {},
   "source": [
    "#### Styling the Stem Plot\n",
    "* The first alphabets used for the markerfmt, linefmt and basefmt represent colours\n",
    "* After that, the characters represent the type of line/marker\n",
    "* '\\_' represents a horizontal line\n",
    "\n",
    "Objects formatted:\n",
    "* markerfmt is the marker appearing at the top of the stems\n",
    "* linefmt represents the stems themselves\n",
    "* basefmt is the base line - the horizontal one drawn at 0"
   ]
  },
  {
   "cell_type": "code",
   "execution_count": 11,
   "metadata": {},
   "outputs": [
    {
     "name": "stderr",
     "output_type": "stream",
     "text": [
      "/home/af/Dokumenter/Programs/miniconda3/envs/demo-playbook/lib/python3.7/site-packages/ipykernel_launcher.py:7: UserWarning: In Matplotlib 3.3 individual lines on a stem plot will be added as a LineCollection instead of individual lines. This significantly improves the performance of a stem plot. To remove this warning and switch to the new behaviour, set the \"use_line_collection\" keyword argument to True.\n",
      "  import sys\n"
     ]
    },
    {
     "data": {
      "image/png": "[encoded data removed]",
      "text/plain": [
       "<Figure size 720x432 with 1 Axes>"
      ]
     },
     "metadata": {
      "needs_background": "light"
     },
     "output_type": "display_data"
    }
   ],
   "source": [
    "plt.figure(figsize=(10,6))\n",
    "\n",
    "plt.stem(np_data['Year'],\n",
    "         np_data['Badlands'],\n",
    "         markerfmt = 'r_',\n",
    "         linefmt = 'g--',\n",
    "         basefmt = 'b:')\n",
    "\n",
    "plt.title('Change in Number of Visitors')\n",
    "\n",
    "plt.show()"
   ]
  },
  {
   "cell_type": "code",
   "execution_count": null,
   "metadata": {},
   "outputs": [],
   "source": []
  }
 ],
 "metadata": {
  "kernelspec": {
   "display_name": "Python 3",
   "language": "python",
   "name": "python3"
  },
  "language_info": {
   "codemirror_mode": {
    "name": "ipython",
    "version": 3
   },
   "file_extension": ".py",
   "mimetype": "text/x-python",
   "name": "python",
   "nbconvert_exporter": "python",
   "pygments_lexer": "ipython3",
   "version": "3.7.3"
  }
 },
 "nbformat": 4,
 "nbformat_minor": 2
}
