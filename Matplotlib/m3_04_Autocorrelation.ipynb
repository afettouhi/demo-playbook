{
 "cells": [
  {
   "cell_type": "code",
   "execution_count": 1,
   "metadata": {},
   "outputs": [
    {
     "data": {
      "text/plain": [
       "True"
      ]
     },
     "execution_count": 1,
     "metadata": {},
     "output_type": "execute_result"
    }
   ],
   "source": [
    "import matplotlib\n",
    "import matplotlib.pyplot as plt\n",
    "import numpy as np\n",
    "import pandas as pd\n",
    "\n",
    "matplotlib.interactive(True)\n",
    "plt.ion()\n",
    "matplotlib.is_interactive()"
   ]
  },
  {
   "cell_type": "markdown",
   "metadata": {},
   "source": [
    "### Obtain dataset\n",
    "The dataset has been compiled from data obtained from here: https://irma.nps.gov/Stats/Reports/Park/GRCA\n",
    "\n",
    "This shows the number of visits to the Grand Canyon National Park in each month from Jan-2011 to Dec-2017"
   ]
  },
  {
   "cell_type": "code",
   "execution_count": 2,
   "metadata": {},
   "outputs": [
    {
     "data": {
      "text/html": [
       "<div>\n",
       "<style scoped>\n",
       "    .dataframe tbody tr th:only-of-type {\n",
       "        vertical-align: middle;\n",
       "    }\n",
       "\n",
       "    .dataframe tbody tr th {\n",
       "        vertical-align: top;\n",
       "    }\n",
       "\n",
       "    .dataframe thead th {\n",
       "        text-align: right;\n",
       "    }\n",
       "</style>\n",
       "<table border=\"1\" class=\"dataframe\">\n",
       "  <thead>\n",
       "    <tr style=\"text-align: right;\">\n",
       "      <th></th>\n",
       "      <th>Month</th>\n",
       "      <th>NumVisits</th>\n",
       "    </tr>\n",
       "  </thead>\n",
       "  <tbody>\n",
       "    <tr>\n",
       "      <th>0</th>\n",
       "      <td>2011-01</td>\n",
       "      <td>139029</td>\n",
       "    </tr>\n",
       "    <tr>\n",
       "      <th>1</th>\n",
       "      <td>2011-02</td>\n",
       "      <td>120726</td>\n",
       "    </tr>\n",
       "    <tr>\n",
       "      <th>2</th>\n",
       "      <td>2011-03</td>\n",
       "      <td>304583</td>\n",
       "    </tr>\n",
       "    <tr>\n",
       "      <th>3</th>\n",
       "      <td>2011-04</td>\n",
       "      <td>388363</td>\n",
       "    </tr>\n",
       "    <tr>\n",
       "      <th>4</th>\n",
       "      <td>2011-05</td>\n",
       "      <td>419569</td>\n",
       "    </tr>\n",
       "  </tbody>\n",
       "</table>\n",
       "</div>"
      ],
      "text/plain": [
       "     Month  NumVisits\n",
       "0  2011-01     139029\n",
       "1  2011-02     120726\n",
       "2  2011-03     304583\n",
       "3  2011-04     388363\n",
       "4  2011-05     419569"
      ]
     },
     "execution_count": 2,
     "metadata": {},
     "output_type": "execute_result"
    }
   ],
   "source": [
    "grand_canyon_data = pd.read_csv('datasets/grand_canyon_visits.csv')\n",
    "grand_canyon_data.head()"
   ]
  },
  {
   "cell_type": "markdown",
   "metadata": {},
   "source": [
    "#### Examine the NumVisits data"
   ]
  },
  {
   "cell_type": "code",
   "execution_count": 3,
   "metadata": {},
   "outputs": [
    {
     "data": {
      "text/plain": [
       "count        84.000000\n",
       "mean     426022.928571\n",
       "std      193415.223338\n",
       "min      120726.000000\n",
       "25%      252250.500000\n",
       "50%      417966.000000\n",
       "75%      580652.250000\n",
       "max      839086.000000\n",
       "Name: NumVisits, dtype: float64"
      ]
     },
     "execution_count": 3,
     "metadata": {},
     "output_type": "execute_result"
    }
   ],
   "source": [
    "grand_canyon_data['NumVisits'].describe()"
   ]
  },
  {
   "cell_type": "markdown",
   "metadata": {},
   "source": [
    "#### Divide the NumVisits value by 1000\n",
    "When using the data for autocorrelation, large numbers may result in an overflow. To avoid this, we divide the NumVisits values by 1000"
   ]
  },
  {
   "cell_type": "code",
   "execution_count": 4,
   "metadata": {},
   "outputs": [
    {
     "data": {
      "text/plain": [
       "count     84.000000\n",
       "mean     426.022929\n",
       "std      193.415223\n",
       "min      120.726000\n",
       "25%      252.250500\n",
       "50%      417.966000\n",
       "75%      580.652250\n",
       "max      839.086000\n",
       "Name: NumVisits, dtype: float64"
      ]
     },
     "execution_count": 4,
     "metadata": {},
     "output_type": "execute_result"
    }
   ],
   "source": [
    "grand_canyon_data['NumVisits'] = grand_canyon_data['NumVisits']/1000\n",
    "grand_canyon_data['NumVisits'].describe()"
   ]
  },
  {
   "cell_type": "markdown",
   "metadata": {},
   "source": [
    "#### Plot the autocorrelation graph\n",
    "We set the maxlags attribute to 20 so that the series is compared with lags ranging from -20 to +20. Notice that the autocorrelation is highest when the lag is 12 in either direction, showing the seasonality of park visits. "
   ]
  },
  {
   "cell_type": "code",
   "execution_count": 5,
   "metadata": {},
   "outputs": [
    {
     "data": {
      "image/png": "[encoded data removed]",
      "text/plain": [
       "<Figure size 1152x576 with 1 Axes>"
      ]
     },
     "metadata": {
      "needs_background": "light"
     },
     "output_type": "display_data"
    }
   ],
   "source": [
    "plt.figure(figsize=(16,8))\n",
    "\n",
    "plt.acorr(grand_canyon_data['NumVisits'], \n",
    "          maxlags=20)\n",
    "\n",
    "plt.show()"
   ]
  },
  {
   "cell_type": "markdown",
   "metadata": {},
   "source": [
    "### Components of the Autocorrelation plot\n",
    "* <b>lags:</b> List for each lag value in the autocorrelation plot. -20 to +20 in our example\n",
    "* <b>c:</b> The list containing the correlation values for each of the lag values\n",
    "* <b>vlines:</b> A collection of lines representing the vertical line for each lag value\n",
    "* <b>hline:</b> The Line2D object representing the horizontal line at 0"
   ]
  },
  {
   "cell_type": "code",
   "execution_count": 6,
   "metadata": {},
   "outputs": [
    {
     "name": "stdout",
     "output_type": "stream",
     "text": [
      "lags:  [-20 -19 -18 -17 -16 -15 -14 -13 -12 -11 -10  -9  -8  -7  -6  -5  -4  -3\n",
      "  -2  -1   0   1   2   3   4   5   6   7   8   9  10  11  12  13  14  15\n",
      "  16  17  18  19  20] \n",
      "\n",
      "c:  [0.56166264 0.54072849 0.5381979  0.57639987 0.63280631 0.69975398\n",
      " 0.76391559 0.81323426 0.84039608 0.8197005  0.77609889 0.72908631\n",
      " 0.68254819 0.65371235 0.6512621  0.69174525 0.75661649 0.8324754\n",
      " 0.90648833 0.96441788 1.         0.96441788 0.90648833 0.8324754\n",
      " 0.75661649 0.69174525 0.6512621  0.65371235 0.68254819 0.72908631\n",
      " 0.77609889 0.8197005  0.84039608 0.81323426 0.76391559 0.69975398\n",
      " 0.63280631 0.57639987 0.5381979  0.54072849 0.56166264] \n",
      "\n",
      "vlines:  <matplotlib.collections.LineCollection object at 0x7f9e49b4e1d0> \n",
      "\n",
      "hline:  Line2D(_line0) \n",
      "\n"
     ]
    },
    {
     "data": {
      "image/png": "[encoded data removed]",
      "text/plain": [
       "<Figure size 1152x576 with 1 Axes>"
      ]
     },
     "metadata": {
      "needs_background": "light"
     },
     "output_type": "display_data"
    }
   ],
   "source": [
    "plt.figure(figsize=(16,8))\n",
    "\n",
    "lags, c, vlines, hline = plt.acorr(grand_canyon_data['NumVisits'], \n",
    "                             maxlags=20)\n",
    "\n",
    "print('lags: ', lags, '\\n')\n",
    "print('c: ', c, '\\n')\n",
    "print('vlines: ', vlines, '\\n')\n",
    "print('hline: ', hline, '\\n')"
   ]
  }
 ],
 "metadata": {
  "kernelspec": {
   "display_name": "Python 3",
   "language": "python",
   "name": "python3"
  },
  "language_info": {
   "codemirror_mode": {
    "name": "ipython",
    "version": 3
   },
   "file_extension": ".py",
   "mimetype": "text/x-python",
   "name": "python",
   "nbconvert_exporter": "python",
   "pygments_lexer": "ipython3",
   "version": "3.7.3"
  }
 },
 "nbformat": 4,
 "nbformat_minor": 2
}
